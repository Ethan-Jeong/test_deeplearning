{
  "nbformat": 4,
  "nbformat_minor": 0,
  "metadata": {
    "colab": {
      "name": "embeddingLayer.ipynb",
      "provenance": [],
      "collapsed_sections": [],
      "authorship_tag": "ABX9TyN2/v/98nZCRPWKKczSKigO",
      "include_colab_link": true
    },
    "kernelspec": {
      "name": "python3",
      "display_name": "Python 3"
    },
    "language_info": {
      "name": "python"
    }
  },
  "cells": [
    {
      "cell_type": "markdown",
      "metadata": {
        "id": "view-in-github",
        "colab_type": "text"
      },
      "source": [
        "<a href=\"https://colab.research.google.com/github/Ethan-Jeong/test_deeplearning/blob/master/embeddingLayer.ipynb\" target=\"_parent\"><img src=\"https://colab.research.google.com/assets/colab-badge.svg\" alt=\"Open In Colab\"/></a>"
      ]
    },
    {
      "cell_type": "code",
      "metadata": {
        "id": "VO8oeaHcCMkS"
      },
      "source": [
        "import tensorflow as tf"
      ],
      "execution_count": 1,
      "outputs": []
    },
    {
      "cell_type": "code",
      "metadata": {
        "id": "q-jehXlJu7Gp"
      },
      "source": [
        "import numpy as np"
      ],
      "execution_count": 2,
      "outputs": []
    },
    {
      "cell_type": "code",
      "metadata": {
        "colab": {
          "base_uri": "https://localhost:8080/"
        },
        "id": "43yg54QgvCkF",
        "outputId": "2bd6772f-f781-4270-dc4c-9632f675f5b8"
      },
      "source": [
        "x_data = np.array([[4], [20]])\n",
        "x_data , x_data.shape"
      ],
      "execution_count": 3,
      "outputs": [
        {
          "output_type": "execute_result",
          "data": {
            "text/plain": [
              "(array([[ 4],\n",
              "        [20]]), (2, 1))"
            ]
          },
          "metadata": {
            "tags": []
          },
          "execution_count": 3
        }
      ]
    },
    {
      "cell_type": "code",
      "metadata": {
        "id": "BSlUUeG1vXHd"
      },
      "source": [
        "model = tf.keras.Sequential()\n",
        "\n",
        "model.add( tf.keras.layers.Embedding(50,2 , input_length=1) ) # input layer - 50: 단어의 갯수 / 2: 차원\n",
        "# Embedding 데이터를 벡터화 시킴\n",
        "# model.add() # hidden layer\n",
        "# model.add() # ouput layer\n",
        "\n",
        "model.compile(optimizer='adam',loss='mse')"
      ],
      "execution_count": 4,
      "outputs": []
    },
    {
      "cell_type": "code",
      "metadata": {
        "colab": {
          "base_uri": "https://localhost:8080/"
        },
        "id": "T09k66IOxsoW",
        "outputId": "47d3f075-2596-4373-ef06-3c3ce15c1edf"
      },
      "source": [
        "model.predict(x_data)"
      ],
      "execution_count": 5,
      "outputs": [
        {
          "output_type": "execute_result",
          "data": {
            "text/plain": [
              "array([[[-0.00294625, -0.04350897]],\n",
              "\n",
              "       [[-0.01912912,  0.0046038 ]]], dtype=float32)"
            ]
          },
          "metadata": {
            "tags": []
          },
          "execution_count": 5
        }
      ]
    },
    {
      "cell_type": "code",
      "metadata": {
        "id": "puieznMbyAx2"
      },
      "source": [
        ""
      ],
      "execution_count": null,
      "outputs": []
    }
  ]
}