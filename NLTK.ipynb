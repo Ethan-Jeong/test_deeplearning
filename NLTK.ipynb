{
  "nbformat": 4,
  "nbformat_minor": 0,
  "metadata": {
    "colab": {
      "name": "NLTK.ipynb",
      "provenance": [],
      "collapsed_sections": [],
      "authorship_tag": "ABX9TyOMuIgvSB3u7KFgyulYsdrq",
      "include_colab_link": true
    },
    "kernelspec": {
      "name": "python3",
      "display_name": "Python 3"
    },
    "language_info": {
      "name": "python"
    }
  },
  "cells": [
    {
      "cell_type": "markdown",
      "metadata": {
        "id": "view-in-github",
        "colab_type": "text"
      },
      "source": [
        "<a href=\"https://colab.research.google.com/github/Ethan-Jeong/test_deeplearning/blob/master/NLTK.ipynb\" target=\"_parent\"><img src=\"https://colab.research.google.com/assets/colab-badge.svg\" alt=\"Open In Colab\"/></a>"
      ]
    },
    {
      "cell_type": "code",
      "metadata": {
        "id": "t_iZtnjEIyk3"
      },
      "source": [
        "# example = \"Family is not an important thing. It's everything. He has large House.\""
      ],
      "execution_count": 1,
      "outputs": []
    },
    {
      "cell_type": "code",
      "metadata": {
        "id": "KMnx43T_b5Go"
      },
      "source": [
        "example = \"A barber is a person. a barber is good person. a barber is huge person. he Knew A Secret! The Secret He Kept is huge secret. Huge secret. His barber kept his word. a barber kept his word. His barber kept his secret. But keeping and keeping such a huge secret to himself was driving the barber crazy. the barber went up a huge mountain.\"\n"
      ],
      "execution_count": 2,
      "outputs": []
    },
    {
      "cell_type": "code",
      "metadata": {
        "id": "nQRr_Z_kSwhI"
      },
      "source": [
        "import nltk\n",
        "# from nltk.tokenize import word_tokenize"
      ],
      "execution_count": 3,
      "outputs": []
    },
    {
      "cell_type": "code",
      "metadata": {
        "colab": {
          "base_uri": "https://localhost:8080/"
        },
        "id": "vFF6GFWlTG0y",
        "outputId": "5cd66daa-caea-40d9-dcd6-d21ec39da965"
      },
      "source": [
        "nltk.download('punkt')"
      ],
      "execution_count": 4,
      "outputs": [
        {
          "output_type": "stream",
          "text": [
            "[nltk_data] Downloading package punkt to /root/nltk_data...\n",
            "[nltk_data]   Unzipping tokenizers/punkt.zip.\n"
          ],
          "name": "stdout"
        },
        {
          "output_type": "execute_result",
          "data": {
            "text/plain": [
              "True"
            ]
          },
          "metadata": {
            "tags": []
          },
          "execution_count": 4
        }
      ]
    },
    {
      "cell_type": "code",
      "metadata": {
        "colab": {
          "base_uri": "https://localhost:8080/"
        },
        "id": "TqMKNmviVwNX",
        "outputId": "636bb80f-d07b-436c-bfa5-7ce8d110b85e"
      },
      "source": [
        "nltk.download('stopwords')"
      ],
      "execution_count": 5,
      "outputs": [
        {
          "output_type": "stream",
          "text": [
            "[nltk_data] Downloading package stopwords to /root/nltk_data...\n",
            "[nltk_data]   Unzipping corpora/stopwords.zip.\n"
          ],
          "name": "stdout"
        },
        {
          "output_type": "execute_result",
          "data": {
            "text/plain": [
              "True"
            ]
          },
          "metadata": {
            "tags": []
          },
          "execution_count": 5
        }
      ]
    },
    {
      "cell_type": "code",
      "metadata": {
        "id": "LImk2Z_sTYIG"
      },
      "source": [
        "tok_words = nltk.tokenize.word_tokenize(example)"
      ],
      "execution_count": 6,
      "outputs": []
    },
    {
      "cell_type": "code",
      "metadata": {
        "id": "doPP_Z0sTvMP"
      },
      "source": [
        "stop_words = nltk.corpus.stopwords.words('english')"
      ],
      "execution_count": 7,
      "outputs": []
    },
    {
      "cell_type": "code",
      "metadata": {
        "colab": {
          "base_uri": "https://localhost:8080/"
        },
        "id": "hQPBXR7PWWEI",
        "outputId": "5fa09fa5-319c-47a3-84f8-9fadd0f1b266"
      },
      "source": [
        "len(stop_words)"
      ],
      "execution_count": 8,
      "outputs": [
        {
          "output_type": "execute_result",
          "data": {
            "text/plain": [
              "179"
            ]
          },
          "metadata": {
            "tags": []
          },
          "execution_count": 8
        }
      ]
    },
    {
      "cell_type": "code",
      "metadata": {
        "id": "95EGFSOVYKOB"
      },
      "source": [
        "stop_words.extend(['.'])"
      ],
      "execution_count": 9,
      "outputs": []
    },
    {
      "cell_type": "code",
      "metadata": {
        "colab": {
          "base_uri": "https://localhost:8080/"
        },
        "id": "9xumrYFtUagc",
        "outputId": "f32dc5cf-5f7e-423e-a454-f6aaf5179073"
      },
      "source": [
        "for tok in tok_words:\n",
        "  # print(tok)\n",
        "  if tok not in stop_words:\n",
        "    print(tok)\n"
      ],
      "execution_count": 10,
      "outputs": [
        {
          "output_type": "stream",
          "text": [
            "A\n",
            "barber\n",
            "person\n",
            "barber\n",
            "good\n",
            "person\n",
            "barber\n",
            "huge\n",
            "person\n",
            "Knew\n",
            "A\n",
            "Secret\n",
            "!\n",
            "The\n",
            "Secret\n",
            "He\n",
            "Kept\n",
            "huge\n",
            "secret\n",
            "Huge\n",
            "secret\n",
            "His\n",
            "barber\n",
            "kept\n",
            "word\n",
            "barber\n",
            "kept\n",
            "word\n",
            "His\n",
            "barber\n",
            "kept\n",
            "secret\n",
            "But\n",
            "keeping\n",
            "keeping\n",
            "huge\n",
            "secret\n",
            "driving\n",
            "barber\n",
            "crazy\n",
            "barber\n",
            "went\n",
            "huge\n",
            "mountain\n"
          ],
          "name": "stdout"
        }
      ]
    },
    {
      "cell_type": "code",
      "metadata": {
        "id": "I2IQgeUoYRrE"
      },
      "source": [
        "lemm = nltk.stem.WordNetLemmatizer()"
      ],
      "execution_count": 11,
      "outputs": []
    },
    {
      "cell_type": "code",
      "metadata": {
        "colab": {
          "base_uri": "https://localhost:8080/"
        },
        "id": "E6Ycm_Wya1Dq",
        "outputId": "8e6c1a10-2b54-4b51-f3ea-1feb5d7710f1"
      },
      "source": [
        "nltk.download('wordnet')"
      ],
      "execution_count": 12,
      "outputs": [
        {
          "output_type": "stream",
          "text": [
            "[nltk_data] Downloading package wordnet to /root/nltk_data...\n",
            "[nltk_data]   Unzipping corpora/wordnet.zip.\n"
          ],
          "name": "stdout"
        },
        {
          "output_type": "execute_result",
          "data": {
            "text/plain": [
              "True"
            ]
          },
          "metadata": {
            "tags": []
          },
          "execution_count": 12
        }
      ]
    },
    {
      "cell_type": "code",
      "metadata": {
        "id": "Db93TKXzfutj"
      },
      "source": [
        "sentence = list()"
      ],
      "execution_count": 15,
      "outputs": []
    },
    {
      "cell_type": "code",
      "metadata": {
        "colab": {
          "base_uri": "https://localhost:8080/"
        },
        "id": "u4K2T4cQaike",
        "outputId": "dbd22ab9-a33e-47ff-c794-f1fea5ba5da6"
      },
      "source": [
        "for tok in tok_words:\n",
        "  # print(tok,',' , lemm.lemmatize(tok))\n",
        "  sentence.append(lemm.lemmatize(tok))\n",
        "print(sentence)"
      ],
      "execution_count": 16,
      "outputs": [
        {
          "output_type": "stream",
          "text": [
            "['A', 'barber', 'is', 'a', 'person', '.', 'a', 'barber', 'is', 'good', 'person', '.', 'a', 'barber', 'is', 'huge', 'person', '.', 'he', 'Knew', 'A', 'Secret', '!', 'The', 'Secret', 'He', 'Kept', 'is', 'huge', 'secret', '.', 'Huge', 'secret', '.', 'His', 'barber', 'kept', 'his', 'word', '.', 'a', 'barber', 'kept', 'his', 'word', '.', 'His', 'barber', 'kept', 'his', 'secret', '.', 'But', 'keeping', 'and', 'keeping', 'such', 'a', 'huge', 'secret', 'to', 'himself', 'wa', 'driving', 'the', 'barber', 'crazy', '.', 'the', 'barber', 'went', 'up', 'a', 'huge', 'mountain', '.']\n"
          ],
          "name": "stdout"
        }
      ]
    },
    {
      "cell_type": "code",
      "metadata": {
        "id": "hoSmR7gogUSr"
      },
      "source": [
        "import tensorflow as tf"
      ],
      "execution_count": 18,
      "outputs": []
    },
    {
      "cell_type": "code",
      "metadata": {
        "colab": {
          "base_uri": "https://localhost:8080/"
        },
        "id": "KAS9Tombgrga",
        "outputId": "78386bbd-75bd-41e9-f0e5-be696a474a92"
      },
      "source": [
        "tokenizer = tf.keras.preprocessing.text.Tokenizer()\n",
        "tokenizer"
      ],
      "execution_count": 19,
      "outputs": [
        {
          "output_type": "execute_result",
          "data": {
            "text/plain": [
              "<keras_preprocessing.text.Tokenizer at 0x7f109aeae950>"
            ]
          },
          "metadata": {
            "tags": []
          },
          "execution_count": 19
        }
      ]
    },
    {
      "cell_type": "code",
      "metadata": {
        "id": "Vg2_s8Yehf18"
      },
      "source": [
        "tokenizer.fit_on_texts(sentence)"
      ],
      "execution_count": 20,
      "outputs": []
    },
    {
      "cell_type": "code",
      "metadata": {
        "colab": {
          "base_uri": "https://localhost:8080/"
        },
        "id": "5X68bIlXhiy_",
        "outputId": "c7ba62df-e165-4748-aff1-867d21992d8c"
      },
      "source": [
        "print(tokenizer.word_index)"
      ],
      "execution_count": 21,
      "outputs": [
        {
          "output_type": "stream",
          "text": [
            "{'a': 1, 'barber': 2, 'secret': 3, 'huge': 4, 'his': 5, 'is': 6, 'kept': 7, 'person': 8, 'the': 9, 'he': 10, 'word': 11, 'keeping': 12, 'good': 13, 'knew': 14, 'but': 15, 'and': 16, 'such': 17, 'to': 18, 'himself': 19, 'wa': 20, 'driving': 21, 'crazy': 22, 'went': 23, 'up': 24, 'mountain': 25}\n"
          ],
          "name": "stdout"
        }
      ]
    },
    {
      "cell_type": "code",
      "metadata": {
        "colab": {
          "base_uri": "https://localhost:8080/"
        },
        "id": "gbLTKXKjhlld",
        "outputId": "28f8ac1a-e513-401a-bdcc-11a48785cc1c"
      },
      "source": [
        "print(tokenizer.word_counts)"
      ],
      "execution_count": 23,
      "outputs": [
        {
          "output_type": "stream",
          "text": [
            "OrderedDict([('a', 8), ('barber', 8), ('is', 4), ('person', 3), ('good', 1), ('huge', 5), ('he', 2), ('knew', 1), ('secret', 6), ('the', 3), ('kept', 4), ('his', 5), ('word', 2), ('but', 1), ('keeping', 2), ('and', 1), ('such', 1), ('to', 1), ('himself', 1), ('wa', 1), ('driving', 1), ('crazy', 1), ('went', 1), ('up', 1), ('mountain', 1)])\n"
          ],
          "name": "stdout"
        }
      ]
    },
    {
      "cell_type": "code",
      "metadata": {
        "colab": {
          "base_uri": "https://localhost:8080/"
        },
        "id": "HQ-r1MTlhwU5",
        "outputId": "e54cb73c-a8a1-494d-9abf-d3557b14c04e"
      },
      "source": [
        "seq = tokenizer.texts_to_sequences(sentence)\n",
        "print(seq)"
      ],
      "execution_count": 24,
      "outputs": [
        {
          "output_type": "stream",
          "text": [
            "[[1], [2], [6], [1], [8], [], [1], [2], [6], [13], [8], [], [1], [2], [6], [4], [8], [], [10], [14], [1], [3], [], [9], [3], [10], [7], [6], [4], [3], [], [4], [3], [], [5], [2], [7], [5], [11], [], [1], [2], [7], [5], [11], [], [5], [2], [7], [5], [3], [], [15], [12], [16], [12], [17], [1], [4], [3], [18], [19], [20], [21], [9], [2], [22], [], [9], [2], [23], [24], [1], [4], [25], []]\n"
          ],
          "name": "stdout"
        }
      ]
    },
    {
      "cell_type": "code",
      "metadata": {
        "id": "bSTJJ2jHiftb"
      },
      "source": [
        ""
      ],
      "execution_count": null,
      "outputs": []
    }
  ]
}