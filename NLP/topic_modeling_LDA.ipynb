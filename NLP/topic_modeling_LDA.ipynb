{
  "nbformat": 4,
  "nbformat_minor": 0,
  "metadata": {
    "colab": {
      "name": "topic_modeling_LDA.ipynb",
      "provenance": [],
      "collapsed_sections": [],
      "authorship_tag": "ABX9TyPMJRF1A/bACXSo7Vlr1/MH",
      "include_colab_link": true
    },
    "kernelspec": {
      "name": "python3",
      "display_name": "Python 3"
    },
    "language_info": {
      "name": "python"
    }
  },
  "cells": [
    {
      "cell_type": "markdown",
      "metadata": {
        "id": "view-in-github",
        "colab_type": "text"
      },
      "source": [
        "<a href=\"https://colab.research.google.com/github/Ethan-Jeong/test_deeplearning/blob/master/NLP/topic_modeling_LDA.ipynb\" target=\"_parent\"><img src=\"https://colab.research.google.com/assets/colab-badge.svg\" alt=\"Open In Colab\"/></a>"
      ]
    },
    {
      "cell_type": "markdown",
      "metadata": {
        "id": "RHs9ASOd5wQo"
      },
      "source": [
        "from https://wikidocs.net/30707"
      ]
    },
    {
      "cell_type": "code",
      "metadata": {
        "colab": {
          "base_uri": "https://localhost:8080/"
        },
        "id": "OzzQL3sx5RiH",
        "outputId": "1c4638fa-f51b-41d1-f3b5-f14862ae5c9b"
      },
      "source": [
        "!curl -O https://raw.githubusercontent.com/franciscadias/data/master/abcnews-date-text.csv"
      ],
      "execution_count": 1,
      "outputs": [
        {
          "output_type": "stream",
          "text": [
            "  % Total    % Received % Xferd  Average Speed   Time    Time     Time  Current\n",
            "                                 Dload  Upload   Total   Spent    Left  Speed\n",
            "100 51.5M  100 51.5M    0     0   103M      0 --:--:-- --:--:-- --:--:--  103M\n"
          ],
          "name": "stdout"
        }
      ]
    },
    {
      "cell_type": "code",
      "metadata": {
        "id": "J-DIeYNS5tU-"
      },
      "source": [
        "import pandas as pd"
      ],
      "execution_count": 2,
      "outputs": []
    },
    {
      "cell_type": "code",
      "metadata": {
        "colab": {
          "base_uri": "https://localhost:8080/",
          "height": 141
        },
        "id": "XSgZjueD6QbZ",
        "outputId": "4dc2c817-f90f-4b5e-c758-3ab5cbc53177"
      },
      "source": [
        "df_data = pd.read_csv('./abcnews-date-text.csv')\n",
        "df_data.head(3)"
      ],
      "execution_count": 3,
      "outputs": [
        {
          "output_type": "execute_result",
          "data": {
            "text/html": [
              "<div>\n",
              "<style scoped>\n",
              "    .dataframe tbody tr th:only-of-type {\n",
              "        vertical-align: middle;\n",
              "    }\n",
              "\n",
              "    .dataframe tbody tr th {\n",
              "        vertical-align: top;\n",
              "    }\n",
              "\n",
              "    .dataframe thead th {\n",
              "        text-align: right;\n",
              "    }\n",
              "</style>\n",
              "<table border=\"1\" class=\"dataframe\">\n",
              "  <thead>\n",
              "    <tr style=\"text-align: right;\">\n",
              "      <th></th>\n",
              "      <th>publish_date</th>\n",
              "      <th>headline_text</th>\n",
              "    </tr>\n",
              "  </thead>\n",
              "  <tbody>\n",
              "    <tr>\n",
              "      <th>0</th>\n",
              "      <td>20030219</td>\n",
              "      <td>aba decides against community broadcasting lic...</td>\n",
              "    </tr>\n",
              "    <tr>\n",
              "      <th>1</th>\n",
              "      <td>20030219</td>\n",
              "      <td>act fire witnesses must be aware of defamation</td>\n",
              "    </tr>\n",
              "    <tr>\n",
              "      <th>2</th>\n",
              "      <td>20030219</td>\n",
              "      <td>a g calls for infrastructure protection summit</td>\n",
              "    </tr>\n",
              "  </tbody>\n",
              "</table>\n",
              "</div>"
            ],
            "text/plain": [
              "   publish_date                                      headline_text\n",
              "0      20030219  aba decides against community broadcasting lic...\n",
              "1      20030219     act fire witnesses must be aware of defamation\n",
              "2      20030219     a g calls for infrastructure protection summit"
            ]
          },
          "metadata": {},
          "execution_count": 3
        }
      ]
    },
    {
      "cell_type": "code",
      "metadata": {
        "id": "HS_V9peCAmir"
      },
      "source": [
        "df_data = df_data.head(10000)"
      ],
      "execution_count": 4,
      "outputs": []
    },
    {
      "cell_type": "code",
      "metadata": {
        "colab": {
          "base_uri": "https://localhost:8080/"
        },
        "id": "SQT4Zkml6Z1o",
        "outputId": "0026579d-6624-4748-ecd5-08262ff0cdb7"
      },
      "source": [
        "head_text = df_data[['headline_text']]\n",
        "type(head_text)"
      ],
      "execution_count": 5,
      "outputs": [
        {
          "output_type": "execute_result",
          "data": {
            "text/plain": [
              "pandas.core.frame.DataFrame"
            ]
          },
          "metadata": {},
          "execution_count": 5
        }
      ]
    },
    {
      "cell_type": "code",
      "metadata": {
        "id": "ghtVayr0-Ndt"
      },
      "source": [
        "import nltk"
      ],
      "execution_count": 6,
      "outputs": []
    },
    {
      "cell_type": "code",
      "metadata": {
        "colab": {
          "base_uri": "https://localhost:8080/"
        },
        "id": "l3so_TCY-1UH",
        "outputId": "28c34c5f-5e37-4428-d3ca-dd15e98c7d93"
      },
      "source": [
        "nltk.download('punkt')"
      ],
      "execution_count": 7,
      "outputs": [
        {
          "output_type": "stream",
          "text": [
            "[nltk_data] Downloading package punkt to /root/nltk_data...\n",
            "[nltk_data]   Package punkt is already up-to-date!\n"
          ],
          "name": "stdout"
        },
        {
          "output_type": "execute_result",
          "data": {
            "text/plain": [
              "True"
            ]
          },
          "metadata": {},
          "execution_count": 7
        }
      ]
    },
    {
      "cell_type": "code",
      "metadata": {
        "colab": {
          "base_uri": "https://localhost:8080/",
          "height": 141
        },
        "id": "o0bDaBNt-dl_",
        "outputId": "c8c60bf3-51d1-44e4-c050-51851b2ca3b6"
      },
      "source": [
        "head_text['title_text'] = head_text.apply(lambda row:nltk.word_tokenize(row['headline_text']),axis=1)\n",
        "head_text.head(3)\n"
      ],
      "execution_count": 8,
      "outputs": [
        {
          "output_type": "execute_result",
          "data": {
            "text/html": [
              "<div>\n",
              "<style scoped>\n",
              "    .dataframe tbody tr th:only-of-type {\n",
              "        vertical-align: middle;\n",
              "    }\n",
              "\n",
              "    .dataframe tbody tr th {\n",
              "        vertical-align: top;\n",
              "    }\n",
              "\n",
              "    .dataframe thead th {\n",
              "        text-align: right;\n",
              "    }\n",
              "</style>\n",
              "<table border=\"1\" class=\"dataframe\">\n",
              "  <thead>\n",
              "    <tr style=\"text-align: right;\">\n",
              "      <th></th>\n",
              "      <th>headline_text</th>\n",
              "      <th>title_text</th>\n",
              "    </tr>\n",
              "  </thead>\n",
              "  <tbody>\n",
              "    <tr>\n",
              "      <th>0</th>\n",
              "      <td>aba decides against community broadcasting lic...</td>\n",
              "      <td>[aba, decides, against, community, broadcastin...</td>\n",
              "    </tr>\n",
              "    <tr>\n",
              "      <th>1</th>\n",
              "      <td>act fire witnesses must be aware of defamation</td>\n",
              "      <td>[act, fire, witnesses, must, be, aware, of, de...</td>\n",
              "    </tr>\n",
              "    <tr>\n",
              "      <th>2</th>\n",
              "      <td>a g calls for infrastructure protection summit</td>\n",
              "      <td>[a, g, calls, for, infrastructure, protection,...</td>\n",
              "    </tr>\n",
              "  </tbody>\n",
              "</table>\n",
              "</div>"
            ],
            "text/plain": [
              "                                       headline_text                                         title_text\n",
              "0  aba decides against community broadcasting lic...  [aba, decides, against, community, broadcastin...\n",
              "1     act fire witnesses must be aware of defamation  [act, fire, witnesses, must, be, aware, of, de...\n",
              "2     a g calls for infrastructure protection summit  [a, g, calls, for, infrastructure, protection,..."
            ]
          },
          "metadata": {},
          "execution_count": 8
        }
      ]
    },
    {
      "cell_type": "code",
      "metadata": {
        "id": "PALCaeYC-vF6"
      },
      "source": [
        "from nltk.corpus import stopwords"
      ],
      "execution_count": 9,
      "outputs": []
    },
    {
      "cell_type": "code",
      "metadata": {
        "colab": {
          "base_uri": "https://localhost:8080/"
        },
        "id": "05mEk_9GBKbe",
        "outputId": "9f42dc6c-96f5-405e-d9fe-b718f425d939"
      },
      "source": [
        "nltk.download('stopwords')"
      ],
      "execution_count": 10,
      "outputs": [
        {
          "output_type": "stream",
          "text": [
            "[nltk_data] Downloading package stopwords to /root/nltk_data...\n",
            "[nltk_data]   Package stopwords is already up-to-date!\n"
          ],
          "name": "stdout"
        },
        {
          "output_type": "execute_result",
          "data": {
            "text/plain": [
              "True"
            ]
          },
          "metadata": {},
          "execution_count": 10
        }
      ]
    },
    {
      "cell_type": "code",
      "metadata": {
        "colab": {
          "base_uri": "https://localhost:8080/"
        },
        "id": "jI4sB-phBFPC",
        "outputId": "502852f4-fd41-4a3c-e027-06f907358ff4"
      },
      "source": [
        "stop = stopwords.words('english')\n",
        "print(stop)"
      ],
      "execution_count": 11,
      "outputs": [
        {
          "output_type": "stream",
          "text": [
            "['i', 'me', 'my', 'myself', 'we', 'our', 'ours', 'ourselves', 'you', \"you're\", \"you've\", \"you'll\", \"you'd\", 'your', 'yours', 'yourself', 'yourselves', 'he', 'him', 'his', 'himself', 'she', \"she's\", 'her', 'hers', 'herself', 'it', \"it's\", 'its', 'itself', 'they', 'them', 'their', 'theirs', 'themselves', 'what', 'which', 'who', 'whom', 'this', 'that', \"that'll\", 'these', 'those', 'am', 'is', 'are', 'was', 'were', 'be', 'been', 'being', 'have', 'has', 'had', 'having', 'do', 'does', 'did', 'doing', 'a', 'an', 'the', 'and', 'but', 'if', 'or', 'because', 'as', 'until', 'while', 'of', 'at', 'by', 'for', 'with', 'about', 'against', 'between', 'into', 'through', 'during', 'before', 'after', 'above', 'below', 'to', 'from', 'up', 'down', 'in', 'out', 'on', 'off', 'over', 'under', 'again', 'further', 'then', 'once', 'here', 'there', 'when', 'where', 'why', 'how', 'all', 'any', 'both', 'each', 'few', 'more', 'most', 'other', 'some', 'such', 'no', 'nor', 'not', 'only', 'own', 'same', 'so', 'than', 'too', 'very', 's', 't', 'can', 'will', 'just', 'don', \"don't\", 'should', \"should've\", 'now', 'd', 'll', 'm', 'o', 're', 've', 'y', 'ain', 'aren', \"aren't\", 'couldn', \"couldn't\", 'didn', \"didn't\", 'doesn', \"doesn't\", 'hadn', \"hadn't\", 'hasn', \"hasn't\", 'haven', \"haven't\", 'isn', \"isn't\", 'ma', 'mightn', \"mightn't\", 'mustn', \"mustn't\", 'needn', \"needn't\", 'shan', \"shan't\", 'shouldn', \"shouldn't\", 'wasn', \"wasn't\", 'weren', \"weren't\", 'won', \"won't\", 'wouldn', \"wouldn't\"]\n"
          ],
          "name": "stdout"
        }
      ]
    },
    {
      "cell_type": "code",
      "metadata": {
        "id": "asfV7hYZBuNp"
      },
      "source": [
        "head_text['title']  = head_text['title_text'].apply(lambda x:[ word for word in x if ( len(word) > 3 ) if ( word not in stop ) ])"
      ],
      "execution_count": 21,
      "outputs": []
    },
    {
      "cell_type": "code",
      "metadata": {
        "colab": {
          "base_uri": "https://localhost:8080/",
          "height": 202
        },
        "id": "zESArse2BIvk",
        "outputId": "47bd9577-62f3-4e7e-e1b5-69ed3d1b889c"
      },
      "source": [
        "head_text.head(5)"
      ],
      "execution_count": 22,
      "outputs": [
        {
          "output_type": "execute_result",
          "data": {
            "text/html": [
              "<div>\n",
              "<style scoped>\n",
              "    .dataframe tbody tr th:only-of-type {\n",
              "        vertical-align: middle;\n",
              "    }\n",
              "\n",
              "    .dataframe tbody tr th {\n",
              "        vertical-align: top;\n",
              "    }\n",
              "\n",
              "    .dataframe thead th {\n",
              "        text-align: right;\n",
              "    }\n",
              "</style>\n",
              "<table border=\"1\" class=\"dataframe\">\n",
              "  <thead>\n",
              "    <tr style=\"text-align: right;\">\n",
              "      <th></th>\n",
              "      <th>headline_text</th>\n",
              "      <th>title_text</th>\n",
              "      <th>title</th>\n",
              "    </tr>\n",
              "  </thead>\n",
              "  <tbody>\n",
              "    <tr>\n",
              "      <th>0</th>\n",
              "      <td>aba decides against community broadcasting lic...</td>\n",
              "      <td>[aba, decides, against, community, broadcastin...</td>\n",
              "      <td>[decides, community, broadcasting, licence]</td>\n",
              "    </tr>\n",
              "    <tr>\n",
              "      <th>1</th>\n",
              "      <td>act fire witnesses must be aware of defamation</td>\n",
              "      <td>[act, fire, witnesses, must, be, aware, of, de...</td>\n",
              "      <td>[fire, witnesses, must, aware, defamation]</td>\n",
              "    </tr>\n",
              "    <tr>\n",
              "      <th>2</th>\n",
              "      <td>a g calls for infrastructure protection summit</td>\n",
              "      <td>[a, g, calls, for, infrastructure, protection,...</td>\n",
              "      <td>[calls, infrastructure, protection, summit]</td>\n",
              "    </tr>\n",
              "    <tr>\n",
              "      <th>3</th>\n",
              "      <td>air nz staff in aust strike for pay rise</td>\n",
              "      <td>[air, nz, staff, in, aust, strike, for, pay, r...</td>\n",
              "      <td>[staff, aust, strike, rise]</td>\n",
              "    </tr>\n",
              "    <tr>\n",
              "      <th>4</th>\n",
              "      <td>air nz strike to affect australian travellers</td>\n",
              "      <td>[air, nz, strike, to, affect, australian, trav...</td>\n",
              "      <td>[strike, affect, australian, travellers]</td>\n",
              "    </tr>\n",
              "  </tbody>\n",
              "</table>\n",
              "</div>"
            ],
            "text/plain": [
              "                                       headline_text  ...                                        title\n",
              "0  aba decides against community broadcasting lic...  ...  [decides, community, broadcasting, licence]\n",
              "1     act fire witnesses must be aware of defamation  ...   [fire, witnesses, must, aware, defamation]\n",
              "2     a g calls for infrastructure protection summit  ...  [calls, infrastructure, protection, summit]\n",
              "3           air nz staff in aust strike for pay rise  ...                  [staff, aust, strike, rise]\n",
              "4      air nz strike to affect australian travellers  ...     [strike, affect, australian, travellers]\n",
              "\n",
              "[5 rows x 3 columns]"
            ]
          },
          "metadata": {},
          "execution_count": 22
        }
      ]
    },
    {
      "cell_type": "code",
      "metadata": {
        "colab": {
          "base_uri": "https://localhost:8080/"
        },
        "id": "v-K2cwp5HgQV",
        "outputId": "e42c58e9-3d08-4a3d-aa5f-bc31984e8369"
      },
      "source": [
        "head_text['title'][3]"
      ],
      "execution_count": 23,
      "outputs": [
        {
          "output_type": "execute_result",
          "data": {
            "text/plain": [
              "['staff', 'aust', 'strike', 'rise']"
            ]
          },
          "metadata": {},
          "execution_count": 23
        }
      ]
    },
    {
      "cell_type": "code",
      "metadata": {
        "colab": {
          "base_uri": "https://localhost:8080/"
        },
        "id": "mLU_wZt5GWtQ",
        "outputId": "2be36e77-3519-4d94-ebd3-d8dc7ea288cd"
      },
      "source": [
        "tokens = []\n",
        "for i in  range(len(head_text)):\n",
        "  tokens.append(' '.join(head_text['title'][i]))\n",
        "\n",
        "tokens[3:5]\n"
      ],
      "execution_count": 24,
      "outputs": [
        {
          "output_type": "execute_result",
          "data": {
            "text/plain": [
              "['staff aust strike rise', 'strike affect australian travellers']"
            ]
          },
          "metadata": {},
          "execution_count": 24
        }
      ]
    },
    {
      "cell_type": "code",
      "metadata": {
        "id": "DsSqJGfiEo-x"
      },
      "source": [
        "from sklearn.feature_extraction.text import TfidfVectorizer"
      ],
      "execution_count": 25,
      "outputs": []
    },
    {
      "cell_type": "code",
      "metadata": {
        "id": "QvGhLwVWFUEv"
      },
      "source": [
        "tfidf = TfidfVectorizer(max_features=1000)\n",
        "X = tfidf.fit_transform(tokens)"
      ],
      "execution_count": 26,
      "outputs": []
    },
    {
      "cell_type": "code",
      "metadata": {
        "colab": {
          "base_uri": "https://localhost:8080/"
        },
        "id": "O891hXE9FpCw",
        "outputId": "9ba46c68-b74c-4e2f-9f4b-dd9e47d42a56"
      },
      "source": [
        "X.shape"
      ],
      "execution_count": 27,
      "outputs": [
        {
          "output_type": "execute_result",
          "data": {
            "text/plain": [
              "(10000, 1000)"
            ]
          },
          "metadata": {},
          "execution_count": 27
        }
      ]
    },
    {
      "cell_type": "code",
      "metadata": {
        "id": "0AlQc6BiIM7N"
      },
      "source": [
        "X[4].toarray()"
      ],
      "execution_count": null,
      "outputs": []
    },
    {
      "cell_type": "code",
      "metadata": {
        "id": "N70uEY8hIXFm"
      },
      "source": [
        "from sklearn.decomposition import LatentDirichletAllocation"
      ],
      "execution_count": 29,
      "outputs": []
    },
    {
      "cell_type": "code",
      "metadata": {
        "id": "PUQcKMs3IpIz"
      },
      "source": [
        "lda_model = LatentDirichletAllocation(max_iter=10) # max_iter 반복 횟수"
      ],
      "execution_count": 32,
      "outputs": []
    },
    {
      "cell_type": "code",
      "metadata": {
        "id": "zM4TeSTzMgoX"
      },
      "source": [
        "lda_top = lda_model.fit_transform(X)"
      ],
      "execution_count": 33,
      "outputs": []
    },
    {
      "cell_type": "code",
      "metadata": {
        "colab": {
          "base_uri": "https://localhost:8080/"
        },
        "id": "YGSd5jwYM5-m",
        "outputId": "2d6c78ef-a7ce-4cad-8ce6-5c1c1f08ccd9"
      },
      "source": [
        "lda_model.components_.shape , lda_model.components_ # 중요도"
      ],
      "execution_count": 43,
      "outputs": [
        {
          "output_type": "execute_result",
          "data": {
            "text/plain": [
              "((10, 1000), array([[ 0.10000501,  0.10000536,  0.10000945, ...,  0.10000033,\n",
              "          0.10000144,  0.10000411],\n",
              "        [ 1.08875447,  0.10000217,  0.10000355, ...,  0.10000346,\n",
              "         12.4138707 ,  0.10000187],\n",
              "        [ 0.10000192,  0.1       ,  0.10000092, ...,  0.10000204,\n",
              "          0.10000279,  0.10000226],\n",
              "        ...,\n",
              "        [ 8.80138048,  0.10000158,  0.1       , ...,  0.10000263,\n",
              "          0.10000376, 14.75125348],\n",
              "        [ 0.10001038,  0.1000053 ,  0.10001143, ...,  0.10000365,\n",
              "          0.10000578,  0.10000354],\n",
              "        [ 0.10000233,  1.23924541,  0.10000285, ..., 18.59647596,\n",
              "          0.10000947,  0.10001654]]))"
            ]
          },
          "metadata": {},
          "execution_count": 43
        }
      ]
    },
    {
      "cell_type": "code",
      "metadata": {
        "id": "hjHw07w5M7Pi"
      },
      "source": [
        "terms = tfidf.get_feature_names()"
      ],
      "execution_count": 45,
      "outputs": []
    },
    {
      "cell_type": "code",
      "metadata": {
        "colab": {
          "base_uri": "https://localhost:8080/"
        },
        "id": "oMu7KcdENd4Z",
        "outputId": "d23d8378-02fd-4ef0-e7a5-8efd41678dcb"
      },
      "source": [
        "n = 5\n",
        "for idx, topic in enumerate(lda_model.components_):\n",
        "  print([(terms[i], topic[i]) for i in topic.argsort()[:-n-1:-1]])\n"
      ],
      "execution_count": 46,
      "outputs": [
        {
          "output_type": "stream",
          "text": [
            "[('final', 37.19687594850525), ('dies', 35.91478217469809), ('charged', 34.31420532529283), ('claim', 33.52769740614824), ('claims', 31.483509746658836)]\n",
            "[('council', 59.66502286060179), ('police', 39.35460830821631), ('plans', 30.889469085332106), ('centre', 29.14601611224007), ('funds', 29.04420140652721)]\n",
            "[('iraq', 79.65638622557462), ('aust', 40.19943060271765), ('troops', 38.757483183101265), ('clash', 36.22265776816468), ('title', 33.6622997906459)]\n",
            "[('plan', 40.10649784427741), ('found', 34.4223426954813), ('group', 29.937120798418437), ('move', 27.301120870440915), ('says', 27.06166292109257)]\n",
            "[('hospital', 52.426506441858265), ('water', 47.42397442636168), ('take', 30.18779233328432), ('still', 30.09507056147541), ('work', 29.603480295217256)]\n",
            "[('anti', 41.19262564998499), ('protesters', 34.34772577394548), ('community', 32.15659141871279), ('continues', 31.827650730131435), ('bush', 31.195181547151343)]\n",
            "[('coast', 39.30287382233011), ('urged', 35.20518961577955), ('open', 32.913386292037465), ('north', 30.916346034501178), ('farmers', 29.754464655394976)]\n",
            "[('baghdad', 64.69308423294238), ('rain', 55.448743324592535), ('death', 38.10202083502833), ('sars', 34.29703503001503), ('gets', 28.397343713375946)]\n",
            "[('govt', 63.93417895601322), ('world', 50.620573254666105), ('missing', 34.59448778693076), ('denies', 32.355190642097234), ('record', 29.83363066181973)]\n",
            "[('face', 42.62646392066979), ('court', 29.711589933368447), ('first', 26.21998613900594), ('minister', 24.794231246705895), ('calls', 24.550526402117065)]\n"
          ],
          "name": "stdout"
        }
      ]
    },
    {
      "cell_type": "code",
      "metadata": {
        "id": "-EbFWwfdPoaR"
      },
      "source": [
        ""
      ],
      "execution_count": null,
      "outputs": []
    }
  ]
}