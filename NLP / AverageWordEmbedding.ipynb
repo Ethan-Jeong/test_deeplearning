{
  "nbformat": 4,
  "nbformat_minor": 0,
  "metadata": {
    "colab": {
      "name": "AverageWordEmbedding.ipynb",
      "provenance": [],
      "collapsed_sections": [],
      "authorship_tag": "ABX9TyOtPRq8cZysnyyBC2E7LvUw",
      "include_colab_link": true
    },
    "kernelspec": {
      "name": "python3",
      "display_name": "Python 3"
    },
    "language_info": {
      "name": "python"
    }
  },
  "cells": [
    {
      "cell_type": "markdown",
      "metadata": {
        "id": "view-in-github",
        "colab_type": "text"
      },
      "source": [
        "<a href=\"https://colab.research.google.com/github/Ethan-Jeong/test_deeplearning/blob/master/NLP%20/%20AverageWordEmbedding.ipynb\" target=\"_parent\"><img src=\"https://colab.research.google.com/assets/colab-badge.svg\" alt=\"Open In Colab\"/></a>"
      ]
    },
    {
      "cell_type": "code",
      "metadata": {
        "id": "wSMJWobu9EO5"
      },
      "source": [
        "from tensorflow.keras.datasets import imdb"
      ],
      "execution_count": 1,
      "outputs": []
    },
    {
      "cell_type": "code",
      "metadata": {
        "colab": {
          "base_uri": "https://localhost:8080/"
        },
        "id": "YbIkrzkv9I8l",
        "outputId": "59a5793d-e7bf-47d9-9710-950d64ee1e04"
      },
      "source": [
        "vocab_size = 2000\n",
        "(x_train,y_train) , ( x_test , y_test)  = imdb.load_data(num_words=vocab_size) \n",
        "x_train.shape, y_train.shape , x_test.shape , y_test.shape"
      ],
      "execution_count": 3,
      "outputs": [
        {
          "output_type": "execute_result",
          "data": {
            "text/plain": [
              "((25000,), (25000,), (25000,), (25000,))"
            ]
          },
          "metadata": {},
          "execution_count": 3
        }
      ]
    },
    {
      "cell_type": "code",
      "metadata": {
        "colab": {
          "base_uri": "https://localhost:8080/"
        },
        "id": "sCKMfouu9pgF",
        "outputId": "1f708d79-7614-4a87-f0b7-b91c4770c16d"
      },
      "source": [
        "print(x_train[1])"
      ],
      "execution_count": 4,
      "outputs": [
        {
          "output_type": "stream",
          "text": [
            "[1, 194, 1153, 194, 2, 78, 228, 5, 6, 1463, 2, 2, 134, 26, 4, 715, 8, 118, 1634, 14, 394, 20, 13, 119, 954, 189, 102, 5, 207, 110, 2, 21, 14, 69, 188, 8, 30, 23, 7, 4, 249, 126, 93, 4, 114, 9, 2, 1523, 5, 647, 4, 116, 9, 35, 2, 4, 229, 9, 340, 1322, 4, 118, 9, 4, 130, 2, 19, 4, 1002, 5, 89, 29, 952, 46, 37, 4, 455, 9, 45, 43, 38, 1543, 1905, 398, 4, 1649, 26, 2, 5, 163, 11, 2, 2, 4, 1153, 9, 194, 775, 7, 2, 2, 349, 2, 148, 605, 2, 2, 15, 123, 125, 68, 2, 2, 15, 349, 165, 2, 98, 5, 4, 228, 9, 43, 2, 1157, 15, 299, 120, 5, 120, 174, 11, 220, 175, 136, 50, 9, 2, 228, 2, 5, 2, 656, 245, 2, 5, 4, 2, 131, 152, 491, 18, 2, 32, 2, 1212, 14, 9, 6, 371, 78, 22, 625, 64, 1382, 9, 8, 168, 145, 23, 4, 1690, 15, 16, 4, 1355, 5, 28, 6, 52, 154, 462, 33, 89, 78, 285, 16, 145, 95]\n"
          ],
          "name": "stdout"
        }
      ]
    },
    {
      "cell_type": "code",
      "metadata": {
        "colab": {
          "base_uri": "https://localhost:8080/"
        },
        "id": "oYhXFnPH91OP",
        "outputId": "673036f2-e15c-435a-d0f9-db5cdf765733"
      },
      "source": [
        "len(x_train[1]) , len(x_train[200])"
      ],
      "execution_count": 8,
      "outputs": [
        {
          "output_type": "execute_result",
          "data": {
            "text/plain": [
              "(189, 160)"
            ]
          },
          "metadata": {},
          "execution_count": 8
        }
      ]
    },
    {
      "cell_type": "code",
      "metadata": {
        "id": "ZPaJ7Vq2-GMq"
      },
      "source": [
        "from tensorflow.keras.preprocessing.sequence import pad_sequences"
      ],
      "execution_count": 9,
      "outputs": []
    },
    {
      "cell_type": "code",
      "metadata": {
        "id": "a2vY3jHo-ekc"
      },
      "source": [
        "X_train = pad_sequences(x_train , maxlen=300)"
      ],
      "execution_count": 10,
      "outputs": []
    },
    {
      "cell_type": "code",
      "metadata": {
        "id": "eCzzDbRRABjK"
      },
      "source": [
        "import numpy as np "
      ],
      "execution_count": 14,
      "outputs": []
    },
    {
      "cell_type": "code",
      "metadata": {
        "colab": {
          "base_uri": "https://localhost:8080/"
        },
        "id": "jUl81AZqAExS",
        "outputId": "cae51ba9-8b86-404e-aaed-4cb6386cf074"
      },
      "source": [
        "np.unique(y_train)"
      ],
      "execution_count": 15,
      "outputs": [
        {
          "output_type": "execute_result",
          "data": {
            "text/plain": [
              "array([0, 1])"
            ]
          },
          "metadata": {},
          "execution_count": 15
        }
      ]
    },
    {
      "cell_type": "code",
      "metadata": {
        "id": "pnMNimYp-xg8"
      },
      "source": [
        "import tensorflow as tf"
      ],
      "execution_count": 12,
      "outputs": []
    },
    {
      "cell_type": "code",
      "metadata": {
        "id": "cShMoPEG-3bM"
      },
      "source": [
        "model = tf.keras.models.Sequential()"
      ],
      "execution_count": 13,
      "outputs": []
    },
    {
      "cell_type": "code",
      "metadata": {
        "colab": {
          "base_uri": "https://localhost:8080/"
        },
        "id": "sBEecRGF_D8u",
        "outputId": "9b167d58-742c-4994-c3bf-3683f8c7eb03"
      },
      "source": [
        "model.add( tf.keras.layers.Embedding(input_dim=vocab_size , output_dim=50, input_length=300 ) ) # input\n",
        "model.add( tf.keras.layers.GlobalAveragePooling1D()) # hidden 딥러닝 평균 구하는 Layer\n",
        "model.add( tf.keras.layers.Dense(1,activation='sigmoid') ) # output  / np.unique(y_train) 분류형일때 -> 1  / 분류형 -> sigmoid\n",
        "\n",
        "model.compile(optimizer='adam',loss='binary_crossentropy')\n",
        "\n",
        "hist = model.fit(X_train,y_train,epochs=10,batch_size=128, validation_split=0.2)"
      ],
      "execution_count": 17,
      "outputs": [
        {
          "output_type": "stream",
          "text": [
            "Epoch 1/10\n",
            "157/157 [==============================] - 3s 11ms/step - loss: 0.6806 - val_loss: 0.6586\n",
            "Epoch 2/10\n",
            "157/157 [==============================] - 1s 8ms/step - loss: 0.6276 - val_loss: 0.5890\n",
            "Epoch 3/10\n",
            "157/157 [==============================] - 1s 8ms/step - loss: 0.5550 - val_loss: 0.5193\n",
            "Epoch 4/10\n",
            "157/157 [==============================] - 1s 8ms/step - loss: 0.4886 - val_loss: 0.4650\n",
            "Epoch 5/10\n",
            "157/157 [==============================] - 1s 9ms/step - loss: 0.4372 - val_loss: 0.4242\n",
            "Epoch 6/10\n",
            "157/157 [==============================] - 1s 8ms/step - loss: 0.4001 - val_loss: 0.3964\n",
            "Epoch 7/10\n",
            "157/157 [==============================] - 1s 8ms/step - loss: 0.3725 - val_loss: 0.3766\n",
            "Epoch 8/10\n",
            "157/157 [==============================] - 1s 8ms/step - loss: 0.3520 - val_loss: 0.3616\n",
            "Epoch 9/10\n",
            "157/157 [==============================] - 1s 8ms/step - loss: 0.3364 - val_loss: 0.3508\n",
            "Epoch 10/10\n",
            "157/157 [==============================] - 1s 8ms/step - loss: 0.3231 - val_loss: 0.3418\n"
          ],
          "name": "stdout"
        }
      ]
    },
    {
      "cell_type": "code",
      "metadata": {
        "colab": {
          "base_uri": "https://localhost:8080/"
        },
        "id": "BNAFOWY-BMl0",
        "outputId": "1a2b768a-dff6-455b-cee3-874d3cf8ba30"
      },
      "source": [
        "model.predict(X_train[5:6])"
      ],
      "execution_count": 18,
      "outputs": [
        {
          "output_type": "execute_result",
          "data": {
            "text/plain": [
              "array([[0.39359266]], dtype=float32)"
            ]
          },
          "metadata": {},
          "execution_count": 18
        }
      ]
    },
    {
      "cell_type": "markdown",
      "metadata": {
        "id": "6K9v5VtTDByv"
      },
      "source": [
        "## Callback EarlyStopping : 과적합을 막을수 있는 방법"
      ]
    },
    {
      "cell_type": "code",
      "metadata": {
        "id": "3iyeFQrNBb0R"
      },
      "source": [
        "es = tf.keras.callbacks.EarlyStopping(monitor='val_loss',patience=4,mode='min',verbose=1)"
      ],
      "execution_count": 19,
      "outputs": []
    },
    {
      "cell_type": "code",
      "metadata": {
        "colab": {
          "base_uri": "https://localhost:8080/"
        },
        "id": "j11N3qvfEFdO",
        "outputId": "61483503-7bba-484a-be2d-586055816cb2"
      },
      "source": [
        "es"
      ],
      "execution_count": 20,
      "outputs": [
        {
          "output_type": "execute_result",
          "data": {
            "text/plain": [
              "<keras.callbacks.EarlyStopping at 0x7f3a3edbee90>"
            ]
          },
          "metadata": {},
          "execution_count": 20
        }
      ]
    },
    {
      "cell_type": "code",
      "metadata": {
        "colab": {
          "base_uri": "https://localhost:8080/"
        },
        "id": "wYoFKJtnEGtT",
        "outputId": "6fe570b2-6f7f-40d2-ef5e-d85f6985f232"
      },
      "source": [
        "hist = model.fit(X_train,y_train,epochs=20,batch_size=128, validation_split=0.2,callbacks=[es])"
      ],
      "execution_count": 21,
      "outputs": [
        {
          "output_type": "stream",
          "text": [
            "Epoch 1/20\n",
            "157/157 [==============================] - 1s 9ms/step - loss: 0.3125 - val_loss: 0.3351\n",
            "Epoch 2/20\n",
            "157/157 [==============================] - 1s 9ms/step - loss: 0.3035 - val_loss: 0.3295\n",
            "Epoch 3/20\n",
            "157/157 [==============================] - 1s 9ms/step - loss: 0.2961 - val_loss: 0.3253\n",
            "Epoch 4/20\n",
            "157/157 [==============================] - 1s 9ms/step - loss: 0.2892 - val_loss: 0.3225\n",
            "Epoch 5/20\n",
            "157/157 [==============================] - 1s 9ms/step - loss: 0.2833 - val_loss: 0.3191\n",
            "Epoch 6/20\n",
            "157/157 [==============================] - 1s 9ms/step - loss: 0.2784 - val_loss: 0.3160\n",
            "Epoch 7/20\n",
            "157/157 [==============================] - 1s 9ms/step - loss: 0.2733 - val_loss: 0.3168\n",
            "Epoch 8/20\n",
            "157/157 [==============================] - 1s 9ms/step - loss: 0.2702 - val_loss: 0.3131\n",
            "Epoch 9/20\n",
            "157/157 [==============================] - 1s 9ms/step - loss: 0.2661 - val_loss: 0.3122\n",
            "Epoch 10/20\n",
            "157/157 [==============================] - 1s 9ms/step - loss: 0.2627 - val_loss: 0.3110\n",
            "Epoch 11/20\n",
            "157/157 [==============================] - 1s 9ms/step - loss: 0.2597 - val_loss: 0.3104\n",
            "Epoch 12/20\n",
            "157/157 [==============================] - 1s 9ms/step - loss: 0.2569 - val_loss: 0.3109\n",
            "Epoch 13/20\n",
            "157/157 [==============================] - 1s 9ms/step - loss: 0.2545 - val_loss: 0.3105\n",
            "Epoch 14/20\n",
            "157/157 [==============================] - 1s 9ms/step - loss: 0.2523 - val_loss: 0.3113\n",
            "Epoch 15/20\n",
            "157/157 [==============================] - 1s 9ms/step - loss: 0.2509 - val_loss: 0.3122\n",
            "Epoch 00015: early stopping\n"
          ],
          "name": "stdout"
        }
      ]
    },
    {
      "cell_type": "code",
      "metadata": {
        "id": "A5KK7VkaEaHH"
      },
      "source": [
        ""
      ],
      "execution_count": null,
      "outputs": []
    }
  ]
}