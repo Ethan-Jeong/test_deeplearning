{
  "nbformat": 4,
  "nbformat_minor": 0,
  "metadata": {
    "colab": {
      "name": "seq2seq.ipynb",
      "provenance": [],
      "collapsed_sections": [
        "WM3VoWwFqp6I",
        "7bcBUHUtt5Ab"
      ],
      "authorship_tag": "ABX9TyMFhHKFydY86qDdf0S3RFgA",
      "include_colab_link": true
    },
    "kernelspec": {
      "name": "python3",
      "display_name": "Python 3"
    },
    "language_info": {
      "name": "python"
    }
  },
  "cells": [
    {
      "cell_type": "markdown",
      "metadata": {
        "id": "view-in-github",
        "colab_type": "text"
      },
      "source": [
        "<a href=\"https://colab.research.google.com/github/Ethan-Jeong/test_deeplearning/blob/master/NLP%20/%20seq2seq.ipynb\" target=\"_parent\"><img src=\"https://colab.research.google.com/assets/colab-badge.svg\" alt=\"Open In Colab\"/></a>"
      ]
    },
    {
      "cell_type": "code",
      "metadata": {
        "id": "RilyP3u5XLa1"
      },
      "source": [
        "import numpy as np"
      ],
      "execution_count": 1,
      "outputs": []
    },
    {
      "cell_type": "code",
      "metadata": {
        "colab": {
          "base_uri": "https://localhost:8080/"
        },
        "id": "ky2glzSXXa9E",
        "outputId": "d74f1311-ffe0-45a8-fa35-63c0accec3a2"
      },
      "source": [
        "index_inputs = np.load(open('./train_inputs.npy','rb'))\n",
        "index_outputs = np.load(open('./train_outputs.npy','rb'))\n",
        "index_targets = np.load(open('./train_targets.npy','rb'))\n",
        "type(index_inputs) , type(index_outputs) , type(index_targets)"
      ],
      "execution_count": 6,
      "outputs": [
        {
          "output_type": "execute_result",
          "data": {
            "text/plain": [
              "(numpy.ndarray, numpy.ndarray, numpy.ndarray)"
            ]
          },
          "metadata": {},
          "execution_count": 6
        }
      ]
    },
    {
      "cell_type": "code",
      "metadata": {
        "colab": {
          "base_uri": "https://localhost:8080/"
        },
        "id": "RE-ChqFXXuwt",
        "outputId": "2e456072-a930-40e1-817e-61f208176957"
      },
      "source": [
        "index_inputs[3:5]"
      ],
      "execution_count": 7,
      "outputs": [
        {
          "output_type": "execute_result",
          "data": {
            "text/plain": [
              "array([[ 20,  30, 107,   0,   0,   0,   0,   0,   0,   0,   0,   0,   0,\n",
              "          0,   0,   0,   0,   0,   0,   0,   0,   0,   0,   0,   0],\n",
              "       [ 93,   7,  79,   0,   0,   0,   0,   0,   0,   0,   0,   0,   0,\n",
              "          0,   0,   0,   0,   0,   0,   0,   0,   0,   0,   0,   0]])"
            ]
          },
          "metadata": {},
          "execution_count": 7
        }
      ]
    },
    {
      "cell_type": "code",
      "metadata": {
        "colab": {
          "base_uri": "https://localhost:8080/"
        },
        "id": "8G7srYg2X0PA",
        "outputId": "e5770947-3096-45f4-e7ee-8c1e9bb38f8a"
      },
      "source": [
        "!python -m pip install konlpy"
      ],
      "execution_count": 8,
      "outputs": [
        {
          "output_type": "stream",
          "text": [
            "Collecting konlpy\n",
            "  Downloading konlpy-0.5.2-py2.py3-none-any.whl (19.4 MB)\n",
            "\u001b[K     |████████████████████████████████| 19.4 MB 1.3 MB/s \n",
            "\u001b[?25hCollecting beautifulsoup4==4.6.0\n",
            "  Downloading beautifulsoup4-4.6.0-py3-none-any.whl (86 kB)\n",
            "\u001b[K     |████████████████████████████████| 86 kB 6.4 MB/s \n",
            "\u001b[?25hRequirement already satisfied: lxml>=4.1.0 in /usr/local/lib/python3.7/dist-packages (from konlpy) (4.2.6)\n",
            "Requirement already satisfied: numpy>=1.6 in /usr/local/lib/python3.7/dist-packages (from konlpy) (1.19.5)\n",
            "Collecting colorama\n",
            "  Downloading colorama-0.4.4-py2.py3-none-any.whl (16 kB)\n",
            "Requirement already satisfied: tweepy>=3.7.0 in /usr/local/lib/python3.7/dist-packages (from konlpy) (3.10.0)\n",
            "Collecting JPype1>=0.7.0\n",
            "  Downloading JPype1-1.3.0-cp37-cp37m-manylinux_2_5_x86_64.manylinux1_x86_64.whl (448 kB)\n",
            "\u001b[K     |████████████████████████████████| 448 kB 48.8 MB/s \n",
            "\u001b[?25hRequirement already satisfied: typing-extensions in /usr/local/lib/python3.7/dist-packages (from JPype1>=0.7.0->konlpy) (3.7.4.3)\n",
            "Requirement already satisfied: six>=1.10.0 in /usr/local/lib/python3.7/dist-packages (from tweepy>=3.7.0->konlpy) (1.15.0)\n",
            "Requirement already satisfied: requests-oauthlib>=0.7.0 in /usr/local/lib/python3.7/dist-packages (from tweepy>=3.7.0->konlpy) (1.3.0)\n",
            "Requirement already satisfied: requests[socks]>=2.11.1 in /usr/local/lib/python3.7/dist-packages (from tweepy>=3.7.0->konlpy) (2.23.0)\n",
            "Requirement already satisfied: oauthlib>=3.0.0 in /usr/local/lib/python3.7/dist-packages (from requests-oauthlib>=0.7.0->tweepy>=3.7.0->konlpy) (3.1.1)\n",
            "Requirement already satisfied: idna<3,>=2.5 in /usr/local/lib/python3.7/dist-packages (from requests[socks]>=2.11.1->tweepy>=3.7.0->konlpy) (2.10)\n",
            "Requirement already satisfied: urllib3!=1.25.0,!=1.25.1,<1.26,>=1.21.1 in /usr/local/lib/python3.7/dist-packages (from requests[socks]>=2.11.1->tweepy>=3.7.0->konlpy) (1.24.3)\n",
            "Requirement already satisfied: chardet<4,>=3.0.2 in /usr/local/lib/python3.7/dist-packages (from requests[socks]>=2.11.1->tweepy>=3.7.0->konlpy) (3.0.4)\n",
            "Requirement already satisfied: certifi>=2017.4.17 in /usr/local/lib/python3.7/dist-packages (from requests[socks]>=2.11.1->tweepy>=3.7.0->konlpy) (2021.5.30)\n",
            "Requirement already satisfied: PySocks!=1.5.7,>=1.5.6 in /usr/local/lib/python3.7/dist-packages (from requests[socks]>=2.11.1->tweepy>=3.7.0->konlpy) (1.7.1)\n",
            "Installing collected packages: JPype1, colorama, beautifulsoup4, konlpy\n",
            "  Attempting uninstall: beautifulsoup4\n",
            "    Found existing installation: beautifulsoup4 4.6.3\n",
            "    Uninstalling beautifulsoup4-4.6.3:\n",
            "      Successfully uninstalled beautifulsoup4-4.6.3\n",
            "Successfully installed JPype1-1.3.0 beautifulsoup4-4.6.0 colorama-0.4.4 konlpy-0.5.2\n"
          ],
          "name": "stdout"
        }
      ]
    },
    {
      "cell_type": "code",
      "metadata": {
        "id": "iCS43mKSpsMi"
      },
      "source": [
        "import preprocess as pp "
      ],
      "execution_count": 10,
      "outputs": []
    },
    {
      "cell_type": "code",
      "metadata": {
        "id": "nLqv4lhcpvPx"
      },
      "source": [
        "prepro_configs = pp.json.load(open('./data_configs.json','r'))"
      ],
      "execution_count": 12,
      "outputs": []
    },
    {
      "cell_type": "code",
      "metadata": {
        "colab": {
          "base_uri": "https://localhost:8080/"
        },
        "id": "vfxyfDr3qXFO",
        "outputId": "8955c9fe-7fc5-49a2-e19b-0c05500438fc"
      },
      "source": [
        "type(prepro_configs)"
      ],
      "execution_count": 13,
      "outputs": [
        {
          "output_type": "execute_result",
          "data": {
            "text/plain": [
              "dict"
            ]
          },
          "metadata": {},
          "execution_count": 13
        }
      ]
    },
    {
      "cell_type": "code",
      "metadata": {
        "colab": {
          "base_uri": "https://localhost:8080/"
        },
        "id": "x7svxLodqcwW",
        "outputId": "e11bb83a-0d40-44d1-ee97-63e2044b78d0"
      },
      "source": [
        "prepro_configs.keys()"
      ],
      "execution_count": 15,
      "outputs": [
        {
          "output_type": "execute_result",
          "data": {
            "text/plain": [
              "dict_keys(['char2idx', 'idx2char', 'vocab_size', 'pad_symbol', 'std_symbol', 'end_symbol', 'unk_symbol'])"
            ]
          },
          "metadata": {},
          "execution_count": 15
        }
      ]
    },
    {
      "cell_type": "markdown",
      "metadata": {
        "id": "WM3VoWwFqp6I"
      },
      "source": [
        "## make model\n"
      ]
    },
    {
      "cell_type": "code",
      "metadata": {
        "id": "QERXSsLzqey-"
      },
      "source": [
        "import tensorflow as tf"
      ],
      "execution_count": 16,
      "outputs": []
    },
    {
      "cell_type": "markdown",
      "metadata": {
        "id": "7bcBUHUtt5Ab"
      },
      "source": [
        "## encode model"
      ]
    },
    {
      "cell_type": "code",
      "metadata": {
        "id": "RtlecQIvuL6Z"
      },
      "source": [
        "vocab_size = prepro_configs['vocab_size']\n",
        "latent_dim = 60"
      ],
      "execution_count": 21,
      "outputs": []
    },
    {
      "cell_type": "code",
      "metadata": {
        "id": "7ZVxZuPYqwAp"
      },
      "source": [
        "encode_input = tf.keras.Input(shape=(None,))\n",
        "encode_hidden = tf.keras.layers.Embedding(input_dim=src_vocab_size, output_dim=latent_dim)(encode_input)\n",
        "encode_output , state_h , state_c = tf.keras.layers.LSTM(50, return_state=True)(encode_hidden)\n",
        "encode_states = [state_h, state_c]\n"
      ],
      "execution_count": 22,
      "outputs": []
    },
    {
      "cell_type": "markdown",
      "metadata": {
        "id": "Pl0DTxp2v9kB"
      },
      "source": [
        "## decode model"
      ]
    },
    {
      "cell_type": "code",
      "metadata": {
        "id": "i6xLVs53vxti"
      },
      "source": [
        "decode_input = tf.keras.Input(shape=(None,))\n",
        "decode_hidden = tf.keras.layers.Embedding(input_dim=vocab_size,output_dim=latent_dim)(decode_input)\n",
        "decode_lstm , _ , _ = tf.keras.layers.LSTM(50,return_state=True,return_sequences=True)(decode_hidden,initial_state=encode_states)\n",
        "decode_output = tf.keras.layers.Dense(vocab_size,activation='softmax')(decode_lstm)"
      ],
      "execution_count": 37,
      "outputs": []
    },
    {
      "cell_type": "code",
      "metadata": {
        "id": "Tk_FiZRVzoKS"
      },
      "source": [
        "model = tf.keras.models.Model(inputs=[encode_input,decode_input],outputs=decode_output)"
      ],
      "execution_count": 38,
      "outputs": []
    },
    {
      "cell_type": "code",
      "metadata": {
        "colab": {
          "base_uri": "https://localhost:8080/",
          "height": 466
        },
        "id": "0abU-E1W47df",
        "outputId": "c667bcde-1a84-4399-c4e6-8d4e47d9b5fe"
      },
      "source": [
        "tf.keras.utils.plot_model(model)"
      ],
      "execution_count": 39,
      "outputs": [
        {
          "output_type": "execute_result",
          "data": {
            "image/png": "[encoded data removed]",
            "text/plain": [
              "<IPython.core.display.Image object>"
            ]
          },
          "metadata": {},
          "execution_count": 39
        }
      ]
    },
    {
      "cell_type": "code",
      "metadata": {
        "id": "c3_2pbqB3-KI"
      },
      "source": [
        "model.compile(optimizer='adam',loss='sparse_categorical_crossentropy',metrics=['acc'])"
      ],
      "execution_count": 40,
      "outputs": []
    },
    {
      "cell_type": "markdown",
      "metadata": {
        "id": "Ql9gTD7J38b8"
      },
      "source": [
        "## fit"
      ]
    },
    {
      "cell_type": "code",
      "metadata": {
        "colab": {
          "base_uri": "https://localhost:8080/"
        },
        "id": "IJPWxHm439WT",
        "outputId": "232afa3d-5155-412c-d5ac-fd15c6221e6f"
      },
      "source": [
        "type(index_inputs) , type(index_outputs) , type(index_targets)\n",
        "model.fit(x=[index_inputs,index_outputs],y=index_targets,batch_size=128,epochs=50)\n",
        "\n",
        "\n"
      ],
      "execution_count": 42,
      "outputs": [
        {
          "output_type": "stream",
          "text": [
            "Epoch 1/50\n",
            "1/1 [==============================] - 5s 5s/step - loss: 4.7121 - acc: 0.0000e+00\n",
            "Epoch 2/50\n",
            "1/1 [==============================] - 0s 39ms/step - loss: 4.6933 - acc: 0.0000e+00\n",
            "Epoch 3/50\n",
            "1/1 [==============================] - 0s 38ms/step - loss: 4.6740 - acc: 0.2500\n",
            "Epoch 4/50\n",
            "1/1 [==============================] - 0s 33ms/step - loss: 4.6537 - acc: 0.8180\n",
            "Epoch 5/50\n",
            "1/1 [==============================] - 0s 33ms/step - loss: 4.6316 - acc: 0.8180\n",
            "Epoch 6/50\n",
            "1/1 [==============================] - 0s 35ms/step - loss: 4.6071 - acc: 0.8180\n",
            "Epoch 7/50\n",
            "1/1 [==============================] - 0s 36ms/step - loss: 4.5796 - acc: 0.8180\n",
            "Epoch 8/50\n",
            "1/1 [==============================] - 0s 40ms/step - loss: 4.5478 - acc: 0.8180\n",
            "Epoch 9/50\n",
            "1/1 [==============================] - 0s 35ms/step - loss: 4.5105 - acc: 0.8180\n",
            "Epoch 10/50\n",
            "1/1 [==============================] - 0s 35ms/step - loss: 4.4658 - acc: 0.8180\n",
            "Epoch 11/50\n",
            "1/1 [==============================] - 0s 35ms/step - loss: 4.4113 - acc: 0.8180\n",
            "Epoch 12/50\n",
            "1/1 [==============================] - 0s 36ms/step - loss: 4.3438 - acc: 0.8180\n",
            "Epoch 13/50\n",
            "1/1 [==============================] - 0s 42ms/step - loss: 4.2586 - acc: 0.8180\n",
            "Epoch 14/50\n",
            "1/1 [==============================] - 0s 38ms/step - loss: 4.1501 - acc: 0.8180\n",
            "Epoch 15/50\n",
            "1/1 [==============================] - 0s 35ms/step - loss: 4.0117 - acc: 0.8180\n",
            "Epoch 16/50\n",
            "1/1 [==============================] - 0s 40ms/step - loss: 3.8379 - acc: 0.8180\n",
            "Epoch 17/50\n",
            "1/1 [==============================] - 0s 36ms/step - loss: 3.6281 - acc: 0.8180\n",
            "Epoch 18/50\n",
            "1/1 [==============================] - 0s 34ms/step - loss: 3.3912 - acc: 0.8180\n",
            "Epoch 19/50\n",
            "1/1 [==============================] - 0s 40ms/step - loss: 3.1450 - acc: 0.8180\n",
            "Epoch 20/50\n",
            "1/1 [==============================] - 0s 38ms/step - loss: 2.9097 - acc: 0.8180\n",
            "Epoch 21/50\n",
            "1/1 [==============================] - 0s 40ms/step - loss: 2.6988 - acc: 0.8180\n",
            "Epoch 22/50\n",
            "1/1 [==============================] - 0s 37ms/step - loss: 2.5154 - acc: 0.8180\n",
            "Epoch 23/50\n",
            "1/1 [==============================] - 0s 36ms/step - loss: 2.3556 - acc: 0.8180\n",
            "Epoch 24/50\n",
            "1/1 [==============================] - 0s 46ms/step - loss: 2.2136 - acc: 0.8180\n",
            "Epoch 25/50\n",
            "1/1 [==============================] - 0s 43ms/step - loss: 2.0849 - acc: 0.8180\n",
            "Epoch 26/50\n",
            "1/1 [==============================] - 0s 45ms/step - loss: 1.9666 - acc: 0.8180\n",
            "Epoch 27/50\n",
            "1/1 [==============================] - 0s 51ms/step - loss: 1.8570 - acc: 0.8180\n",
            "Epoch 28/50\n",
            "1/1 [==============================] - 0s 42ms/step - loss: 1.7552 - acc: 0.8180\n",
            "Epoch 29/50\n",
            "1/1 [==============================] - 0s 42ms/step - loss: 1.6609 - acc: 0.8180\n",
            "Epoch 30/50\n",
            "1/1 [==============================] - 0s 37ms/step - loss: 1.5740 - acc: 0.8180\n",
            "Epoch 31/50\n",
            "1/1 [==============================] - 0s 36ms/step - loss: 1.4946 - acc: 0.8180\n",
            "Epoch 32/50\n",
            "1/1 [==============================] - 0s 36ms/step - loss: 1.4226 - acc: 0.8180\n",
            "Epoch 33/50\n",
            "1/1 [==============================] - 0s 33ms/step - loss: 1.3577 - acc: 0.8180\n",
            "Epoch 34/50\n",
            "1/1 [==============================] - 0s 38ms/step - loss: 1.2997 - acc: 0.8180\n",
            "Epoch 35/50\n",
            "1/1 [==============================] - 0s 41ms/step - loss: 1.2479 - acc: 0.8180\n",
            "Epoch 36/50\n",
            "1/1 [==============================] - 0s 33ms/step - loss: 1.2018 - acc: 0.8180\n",
            "Epoch 37/50\n",
            "1/1 [==============================] - 0s 32ms/step - loss: 1.1607 - acc: 0.8180\n",
            "Epoch 38/50\n",
            "1/1 [==============================] - 0s 36ms/step - loss: 1.1241 - acc: 0.8180\n",
            "Epoch 39/50\n",
            "1/1 [==============================] - 0s 34ms/step - loss: 1.0913 - acc: 0.8180\n",
            "Epoch 40/50\n",
            "1/1 [==============================] - 0s 36ms/step - loss: 1.0620 - acc: 0.8180\n",
            "Epoch 41/50\n",
            "1/1 [==============================] - 0s 34ms/step - loss: 1.0358 - acc: 0.8180\n",
            "Epoch 42/50\n",
            "1/1 [==============================] - 0s 36ms/step - loss: 1.0126 - acc: 0.8180\n",
            "Epoch 43/50\n",
            "1/1 [==============================] - 0s 45ms/step - loss: 0.9921 - acc: 0.8180\n",
            "Epoch 44/50\n",
            "1/1 [==============================] - 0s 41ms/step - loss: 0.9741 - acc: 0.8180\n",
            "Epoch 45/50\n",
            "1/1 [==============================] - 0s 36ms/step - loss: 0.9584 - acc: 0.8180\n",
            "Epoch 46/50\n",
            "1/1 [==============================] - 0s 33ms/step - loss: 0.9447 - acc: 0.8180\n",
            "Epoch 47/50\n",
            "1/1 [==============================] - 0s 41ms/step - loss: 0.9325 - acc: 0.8180\n",
            "Epoch 48/50\n",
            "1/1 [==============================] - 0s 39ms/step - loss: 0.9215 - acc: 0.8180\n",
            "Epoch 49/50\n",
            "1/1 [==============================] - 0s 38ms/step - loss: 0.9113 - acc: 0.8180\n",
            "Epoch 50/50\n",
            "1/1 [==============================] - 0s 39ms/step - loss: 0.9018 - acc: 0.8180\n"
          ],
          "name": "stdout"
        },
        {
          "output_type": "execute_result",
          "data": {
            "text/plain": [
              "<keras.callbacks.History at 0x7fd3a5b9b510>"
            ]
          },
          "metadata": {},
          "execution_count": 42
        }
      ]
    },
    {
      "cell_type": "markdown",
      "metadata": {
        "id": "kXFsck3N5o3B"
      },
      "source": [
        "## refer : https://github.com/NLP-kr/tensorflow-ml-nlp-tf2/blob/master/6.CHATBOT/6.4.seq2seq.ipynb"
      ]
    },
    {
      "cell_type": "code",
      "metadata": {
        "id": "BvdbVS6a5PiZ"
      },
      "source": [
        ""
      ],
      "execution_count": null,
      "outputs": []
    }
  ]
}