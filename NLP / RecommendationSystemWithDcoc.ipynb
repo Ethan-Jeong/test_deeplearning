{
  "nbformat": 4,
  "nbformat_minor": 0,
  "metadata": {
    "colab": {
      "name": "RecommendationSystemWithDcoc.ipynb",
      "provenance": [],
      "collapsed_sections": [],
      "authorship_tag": "ABX9TyMwRNX7XQPYe0RCe3gH92+j",
      "include_colab_link": true
    },
    "kernelspec": {
      "display_name": "Python 3",
      "name": "python3"
    },
    "language_info": {
      "name": "python"
    }
  },
  "cells": [
    {
      "cell_type": "markdown",
      "metadata": {
        "id": "view-in-github",
        "colab_type": "text"
      },
      "source": [
        "<a href=\"https://colab.research.google.com/github/Ethan-Jeong/test_deeplearning/blob/master/NLP%20/%20RecommendationSystemWithDcoc.ipynb\" target=\"_parent\"><img src=\"https://colab.research.google.com/assets/colab-badge.svg\" alt=\"Open In Colab\"/></a>"
      ]
    },
    {
      "cell_type": "code",
      "metadata": {
        "colab": {
          "base_uri": "https://localhost:8080/",
          "height": 202
        },
        "id": "GmXArR6rp5ve",
        "outputId": "ef78937a-0884-4f4e-a499-e94eb7a633d2"
      },
      "source": [
        "import pandas as pd\n",
        "df_data = pd.read_csv('./data.csv',index_col=False)\n",
        "df_data.head(5)"
      ],
      "execution_count": null,
      "outputs": [
        {
          "data": {
            "text/html": [
              "<div>\n",
              "<style scoped>\n",
              "    .dataframe tbody tr th:only-of-type {\n",
              "        vertical-align: middle;\n",
              "    }\n",
              "\n",
              "    .dataframe tbody tr th {\n",
              "        vertical-align: top;\n",
              "    }\n",
              "\n",
              "    .dataframe thead th {\n",
              "        text-align: right;\n",
              "    }\n",
              "</style>\n",
              "<table border=\"1\" class=\"dataframe\">\n",
              "  <thead>\n",
              "    <tr style=\"text-align: right;\">\n",
              "      <th></th>\n",
              "      <th>Unnamed: 0</th>\n",
              "      <th>Desc</th>\n",
              "      <th>Unnamed: 0.1</th>\n",
              "      <th>author</th>\n",
              "      <th>genre</th>\n",
              "      <th>image_link</th>\n",
              "      <th>rating</th>\n",
              "      <th>title</th>\n",
              "    </tr>\n",
              "  </thead>\n",
              "  <tbody>\n",
              "    <tr>\n",
              "      <th>0</th>\n",
              "      <td>0</td>\n",
              "      <td>We know that power is shifting: From West to E...</td>\n",
              "      <td>0.0</td>\n",
              "      <td>Moisés Naím</td>\n",
              "      <td>Business</td>\n",
              "      <td>https://i.gr-assets.com/images/S/compressed.ph...</td>\n",
              "      <td>3.63</td>\n",
              "      <td>The End of Power: From Boardrooms to Battlefie...</td>\n",
              "    </tr>\n",
              "    <tr>\n",
              "      <th>1</th>\n",
              "      <td>1</td>\n",
              "      <td>Following the success of The Accidental Billio...</td>\n",
              "      <td>1.0</td>\n",
              "      <td>Blake J. Harris</td>\n",
              "      <td>Business</td>\n",
              "      <td>https://i.gr-assets.com/images/S/compressed.ph...</td>\n",
              "      <td>3.94</td>\n",
              "      <td>Console Wars: Sega, Nintendo, and the Battle t...</td>\n",
              "    </tr>\n",
              "    <tr>\n",
              "      <th>2</th>\n",
              "      <td>2</td>\n",
              "      <td>How to tap the power of social software and ne...</td>\n",
              "      <td>2.0</td>\n",
              "      <td>Chris Brogan</td>\n",
              "      <td>Business</td>\n",
              "      <td>https://i.gr-assets.com/images/S/compressed.ph...</td>\n",
              "      <td>3.78</td>\n",
              "      <td>Trust Agents: Using the Web to Build Influence...</td>\n",
              "    </tr>\n",
              "    <tr>\n",
              "      <th>3</th>\n",
              "      <td>3</td>\n",
              "      <td>William J. Bernstein is an American financial ...</td>\n",
              "      <td>3.0</td>\n",
              "      <td>William J. Bernstein</td>\n",
              "      <td>Business</td>\n",
              "      <td>https://i.gr-assets.com/images/S/compressed.ph...</td>\n",
              "      <td>4.20</td>\n",
              "      <td>The Four Pillars of Investing</td>\n",
              "    </tr>\n",
              "    <tr>\n",
              "      <th>4</th>\n",
              "      <td>4</td>\n",
              "      <td>Amazing book. And I joined Steve Jobs and many...</td>\n",
              "      <td>4.0</td>\n",
              "      <td>Akio Morita</td>\n",
              "      <td>Business</td>\n",
              "      <td>https://i.gr-assets.com/images/S/compressed.ph...</td>\n",
              "      <td>4.05</td>\n",
              "      <td>Made in Japan: Akio Morita and Sony</td>\n",
              "    </tr>\n",
              "  </tbody>\n",
              "</table>\n",
              "</div>"
            ],
            "text/plain": [
              "   Unnamed: 0  ...                                              title\n",
              "0           0  ...  The End of Power: From Boardrooms to Battlefie...\n",
              "1           1  ...  Console Wars: Sega, Nintendo, and the Battle t...\n",
              "2           2  ...  Trust Agents: Using the Web to Build Influence...\n",
              "3           3  ...                      The Four Pillars of Investing\n",
              "4           4  ...                Made in Japan: Akio Morita and Sony\n",
              "\n",
              "[5 rows x 8 columns]"
            ]
          },
          "execution_count": 2,
          "metadata": {},
          "output_type": "execute_result"
        }
      ]
    },
    {
      "cell_type": "code",
      "metadata": {
        "colab": {
          "base_uri": "https://localhost:8080/"
        },
        "id": "8gG4nu1tqLuX",
        "outputId": "865150b3-5a53-4263-fa87-f0395d93898d"
      },
      "source": [
        "df_data.info()"
      ],
      "execution_count": null,
      "outputs": [
        {
          "name": "stdout",
          "output_type": "stream",
          "text": [
            "<class 'pandas.core.frame.DataFrame'>\n",
            "RangeIndex: 2382 entries, 0 to 2381\n",
            "Data columns (total 8 columns):\n",
            " #   Column        Non-Null Count  Dtype  \n",
            "---  ------        --------------  -----  \n",
            " 0   Unnamed: 0    2382 non-null   int64  \n",
            " 1   Desc          2382 non-null   object \n",
            " 2   Unnamed: 0.1  1185 non-null   float64\n",
            " 3   author        2382 non-null   object \n",
            " 4   genre         2382 non-null   object \n",
            " 5   image_link    2382 non-null   object \n",
            " 6   rating        2382 non-null   float64\n",
            " 7   title         2382 non-null   object \n",
            "dtypes: float64(2), int64(1), object(5)\n",
            "memory usage: 149.0+ KB\n"
          ]
        }
      ]
    },
    {
      "cell_type": "code",
      "metadata": {
        "colab": {
          "base_uri": "https://localhost:8080/"
        },
        "id": "f2Uo8SRWrqVM",
        "outputId": "7b9ad1c1-2ea2-412a-dad1-9fb0288bb0b1"
      },
      "source": [
        "df_data['Desc']"
      ],
      "execution_count": null,
      "outputs": [
        {
          "data": {
            "text/plain": [
              "0       We know that power is shifting: From West to E...\n",
              "1       Following the success of The Accidental Billio...\n",
              "2       How to tap the power of social software and ne...\n",
              "3       William J. Bernstein is an American financial ...\n",
              "4       Amazing book. And I joined Steve Jobs and many...\n",
              "                              ...                        \n",
              "2377    Ralph Roberts, a sus setenta años y tras la mu...\n",
              "2378    Murder at the Vicarage marks the debut of Agat...\n",
              "2379    In 1951 John Wyndham published his novel The D...\n",
              "2380    This now classic book revealed Flannery O'Conn...\n",
              "2381    Imbued on every page with Frank McCourt's asto...\n",
              "Name: Desc, Length: 2382, dtype: object"
            ]
          },
          "execution_count": 4,
          "metadata": {},
          "output_type": "execute_result"
        }
      ]
    },
    {
      "cell_type": "code",
      "metadata": {
        "id": "DwHtTAdntD8c"
      },
      "source": [
        "from nltk.tokenize import RegexpTokenizer"
      ],
      "execution_count": null,
      "outputs": []
    },
    {
      "cell_type": "code",
      "metadata": {
        "id": "X-fFQ-iks3qW"
      },
      "source": [
        "text01 = 'We know that power is shifting: From West to E'\n",
        "def remove_punctuaion(text):\n",
        "  tokenizer = RegexpTokenizer('[a-zA-Z]+') # https://regexr.com/ 표현식에서 + 넣어줘야 단어단위로 처리 된다.\n",
        "  text_list = tokenizer.tokenize(text)\n",
        "  # print(type(text_list),text_list)\n",
        "  result = ' '.join(text_list)\n",
        "  # print(type(result), result)\n",
        "  return result "
      ],
      "execution_count": null,
      "outputs": []
    },
    {
      "cell_type": "code",
      "metadata": {
        "colab": {
          "base_uri": "https://localhost:8080/",
          "height": 34
        },
        "id": "dEY03lBJwsp3",
        "outputId": "9732d8cb-5e59-491a-9830-fffff937c601"
      },
      "source": [
        "# for text01 in df_data['Desc']:  \n",
        "remove_punctuaion(text01)"
      ],
      "execution_count": null,
      "outputs": [
        {
          "data": {
            "application/vnd.google.colaboratory.intrinsic+json": {
              "type": "string"
            },
            "text/plain": [
              "'We know that power is shifting From West to E'"
            ]
          },
          "execution_count": 25,
          "metadata": {},
          "output_type": "execute_result"
        }
      ]
    },
    {
      "cell_type": "code",
      "metadata": {
        "id": "-1xcbHE6sMem"
      },
      "source": [
        "df_data['cleaned'] = df_data['Desc'].apply(remove_punctuaion)"
      ],
      "execution_count": null,
      "outputs": []
    },
    {
      "cell_type": "code",
      "metadata": {
        "colab": {
          "base_uri": "https://localhost:8080/"
        },
        "id": "_ePNfhwQxxF_",
        "outputId": "31de8225-1148-4e16-e31f-72dad56c804c"
      },
      "source": [
        "df_data.columns"
      ],
      "execution_count": null,
      "outputs": [
        {
          "data": {
            "text/plain": [
              "Index(['Unnamed: 0', 'Desc', 'Unnamed: 0.1', 'author', 'genre', 'image_link',\n",
              "       'rating', 'title', 'cleaned'],\n",
              "      dtype='object')"
            ]
          },
          "execution_count": 27,
          "metadata": {},
          "output_type": "execute_result"
        }
      ]
    },
    {
      "cell_type": "code",
      "metadata": {
        "colab": {
          "base_uri": "https://localhost:8080/"
        },
        "id": "_dJA4yQlxzw5",
        "outputId": "e991abd0-dabb-4f82-ebdb-38db2e08848f"
      },
      "source": [
        "df_data['cleaned'].head(5)"
      ],
      "execution_count": null,
      "outputs": [
        {
          "data": {
            "text/plain": [
              "0    We know that power is shifting From West to Ea...\n",
              "1    Following the success of The Accidental Billio...\n",
              "2    How to tap the power of social software and ne...\n",
              "3    William J Bernstein is an American financial t...\n",
              "4    Amazing book And I joined Steve Jobs and many ...\n",
              "Name: cleaned, dtype: object"
            ]
          },
          "execution_count": 28,
          "metadata": {},
          "output_type": "execute_result"
        }
      ]
    },
    {
      "cell_type": "code",
      "metadata": {
        "colab": {
          "base_uri": "https://localhost:8080/"
        },
        "id": "C5ldUWNcyGuO",
        "outputId": "102a8e2c-6586-4606-8de7-3f9659e00b3c"
      },
      "source": [
        "df_data.info()"
      ],
      "execution_count": null,
      "outputs": [
        {
          "name": "stdout",
          "output_type": "stream",
          "text": [
            "<class 'pandas.core.frame.DataFrame'>\n",
            "RangeIndex: 2382 entries, 0 to 2381\n",
            "Data columns (total 9 columns):\n",
            " #   Column        Non-Null Count  Dtype  \n",
            "---  ------        --------------  -----  \n",
            " 0   Unnamed: 0    2382 non-null   int64  \n",
            " 1   Desc          2382 non-null   object \n",
            " 2   Unnamed: 0.1  1185 non-null   float64\n",
            " 3   author        2382 non-null   object \n",
            " 4   genre         2382 non-null   object \n",
            " 5   image_link    2382 non-null   object \n",
            " 6   rating        2382 non-null   float64\n",
            " 7   title         2382 non-null   object \n",
            " 8   cleaned       2382 non-null   object \n",
            "dtypes: float64(2), int64(1), object(6)\n",
            "memory usage: 167.6+ KB\n"
          ]
        }
      ]
    },
    {
      "cell_type": "markdown",
      "metadata": {
        "id": "46UPpFlB3xkw"
      },
      "source": [
        "## Pre-Trained"
      ]
    },
    {
      "cell_type": "code",
      "metadata": {
        "colab": {
          "base_uri": "https://localhost:8080/"
        },
        "id": "Q6nVGGcp1tEn",
        "outputId": "8a680707-fb62-486b-bcb7-fde0614b4ff7"
      },
      "source": [
        "!curl -O https://s3.amazonaws.com/dl4j-distribution/GoogleNews-vectors-negative300.bin.gz"
      ],
      "execution_count": null,
      "outputs": [
        {
          "name": "stdout",
          "output_type": "stream",
          "text": [
            "  % Total    % Received % Xferd  Average Speed   Time    Time     Time  Current\n",
            "                                 Dload  Upload   Total   Spent    Left  Speed\n",
            "100 1570M  100 1570M    0     0  15.5M      0  0:01:40  0:01:40 --:--:-- 15.9M\n"
          ]
        }
      ]
    },
    {
      "cell_type": "code",
      "metadata": {
        "id": "bWuA9_ka31ah"
      },
      "source": [
        "from gensim.models import Word2Vec"
      ],
      "execution_count": null,
      "outputs": []
    },
    {
      "cell_type": "code",
      "metadata": {
        "colab": {
          "base_uri": "https://localhost:8080/"
        },
        "id": "o1CpRdHE83U-",
        "outputId": "9b9cddc0-68bc-48f3-de12-2d0c9817a8af"
      },
      "source": [
        "corpus = []\n",
        "for words in df_data['cleaned']:\n",
        "  corpus.append(words.split())\n",
        "print(type(corpus),corpus[4:8])  "
      ],
      "execution_count": null,
      "outputs": [
        {
          "name": "stdout",
          "output_type": "stream",
          "text": [
            "<class 'list'> [['Amazing', 'book', 'And', 'I', 'joined', 'Steve', 'Jobs', 'and', 'many', 'more', 'from', 'the', 'Akio', 'Morita', 'fan', 'club', 'Did', 'you', 'know', 'that', 'he', 'was', 'such', 'a', 'sensation', 'that', 'Steve', 'Jobs', 'wanted', 'to', 'build', 'Apple', 'to', 'be', 'like', 'Sony', 'Here', 'are', 'the', 'similarities', 'Both', 'Apple', 'and', 'Sony', 'had', 'a', 'reputation', 'of', 'creating', 'perfectly', 'crafted', 'consumer', 'products', 'which', 'conquer', 'the', 'marketplace', 'Apple', 'still', 'does', 'in', 'fact', 'Both', 'companies', 'were', 'leaders', 'in', 'personal', 'technology', 'This', 'is', 'where', 'Apple', 'drew', 'inspiration', 'from', 'Sony', 's', 'Walkman', 'an', 'inspiration', 'which', 'culminated', 'in', 'the'], ['In', 'the', 'tradition', 'of', 'Phil', 'Knight', 's', 'Shoe', 'Dog', 'comes', 'the', 'incredible', 'untold', 'story', 'of', 'how', 'Netflix', 'went', 'from', 'concept', 'to', 'company', 'all', 'revealed', 'by', 'co', 'founder', 'and', 'first', 'CEO', 'Marc', 'Randolph', 'Once', 'upon', 'a', 'time', 'brick', 'and', 'mortar', 'video', 'stores', 'were', 'king', 'Late', 'fees', 'were', 'ubiquitous', 'video', 'streaming', 'unheard', 'was', 'of', 'and', 'widespread', 'DVD', 'adoption', 'seemed', 'about', 'as', 'imminent', 'as', 'flying', 'cars', 'Indeed', 'these', 'were', 'the', 'widely', 'accepted', 'laws', 'of', 'the', 'land', 'in', 'when', 'Marc', 'Randolph', 'had', 'an', 'idea', 'It', 'was', 'a', 'simple', 'thought', 'leveraging', 'the', 'internet', 'to', 'rent', 'movies', 'and', 'was', 'just', 'one', 'of', 'many', 'more', 'and', 'far', 'worse', 'proposals', 'like', 'personalized', 'baseball', 'bats', 'and', 'a', 'shampoo', 'delivery', 'service', 'that', 'Randolph', 'would', 'pitch', 'to', 'his', 'business', 'partner', 'Reed', 'Hastings', 'on', 'their', 'commute', 'to', 'work', 'each', 'morning', 'But', 'Hastings', 'was', 'intrigued', 'and', 'the', 'pair', 'with', 'Hastings', 'as', 'the', 'primary', 'investor', 'and', 'Randolph', 'as', 'the', 'CEO', 'founded', 'a', 'company', 'Now', 'with', 'over', 'million', 'subscribers', 'Netflix', 's', 'triumph', 'feels', 'inevitable', 'but', 'the', 'twenty', 'first', 'century', 's', 'most', 'disruptive', 'start', 'up', 'began', 'with', 'few', 'believers', 'and', 'calamity', 'at', 'every', 'turn', 'From', 'having', 'to', 'pitch', 'his', 'own', 'mother', 'on', 'being', 'an', 'early', 'investor', 'to', 'the', 'motel', 'conference', 'room', 'that', 'served', 'as', 'a', 'first', 'office', 'to', 'server', 'crashes', 'on', 'launch', 'day', 'to', 'the', 'now', 'infamous', 'meeting', 'when', 'Netflix', 'brass', 'pitched', 'Blockbuster', 'to', 'acquire', 'them', 'Marc', 'Randolph', 's', 'transformational', 'journey', 'exemplifies', 'how', 'anyone', 'with', 'grit', 'gut', 'instincts', 'and', 'determination', 'can', 'change', 'the', 'world', 'even', 'with', 'an', 'idea', 'that', 'many', 'think', 'will', 'never', 'work', 'What', 'emerges', 'though', 'isn', 't', 'just', 'the', 'inside', 'story', 'of', 'one', 'of', 'the', 'world', 's', 'most', 'iconic', 'companies', 'Full', 'of', 'counter', 'intuitive', 'concepts', 'and', 'written', 'in', 'binge', 'worthy', 'prose', 'it', 'answers', 'some', 'of', 'our', 'most', 'fundamental', 'questions', 'about', 'taking', 'that', 'leap', 'of', 'faith', 'in', 'business', 'or', 'in', 'life', 'How', 'do', 'you', 'begin', 'How', 'do', 'you', 'weather', 'disappointment', 'and', 'failure', 'How', 'do', 'you', 'deal', 'with', 'success', 'What', 'even', 'is', 'success', 'From', 'idea', 'generation', 'to', 'team', 'building', 'to', 'knowing', 'when', 'it', 's', 'time', 'to', 'let', 'go', 'That', 'Will', 'Never', 'Work', 'is', 'not', 'only', 'the', 'ultimate', 'follow', 'your', 'dreams', 'parable', 'but', 'also', 'one', 'of', 'the', 'most', 'dramatic', 'and', 'insightful', 'entrepreneurial', 'stories', 'of', 'our', 'time'], ['Gregory', 'Zuckerman', 'the', 'bestselling', 'author', 'of', 'The', 'Greatest', 'Trade', 'Ever', 'and', 'The', 'Frackers', 'answers', 'the', 'question', 'investors', 'have', 'been', 'asking', 'for', 'decades', 'How', 'did', 'Jim', 'Simons', 'do', 'it', 'Shortlisted', 'for', 'the', 'Financial', 'Times', 'McKinsey', 'Business', 'Book', 'of', 'the', 'Year', 'AwardJim', 'Simons', 'is', 'the', 'greatest', 'money', 'maker', 'in', 'modern', 'financial', 'history', 'No', 'other', 'investor', 'Warren', 'Buffett', 'Peter', 'Lynch', 'Ray', 'Dalio', 'Steve', 'Cohen', 'or', 'George', 'Soros', 'can', 'touch', 'his', 'record', 'Since', 'Renaissance', 's', 'signature', 'Medallion', 'fund', 'has', 'generated', 'average', 'annual', 'returns', 'of', 'percent', 'The', 'firm', 'has', 'earned', 'profits', 'of', 'more', 'than', 'billion', 'Simons', 'is', 'worth', 'twenty', 'three', 'billion', 'dollars', 'Drawing', 'on', 'unprecedented', 'access', 'to', 'Simons', 'and', 'dozens', 'of', 'current', 'and', 'former', 'employees', 'Zuckerman', 'a', 'veteran', 'Wall', 'Street', 'Journal', 'investigative', 'reporter', 'tells', 'the', 'gripping', 'story', 'of', 'how', 'a', 'world', 'class', 'mathematician', 'and', 'former', 'code', 'breaker', 'mastered', 'the', 'market', 'Simons', 'pioneered', 'a', 'data', 'driven', 'algorithmic', 'approach', 'that', 's', 'sweeping', 'the', 'world', 'As', 'Renaissance', 'became', 'a', 'market', 'force', 'its', 'executives', 'began', 'influencing', 'the', 'world', 'beyond', 'finance', 'Simons', 'became', 'a', 'major', 'figure', 'in', 'scientific', 'research', 'education', 'and', 'liberal', 'politics', 'Senior', 'executive', 'Robert', 'Mercer', 'is', 'more', 'responsible', 'than', 'anyone', 'else', 'for', 'the', 'Trump', 'presidency', 'placing', 'Steve', 'Bannon', 'in', 'the', 'campaign', 'and', 'funding', 'Trump', 's', 'victorious', 'effort', 'Mercer', 'also', 'impacted', 'the', 'campaign', 'behind', 'Brexit', 'The', 'Man', 'Who', 'Solved', 'the', 'Market', 'is', 'a', 'portrait', 'of', 'a', 'modern', 'day', 'Midas', 'who', 'remade', 'markets', 'in', 'his', 'own', 'image', 'but', 'failed', 'to', 'anticipate', 'how', 'his', 'success', 'would', 'impact', 'his', 'firm', 'and', 'his', 'country', 'It', 's', 'also', 'a', 'story', 'of', 'what', 'Simons', 's', 'revolution', 'means', 'for', 'the', 'rest', 'of', 'us'], ['From', 'bestselling', 'writer', 'David', 'Graeber', 'a', 'powerful', 'argument', 'against', 'the', 'rise', 'of', 'meaningless', 'unfulfilling', 'jobs', 'and', 'their', 'consequences', 'Does', 'your', 'job', 'make', 'a', 'meaningful', 'contribution', 'to', 'the', 'world', 'In', 'the', 'spring', 'of', 'David', 'Graeber', 'asked', 'this', 'question', 'in', 'a', 'playful', 'provocative', 'essay', 'titled', 'On', 'the', 'Phenomenon', 'of', 'Bullshit', 'Jobs', 'It', 'went', 'viral', 'After', 'a', 'million', 'online', 'views', 'in', 'seventeen', 'different', 'languages', 'people', 'all', 'over', 'the', 'world', 'are', 'still', 'debating', 'the', 'answer', 'There', 'are', 'millions', 'of', 'people', 'HR', 'consultants', 'communication', 'coordinators', 'telemarketing', 'researchers', 'corporate', 'lawyers', 'whose', 'jobs', 'are', 'useless', 'and', 'tragically', 'they', 'know', 'it', 'These', 'people', 'are', 'caught', 'in', 'bullshit', 'jobs', 'Graeber', 'explores', 'one', 'of', 'society', 's', 'most', 'vexing', 'and', 'deeply', 'felt', 'concerns', 'indicting', 'among', 'other', 'villains', 'a', 'particular', 'strain', 'of', 'finance', 'capitalism', 'that', 'betrays', 'ideals', 'shared', 'by', 'thinkers', 'ranging', 'from', 'Keynes', 'to', 'Lincoln', 'Bullshit', 'Jobs', 'gives', 'individuals', 'corporations', 'and', 'societies', 'permission', 'to', 'undergo', 'a', 'shift', 'in', 'values', 'placing', 'creative', 'and', 'caring', 'work', 'at', 'the', 'center', 'of', 'our', 'culture', 'This', 'book', 'is', 'for', 'everyone', 'who', 'wants', 'to', 'turn', 'their', 'vocation', 'back', 'into', 'an', 'avocation']]\n"
          ]
        }
      ]
    },
    {
      "cell_type": "code",
      "metadata": {
        "id": "1HQu41rb4vHr"
      },
      "source": [
        "word2vec_model = Word2Vec(min_count=2,workers=-1,size=300)\n",
        "word2vec_model.build_vocab(df_data['cleaned'])"
      ],
      "execution_count": null,
      "outputs": []
    },
    {
      "cell_type": "code",
      "metadata": {
        "id": "5m7LmNzZ59T4"
      },
      "source": [
        "word2vec_model.intersect_word2vec_format('GoogleNews-vectors-negative300.bin.gz',lockf=1.0,binary=True)"
      ],
      "execution_count": null,
      "outputs": []
    },
    {
      "cell_type": "code",
      "metadata": {
        "colab": {
          "base_uri": "https://localhost:8080/"
        },
        "id": "AUbU9UbT6ppx",
        "outputId": "12eeac7a-26ef-4d11-ba11-bc60047247c1"
      },
      "source": [
        "word2vec_model.train(df_data['cleaned'],total_examples=word2vec_model.corpus_count,epochs=15)"
      ],
      "execution_count": null,
      "outputs": [
        {
          "data": {
            "text/plain": [
              "(0, 0)"
            ]
          },
          "execution_count": 42,
          "metadata": {},
          "output_type": "execute_result"
        }
      ]
    },
    {
      "cell_type": "code",
      "metadata": {
        "id": "NQd28TDl7jNd"
      },
      "source": [
        "word2vec_model.wv.vocab"
      ],
      "execution_count": null,
      "outputs": []
    },
    {
      "cell_type": "code",
      "metadata": {
        "colab": {
          "base_uri": "https://localhost:8080/"
        },
        "id": "zazV_kVa73AB",
        "outputId": "7272c348-803a-4538-efc7-4a158835c619"
      },
      "source": [
        "doc_embedding_list = list()\n",
        "# for line in df_data['cleaned'][2:3]:\n",
        "for line in df_data['cleaned']:\n",
        "  # print(line)\n",
        "  doc2vec = None\n",
        "  for word in line.split():\n",
        "    # print(word)\n",
        "    if word in word2vec_model.wv.vocab:\n",
        "      # print(word2vec_model[word])\n",
        "      if doc2vec is None:\n",
        "        doc2vec = word2vec_model[word] \n",
        "      else :\n",
        "        doc2vec = doc2vec + word2vec_model[word] \n",
        "\n",
        "  if doc2vec is not None:\n",
        "    doc2vec = doc2vec / len(doc2vec)\n",
        "    doc_embedding_list.append(doc2vec)\n",
        "  # print(type(doc2vec), doc2vec.shape, doc2vec)\n",
        "\n",
        "print(doc_embedding_list)\n"
      ],
      "execution_count": null,
      "outputs": [
        {
          "name": "stderr",
          "output_type": "stream",
          "text": [
            "/usr/local/lib/python3.7/dist-packages/ipykernel_launcher.py:11: DeprecationWarning: Call to deprecated `__getitem__` (Method will be removed in 4.0.0, use self.wv.__getitem__() instead).\n",
            "  # This is added back by InteractiveShellApp.init_path()\n",
            "/usr/local/lib/python3.7/dist-packages/ipykernel_launcher.py:13: DeprecationWarning: Call to deprecated `__getitem__` (Method will be removed in 4.0.0, use self.wv.__getitem__() instead).\n",
            "  del sys.path[0]\n",
            "IOPub data rate exceeded.\n",
            "The notebook server will temporarily stop sending output\n",
            "to the client in order to avoid crashing it.\n",
            "To change this limit, set the config variable\n",
            "`--NotebookApp.iopub_data_rate_limit`.\n",
            "\n",
            "Current values:\n",
            "NotebookApp.iopub_data_rate_limit=1000000.0 (bytes/sec)\n",
            "NotebookApp.rate_limit_window=3.0 (secs)\n",
            "\n"
          ]
        }
      ]
    },
    {
      "cell_type": "code",
      "metadata": {
        "colab": {
          "background_save": true
        },
        "id": "Q4-Yf7d6_zoL"
      },
      "source": [
        "doc_embedding_list"
      ],
      "execution_count": null,
      "outputs": []
    },
    {
      "cell_type": "markdown",
      "metadata": {
        "id": "VSBjg6qcFJd6"
      },
      "source": [
        "## Cosin Matrix"
      ]
    },
    {
      "cell_type": "code",
      "metadata": {
        "id": "4M0dxim1CzIa"
      },
      "source": [
        "from sklearn.metrics.pairwise import cosine_similarity"
      ],
      "execution_count": 56,
      "outputs": []
    },
    {
      "cell_type": "code",
      "metadata": {
        "colab": {
          "base_uri": "https://localhost:8080/"
        },
        "id": "xX7VgIxIH-BC",
        "outputId": "f5b80520-7383-431e-8774-23444d835484"
      },
      "source": [
        "cosine_sim = cosine_similarity(doc_embedding_list, doc_embedding_list)\n",
        "type(cosine_sim) , cosine_sim.shape"
      ],
      "execution_count": 57,
      "outputs": [
        {
          "output_type": "execute_result",
          "data": {
            "text/plain": [
              "(numpy.ndarray, (2337, 2337))"
            ]
          },
          "metadata": {},
          "execution_count": 57
        }
      ]
    },
    {
      "cell_type": "code",
      "metadata": {
        "colab": {
          "base_uri": "https://localhost:8080/"
        },
        "id": "_ACcdTgdIPxK",
        "outputId": "4fb91403-b95c-4a7b-a942-3fad487c8348"
      },
      "source": [
        "cosine_sim[3]"
      ],
      "execution_count": 58,
      "outputs": [
        {
          "output_type": "execute_result",
          "data": {
            "text/plain": [
              "array([ 0.15215874,  0.08508436,  0.10843863, ..., -0.00604626,\n",
              "        0.47095877,  0.09069962], dtype=float32)"
            ]
          },
          "metadata": {},
          "execution_count": 58
        }
      ]
    },
    {
      "cell_type": "markdown",
      "metadata": {
        "id": "JEHraYHSIy5-"
      },
      "source": [
        "## Predict"
      ]
    },
    {
      "cell_type": "code",
      "metadata": {
        "id": "IxDO7BbjIWNt"
      },
      "source": [
        "title = 'The Da Vinci Code'\n",
        "title = 'The Four Pillars of Investing' # 3 "
      ],
      "execution_count": 59,
      "outputs": []
    },
    {
      "cell_type": "code",
      "metadata": {
        "colab": {
          "base_uri": "https://localhost:8080/"
        },
        "id": "gIg2vpMCI6rY",
        "outputId": "79c8da43-1880-4fe1-e606-29b001574dcb"
      },
      "source": [
        "idx = 3\n",
        "sim_scores = list(enumerate(cosine_sim[3]))\n",
        "print(sim_scores)"
      ],
      "execution_count": 63,
      "outputs": [
        {
          "output_type": "stream",
          "text": [
            "[(0, 0.15215874), (1, 0.08508436), (2, 0.108438626), (3, 0.99999976), (4, 0.081598364), (5, 0.09775898), (6, 0.08633493), (7, 0.08610085), (8, 0.08628742), (9, 0.10842021), (10, 0.5082952), (11, -0.0060462668), (12, 0.08639515), (13, -0.006046263), (14, 0.08639515), (15, 0.41978514), (16, 0.086317815), (17, 0.08621969), (18, 0.08637773), (19, 0.23945822), (20, 0.1281737), (21, 0.122226894), (22, 0.115214854), (23, 0.086377755), (24, 0.08639515), (25, 0.32495895), (26, 0.08638369), (27, 0.43410778), (28, 0.11241509), (29, 0.13118221), (30, 0.10064292), (31, -0.006046265), (32, 0.073046945), (33, 0.08630292), (34, -0.006046265), (35, 0.27510253), (36, 0.13474551), (37, 0.13107347), (38, 0.47551855), (39, 0.08621969), (40, 0.086317815), (41, 0.08633217), (42, 0.1594185), (43, 0.42110965), (44, 0.037954327), (45, 0.124760695), (46, 0.08635906), (47, 0.46147394), (48, 0.08621969), (49, 0.104537465), (50, 0.13332671), (51, 0.7022295), (52, 0.10703148), (53, 0.1449778), (54, -0.006046263), (55, 0.13229236), (56, 0.2613458), (57, 0.086162835), (58, 0.08621969), (59, 0.08639515), (60, 0.086349286), (61, -0.00604626), (62, 0.14316222), (63, 0.086317815), (64, 0.11202218), (65, -0.0060462668), (66, 0.1154896), (67, 0.16824454), (68, 0.69762915), (69, 0.08603365), (70, 0.08639515), (71, 0.07353283), (72, 0.5229014), (73, 0.086142786), (74, 0.6303171), (75, 0.13437578), (76, 0.08630294), (77, 0.600711), (78, -0.006046265), (79, 0.08635906), (80, 0.2246676), (81, 0.31591022), (82, 0.07888932), (83, 0.19184284), (84, 0.104509674), (85, 0.086359076), (86, 0.10349386), (87, 0.13434812), (88, 0.08610084), (89, 0.08638034), (90, 0.103555925), (91, 0.086302936), (92, 0.43997598), (93, 0.112151384), (94, -0.006046265), (95, 0.19922952), (96, -0.0060462654), (97, 0.10161556), (98, 0.08627137), (99, -0.006046263), (100, 0.08627136), (101, 0.08621969), (102, 0.11147638), (103, 0.08603365), (104, 0.037978142), (105, 0.14193252), (106, 0.10349388), (107, 0.14003275), (108, 0.08627137), (109, 0.19238828), (110, 0.086317815), (111, 0.0862197), (112, 0.038024433), (113, 0.08638663), (114, 0.08639515), (115, 0.14529245), (116, 0.60649383), (117, 0.08635906), (118, 0.9999824), (119, 0.11202217), (120, 0.13594797), (121, 0.13782275), (122, 0.08635907), (123, 0.14540519), (124, 0.3994927), (125, 0.18119742), (126, 0.08628743), (127, 0.26637307), (128, 0.08621968), (129, 0.39925367), (130, 0.13814737), (131, 0.4753898), (132, 0.08629522), (133, 0.08632862), (134, 0.20627216), (135, 0.48443285), (136, 0.08631783), (137, 0.34592798), (138, 0.11292443), (139, 0.15453982), (140, 0.31592736), (141, 0.08629522), (142, 0.3603366), (143, 0.3690463), (144, 0.09451697), (145, 0.086371675), (146, 0.52540815), (147, 0.2760285), (148, 0.13114263), (149, -0.006046263), (150, -0.006046263), (151, 0.0862197), (152, 0.28430763), (153, 0.08631784), (154, -0.006046263), (155, -0.0060462668), (156, 0.08639515), (157, 0.27090722), (158, 0.2549182), (159, -0.0060462714), (160, -0.006046263), (161, -0.0060462668), (162, -0.006046263), (163, 0.109857135), (164, 0.08635907), (165, 0.16037709), (166, 0.14688198), (167, 0.30580628), (168, 0.08639515), (169, 0.086287424), (170, 0.0863459), (171, 0.12442015), (172, 0.28549674), (173, 0.10328714), (174, 0.32469985), (175, 0.08635906), (176, 0.08627136), (177, 0.9997234), (178, 0.48621204), (179, 0.10942649), (180, 0.08638663), (181, 0.08603368), (182, 0.086359076), (183, 0.13603182), (184, 0.086295225), (185, 0.08638663), (186, 0.08621969), (187, 0.13509573), (188, 0.48610216), (189, 0.54954904), (190, 0.10838092), (191, -0.006046263), (192, 0.3232915), (193, 0.086271375), (194, 0.08631782), (195, 0.08627136), (196, 0.1250159), (197, 0.47880292), (198, 0.13102083), (199, 0.3086937), (200, 0.08627137), (201, 0.10335939), (202, 0.08635906), (203, 0.5640189), (204, -0.006046263), (205, 0.32348928), (206, 0.086317815), (207, 0.12084188), (208, 0.086377755), (209, 0.26681048), (210, 0.11213689), (211, 0.11795639), (212, 0.08639516), (213, 0.086317815), (214, 0.08621969), (215, 0.08635906), (216, 0.086317815), (217, 0.14537087), (218, 0.14758636), (219, 0.086317815), (220, 0.08627136), (221, 0.111966155), (222, 0.08639515), (223, -0.0060462714), (224, 0.13116305), (225, 0.10349387), (226, 0.18175413), (227, 0.08637168), (228, 0.11219981), (229, -0.006046263), (230, 0.8959003), (231, 0.08616283), (232, 0.42102426), (233, 0.0862197), (234, 0.13612571), (235, 0.13898276), (236, 0.23587422), (237, 0.4789166), (238, 0.086317815), (239, 0.48631766), (240, 0.101625316), (241, -0.0060462668), (242, 0.23884575), (243, 0.1894846), (244, 0.086339116), (245, -0.0060462668), (246, 0.14875855), (247, 0.2862111), (248, 0.08635906), (249, 0.08633217), (250, 0.108373076), (251, -0.006046263), (252, 0.104495145), (253, 0.14529248), (254, 0.07591305), (255, 0.08637773), (256, 0.08633217), (257, 0.06742709), (258, 0.12072718), (259, 0.5778012), (260, 0.10450968), (261, 0.086317815), (262, 0.13434812), (263, 0.08635906), (264, 0.30576512), (265, 0.3971331), (266, 0.08637168), (267, 0.08633216), (268, 0.08629521), (269, 0.112061), (270, 0.09875863), (271, 0.10455072), (272, 0.086359076), (273, 0.2777608), (274, -0.006046263), (275, -0.006046263), (276, 0.11209815), (277, 0.4879738), (278, 0.1028757), (279, 0.08619192), (280, 0.3891503), (281, -0.0060462668), (282, 0.10331154), (283, 0.086359054), (284, 0.3030082), (285, 0.14529245), (286, -0.006046263), (287, 0.7180506), (288, 0.08635906), (289, 0.11219981), (290, 0.45944425), (291, 0.086345926), (292, 0.5757544), (293, 0.5465252), (294, 0.08635905), (295, 0.50699717), (296, 0.41465944), (297, 0.396401), (298, 0.08634593), (299, -0.006046263), (300, 0.11207362), (301, 0.3176301), (302, 0.69532853), (303, 0.11209816), (304, 0.10449516), (305, 0.11050199), (306, 0.08638133), (307, 0.43490204), (308, 0.46287075), (309, 0.077229336), (310, 0.086339116), (311, 0.21897872), (312, 0.14533332), (313, 0.08635126), (314, 0.09458606), (315, 0.0863699), (316, 0.10838091), (317, 0.46958834), (318, 0.08627135), (319, -0.006046269), (320, 0.08596141), (321, 0.14871742), (322, 0.11219979), (323, 0.48392963), (324, 0.28852707), (325, 0.086359076), (326, 0.43014985), (327, 0.6521845), (328, 0.5229014), (329, 0.08624616), (330, 0.086317815), (331, 0.08636546), (332, 0.086287424), (333, 0.25502366), (334, 0.11048874), (335, 0.48200047), (336, 0.1420429), (337, 0.08639515), (338, 0.11003186), (339, 0.08629523), (340, 0.11191259), (341, 0.08635905), (342, -0.0060462668), (343, 0.03796232), (344, 0.08610084), (345, 0.086339116), (346, 0.11198164), (347, 0.32739487), (348, 0.1349754), (349, 0.108086795), (350, 0.086359054), (351, 0.111981645), (352, -0.0060462668), (353, -0.006046263), (354, 0.56662965), (355, 0.48532033), (356, 0.11202218), (357, 0.08580155), (358, 0.08639515), (359, 0.111112304), (360, 0.14529246), (361, 0.12942854), (362, 0.0862197), (363, 0.11202219), (364, 0.7868602), (365, 0.6266455), (366, 0.33290565), (367, 0.10940539), (368, 0.22698598), (369, 0.13497542), (370, 0.3282842), (371, 0.1348677), (372, 0.10455072), (373, 0.19077383), (374, 0.31591022), (375, 0.11512169), (376, 0.13114262), (377, 0.26681048), (378, 0.11213368), (379, 0.22042698), (380, 0.26627803), (381, 0.14369242), (382, 0.086317815), (383, 0.1031325), (384, 0.10938223), (385, 0.5440561), (386, 0.14546382), (387, 0.72110933), (388, 0.08621969), (389, 0.112167634), (390, 0.1286504), (391, -0.0060462668), (392, 0.10157403), (393, 0.086317815), (394, 0.10810632), (395, 0.08634592), (396, 0.14524825), (397, 0.111635596), (398, 0.13887648), (399, 0.10335939), (400, 0.4563964), (401, 0.08627136), (402, 0.08596141), (403, 0.08627136), (404, 0.36588344), (405, -0.006046263), (406, 0.10157404), (407, 0.08616283), (408, 0.08637047), (409, 0.45712358), (410, 0.10342833), (411, 0.112060994), (412, 0.12851317), (413, 0.43014976), (414, 0.086219706), (415, 0.086162835), (416, 0.35103196), (417, 0.08637774), (418, 0.28275165), (419, 0.1679215), (420, 0.103555925), (421, 0.4204813), (422, 0.11215086), (423, 0.10335938), (424, 0.086191915), (425, -0.0060462668), (426, 0.14543621), (427, 0.268279), (428, -0.006046263), (429, -0.0060462668), (430, 0.9998447), (431, 0.45810995), (432, 0.10313248), (433, 0.06736441), (434, 0.10219071), (435, 0.13465579), (436, -0.006046263), (437, 0.11407133), (438, 0.10335938), (439, 0.1335738), (440, 0.4221728), (441, -0.006046263), (442, 0.10452381), (443, 0.08627137), (444, 0.086317815), (445, 0.5270836), (446, 0.14861946), (447, 0.10293867), (448, 0.04963833), (449, 0.08633911), (450, 0.08637773), (451, 0.11219981), (452, 0.08635906), (453, 0.28512225), (454, 0.095378056), (455, 0.3318216), (456, 0.085884), (457, 0.10836009), (458, 0.13212022), (459, 0.1311913), (460, 0.414506), (461, 0.108848736), (462, 0.2720538), (463, 0.038024433), (464, 0.14524826), (465, 0.45232132), (466, 0.12836027), (467, -0.0060462668), (468, -0.006046263), (469, 0.20878358), (470, 0.5229014), (471, 0.088680156), (472, 0.08633217), (473, 0.08621969), (474, 0.038013004), (475, 0.08596139), (476, 0.5840492), (477, 0.08153118), (478, -0.0060462668), (479, 0.10328714), (480, 0.10160117), (481, 0.108338475), (482, 0.1603001), (483, 0.13509573), (484, 0.11198166), (485, 0.086371675), (486, 0.13139188), (487, 0.08631783), (488, 0.14108233), (489, 0.10842941), (490, 0.13813727), (491, 0.08633495), (492, 0.28693274), (493, -0.006046263), (494, 0.08635907), (495, 0.08635906), (496, -0.006046263), (497, 0.09539404), (498, 0.11140378), (499, 0.10164394), (500, 0.08627137), (501, 0.038001552), (502, 0.30581188), (503, 0.24029827), (504, 0.5667236), (505, -0.0060462668), (506, 0.35021973), (507, 0.11179626), (508, 0.108316116), (509, 0.11198165), (510, 0.5032107), (511, 0.14063506), (512, 0.08639515), (513, 0.69941777), (514, 0.12207109), (515, 0.08637773), (516, 0.11209816), (517, 0.1454052), (518, 0.1353276), (519, 0.086317815), (520, 0.10335938), (521, 0.13102084), (522, 0.13114262), (523, 0.086317815), (524, 0.08637774), (525, 0.5056146), (526, 0.27714792), (527, 0.15416314), (528, 0.08639515), (529, -0.006046263), (530, 0.08627136), (531, 0.08552383), (532, 0.15139854), (533, 0.08637773), (534, 0.08621969), (535, 0.054790102), (536, 0.10193419), (537, 0.10748399), (538, 0.11209816), (539, 0.08635906), (540, -0.006046263), (541, 0.13362695), (542, 0.7402838), (543, 0.45643854), (544, 0.37073287), (545, 0.14190808), (546, 0.12080329), (547, 0.08639515), (548, 0.20921357), (549, 0.10457589), (550, 0.08619192), (551, 0.26189044), (552, -0.0060462602), (553, 0.48631763), (554, 0.086162835), (555, -0.0060462668), (556, 0.41952682), (557, 0.48069257), (558, 0.037954323), (559, 0.10328714), (560, 0.13112089), (561, 0.08623751), (562, 0.086162835), (563, 0.10328715), (564, 0.10699126), (565, -0.006046263), (566, 0.08639139), (567, 0.10838092), (568, 0.25721255), (569, 0.08635906), (570, 0.3774827), (571, 0.13107347), (572, -0.006046265), (573, 0.108292915), (574, 0.086317815), (575, 0.08635906), (576, 0.09035834), (577, 0.49095768), (578, 0.08637773), (579, 0.086359076), (580, 0.13321827), (581, 0.1429043), (582, 0.15513526), (583, 0.1118733), (584, 0.086162835), (585, 0.08635906), (586, 0.086365454), (587, -0.006046263), (588, 0.1885811), (589, 0.112061), (590, 0.10268807), (591, -0.0060462668), (592, 0.11206098), (593, 0.037774388), (594, 0.4606396), (595, 0.086371675), (596, -0.006046263), (597, 0.086332165), (598, 0.51168853), (599, 0.20970348), (600, 0.081657514), (601, 0.103132494), (602, 0.5666223), (603, 0.115075104), (604, 0.086162835), (605, 0.08629522), (606, 0.1311209), (607, 0.2670115), (608, 0.13209172), (609, 0.41465944), (610, 0.13116305), (611, 0.626784), (612, 0.10349388), (613, 0.52235353), (614, 0.112116165), (615, 0.5630478), (616, 0.152355), (617, 0.10349386), (618, 0.4249672), (619, 0.08634927), (620, 0.3507405), (621, 0.26771146), (622, 0.4828595), (623, -0.006046263), (624, 0.45779717), (625, 0.11137832), (626, -0.006046263), (627, 0.4054031), (628, 0.099195644), (629, 0.086388364), (630, 0.21758738), (631, 0.10349388), (632, 0.08634591), (633, 0.20719245), (634, -0.006046256), (635, 0.15145652), (636, 0.11213376), (637, 0.6050061), (638, 0.086349264), (639, 0.20130605), (640, 0.086359076), (641, 0.55382836), (642, 0.10321152), (643, 0.14546384), (644, 0.08631781), (645, 0.0863837), (646, 0.37076664), (647, 0.08610085), (648, 0.57109004), (649, 0.0862375), (650, 0.086339116), (651, 0.08621971), (652, -0.006046263), (653, 0.54291385), (654, 0.08639515), (655, -0.006046263), (656, 0.36015844), (657, 0.14846714), (658, -0.006046263), (659, 0.086317815), (660, 0.14039311), (661, 0.26698947), (662, 0.086162835), (663, 0.08639515), (664, 0.08634927), (665, 0.086162835), (666, 0.11462574), (667, 0.085961394), (668, 0.086317845), (669, 0.20073606), (670, 0.10444893), (671, 0.08610087), (672, 0.08635907), (673, 0.13213377), (674, 0.08634592), (675, 0.15412657), (676, 0.49086067), (677, 0.34467494), (678, 0.086317815), (679, -0.006046263), (680, 0.086359076), (681, 0.26421267), (682, 0.14529248), (683, 0.103050165), (684, 0.54377806), (685, 0.14319526), (686, 0.08635906), (687, -0.006046263), (688, 0.08627136), (689, 0.10160559), (690, 0.08627136), (691, 0.08639515), (692, -0.006046263), (693, 0.08627136), (694, 0.10342833), (695, 0.25750962), (696, 0.31125912), (697, -0.006046263), (698, 0.11213369), (699, 0.08635906), (700, 0.29641697), (701, 0.11216764), (702, 0.47885814), (703, -0.006046263), (704, -0.0060462668), (705, 0.104563534), (706, -0.006046263), (707, 0.10156295), (708, 0.08635906), (709, 0.47550413), (710, 0.106018126), (711, 0.08610084), (712, 0.10998859), (713, 0.31003636), (714, 0.17515656), (715, -0.006046263), (716, 0.11215929), (717, 0.6043124), (718, 0.22086117), (719, 0.10455072), (720, 0.086343184), (721, 0.30566478), (722, 0.5255292), (723, 0.13503887), (724, 0.115862384), (725, 0.086191915), (726, 0.18791784), (727, 0.10342832), (728, 0.13876274), (729, 0.09449947), (730, 0.058401603), (731, 0.08610084), (732, 0.15392067), (733, 0.3174481), (734, -0.006046263), (735, 0.32444426), (736, 0.08631782), (737, 0.101584844), (738, 0.120758906), (739, 0.31653464), (740, 0.08635906), (741, 0.17633024), (742, 0.11206102), (743, -0.0060462668), (744, 0.6454033), (745, 0.2892887), (746, -0.0060462668), (747, 0.11211618), (748, 0.14364327), (749, 0.13114262), (750, 0.13503887), (751, 0.10985292), (752, 0.086345896), (753, 0.086359054), (754, 0.1320292), (755, -0.006046263), (756, 0.08621969), (757, -0.0060462668), (758, 0.44114897), (759, 0.08637774), (760, 0.081657514), (761, 0.086317815), (762, 0.08629522), (763, 0.10161558), (764, 0.08633216), (765, 0.15419817), (766, 0.0986048), (767, 0.1032115), (768, 0.08627136), (769, 0.32953683), (770, 0.08635905), (771, 0.104480125), (772, 0.08627136), (773, 0.13262837), (774, 0.1027835), (775, 0.24693832), (776, 0.08634928), (777, 0.20272821), (778, -0.006046263), (779, 0.11142855), (780, 0.11219315), (781, 0.08635906), (782, 0.51095533), (783, 0.086366706), (784, 0.3349963), (785, 0.101574026), (786, 0.086317815), (787, 0.08627136), (788, 0.41480434), (789, 0.1338779), (790, -0.006046263), (791, 0.21734901), (792, 0.5862775), (793, 0.2688849), (794, 0.09086496), (795, -0.006046263), (796, 0.08633911), (797, 0.41923612), (798, 0.08944671), (799, 0.1140349), (800, 0.13465579), (801, 0.11206097), (802, 0.08631783), (803, 0.08616284), (804, 0.15584563), (805, 0.10836008), (806, 0.109838076), (807, 0.13109778), (808, 0.26144338), (809, 0.11202217), (810, 0.5546351), (811, 0.08627136), (812, 0.183794), (813, 0.10101129), (814, 0.08627136), (815, 0.11209816), (816, 0.08588401), (817, 0.110023335), (818, 0.086339116), (819, 0.3965037), (820, 0.12812185), (821, 0.10828109), (822, 0.14574613), (823, 0.11140379), (824, 0.111850284), (825, 0.086383685), (826, 0.086317815), (827, 0.11403487), (828, 0.06743748), (829, 0.102968246), (830, 0.08635906), (831, 0.08635906), (832, 0.10816535), (833, 0.08621969), (834, -0.006046263), (835, 0.32605278), (836, 0.10158483), (837, 0.08629057), (838, 0.71613604), (839, 0.08684948), (840, 0.0862197), (841, 0.08610087), (842, 0.08634929), (843, 0.1312165), (844, 0.086317815), (845, 0.086317815), (846, -0.0060462668), (847, 0.24753506), (848, 0.08627136), (849, 0.11563825), (850, 0.43985212), (851, 0.120014064), (852, 0.13376847), (853, 0.086246155), (854, 0.25261307), (855, -0.006046263), (856, 0.08633911), (857, 0.10826893), (858, 0.08603367), (859, 0.31220382), (860, 0.08635906), (861, 0.41952682), (862, 0.08635906), (863, -0.0060462668), (864, -0.006046263), (865, 0.08610086), (866, 0.11198164), (867, 0.31143492), (868, 0.10436329), (869, 0.40239224), (870, 0.17495953), (871, 0.1312), (872, 0.12209261), (873, 0.14533328), (874, 0.3003302), (875, 0.482019), (876, 0.3123887), (877, 0.10163477), (878, 0.120864496), (879, -0.006046263), (880, -0.006046263), (881, 0.13408364), (882, 0.35428086), (883, 0.08635906), (884, 0.4463101), (885, 0.1789559), (886, -0.0060462668), (887, -0.006046263), (888, 0.12658234), (889, -0.006046265), (890, 0.12810111), (891, 0.10626866), (892, 0.08632863), (893, -0.006046263), (894, 0.153965), (895, 0.12085355), (896, 0.08632654), (897, 0.14529246), (898, 0.081657514), (899, 0.13397394), (900, -0.006046265), (901, 0.44587383), (902, 0.05948879), (903, 0.5667236), (904, 0.086219706), (905, 0.5666804), (906, 0.03790524), (907, 0.11170423), (908, 0.14356479), (909, 0.054766715), (910, 0.16686133), (911, 0.14509585), (912, 0.1512427), (913, -0.006046256), (914, 0.12381971), (915, 0.08629523), (916, 0.1630741), (917, 0.08635126), (918, 0.08635908), (919, 0.10838091), (920, 0.21060352), (921, 0.11932702), (922, 0.10296459), (923, 0.13894905), (924, 0.08621968), (925, 0.10634696), (926, 0.086162835), (927, 0.09165989), (928, 0.33644956), (929, 0.08633911), (930, 0.037879985), (931, 0.086332165), (932, -0.0060462668), (933, -0.006046264), (934, -0.0060462668), (935, 0.13207674), (936, 0.10833845), (937, 0.038024433), (938, 0.3759153), (939, 0.108338475), (940, 0.11213369), (941, 0.3244516), (942, 0.10837067), (943, 0.1031325), (944, 0.08621969), (945, 0.11050199), (946, 0.103555925), (947, 0.086339116), (948, 0.15959817), (949, 0.21868107), (950, 0.08621969), (951, 0.15412657), (952, 0.111981645), (953, 0.48616192), (954, 0.13201247), (955, 0.086359054), (956, 0.10161002), (957, 0.8281992), (958, 0.28754827), (959, 0.085884005), (960, -0.0060462668), (961, 0.08635906), (962, 0.2694459), (963, 0.41156948), (964, 0.08629524), (965, 0.5229014), (966, 0.08633912), (967, 0.48606846), (968, 0.10349388), (969, 0.13500795), (970, -0.006046265), (971, 0.34280348), (972, 0.41190246), (973, 0.103132494), (974, 0.45836717), (975, 0.17291266), (976, 0.07554294), (977, -0.0060462668), (978, 0.11147638), (979, 0.086317815), (980, 0.09962003), (981, 0.10448011), (982, 0.27721813), (983, 0.1193189), (984, 0.07911867), (985, 0.14863072), (986, 0.086339116), (987, 0.10842021), (988, 0.106330365), (989, 0.124702565), (990, 0.11241125), (991, 0.086377755), (992, 0.12078918), (993, 0.1328863), (994, 0.47552994), (995, 0.3830808), (996, 0.08629983), (997, 0.086219706), (998, 0.13120002), (999, 0.0863667), (1000, 0.0863459), (1001, 0.086219706), (1002, 0.08616284), (1003, 0.3253094), (1004, 0.09083586), (1005, 0.08635905), (1006, -0.006046263), (1007, 0.22343744), (1008, 0.51930964), (1009, 0.1486195), (1010, 0.086317815), (1011, -0.0060462668), (1012, 0.5159509), (1013, 0.086359076), (1014, 0.13850656), (1015, 0.10446472), (1016, 0.2040169), (1017, -0.0060462668), (1018, 0.41642824), (1019, 0.20934029), (1020, -0.006046263), (1021, 0.111298375), (1022, 0.13102084), (1023, 0.086271375), (1024, 0.15063865), (1025, 0.08631782), (1026, 0.27609876), (1027, 0.43688405), (1028, 0.10313248), (1029, 0.2053066), (1030, 0.2674143), (1031, 0.08638369), (1032, 0.111917816), (1033, 0.08631782), (1034, 0.08635906), (1035, -0.006046263), (1036, 0.13121648), (1037, 0.10349389), (1038, 0.106210865), (1039, 0.11226169), (1040, 0.20205764), (1041, -0.006046263), (1042, 0.086339116), (1043, 0.11193954), (1044, 0.104495145), (1045, 0.101478025), (1046, 0.14529246), (1047, 0.107123755), (1048, 0.1104333), (1049, -0.0060462668), (1050, 0.11551341), (1051, -0.0060462668), (1052, 0.08621969), (1053, 0.086377755), (1054, 0.15879697), (1055, 0.086359076), (1056, 0.086317815), (1057, 0.10605183), (1058, 0.085884), (1059, 0.3269113), (1060, 0.38021442), (1061, 0.086271375), (1062, 0.38462958), (1063, 0.29145914), (1064, -0.0060462714), (1065, 0.3298382), (1066, 0.120864496), (1067, 0.054835103), (1068, 0.112591915), (1069, 0.31907025), (1070, -0.006046265), (1071, 0.08627137), (1072, 0.08635906), (1073, 0.08639516), (1074, 0.10449512), (1075, 0.30017784), (1076, 0.47451314), (1077, 0.10989623), (1078, 0.10742276), (1079, 0.08603365), (1080, 0.08639515), (1081, 0.35414436), (1082, 0.08627136), (1083, 0.47002968), (1084, 0.79408777), (1085, 0.30632618), (1086, 0.1337685), (1087, -0.0060462668), (1088, 0.1487386), (1089, 0.25179487), (1090, 0.13482863), (1091, 0.5695487), (1092, -0.006046263), (1093, 0.08603368), (1094, 0.14693525), (1095, 0.0954379), (1096, 0.120016634), (1097, 0.08639515), (1098, 0.20530702), (1099, 0.086317815), (1100, 0.08619192), (1101, 0.086317815), (1102, 0.10755138), (1103, 0.08624618), (1104, 0.08635906), (1105, 0.14206253), (1106, 0.13527745), (1107, 0.08631782), (1108, -0.006046263), (1109, 0.13503887), (1110, 0.08631782), (1111, 0.21561228), (1112, -0.006046263), (1113, 0.13104786), (1114, 0.08627136), (1115, 0.10448012), (1116, 0.13114262), (1117, 0.14756005), (1118, 0.08638369), (1119, -0.0060462668), (1120, 0.08635906), (1121, 0.08637774), (1122, 0.11213368), (1123, -0.006046263), (1124, -0.006046263), (1125, 0.08627136), (1126, 0.06918928), (1127, 0.10160558), (1128, 0.08621969), (1129, 0.18972073), (1130, 0.2592792), (1131, 0.08621969), (1132, 0.24711673), (1133, -0.0060462668), (1134, 0.08616286), (1135, 0.4060519), (1136, 0.13118221), (1137, 0.086332165), (1138, 0.10839102), (1139, 0.14524828), (1140, 0.14524826), (1141, 0.1312), (1142, 0.112133704), (1143, 0.1632512), (1144, 0.08637774), (1145, 0.10455071), (1146, 0.45966575), (1147, 0.086359076), (1148, 0.3729929), (1149, 0.08603368), (1150, 0.10156296), (1151, 0.08610086), (1152, 0.15570666), (1153, -0.006046263), (1154, 0.086219706), (1155, -0.006046263), (1156, 0.2549992), (1157, 0.5102627), (1158, 0.11211617), (1159, 0.15215872), (1160, 0.08508436), (1161, 0.108438626), (1162, 0.06744726), (1163, 0.13486771), (1164, 0.08635907), (1165, 0.32649344), (1166, 0.10938223), (1167, 0.13116305), (1168, 0.10313248), (1169, 0.13482866), (1170, 0.086219706), (1171, 0.14529248), (1172, 0.08596141), (1173, 0.08634592), (1174, 0.08627136), (1175, 0.6622879), (1176, 0.15487103), (1177, 0.08610086), (1178, 0.10836009), (1179, 0.11219981), (1180, -0.0060462668), (1181, 0.10452381), (1182, -0.006046263), (1183, 0.56959397), (1184, 0.08624618), (1185, 0.086317815), (1186, 0.08621969), (1187, 0.08638033), (1188, 0.11568323), (1189, 0.08630292), (1190, 0.08610084), (1191, 0.13323285), (1192, -0.0060462668), (1193, 0.10296248), (1194, -0.0060462602), (1195, -0.006046263), (1196, 0.08635907), (1197, 0.37265614), (1198, 0.10824423), (1199, 0.12481161), (1200, 0.15626696), (1201, 0.13116305), (1202, 0.13434814), (1203, 0.08637168), (1204, 0.12077437), (1205, 0.67351425), (1206, 0.08610085), (1207, -0.006046263), (1208, 0.086295225), (1209, 0.08970741), (1210, -0.006046263), (1211, 0.081657514), (1212, 0.4669925), (1213, 0.08624613), (1214, 0.14856249), (1215, 0.086317815), (1216, 0.112150855), (1217, -0.0060462668), (1218, 0.08635906), (1219, 0.086383685), (1220, 0.11198163), (1221, -0.0060462602), (1222, 0.08627136), (1223, 0.086339116), (1224, 0.08639516), (1225, 0.069156975), (1226, 0.08635905), (1227, -0.006046263), (1228, 0.10941968), (1229, 0.08610086), (1230, -0.006046263), (1231, 0.08628743), (1232, 0.1310978), (1233, 0.10836008), (1234, 0.1312), (1235, 0.08627137), (1236, 0.4329436), (1237, -0.006046263), (1238, 0.24205315), (1239, 0.08633912), (1240, 0.089683), (1241, 0.10159536), (1242, 0.08634591), (1243, 0.08634591), (1244, 0.086377755), (1245, 0.38766068), (1246, 0.08635904), (1247, 0.40791395), (1248, 0.08635906), (1249, 0.29079044), (1250, 0.091815576), (1251, 0.6912262), (1252, 0.14542113), (1253, 0.06292762), (1254, 0.08639516), (1255, 0.1450385), (1256, 0.5490606), (1257, 0.14812526), (1258, 0.513364), (1259, 0.08633911), (1260, 0.10941967), (1261, 0.14418055), (1262, 0.31190524), (1263, 0.13118222), (1264, 0.14529248), (1265, 0.1208297), (1266, -0.006046263), (1267, 0.08627136), (1268, 0.10160557), (1269, 0.3587586), (1270, 0.1420429), (1271, -0.006046263), (1272, 0.08636857), (1273, -0.006046263), (1274, 0.1311209), (1275, 0.08639515), (1276, 0.08629522), (1277, 0.086317815), (1278, 0.12904043), (1279, -0.006046263), (1280, 0.10305014), (1281, 0.086287424), (1282, 0.086219706), (1283, 0.43635547), (1284, 0.08627137), (1285, -0.0060462714), (1286, 0.086317815), (1287, -0.0060462668), (1288, 0.3716947), (1289, 0.29259515), (1290, 0.08631781), (1291, 0.08635906), (1292, -0.0060462714), (1293, 0.1312), (1294, 0.2557797), (1295, 0.39077798), (1296, 0.6629799), (1297, 0.06740712), (1298, 0.1346558), (1299, 0.0856214), (1300, 0.12207109), (1301, 0.08629523), (1302, 0.086295225), (1303, -0.006046263), (1304, 0.25474355), (1305, 0.08636454), (1306, -0.006046263), (1307, 0.095367), (1308, 0.03800154), (1309, -0.006046264), (1310, -0.006046263), (1311, -0.0060462602), (1312, 0.1380789), (1313, 0.11399259), (1314, 0.086246155), (1315, 0.14867108), (1316, 0.08631781), (1317, 0.086317815), (1318, 0.08621969), (1319, 0.089701444), (1320, 0.13116303), (1321, 0.08627136), (1322, 0.14529246), (1323, 0.08621969), (1324, 0.08637168), (1325, 0.13503885), (1326, 0.090745665), (1327, 0.13116305), (1328, 0.38777545), (1329, 0.27570465), (1330, 0.14542633), (1331, 0.08629522), (1332, 0.13890614), (1333, 0.4183149), (1334, 0.1594185), (1335, 0.08596141), (1336, 0.12207109), (1337, 0.14533325), (1338, 0.085884), (1339, -0.0060462668), (1340, -0.006046263), (1341, 0.08627137), (1342, 0.08625471), (1343, 0.08628347), (1344, 0.086299844), (1345, 0.08629521), (1346, 0.086377755), (1347, 0.74222904), (1348, 0.15819387), (1349, 0.10836008), (1350, 0.086219706), (1351, 0.13506818), (1352, 0.13099313), (1353, 0.2973821), (1354, 0.085884), (1355, -0.006046263), (1356, 0.08627136), (1357, 0.10455071), (1358, 0.70545334), (1359, -0.006046263), (1360, 0.5666223), (1361, 0.08635906), (1362, 0.10826894), (1363, 0.33975574), (1364, 0.49942943), (1365, -0.0060462668), (1366, 0.08621969), (1367, 0.0862197), (1368, 0.13495274), (1369, 0.23060054), (1370, -0.0060462714), (1371, 0.13102081), (1372, 0.10157405), (1373, 0.66786087), (1374, -0.006046263), (1375, 0.08627137), (1376, 0.08628743), (1377, -0.006046263), (1378, 0.7610614), (1379, 0.15423162), (1380, 0.31972095), (1381, 0.08603368), (1382, 0.11198166), (1383, 0.32539752), (1384, 0.08616284), (1385, 0.7093727), (1386, -0.0060462654), (1387, 0.10352789), (1388, 0.08621969), (1389, 0.13490526), (1390, 0.36873764), (1391, 0.11406277), (1392, 0.037774354), (1393, 0.08634593), (1394, 0.09065183), (1395, 0.08633911), (1396, 0.08627136), (1397, 0.1349754), (1398, -0.006046263), (1399, 0.08630294), (1400, 0.19956155), (1401, 0.08627137), (1402, 0.109397896), (1403, 0.0906935), (1404, 0.086377755), (1405, 0.086317815), (1406, -0.0060462668), (1407, 0.086383685), (1408, 0.25115654), (1409, 0.08634591), (1410, -0.006046263), (1411, -0.0060462714), (1412, 0.08631047), (1413, 0.08631781), (1414, 0.08635123), (1415, 0.12080331), (1416, 0.08631782), (1417, 0.10842942), (1418, 0.68791825), (1419, 0.10637846), (1420, 0.086377755), (1421, 0.07355766), (1422, 0.1961587), (1423, 0.08621969), (1424, 0.42968515), (1425, 0.13116305), (1426, 0.38084063), (1427, 0.14757335), (1428, 0.08610087), (1429, 0.08621969), (1430, 0.40989587), (1431, 0.1247921), (1432, -0.006046263), (1433, 0.14533328), (1434, 0.3015677), (1435, 0.13509573), (1436, 0.2862829), (1437, 0.11405384), (1438, -0.0060462714), (1439, 0.18045403), (1440, -0.0060462668), (1441, 0.14324258), (1442, 0.08639515), (1443, 0.13109778), (1444, -0.006046263), (1445, 0.10836008), (1446, 0.13465579), (1447, 0.13497542), (1448, 0.10158484), (1449, 0.4235651), (1450, 0.08603367), (1451, 0.08637413), (1452, 0.086317815), (1453, 0.14529248), (1454, 0.08637773), (1455, 0.36344132), (1456, 0.66043556), (1457, 0.08621969), (1458, -0.006046265), (1459, 0.1349754), (1460, 0.086351246), (1461, 0.11053981), (1462, -0.006046263), (1463, 0.27615958), (1464, 0.1311426), (1465, -0.006046263), (1466, 0.13482864), (1467, 0.13465573), (1468, 0.086377755), (1469, 0.2599601), (1470, 0.07374594), (1471, 0.07358147), (1472, 0.08635907), (1473, 0.12082971), (1474, 0.13502356), (1475, 0.13474551), (1476, 0.08606791), (1477, 0.08633216), (1478, 0.11193954), (1479, 0.12463169), (1480, -0.006046265), (1481, 0.086205974), (1482, 0.08634925), (1483, 0.10158482), (1484, 0.08635907), (1485, 0.110539794), (1486, 0.09387229), (1487, 0.39357138), (1488, 0.08588402), (1489, 0.13102086), (1490, 0.08639514), (1491, 0.03801875), (1492, 0.08635908), (1493, 0.3862332), (1494, -0.006046269), (1495, 0.08631781), (1496, 0.08635908), (1497, 0.08633218), (1498, 0.086162835), (1499, 0.13455977), (1500, 0.1454504), (1501, 0.12503968), (1502, 0.5640189), (1503, -0.006046263), (1504, 0.08633217), (1505, 0.3415218), (1506, 0.085961394), (1507, -0.006046263), (1508, 0.40114984), (1509, 0.14888282), (1510, 0.08635905), (1511, 0.08639515), (1512, 0.0862197), (1513, -0.006046263), (1514, 0.08627136), (1515, 0.30740783), (1516, 0.52071035), (1517, -0.006046263), (1518, -0.0060462668), (1519, 0.086283475), (1520, 0.08610086), (1521, -0.0060462668), (1522, 0.13118221), (1523, 0.086371675), (1524, -0.0060462668), (1525, 0.13114262), (1526, 0.3581972), (1527, -0.006046265), (1528, 0.8191445), (1529, 0.108304575), (1530, -0.0060462654), (1531, 0.1631677), (1532, 0.08637168), (1533, 0.10455072), (1534, 0.08633913), (1535, 0.104537465), (1536, 0.08635906), (1537, -0.006046263), (1538, 0.086363874), (1539, 0.086317815), (1540, 0.69263184), (1541, 0.26355428), (1542, -0.006046263), (1543, 0.11621753), (1544, 0.08635907), (1545, 0.10938224), (1546, 0.08635906), (1547, 0.086162835), (1548, -0.006046263), (1549, 0.08637168), (1550, -0.0060462668), (1551, -0.006046263), (1552, 0.08634786), (1553, 0.103132494), (1554, 0.11209815), (1555, 0.037993778), (1556, 0.086339116), (1557, 0.0862197), (1558, 0.34680778), (1559, 0.108360074), (1560, 0.08639515), (1561, 0.08616288), (1562, 0.13119999), (1563, 0.14514995), (1564, 0.11400371), (1565, 0.11404454), (1566, 0.086377755), (1567, 0.12544276), (1568, 0.14537089), (1569, 0.08637773), (1570, 0.08603367), (1571, 0.08635906), (1572, 0.10328716), (1573, 0.21677707), (1574, 0.08627136), (1575, 0.08621968), (1576, 0.37372115), (1577, 0.08627137), (1578, 0.0863391), (1579, -0.006046265), (1580, 0.08638662), (1581, 0.086162835), (1582, 0.0862197), (1583, 0.11040387), (1584, 0.12203482), (1585, 0.08631781), (1586, 0.08638369), (1587, 0.08638133), (1588, 0.10162532), (1589, -0.0060462714), (1590, 0.08627137), (1591, 0.08629522), (1592, 0.5666918), (1593, 0.081456155), (1594, 0.08633913), (1595, 0.13123178), (1596, 0.13118221), (1597, -0.006046263), (1598, 0.09941021), (1599, 0.14533328), (1600, 0.08610087), (1601, 0.08633495), (1602, 0.12082969), (1603, -0.006046263), (1604, 0.08627136), (1605, 0.13503887), (1606, 0.08571396), (1607, 0.08162894), (1608, 0.13497542), (1609, -0.006046263), (1610, 0.08637168), (1611, 0.08635906), (1612, 0.33872333), (1613, 0.14718278), (1614, 0.10444894), (1615, 0.120841905), (1616, 0.086353496), (1617, 0.11399258), (1618, 0.086349286), (1619, 0.5870648), (1620, 0.13503887), (1621, 0.13112089), (1622, 0.4517705), (1623, 0.28308052), (1624, 0.103359394), (1625, 0.08631784), (1626, -0.006046265), (1627, 0.101562954), (1628, 0.108918056), (1629, 0.086308986), (1630, 0.086328626), (1631, 0.08635906), (1632, 0.08603365), (1633, -0.0060462654), (1634, 0.2553513), (1635, 0.086246185), (1636, 0.08621969), (1637, 0.11213371), (1638, 0.48625264), (1639, 0.08619191), (1640, 0.086317815), (1641, 0.06739316), (1642, 0.08639515), (1643, 0.08639515), (1644, 0.3414298), (1645, 0.08610085), (1646, -0.0060462602), (1647, -0.006046263), (1648, 0.08627137), (1649, 0.08636669), (1650, -0.006046263), (1651, 0.086317815), (1652, 0.0862197), (1653, 0.2351037), (1654, 0.429561), (1655, 0.05178305), (1656, 0.13109782), (1657, 0.8188763), (1658, -0.006046263), (1659, 0.13497542), (1660, -0.0060462714), (1661, 0.0862197), (1662, 0.086317815), (1663, 0.2321068), (1664, 0.086359054), (1665, 0.10603887), (1666, 0.38039258), (1667, -0.006046263), (1668, 0.14545041), (1669, 0.12179093), (1670, 0.08625472), (1671, 0.237325), (1672, 0.08627137), (1673, 0.12432301), (1674, 0.15056743), (1675, 0.11140377), (1676, 0.153965), (1677, 0.086317815), (1678, 0.10450969), (1679, 0.08630293), (1680, 0.112098165), (1681, 0.086100854), (1682, 0.08635906), (1683, 0.10449512), (1684, 0.18129374), (1685, 0.08149465), (1686, -0.006046263), (1687, 0.1356328), (1688, 0.1348286), (1689, 0.11407954), (1690, -0.006046265), (1691, 0.81871825), (1692, 0.1449778), (1693, 0.14856252), (1694, -0.006046263), (1695, -0.0060462668), (1696, 0.086317815), (1697, 0.17022522), (1698, 0.11511428), (1699, 0.28847057), (1700, 0.097758986), (1701, 0.08627136), (1702, 0.07352003), (1703, 0.101595365), (1704, 0.08610084), (1705, 0.0893418), (1706, 0.08596139), (1707, 0.086317815), (1708, 0.120742895), (1709, 0.08621969), (1710, 0.086317815), (1711, -0.006046263), (1712, 0.6932067), (1713, 0.085961424), (1714, 0.086339116), (1715, 0.11248746), (1716, 0.2905942), (1717, 0.112098165), (1718, 0.086317815), (1719, 0.32393646), (1720, 0.11402484), (1721, 0.62669075), (1722, 0.13423283), (1723, -0.0060462668), (1724, 0.08627136), (1725, 0.086162835), (1726, 0.1343482), (1727, 0.08580154), (1728, 0.08638663), (1729, 0.108400926), (1730, 0.08634592), (1731, 0.08610087), (1732, 0.086317815), (1733, 0.111325614), (1734, 0.114044525), (1735, 0.086317815), (1736, 0.1454052), (1737, 0.08637773), (1738, 0.10332368), (1739, 0.08635906), (1740, 0.08596139), (1741, 0.10840094), (1742, 0.086332165), (1743, 0.086345926), (1744, 0.086317815), (1745, 0.086317815), (1746, 0.08616283), (1747, 0.7012253), (1748, 0.08637168), (1749, 0.112107456), (1750, 0.086317815), (1751, 0.35896334), (1752, 0.2744838), (1753, 0.4519099), (1754, 0.11405384), (1755, -0.006046263), (1756, 0.08637412), (1757, 0.60991114), (1758, 0.08635907), (1759, 0.23939623), (1760, -0.006046263), (1761, 0.41340894), (1762, 0.086317815), (1763, 0.102382205), (1764, 0.086371675), (1765, 0.11211026), (1766, 0.14533325), (1767, 0.14871742), (1768, 0.086359054), (1769, 0.35750598), (1770, 0.08633911), (1771, 0.14533326), (1772, 0.08637773), (1773, 0.086317815), (1774, 0.5712391), (1775, 0.08637168), (1776, -0.006046263), (1777, 0.13509573), (1778, 0.086287424), (1779, 0.08580155), (1780, 0.19616915), (1781, 0.6267551), (1782, 0.086330146), (1783, 0.08603368), (1784, 0.26618898), (1785, 0.08624615), (1786, 0.09080369), (1787, 0.101562284), (1788, 0.11213368), (1789, 0.086339116), (1790, 0.104415916), (1791, 0.14077176), (1792, -0.006046263), (1793, 0.3165763), (1794, 0.28422984), (1795, 0.08621968), (1796, 0.13445725), (1797, 0.13109778), (1798, 0.58700895), (1799, 0.14520073), (1800, -0.006046263), (1801, 0.12082972), (1802, 0.086271375), (1803, 0.23673978), (1804, 0.33241367), (1805, 0.14538845), (1806, 0.40071547), (1807, 0.47544408), (1808, 0.090789914), (1809, 0.086339116), (1810, 0.24059874), (1811, -0.006046269), (1812, 0.08634591), (1813, 0.10053806), (1814, 0.13474552), (1815, -0.006046269), (1816, 0.086381346), (1817, 0.08627136), (1818, 0.108338475), (1819, 0.114014514), (1820, 0.13474551), (1821, 0.28617573), (1822, 0.6266455), (1823, 0.07336125), (1824, -0.006046265), (1825, 0.14491405), (1826, 0.11209816), (1827, 0.14533325), (1828, 0.08610086), (1829, 0.08634591), (1830, -0.006046263), (1831, 0.19901292), (1832, 0.08635906), (1833, 0.08627136), (1834, 0.32802927), (1835, 0.109310195), (1836, 0.18216105), (1837, 0.12228675), (1838, 0.08571395), (1839, 0.16844788), (1840, 0.10446473), (1841, -0.006046263), (1842, 0.086295225), (1843, -0.006046263), (1844, 0.12890723), (1845, 0.35711586), (1846, 0.3154371), (1847, 0.20699315), (1848, 0.09065186), (1849, 0.08630295), (1850, 0.08634592), (1851, 0.42654407), (1852, 0.08128236), (1853, 0.13107349), (1854, 0.12081058), (1855, 0.09034342), (1856, 0.13490523), (1857, 0.10154006), (1858, -0.0060462714), (1859, 0.08629521), (1860, 0.5636692), (1861, 0.10826894), (1862, 0.13497542), (1863, 0.099426314), (1864, 0.08603368), (1865, 0.5232526), (1866, 0.06451296), (1867, -0.0060462668), (1868, 0.08627137), (1869, 0.086219706), (1870, 0.086339116), (1871, 0.117623374), (1872, 0.14520073), (1873, 0.086191915), (1874, 0.23896438), (1875, 0.0862197), (1876, 0.13503887), (1877, -0.006046263), (1878, 0.086368576), (1879, 0.1454052), (1880, 0.10161556), (1881, 0.13116303), (1882, 0.2904871), (1883, 0.104509674), (1884, -0.0060462668), (1885, 0.086345926), (1886, 0.0863432), (1887, 0.13210617), (1888, 0.4860325), (1889, 0.103555925), (1890, 0.08603367), (1891, 0.10838093), (1892, 0.086317815), (1893, 0.12472671), (1894, 0.38558048), (1895, 0.11202218), (1896, 0.1467955), (1897, -0.0060462668), (1898, 0.086317815), (1899, 0.081065096), (1900, -0.0060462654), (1901, 0.086359054), (1902, 0.086317815), (1903, 0.086219706), (1904, 0.099441774), (1905, 0.0691235), (1906, 0.0815312), (1907, 0.085884005), (1908, 0.43385133), (1909, 0.08631784), (1910, -0.0060462668), (1911, 0.08728151), (1912, 0.08633912), (1913, 0.09078992), (1914, 0.5232711), (1915, 0.099418364), (1916, 0.08610087), (1917, -0.006046263), (1918, 0.1094054), (1919, 0.08631781), (1920, 0.08635905), (1921, 0.086317815), (1922, 0.0862197), (1923, 0.13523404), (1924, 0.08624617), (1925, 0.37848204), (1926, 0.08633216), (1927, 0.09074565), (1928, 0.124760695), (1929, 0.086317815), (1930, 0.08610087), (1931, 0.08627137), (1932, 0.13102083), (1933, 0.14537089), (1934, 0.40958366), (1935, 0.086317815), (1936, 0.08638948), (1937, 0.61119795), (1938, 0.13486773), (1939, 0.086351246), (1940, 0.08627137), (1941, 0.41990173), (1942, 0.14206254), (1943, 0.111112304), (1944, 0.5693837), (1945, 0.085884005), (1946, 0.46108884), (1947, 0.08621969), (1948, 0.112060994), (1949, 0.08627137), (1950, 0.3997001), (1951, 0.08631781), (1952, 0.10386944), (1953, 0.080082305), (1954, -0.006046263), (1955, 0.237172), (1956, 0.086246155), (1957, 0.08633913), (1958, 0.08635906), (1959, 0.08630668), (1960, 0.1375107), (1961, 0.13482863), (1962, 0.08621968), (1963, 0.08636388), (1964, 0.08627135), (1965, 0.26538035), (1966, 0.10824422), (1967, 0.086339116), (1968, 0.26681048), (1969, -0.006046263), (1970, 0.104509674), (1971, 0.120829694), (1972, 0.1311426), (1973, 0.1454052), (1974, -0.0060462714), (1975, -0.006046263), (1976, 0.11044759), (1977, 0.086377755), (1978, 0.086328626), (1979, 0.13474551), (1980, 0.085961424), (1981, 0.15416314), (1982, 0.10721464), (1983, 0.21495266), (1984, 0.12078919), (1985, 0.22767864), (1986, 0.30137956), (1987, 0.08610087), (1988, 0.11213369), (1989, -0.006046263), (1990, 0.14540519), (1991, 0.086317815), (1992, 0.13109781), (1993, 0.08621969), (1994, 0.08637168), (1995, 0.086162835), (1996, 0.13107347), (1997, -0.0060462654), (1998, -0.006046263), (1999, 0.12070885), (2000, 0.22563197), (2001, 0.12080331), (2002, 0.09117379), (2003, 0.14182977), (2004, 0.086317815), (2005, 0.086345896), (2006, 0.14543621), (2007, 0.08638662), (2008, 0.08635906), (2009, 0.13096309), (2010, -0.006046263), (2011, 0.110514864), (2012, 0.081598364), (2013, 0.086383685), (2014, 0.097752325), (2015, 0.1084202), (2016, 0.08580154), (2017, 0.103559904), (2018, 0.13843143), (2019, -0.006046263), (2020, -0.0060462668), (2021, 0.28543422), (2022, 0.086377755), (2023, 0.08635906), (2024, 0.14543621), (2025, 0.13120845), (2026, 0.12082972), (2027, 0.086377755), (2028, 0.08637777), (2029, -0.006046263), (2030, 0.14209351), (2031, 0.5157275), (2032, 0.1349754), (2033, 0.086201325), (2034, 0.10162533), (2035, 0.086334944), (2036, 0.0862197), (2037, 0.08627136), (2038, 0.10840093), (2039, 0.086359054), (2040, 0.14693475), (2041, 0.08632863), (2042, 0.49852207), (2043, 0.38081628), (2044, 0.086317815), (2045, 0.15948138), (2046, -0.006046263), (2047, 0.08603368), (2048, 0.09939335), (2049, 0.086246155), (2050, 0.086162835), (2051, 0.10248759), (2052, 0.08630673), (2053, 0.14861669), (2054, 0.0863667), (2055, 0.5994435), (2056, 0.08349039), (2057, 0.11142853), (2058, 0.038024433), (2059, 0.08637168), (2060, 0.085961424), (2061, 0.08621969), (2062, 0.08635906), (2063, 0.13503884), (2064, 0.12813188), (2065, 0.08624614), (2066, 0.14859164), (2067, 0.08627137), (2068, 0.08635906), (2069, 0.14537087), (2070, -0.006046263), (2071, 0.08629521), (2072, 0.08639515), (2073, 0.08630291), (2074, 0.08631781), (2075, 0.12082971), (2076, 0.1140538), (2077, 0.08627136), (2078, 0.08634591), (2079, 0.10321152), (2080, 0.10441594), (2081, 0.5969526), (2082, -0.006046263), (2083, 0.51020485), (2084, 0.5899585), (2085, -0.0060462668), (2086, 0.0862197), (2087, 0.08627136), (2088, 0.14533328), (2089, 0.11055188), (2090, 0.13423283), (2091, 0.20870566), (2092, 0.086371675), (2093, 0.1452925), (2094, 0.14533328), (2095, 0.108316116), (2096, 0.086191915), (2097, -0.006046263), (2098, 0.09589153), (2099, -0.0060462668), (2100, 0.14540522), (2101, 0.1863126), (2102, 0.0863459), (2103, 0.13121648), (2104, 0.26560965), (2105, 0.09937573), (2106, 0.108373076), (2107, 0.20915557), (2108, 0.304835), (2109, 0.12084784), (2110, 0.08627136), (2111, 0.08639515), (2112, -0.006046263), (2113, -0.006046265), (2114, -0.006046263), (2115, -0.0060462668), (2116, -0.006046263), (2117, 0.0863542), (2118, 0.10443266), (2119, 0.33793533), (2120, 0.08637773), (2121, 0.4237773), (2122, -0.0060462654), (2123, 0.108380914), (2124, 0.08633913), (2125, 0.14529248), (2126, 0.08631782), (2127, 0.08637411), (2128, 0.33243608), (2129, 0.1247921), (2130, 0.12075892), (2131, 0.08629523), (2132, 0.08630292), (2133, 0.08588401), (2134, 0.08621968), (2135, -0.006046263), (2136, 0.13490526), (2137, 0.03785429), (2138, 0.429561), (2139, 0.08627136), (2140, 0.13204549), (2141, 0.08635906), (2142, 0.08627136), (2143, 0.3637766), (2144, 0.08634927), (2145, 0.10446473), (2146, 0.08638662), (2147, -0.006046263), (2148, 0.11902293), (2149, 0.20178844), (2150, 0.086317815), (2151, 0.11193954), (2152, 0.15074758), (2153, 0.12078918), (2154, 0.086162835), (2155, 0.08627136), (2156, 0.08639515), (2157, 0.081598364), (2158, 0.13882798), (2159, 0.12809043), (2160, 0.81608087), (2161, 0.20373559), (2162, 0.62033737), (2163, 0.08635906), (2164, 0.0863391), (2165, 0.08634318), (2166, 0.1174319), (2167, -0.006046263), (2168, 0.4478295), (2169, 0.14995055), (2170, 0.10071231), (2171, 0.08941791), (2172, 0.109412625), (2173, 0.086317815), (2174, 0.14533326), (2175, 0.11206102), (2176, -0.006046263), (2177, 0.086359076), (2178, 0.10157402), (2179, 0.10296458), (2180, 0.38090563), (2181, 0.7600997), (2182, 0.08630292), (2183, 0.1452007), (2184, 0.086246185), (2185, 0.086271375), (2186, 0.11047531), (2187, 0.08635906), (2188, 0.14524826), (2189, 0.08639515), (2190, 0.08621969), (2191, 0.08633217), (2192, 0.08629522), (2193, 0.08610086), (2194, 0.1290244), (2195, 0.08630293), (2196, 0.83665925), (2197, 0.08631784), (2198, -0.006046265), (2199, 0.037828114), (2200, 0.086317815), (2201, 0.13807887), (2202, 0.08624613), (2203, 0.14695086), (2204, 0.1311209), (2205, -0.006046263), (2206, 0.11202216), (2207, 0.5326349), (2208, 0.36967927), (2209, 0.08638369), (2210, 0.13455977), (2211, 0.09937572), (2212, 0.08621969), (2213, -0.006046263), (2214, 0.10938221), (2215, 0.08639515), (2216, -0.006046263), (2217, 0.52323145), (2218, 0.44156626), (2219, 0.14060326), (2220, 0.10807937), (2221, -0.0060462714), (2222, 0.08603367), (2223, 0.086100854), (2224, 0.08638369), (2225, 0.08635906), (2226, 0.14537089), (2227, 0.52235794), (2228, 0.32403067), (2229, -0.006046263), (2230, 0.20609112), (2231, 0.10163477), (2232, 0.08627137), (2233, 0.08639515), (2234, 0.12476069), (2235, 0.36586362), (2236, 0.085884), (2237, 0.08635906), (2238, 0.08627137), (2239, 0.13503887), (2240, 0.14696644), (2241, 0.14888121), (2242, 0.10305015), (2243, 0.32684913), (2244, 0.13465579), (2245, 0.13503887), (2246, 0.08633911), (2247, 0.31975123), (2248, 0.086317815), (2249, 0.085884), (2250, 0.08637774), (2251, 0.1450385), (2252, 0.08631781), (2253, 0.08635906), (2254, 0.13503887), (2255, 0.13356166), (2256, 0.11116091), (2257, 0.11607356), (2258, 0.08627136), (2259, 0.08635905), (2260, 0.21880604), (2261, 0.11402488), (2262, 0.13497542), (2263, 0.085884), (2264, 0.11405383), (2265, 0.12544279), (2266, 0.14060329), (2267, 0.08637412), (2268, -0.006046263), (2269, 0.08639515), (2270, 0.085313834), (2271, 0.054801587), (2272, 0.103555925), (2273, 0.14543621), (2274, -0.0060462668), (2275, -0.006046265), (2276, 0.54970914), (2277, 0.08629523), (2278, -0.006046265), (2279, 0.0863067), (2280, -0.006046265), (2281, 0.1208419), (2282, 0.106038846), (2283, 0.10821869), (2284, 0.5963193), (2285, 0.1273914), (2286, 0.35816556), (2287, 0.086339116), (2288, 0.35922813), (2289, 0.517072), (2290, 0.30908892), (2291, 0.08627136), (2292, 0.26605934), (2293, 0.086246155), (2294, 0.08627136), (2295, 0.11114194), (2296, 0.086317815), (2297, 0.15634689), (2298, 0.10932964), (2299, 0.08635906), (2300, 0.13503887), (2301, -0.0060462668), (2302, 0.08627135), (2303, 0.086317815), (2304, 0.31425107), (2305, 0.1312165), (2306, 0.10448014), (2307, 0.10350442), (2308, 0.08596141), (2309, 0.08630292), (2310, 0.08639515), (2311, 0.13096306), (2312, -0.006046263), (2313, 0.08603367), (2314, 0.10449512), (2315, 0.26188725), (2316, 0.31010404), (2317, 0.70122534), (2318, 0.08635906), (2319, 0.1312165), (2320, 0.14546382), (2321, 0.10453749), (2322, 0.08625894), (2323, 0.11291563), (2324, 0.103132494), (2325, 0.14058565), (2326, 0.086359076), (2327, 0.08610085), (2328, 0.08610087), (2329, 0.10299036), (2330, 0.13490526), (2331, 0.10947402), (2332, 0.2789019), (2333, 0.08621969), (2334, -0.006046263), (2335, 0.47095877), (2336, 0.09069962)]\n"
          ],
          "name": "stdout"
        }
      ]
    },
    {
      "cell_type": "code",
      "metadata": {
        "id": "JnGWByPjJsAb"
      },
      "source": [
        "sim_scores_list = sorted(sim_scores , key=lambda x:x[1] , reverse=True)"
      ],
      "execution_count": 66,
      "outputs": []
    },
    {
      "cell_type": "code",
      "metadata": {
        "colab": {
          "base_uri": "https://localhost:8080/"
        },
        "id": "YnED9rE6Kj0K",
        "outputId": "347311c7-1dae-4b99-ac9c-b062cf3e89c3"
      },
      "source": [
        "sim_scores_list[1:6]"
      ],
      "execution_count": 68,
      "outputs": [
        {
          "output_type": "execute_result",
          "data": {
            "text/plain": [
              "[(118, 0.9999824),\n",
              " (430, 0.9998447),\n",
              " (177, 0.9997234),\n",
              " (230, 0.8959003),\n",
              " (2196, 0.83665925)]"
            ]
          },
          "metadata": {},
          "execution_count": 68
        }
      ]
    },
    {
      "cell_type": "code",
      "metadata": {
        "colab": {
          "base_uri": "https://localhost:8080/",
          "height": 813
        },
        "id": "a9fycrSVLAkK",
        "outputId": "0c585ef2-9548-4e8a-e7e7-0c22b68feb31"
      },
      "source": [
        "df_data.head(7)"
      ],
      "execution_count": 69,
      "outputs": [
        {
          "output_type": "execute_result",
          "data": {
            "text/html": [
              "<div>\n",
              "<style scoped>\n",
              "    .dataframe tbody tr th:only-of-type {\n",
              "        vertical-align: middle;\n",
              "    }\n",
              "\n",
              "    .dataframe tbody tr th {\n",
              "        vertical-align: top;\n",
              "    }\n",
              "\n",
              "    .dataframe thead th {\n",
              "        text-align: right;\n",
              "    }\n",
              "</style>\n",
              "<table border=\"1\" class=\"dataframe\">\n",
              "  <thead>\n",
              "    <tr style=\"text-align: right;\">\n",
              "      <th></th>\n",
              "      <th>Unnamed: 0</th>\n",
              "      <th>Desc</th>\n",
              "      <th>Unnamed: 0.1</th>\n",
              "      <th>author</th>\n",
              "      <th>genre</th>\n",
              "      <th>image_link</th>\n",
              "      <th>rating</th>\n",
              "      <th>title</th>\n",
              "      <th>cleaned</th>\n",
              "    </tr>\n",
              "  </thead>\n",
              "  <tbody>\n",
              "    <tr>\n",
              "      <th>0</th>\n",
              "      <td>0</td>\n",
              "      <td>We know that power is shifting: From West to E...</td>\n",
              "      <td>0.0</td>\n",
              "      <td>Moisés Naím</td>\n",
              "      <td>Business</td>\n",
              "      <td>https://i.gr-assets.com/images/S/compressed.ph...</td>\n",
              "      <td>3.63</td>\n",
              "      <td>The End of Power: From Boardrooms to Battlefie...</td>\n",
              "      <td>We know that power is shifting From West to Ea...</td>\n",
              "    </tr>\n",
              "    <tr>\n",
              "      <th>1</th>\n",
              "      <td>1</td>\n",
              "      <td>Following the success of The Accidental Billio...</td>\n",
              "      <td>1.0</td>\n",
              "      <td>Blake J. Harris</td>\n",
              "      <td>Business</td>\n",
              "      <td>https://i.gr-assets.com/images/S/compressed.ph...</td>\n",
              "      <td>3.94</td>\n",
              "      <td>Console Wars: Sega, Nintendo, and the Battle t...</td>\n",
              "      <td>Following the success of The Accidental Billio...</td>\n",
              "    </tr>\n",
              "    <tr>\n",
              "      <th>2</th>\n",
              "      <td>2</td>\n",
              "      <td>How to tap the power of social software and ne...</td>\n",
              "      <td>2.0</td>\n",
              "      <td>Chris Brogan</td>\n",
              "      <td>Business</td>\n",
              "      <td>https://i.gr-assets.com/images/S/compressed.ph...</td>\n",
              "      <td>3.78</td>\n",
              "      <td>Trust Agents: Using the Web to Build Influence...</td>\n",
              "      <td>How to tap the power of social software and ne...</td>\n",
              "    </tr>\n",
              "    <tr>\n",
              "      <th>3</th>\n",
              "      <td>3</td>\n",
              "      <td>William J. Bernstein is an American financial ...</td>\n",
              "      <td>3.0</td>\n",
              "      <td>William J. Bernstein</td>\n",
              "      <td>Business</td>\n",
              "      <td>https://i.gr-assets.com/images/S/compressed.ph...</td>\n",
              "      <td>4.20</td>\n",
              "      <td>The Four Pillars of Investing</td>\n",
              "      <td>William J Bernstein is an American financial t...</td>\n",
              "    </tr>\n",
              "    <tr>\n",
              "      <th>4</th>\n",
              "      <td>4</td>\n",
              "      <td>Amazing book. And I joined Steve Jobs and many...</td>\n",
              "      <td>4.0</td>\n",
              "      <td>Akio Morita</td>\n",
              "      <td>Business</td>\n",
              "      <td>https://i.gr-assets.com/images/S/compressed.ph...</td>\n",
              "      <td>4.05</td>\n",
              "      <td>Made in Japan: Akio Morita and Sony</td>\n",
              "      <td>Amazing book And I joined Steve Jobs and many ...</td>\n",
              "    </tr>\n",
              "    <tr>\n",
              "      <th>5</th>\n",
              "      <td>5</td>\n",
              "      <td>In the tradition of Phil Knight's Shoe Dog com...</td>\n",
              "      <td>5.0</td>\n",
              "      <td>Marc Randolph</td>\n",
              "      <td>Business</td>\n",
              "      <td>https://i.gr-assets.com/images/S/compressed.ph...</td>\n",
              "      <td>4.28</td>\n",
              "      <td>That Will Never Work: The Birth of Netflix and...</td>\n",
              "      <td>In the tradition of Phil Knight s Shoe Dog com...</td>\n",
              "    </tr>\n",
              "    <tr>\n",
              "      <th>6</th>\n",
              "      <td>6</td>\n",
              "      <td>Gregory Zuckerman, the bestselling author of T...</td>\n",
              "      <td>6.0</td>\n",
              "      <td>Gregory Zuckerman</td>\n",
              "      <td>Business</td>\n",
              "      <td>https://i.gr-assets.com/images/S/compressed.ph...</td>\n",
              "      <td>4.12</td>\n",
              "      <td>The Man Who Solved the Market: How Jim Simons ...</td>\n",
              "      <td>Gregory Zuckerman the bestselling author of Th...</td>\n",
              "    </tr>\n",
              "  </tbody>\n",
              "</table>\n",
              "</div>"
            ],
            "text/plain": [
              "   Unnamed: 0  ...                                            cleaned\n",
              "0           0  ...  We know that power is shifting From West to Ea...\n",
              "1           1  ...  Following the success of The Accidental Billio...\n",
              "2           2  ...  How to tap the power of social software and ne...\n",
              "3           3  ...  William J Bernstein is an American financial t...\n",
              "4           4  ...  Amazing book And I joined Steve Jobs and many ...\n",
              "5           5  ...  In the tradition of Phil Knight s Shoe Dog com...\n",
              "6           6  ...  Gregory Zuckerman the bestselling author of Th...\n",
              "\n",
              "[7 rows x 9 columns]"
            ]
          },
          "metadata": {},
          "execution_count": 69
        }
      ]
    },
    {
      "cell_type": "code",
      "metadata": {
        "id": "Ay62bbP5LnKM"
      },
      "source": [
        ""
      ],
      "execution_count": null,
      "outputs": []
    }
  ]
}