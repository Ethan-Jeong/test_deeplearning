{
  "nbformat": 4,
  "nbformat_minor": 0,
  "metadata": {
    "colab": {
      "name": "Sentencepiece.ipynb",
      "provenance": [],
      "collapsed_sections": [],
      "authorship_tag": "ABX9TyN6qIAxnJEk/DijYgRGLzlC",
      "include_colab_link": true
    },
    "kernelspec": {
      "name": "python3",
      "display_name": "Python 3"
    },
    "language_info": {
      "name": "python"
    }
  },
  "cells": [
    {
      "cell_type": "markdown",
      "metadata": {
        "id": "view-in-github",
        "colab_type": "text"
      },
      "source": [
        "<a href=\"https://colab.research.google.com/github/Ethan-Jeong/test_deeplearning/blob/master/NLP%20/%20Sentencepiece.ipynb\" target=\"_parent\"><img src=\"https://colab.research.google.com/assets/colab-badge.svg\" alt=\"Open In Colab\"/></a>"
      ]
    },
    {
      "cell_type": "code",
      "metadata": {
        "colab": {
          "base_uri": "https://localhost:8080/"
        },
        "id": "ycZq75kuIr4n",
        "outputId": "4e05d551-861b-4158-fa05-5e53230ca53e"
      },
      "source": [
        "!python -m pip install sentencepiece"
      ],
      "execution_count": 2,
      "outputs": [
        {
          "output_type": "stream",
          "text": [
            "Collecting sentencepiece\n",
            "  Downloading sentencepiece-0.1.96-cp37-cp37m-manylinux_2_17_x86_64.manylinux2014_x86_64.whl (1.2 MB)\n",
            "\u001b[?25l\r\u001b[K     |▎                               | 10 kB 28.4 MB/s eta 0:00:01\r\u001b[K     |▌                               | 20 kB 35.5 MB/s eta 0:00:01\r\u001b[K     |▉                               | 30 kB 38.5 MB/s eta 0:00:01\r\u001b[K     |█                               | 40 kB 18.1 MB/s eta 0:00:01\r\u001b[K     |█▍                              | 51 kB 15.2 MB/s eta 0:00:01\r\u001b[K     |█▋                              | 61 kB 12.3 MB/s eta 0:00:01\r\u001b[K     |██                              | 71 kB 13.6 MB/s eta 0:00:01\r\u001b[K     |██▏                             | 81 kB 15.1 MB/s eta 0:00:01\r\u001b[K     |██▍                             | 92 kB 14.7 MB/s eta 0:00:01\r\u001b[K     |██▊                             | 102 kB 12.7 MB/s eta 0:00:01\r\u001b[K     |███                             | 112 kB 12.7 MB/s eta 0:00:01\r\u001b[K     |███▎                            | 122 kB 12.7 MB/s eta 0:00:01\r\u001b[K     |███▌                            | 133 kB 12.7 MB/s eta 0:00:01\r\u001b[K     |███▉                            | 143 kB 12.7 MB/s eta 0:00:01\r\u001b[K     |████                            | 153 kB 12.7 MB/s eta 0:00:01\r\u001b[K     |████▎                           | 163 kB 12.7 MB/s eta 0:00:01\r\u001b[K     |████▋                           | 174 kB 12.7 MB/s eta 0:00:01\r\u001b[K     |████▉                           | 184 kB 12.7 MB/s eta 0:00:01\r\u001b[K     |█████▏                          | 194 kB 12.7 MB/s eta 0:00:01\r\u001b[K     |█████▍                          | 204 kB 12.7 MB/s eta 0:00:01\r\u001b[K     |█████▊                          | 215 kB 12.7 MB/s eta 0:00:01\r\u001b[K     |██████                          | 225 kB 12.7 MB/s eta 0:00:01\r\u001b[K     |██████▏                         | 235 kB 12.7 MB/s eta 0:00:01\r\u001b[K     |██████▌                         | 245 kB 12.7 MB/s eta 0:00:01\r\u001b[K     |██████▊                         | 256 kB 12.7 MB/s eta 0:00:01\r\u001b[K     |███████                         | 266 kB 12.7 MB/s eta 0:00:01\r\u001b[K     |███████▎                        | 276 kB 12.7 MB/s eta 0:00:01\r\u001b[K     |███████▋                        | 286 kB 12.7 MB/s eta 0:00:01\r\u001b[K     |███████▉                        | 296 kB 12.7 MB/s eta 0:00:01\r\u001b[K     |████████                        | 307 kB 12.7 MB/s eta 0:00:01\r\u001b[K     |████████▍                       | 317 kB 12.7 MB/s eta 0:00:01\r\u001b[K     |████████▋                       | 327 kB 12.7 MB/s eta 0:00:01\r\u001b[K     |█████████                       | 337 kB 12.7 MB/s eta 0:00:01\r\u001b[K     |█████████▏                      | 348 kB 12.7 MB/s eta 0:00:01\r\u001b[K     |█████████▌                      | 358 kB 12.7 MB/s eta 0:00:01\r\u001b[K     |█████████▊                      | 368 kB 12.7 MB/s eta 0:00:01\r\u001b[K     |██████████                      | 378 kB 12.7 MB/s eta 0:00:01\r\u001b[K     |██████████▎                     | 389 kB 12.7 MB/s eta 0:00:01\r\u001b[K     |██████████▌                     | 399 kB 12.7 MB/s eta 0:00:01\r\u001b[K     |██████████▉                     | 409 kB 12.7 MB/s eta 0:00:01\r\u001b[K     |███████████                     | 419 kB 12.7 MB/s eta 0:00:01\r\u001b[K     |███████████▍                    | 430 kB 12.7 MB/s eta 0:00:01\r\u001b[K     |███████████▋                    | 440 kB 12.7 MB/s eta 0:00:01\r\u001b[K     |███████████▉                    | 450 kB 12.7 MB/s eta 0:00:01\r\u001b[K     |████████████▏                   | 460 kB 12.7 MB/s eta 0:00:01\r\u001b[K     |████████████▍                   | 471 kB 12.7 MB/s eta 0:00:01\r\u001b[K     |████████████▊                   | 481 kB 12.7 MB/s eta 0:00:01\r\u001b[K     |█████████████                   | 491 kB 12.7 MB/s eta 0:00:01\r\u001b[K     |█████████████▎                  | 501 kB 12.7 MB/s eta 0:00:01\r\u001b[K     |█████████████▌                  | 512 kB 12.7 MB/s eta 0:00:01\r\u001b[K     |█████████████▊                  | 522 kB 12.7 MB/s eta 0:00:01\r\u001b[K     |██████████████                  | 532 kB 12.7 MB/s eta 0:00:01\r\u001b[K     |██████████████▎                 | 542 kB 12.7 MB/s eta 0:00:01\r\u001b[K     |██████████████▋                 | 552 kB 12.7 MB/s eta 0:00:01\r\u001b[K     |██████████████▉                 | 563 kB 12.7 MB/s eta 0:00:01\r\u001b[K     |███████████████▏                | 573 kB 12.7 MB/s eta 0:00:01\r\u001b[K     |███████████████▍                | 583 kB 12.7 MB/s eta 0:00:01\r\u001b[K     |███████████████▋                | 593 kB 12.7 MB/s eta 0:00:01\r\u001b[K     |████████████████                | 604 kB 12.7 MB/s eta 0:00:01\r\u001b[K     |████████████████▏               | 614 kB 12.7 MB/s eta 0:00:01\r\u001b[K     |████████████████▌               | 624 kB 12.7 MB/s eta 0:00:01\r\u001b[K     |████████████████▊               | 634 kB 12.7 MB/s eta 0:00:01\r\u001b[K     |█████████████████               | 645 kB 12.7 MB/s eta 0:00:01\r\u001b[K     |█████████████████▎              | 655 kB 12.7 MB/s eta 0:00:01\r\u001b[K     |█████████████████▌              | 665 kB 12.7 MB/s eta 0:00:01\r\u001b[K     |█████████████████▉              | 675 kB 12.7 MB/s eta 0:00:01\r\u001b[K     |██████████████████              | 686 kB 12.7 MB/s eta 0:00:01\r\u001b[K     |██████████████████▍             | 696 kB 12.7 MB/s eta 0:00:01\r\u001b[K     |██████████████████▋             | 706 kB 12.7 MB/s eta 0:00:01\r\u001b[K     |███████████████████             | 716 kB 12.7 MB/s eta 0:00:01\r\u001b[K     |███████████████████▏            | 727 kB 12.7 MB/s eta 0:00:01\r\u001b[K     |███████████████████▍            | 737 kB 12.7 MB/s eta 0:00:01\r\u001b[K     |███████████████████▊            | 747 kB 12.7 MB/s eta 0:00:01\r\u001b[K     |████████████████████            | 757 kB 12.7 MB/s eta 0:00:01\r\u001b[K     |████████████████████▎           | 768 kB 12.7 MB/s eta 0:00:01\r\u001b[K     |████████████████████▌           | 778 kB 12.7 MB/s eta 0:00:01\r\u001b[K     |████████████████████▉           | 788 kB 12.7 MB/s eta 0:00:01\r\u001b[K     |█████████████████████           | 798 kB 12.7 MB/s eta 0:00:01\r\u001b[K     |█████████████████████▎          | 808 kB 12.7 MB/s eta 0:00:01\r\u001b[K     |█████████████████████▋          | 819 kB 12.7 MB/s eta 0:00:01\r\u001b[K     |█████████████████████▉          | 829 kB 12.7 MB/s eta 0:00:01\r\u001b[K     |██████████████████████▏         | 839 kB 12.7 MB/s eta 0:00:01\r\u001b[K     |██████████████████████▍         | 849 kB 12.7 MB/s eta 0:00:01\r\u001b[K     |██████████████████████▊         | 860 kB 12.7 MB/s eta 0:00:01\r\u001b[K     |███████████████████████         | 870 kB 12.7 MB/s eta 0:00:01\r\u001b[K     |███████████████████████▏        | 880 kB 12.7 MB/s eta 0:00:01\r\u001b[K     |███████████████████████▌        | 890 kB 12.7 MB/s eta 0:00:01\r\u001b[K     |███████████████████████▊        | 901 kB 12.7 MB/s eta 0:00:01\r\u001b[K     |████████████████████████        | 911 kB 12.7 MB/s eta 0:00:01\r\u001b[K     |████████████████████████▎       | 921 kB 12.7 MB/s eta 0:00:01\r\u001b[K     |████████████████████████▋       | 931 kB 12.7 MB/s eta 0:00:01\r\u001b[K     |████████████████████████▉       | 942 kB 12.7 MB/s eta 0:00:01\r\u001b[K     |█████████████████████████       | 952 kB 12.7 MB/s eta 0:00:01\r\u001b[K     |█████████████████████████▍      | 962 kB 12.7 MB/s eta 0:00:01\r\u001b[K     |█████████████████████████▋      | 972 kB 12.7 MB/s eta 0:00:01\r\u001b[K     |██████████████████████████      | 983 kB 12.7 MB/s eta 0:00:01\r\u001b[K     |██████████████████████████▏     | 993 kB 12.7 MB/s eta 0:00:01\r\u001b[K     |██████████████████████████▌     | 1.0 MB 12.7 MB/s eta 0:00:01\r\u001b[K     |██████████████████████████▊     | 1.0 MB 12.7 MB/s eta 0:00:01\r\u001b[K     |███████████████████████████     | 1.0 MB 12.7 MB/s eta 0:00:01\r\u001b[K     |███████████████████████████▎    | 1.0 MB 12.7 MB/s eta 0:00:01\r\u001b[K     |███████████████████████████▌    | 1.0 MB 12.7 MB/s eta 0:00:01\r\u001b[K     |███████████████████████████▉    | 1.1 MB 12.7 MB/s eta 0:00:01\r\u001b[K     |████████████████████████████    | 1.1 MB 12.7 MB/s eta 0:00:01\r\u001b[K     |████████████████████████████▍   | 1.1 MB 12.7 MB/s eta 0:00:01\r\u001b[K     |████████████████████████████▋   | 1.1 MB 12.7 MB/s eta 0:00:01\r\u001b[K     |████████████████████████████▉   | 1.1 MB 12.7 MB/s eta 0:00:01\r\u001b[K     |█████████████████████████████▏  | 1.1 MB 12.7 MB/s eta 0:00:01\r\u001b[K     |█████████████████████████████▍  | 1.1 MB 12.7 MB/s eta 0:00:01\r\u001b[K     |█████████████████████████████▊  | 1.1 MB 12.7 MB/s eta 0:00:01\r\u001b[K     |██████████████████████████████  | 1.1 MB 12.7 MB/s eta 0:00:01\r\u001b[K     |██████████████████████████████▎ | 1.1 MB 12.7 MB/s eta 0:00:01\r\u001b[K     |██████████████████████████████▌ | 1.2 MB 12.7 MB/s eta 0:00:01\r\u001b[K     |██████████████████████████████▊ | 1.2 MB 12.7 MB/s eta 0:00:01\r\u001b[K     |███████████████████████████████ | 1.2 MB 12.7 MB/s eta 0:00:01\r\u001b[K     |███████████████████████████████▎| 1.2 MB 12.7 MB/s eta 0:00:01\r\u001b[K     |███████████████████████████████▋| 1.2 MB 12.7 MB/s eta 0:00:01\r\u001b[K     |███████████████████████████████▉| 1.2 MB 12.7 MB/s eta 0:00:01\r\u001b[K     |████████████████████████████████| 1.2 MB 12.7 MB/s \n",
            "\u001b[?25hInstalling collected packages: sentencepiece\n",
            "Successfully installed sentencepiece-0.1.96\n"
          ],
          "name": "stdout"
        }
      ]
    },
    {
      "cell_type": "code",
      "metadata": {
        "id": "tntWk-XFIfP8"
      },
      "source": [
        "import sentencepiece as spm"
      ],
      "execution_count": 6,
      "outputs": []
    },
    {
      "cell_type": "code",
      "metadata": {
        "colab": {
          "base_uri": "https://localhost:8080/"
        },
        "id": "gHTb8I1kIpBl",
        "outputId": "bf105ff6-674e-4e96-8e00-2fd4d7a608f2"
      },
      "source": [
        "!curl -O https://raw.githubusercontent.com/LawrenceDuan/IMDb-Review-Analysis/master/IMDb_Reviews.csv"
      ],
      "execution_count": 7,
      "outputs": [
        {
          "output_type": "stream",
          "text": [
            "  % Total    % Received % Xferd  Average Speed   Time    Time     Time  Current\n",
            "                                 Dload  Upload   Total   Spent    Left  Speed\n",
            "100 62.8M  100 62.8M    0     0  18.1M      0  0:00:03  0:00:03 --:--:-- 18.1M\n"
          ],
          "name": "stdout"
        }
      ]
    },
    {
      "cell_type": "code",
      "metadata": {
        "id": "L6y0f-UgJG4y"
      },
      "source": [
        "import pandas as pd"
      ],
      "execution_count": 8,
      "outputs": []
    },
    {
      "cell_type": "code",
      "metadata": {
        "colab": {
          "base_uri": "https://localhost:8080/",
          "height": 200
        },
        "id": "EYaYNBe9JLIH",
        "outputId": "432a12ba-196a-4b6b-ab1d-a188e6a9982f"
      },
      "source": [
        "df_data = pd.read_csv('IMDb_Reviews.csv')\n",
        "df_data.head(5)"
      ],
      "execution_count": 9,
      "outputs": [
        {
          "output_type": "execute_result",
          "data": {
            "text/html": [
              "<div>\n",
              "<style scoped>\n",
              "    .dataframe tbody tr th:only-of-type {\n",
              "        vertical-align: middle;\n",
              "    }\n",
              "\n",
              "    .dataframe tbody tr th {\n",
              "        vertical-align: top;\n",
              "    }\n",
              "\n",
              "    .dataframe thead th {\n",
              "        text-align: right;\n",
              "    }\n",
              "</style>\n",
              "<table border=\"1\" class=\"dataframe\">\n",
              "  <thead>\n",
              "    <tr style=\"text-align: right;\">\n",
              "      <th></th>\n",
              "      <th>review</th>\n",
              "      <th>sentiment</th>\n",
              "    </tr>\n",
              "  </thead>\n",
              "  <tbody>\n",
              "    <tr>\n",
              "      <th>0</th>\n",
              "      <td>My family and I normally do not watch local mo...</td>\n",
              "      <td>1</td>\n",
              "    </tr>\n",
              "    <tr>\n",
              "      <th>1</th>\n",
              "      <td>Believe it or not, this was at one time the wo...</td>\n",
              "      <td>0</td>\n",
              "    </tr>\n",
              "    <tr>\n",
              "      <th>2</th>\n",
              "      <td>After some internet surfing, I found the \"Home...</td>\n",
              "      <td>0</td>\n",
              "    </tr>\n",
              "    <tr>\n",
              "      <th>3</th>\n",
              "      <td>One of the most unheralded great works of anim...</td>\n",
              "      <td>1</td>\n",
              "    </tr>\n",
              "    <tr>\n",
              "      <th>4</th>\n",
              "      <td>It was the Sixties, and anyone with long hair ...</td>\n",
              "      <td>0</td>\n",
              "    </tr>\n",
              "  </tbody>\n",
              "</table>\n",
              "</div>"
            ],
            "text/plain": [
              "                                              review  sentiment\n",
              "0  My family and I normally do not watch local mo...          1\n",
              "1  Believe it or not, this was at one time the wo...          0\n",
              "2  After some internet surfing, I found the \"Home...          0\n",
              "3  One of the most unheralded great works of anim...          1\n",
              "4  It was the Sixties, and anyone with long hair ...          0"
            ]
          },
          "metadata": {},
          "execution_count": 9
        }
      ]
    },
    {
      "cell_type": "code",
      "metadata": {
        "colab": {
          "base_uri": "https://localhost:8080/"
        },
        "id": "jP1XOjB3L2pQ",
        "outputId": "20602a90-9eef-410b-85f8-4837c4f5f8a0"
      },
      "source": [
        "df_data.info()"
      ],
      "execution_count": 11,
      "outputs": [
        {
          "output_type": "stream",
          "text": [
            "<class 'pandas.core.frame.DataFrame'>\n",
            "RangeIndex: 50000 entries, 0 to 49999\n",
            "Data columns (total 2 columns):\n",
            " #   Column     Non-Null Count  Dtype \n",
            "---  ------     --------------  ----- \n",
            " 0   review     50000 non-null  object\n",
            " 1   sentiment  50000 non-null  int64 \n",
            "dtypes: int64(1), object(1)\n",
            "memory usage: 781.4+ KB\n"
          ],
          "name": "stdout"
        }
      ]
    },
    {
      "cell_type": "code",
      "metadata": {
        "id": "gajeOynhL-HR"
      },
      "source": [
        "df_data = df_data[0:2000]"
      ],
      "execution_count": 13,
      "outputs": []
    },
    {
      "cell_type": "code",
      "metadata": {
        "id": "PuBaUYbsJkxA"
      },
      "source": [
        "with open('imdb_review.txt','w') as f:\n",
        "  f.write('\\n'.join(df_data['review']))"
      ],
      "execution_count": 14,
      "outputs": []
    },
    {
      "cell_type": "code",
      "metadata": {
        "id": "yxkO-nWPLOcl"
      },
      "source": [
        "spm.SentencePieceTrainer.Train('--input=./imdb_review.txt --model_prefix=imdb --vocab_size=5000 --model_type=bpe --max_sentence_length=9999')\n"
      ],
      "execution_count": 15,
      "outputs": []
    },
    {
      "cell_type": "code",
      "metadata": {
        "id": "y0rOIGvQOTEy"
      },
      "source": [
        "import csv"
      ],
      "execution_count": 17,
      "outputs": []
    },
    {
      "cell_type": "code",
      "metadata": {
        "colab": {
          "base_uri": "https://localhost:8080/",
          "height": 622
        },
        "id": "imQCfVO1MrIi",
        "outputId": "e6a8a27d-6bc4-4224-c6da-e95aab28d221"
      },
      "source": [
        "df_vocab = pd.read_csv('./imdb.vocab',sep='\\t', quoting=csv.QUOTE_NONE,header=None)\n",
        "# df_vocab.head(3)\n",
        "df_vocab.sample(19)"
      ],
      "execution_count": 19,
      "outputs": [
        {
          "output_type": "execute_result",
          "data": {
            "text/html": [
              "<div>\n",
              "<style scoped>\n",
              "    .dataframe tbody tr th:only-of-type {\n",
              "        vertical-align: middle;\n",
              "    }\n",
              "\n",
              "    .dataframe tbody tr th {\n",
              "        vertical-align: top;\n",
              "    }\n",
              "\n",
              "    .dataframe thead th {\n",
              "        text-align: right;\n",
              "    }\n",
              "</style>\n",
              "<table border=\"1\" class=\"dataframe\">\n",
              "  <thead>\n",
              "    <tr style=\"text-align: right;\">\n",
              "      <th></th>\n",
              "      <th>0</th>\n",
              "      <th>1</th>\n",
              "    </tr>\n",
              "  </thead>\n",
              "  <tbody>\n",
              "    <tr>\n",
              "      <th>224</th>\n",
              "      <td>▁about</td>\n",
              "      <td>-221</td>\n",
              "    </tr>\n",
              "    <tr>\n",
              "      <th>4867</th>\n",
              "      <td>▁proceed</td>\n",
              "      <td>-4864</td>\n",
              "    </tr>\n",
              "    <tr>\n",
              "      <th>1547</th>\n",
              "      <td>▁succ</td>\n",
              "      <td>-1544</td>\n",
              "    </tr>\n",
              "    <tr>\n",
              "      <th>4506</th>\n",
              "      <td>▁Child</td>\n",
              "      <td>-4503</td>\n",
              "    </tr>\n",
              "    <tr>\n",
              "      <th>3747</th>\n",
              "      <td>writer</td>\n",
              "      <td>-3744</td>\n",
              "    </tr>\n",
              "    <tr>\n",
              "      <th>2645</th>\n",
              "      <td>▁general</td>\n",
              "      <td>-2642</td>\n",
              "    </tr>\n",
              "    <tr>\n",
              "      <th>2535</th>\n",
              "      <td>▁(19</td>\n",
              "      <td>-2532</td>\n",
              "    </tr>\n",
              "    <tr>\n",
              "      <th>1823</th>\n",
              "      <td>ric</td>\n",
              "      <td>-1820</td>\n",
              "    </tr>\n",
              "    <tr>\n",
              "      <th>3838</th>\n",
              "      <td>▁mult</td>\n",
              "      <td>-3835</td>\n",
              "    </tr>\n",
              "    <tr>\n",
              "      <th>2011</th>\n",
              "      <td>▁theater</td>\n",
              "      <td>-2008</td>\n",
              "    </tr>\n",
              "    <tr>\n",
              "      <th>1898</th>\n",
              "      <td>▁yourself</td>\n",
              "      <td>-1895</td>\n",
              "    </tr>\n",
              "    <tr>\n",
              "      <th>720</th>\n",
              "      <td>▁put</td>\n",
              "      <td>-717</td>\n",
              "    </tr>\n",
              "    <tr>\n",
              "      <th>1704</th>\n",
              "      <td>▁Also</td>\n",
              "      <td>-1701</td>\n",
              "    </tr>\n",
              "    <tr>\n",
              "      <th>1130</th>\n",
              "      <td>▁looks</td>\n",
              "      <td>-1127</td>\n",
              "    </tr>\n",
              "    <tr>\n",
              "      <th>4119</th>\n",
              "      <td>▁****</td>\n",
              "      <td>-4116</td>\n",
              "    </tr>\n",
              "    <tr>\n",
              "      <th>59</th>\n",
              "      <td>▁T</td>\n",
              "      <td>-56</td>\n",
              "    </tr>\n",
              "    <tr>\n",
              "      <th>192</th>\n",
              "      <td>▁R</td>\n",
              "      <td>-189</td>\n",
              "    </tr>\n",
              "    <tr>\n",
              "      <th>4966</th>\n",
              "      <td>)</td>\n",
              "      <td>-4963</td>\n",
              "    </tr>\n",
              "    <tr>\n",
              "      <th>3739</th>\n",
              "      <td>▁Than</td>\n",
              "      <td>-3736</td>\n",
              "    </tr>\n",
              "  </tbody>\n",
              "</table>\n",
              "</div>"
            ],
            "text/plain": [
              "              0     1\n",
              "224      ▁about  -221\n",
              "4867   ▁proceed -4864\n",
              "1547      ▁succ -1544\n",
              "4506     ▁Child -4503\n",
              "3747     writer -3744\n",
              "2645   ▁general -2642\n",
              "2535       ▁(19 -2532\n",
              "1823        ric -1820\n",
              "3838      ▁mult -3835\n",
              "2011   ▁theater -2008\n",
              "1898  ▁yourself -1895\n",
              "720        ▁put  -717\n",
              "1704      ▁Also -1701\n",
              "1130     ▁looks -1127\n",
              "4119      ▁**** -4116\n",
              "59           ▁T   -56\n",
              "192          ▁R  -189\n",
              "4966          ) -4963\n",
              "3739      ▁Than -3736"
            ]
          },
          "metadata": {},
          "execution_count": 19
        }
      ]
    },
    {
      "cell_type": "code",
      "metadata": {
        "colab": {
          "base_uri": "https://localhost:8080/"
        },
        "id": "MIM_BxNXN68E",
        "outputId": "d9ab9b62-2e9c-4423-a76e-f1284349fd32"
      },
      "source": [
        "spp = spm.SentencePieceProcessor()\n",
        "spp.load('./imdb.model')"
      ],
      "execution_count": 20,
      "outputs": [
        {
          "output_type": "execute_result",
          "data": {
            "text/plain": [
              "True"
            ]
          },
          "metadata": {},
          "execution_count": 20
        }
      ]
    },
    {
      "cell_type": "code",
      "metadata": {
        "id": "jAnKmsOmQBq8"
      },
      "source": [
        "line01 = \"I didn't at all think of it this way.\""
      ],
      "execution_count": 21,
      "outputs": []
    },
    {
      "cell_type": "code",
      "metadata": {
        "colab": {
          "base_uri": "https://localhost:8080/"
        },
        "id": "91sg4U4bQYL9",
        "outputId": "d93af92c-5306-462c-ea06-3489f5bf3a83"
      },
      "source": [
        "print(spp.encode_as_pieces(line01))"
      ],
      "execution_count": 23,
      "outputs": [
        {
          "output_type": "stream",
          "text": [
            "['▁I', '▁didn', \"'\", 't', '▁at', '▁all', '▁think', '▁of', '▁it', '▁this', '▁way', '.']\n"
          ],
          "name": "stdout"
        }
      ]
    },
    {
      "cell_type": "code",
      "metadata": {
        "colab": {
          "base_uri": "https://localhost:8080/"
        },
        "id": "Jn2Kq1hERFJa",
        "outputId": "a8e16f07-e15e-47c8-bfa6-6923a3b18766"
      },
      "source": [
        "print(spp.encode_as_ids(line01))"
      ],
      "execution_count": 24,
      "outputs": [
        {
          "output_type": "stream",
          "text": [
            "[40, 588, 4949, 4926, 136, 175, 400, 30, 56, 77, 418, 4945]\n"
          ],
          "name": "stdout"
        }
      ]
    },
    {
      "cell_type": "code",
      "metadata": {
        "id": "zmPX5KZ9RJ6A"
      },
      "source": [
        ""
      ],
      "execution_count": null,
      "outputs": []
    }
  ]
}