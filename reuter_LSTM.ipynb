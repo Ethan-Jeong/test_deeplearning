{
  "nbformat": 4,
  "nbformat_minor": 0,
  "metadata": {
    "colab": {
      "name": "reuter_LSTM.ipynb",
      "provenance": [],
      "collapsed_sections": [],
      "authorship_tag": "ABX9TyP5BPK/LBI9XvlfVEWZUYPx",
      "include_colab_link": true
    },
    "kernelspec": {
      "name": "python3",
      "display_name": "Python 3"
    },
    "language_info": {
      "name": "python"
    }
  },
  "cells": [
    {
      "cell_type": "markdown",
      "metadata": {
        "id": "view-in-github",
        "colab_type": "text"
      },
      "source": [
        "<a href=\"https://colab.research.google.com/github/Ethan-Jeong/test_deeplearning/blob/master/reuter_LSTM.ipynb\" target=\"_parent\"><img src=\"https://colab.research.google.com/assets/colab-badge.svg\" alt=\"Open In Colab\"/></a>"
      ]
    },
    {
      "cell_type": "code",
      "metadata": {
        "id": "FeE9eLEB3I3j"
      },
      "source": [
        "import tensorflow as tf"
      ],
      "execution_count": 1,
      "outputs": []
    },
    {
      "cell_type": "code",
      "metadata": {
        "colab": {
          "base_uri": "https://localhost:8080/"
        },
        "id": "w2hkoozD5b5o",
        "outputId": "0897dcb7-8853-425c-a6cd-e872670548d9"
      },
      "source": [
        "(x_train,y_train),(x_test , y_test) = tf.keras.datasets.reuters.load_data(num_words=10000)\n",
        "x_train.shape , y_train.shape , x_test.shape , y_test.shape"
      ],
      "execution_count": 2,
      "outputs": [
        {
          "output_type": "stream",
          "text": [
            "Downloading data from https://storage.googleapis.com/tensorflow/tf-keras-datasets/reuters.npz\n",
            "2113536/2110848 [==============================] - 0s 0us/step\n"
          ],
          "name": "stdout"
        },
        {
          "output_type": "stream",
          "text": [
            "/usr/local/lib/python3.7/dist-packages/tensorflow/python/keras/datasets/reuters.py:143: VisibleDeprecationWarning: Creating an ndarray from ragged nested sequences (which is a list-or-tuple of lists-or-tuples-or ndarrays with different lengths or shapes) is deprecated. If you meant to do this, you must specify 'dtype=object' when creating the ndarray\n",
            "  x_train, y_train = np.array(xs[:idx]), np.array(labels[:idx])\n",
            "/usr/local/lib/python3.7/dist-packages/tensorflow/python/keras/datasets/reuters.py:144: VisibleDeprecationWarning: Creating an ndarray from ragged nested sequences (which is a list-or-tuple of lists-or-tuples-or ndarrays with different lengths or shapes) is deprecated. If you meant to do this, you must specify 'dtype=object' when creating the ndarray\n",
            "  x_test, y_test = np.array(xs[idx:]), np.array(labels[idx:])\n"
          ],
          "name": "stderr"
        },
        {
          "output_type": "execute_result",
          "data": {
            "text/plain": [
              "((8982,), (8982,), (2246,), (2246,))"
            ]
          },
          "metadata": {
            "tags": []
          },
          "execution_count": 2
        }
      ]
    },
    {
      "cell_type": "code",
      "metadata": {
        "colab": {
          "base_uri": "https://localhost:8080/"
        },
        "id": "eMHfoM376IfY",
        "outputId": "38f5a2c5-d382-415a-bd48-78073eb5a1f6"
      },
      "source": [
        "print(y_train[50] , x_train[50])"
      ],
      "execution_count": 3,
      "outputs": [
        {
          "output_type": "stream",
          "text": [
            "4 [1, 1479, 1197, 71, 8, 25, 1479, 1197, 640, 71, 304, 471, 80, 9, 1379, 1901, 4530, 6797, 79, 5, 8144, 71, 175, 80, 58, 4, 1279, 5, 63, 32, 20, 5, 4, 326, 175, 80, 335, 7, 10, 845, 31, 4, 221, 9, 108, 259, 1479, 1197, 640, 8, 16, 600, 69, 68, 11, 15, 6, 8144, 21, 397, 321, 6, 438, 1761, 3072, 79, 5, 8144, 1040, 894, 1051, 617, 80, 4, 617, 80, 23, 1051, 172, 3814, 3206, 8144, 175, 79, 9, 1379, 6, 264, 395, 3814, 3206, 79, 1479, 1197, 9, 25, 323, 8, 4, 8144, 80, 23, 381, 43, 42, 205, 50, 77, 33, 909, 9, 3509, 22, 216, 6, 216, 17, 12]\n"
          ],
          "name": "stdout"
        }
      ]
    },
    {
      "cell_type": "code",
      "metadata": {
        "colab": {
          "base_uri": "https://localhost:8080/"
        },
        "id": "FVnWKvRJ_Wg2",
        "outputId": "9005b5b1-f12d-4e97-8891-a093d2b77e1c"
      },
      "source": [
        "len(x_train[50]),len(x_train[100]),len(x_train[500]),len(x_train[1000])"
      ],
      "execution_count": 4,
      "outputs": [
        {
          "output_type": "execute_result",
          "data": {
            "text/plain": [
              "(118, 409, 170, 626)"
            ]
          },
          "metadata": {
            "tags": []
          },
          "execution_count": 4
        }
      ]
    },
    {
      "cell_type": "code",
      "metadata": {
        "colab": {
          "base_uri": "https://localhost:8080/"
        },
        "id": "9lhHDRYoB2_U",
        "outputId": "562e5f72-27f6-4788-c0d2-99ad55ae621e"
      },
      "source": [
        "pad_x_train = tf.keras.preprocessing.sequence.pad_sequences(x_train,maxlen=500)\n",
        "len(pad_x_train)"
      ],
      "execution_count": 5,
      "outputs": [
        {
          "output_type": "execute_result",
          "data": {
            "text/plain": [
              "8982"
            ]
          },
          "metadata": {
            "tags": []
          },
          "execution_count": 5
        }
      ]
    },
    {
      "cell_type": "code",
      "metadata": {
        "id": "QATyiTheEVdG"
      },
      "source": [
        "import numpy as np"
      ],
      "execution_count": 6,
      "outputs": []
    },
    {
      "cell_type": "code",
      "metadata": {
        "colab": {
          "base_uri": "https://localhost:8080/"
        },
        "id": "UGhxpi2YEYnL",
        "outputId": "02396cb7-c35b-4ed0-f28b-60f75f9b607d"
      },
      "source": [
        "np.unique(y_train) , len(np.unique(y_train))"
      ],
      "execution_count": 7,
      "outputs": [
        {
          "output_type": "execute_result",
          "data": {
            "text/plain": [
              "(array([ 0,  1,  2,  3,  4,  5,  6,  7,  8,  9, 10, 11, 12, 13, 14, 15, 16,\n",
              "        17, 18, 19, 20, 21, 22, 23, 24, 25, 26, 27, 28, 29, 30, 31, 32, 33,\n",
              "        34, 35, 36, 37, 38, 39, 40, 41, 42, 43, 44, 45]), 46)"
            ]
          },
          "metadata": {
            "tags": []
          },
          "execution_count": 7
        }
      ]
    },
    {
      "cell_type": "markdown",
      "metadata": {
        "id": "oTfFjoo07-Ap"
      },
      "source": [
        "# make model"
      ]
    },
    {
      "cell_type": "code",
      "metadata": {
        "id": "aRDCsYPR7wkl"
      },
      "source": [
        "model = tf.keras.models.Sequential()"
      ],
      "execution_count": 8,
      "outputs": []
    },
    {
      "cell_type": "code",
      "metadata": {
        "id": "mgv2K59J8CVX"
      },
      "source": [
        "model.add( tf.keras.layers.Embedding(input_length=500,input_dim=10000, output_dim=24) ) # output_dim , 차원의 숫자를 뜻하며 임의로 숫자 설정할수 있음 \n",
        "\n",
        "model.add( tf.keras.layers.LSTM( 24 , return_sequences=True, activation='tanh')) # 차원의 숫자를 넣으면 됨\n",
        "model.add( tf.keras.layers.LSTM( 12 , activation='tanh')) # 차원의 숫자를 넣으면 됨 , 임의의 숫자를 넣으면 됨 \n",
        "\n",
        "# model.add( tf.keras.layers.Flatten())\n",
        "model.add( tf.keras.layers.Dense(46,activation='softmax'))\n",
        "\n",
        "model.compile(optimizer='adam', loss='sparse_categorical_crossentropy' , metrics=['acc'])\n"
      ],
      "execution_count": 9,
      "outputs": []
    },
    {
      "cell_type": "code",
      "metadata": {
        "colab": {
          "base_uri": "https://localhost:8080/"
        },
        "id": "b1Mia8D9Hir5",
        "outputId": "217333d2-c9fc-46e8-9580-6af89afa25b7"
      },
      "source": [
        "# hist = model.fit( pad_x_train , y_train , epochs=5 , validation_split=0.3 , batch_size=128)\n",
        "hist = model.fit( pad_x_train , y_train , epochs=100 , validation_split=0.3 , batch_size=256)"
      ],
      "execution_count": 10,
      "outputs": [
        {
          "output_type": "stream",
          "text": [
            "Epoch 1/100\n",
            "25/25 [==============================] - 23s 760ms/step - loss: 3.7071 - acc: 0.3335 - val_loss: 3.4077 - val_acc: 0.3532\n",
            "Epoch 2/100\n",
            "25/25 [==============================] - 18s 735ms/step - loss: 3.2209 - acc: 0.3510 - val_loss: 2.9742 - val_acc: 0.3532\n",
            "Epoch 3/100\n",
            "25/25 [==============================] - 18s 735ms/step - loss: 2.8068 - acc: 0.3510 - val_loss: 2.6035 - val_acc: 0.3532\n",
            "Epoch 4/100\n",
            "25/25 [==============================] - 18s 727ms/step - loss: 2.5506 - acc: 0.3510 - val_loss: 2.4592 - val_acc: 0.3532\n",
            "Epoch 5/100\n",
            "25/25 [==============================] - 18s 728ms/step - loss: 2.4648 - acc: 0.3510 - val_loss: 2.4149 - val_acc: 0.3532\n",
            "Epoch 6/100\n",
            "25/25 [==============================] - 18s 729ms/step - loss: 2.4369 - acc: 0.3510 - val_loss: 2.3991 - val_acc: 0.3532\n",
            "Epoch 7/100\n",
            "25/25 [==============================] - 18s 732ms/step - loss: 2.4260 - acc: 0.3510 - val_loss: 2.3919 - val_acc: 0.3532\n",
            "Epoch 8/100\n",
            "25/25 [==============================] - 18s 729ms/step - loss: 2.4206 - acc: 0.3510 - val_loss: 2.3884 - val_acc: 0.3532\n",
            "Epoch 9/100\n",
            "25/25 [==============================] - 18s 732ms/step - loss: 2.4177 - acc: 0.3510 - val_loss: 2.3862 - val_acc: 0.3532\n",
            "Epoch 10/100\n",
            "25/25 [==============================] - 18s 732ms/step - loss: 2.4155 - acc: 0.3510 - val_loss: 2.3850 - val_acc: 0.3532\n",
            "Epoch 11/100\n",
            "25/25 [==============================] - 18s 734ms/step - loss: 2.4143 - acc: 0.3510 - val_loss: 2.3841 - val_acc: 0.3532\n",
            "Epoch 12/100\n",
            "25/25 [==============================] - 18s 734ms/step - loss: 2.4134 - acc: 0.3510 - val_loss: 2.3835 - val_acc: 0.3532\n",
            "Epoch 13/100\n",
            "25/25 [==============================] - 18s 736ms/step - loss: 2.4130 - acc: 0.3510 - val_loss: 2.3835 - val_acc: 0.3532\n",
            "Epoch 14/100\n",
            "25/25 [==============================] - 18s 731ms/step - loss: 2.4126 - acc: 0.3510 - val_loss: 2.3828 - val_acc: 0.3532\n",
            "Epoch 15/100\n",
            "25/25 [==============================] - 18s 737ms/step - loss: 2.4125 - acc: 0.3510 - val_loss: 2.3830 - val_acc: 0.3532\n",
            "Epoch 16/100\n",
            "25/25 [==============================] - 19s 744ms/step - loss: 2.4125 - acc: 0.3510 - val_loss: 2.3826 - val_acc: 0.3532\n",
            "Epoch 17/100\n",
            "25/25 [==============================] - 18s 735ms/step - loss: 2.4121 - acc: 0.3510 - val_loss: 2.3830 - val_acc: 0.3532\n",
            "Epoch 18/100\n",
            "25/25 [==============================] - 18s 730ms/step - loss: 2.4121 - acc: 0.3510 - val_loss: 2.3823 - val_acc: 0.3532\n",
            "Epoch 19/100\n",
            "25/25 [==============================] - 18s 738ms/step - loss: 2.4118 - acc: 0.3510 - val_loss: 2.3828 - val_acc: 0.3532\n",
            "Epoch 20/100\n",
            "25/25 [==============================] - 18s 733ms/step - loss: 2.4117 - acc: 0.3510 - val_loss: 2.3824 - val_acc: 0.3532\n",
            "Epoch 21/100\n",
            "25/25 [==============================] - 18s 734ms/step - loss: 2.4119 - acc: 0.3510 - val_loss: 2.3825 - val_acc: 0.3532\n",
            "Epoch 22/100\n",
            "25/25 [==============================] - 18s 738ms/step - loss: 2.4117 - acc: 0.3510 - val_loss: 2.3822 - val_acc: 0.3532\n",
            "Epoch 23/100\n",
            "25/25 [==============================] - 18s 735ms/step - loss: 2.4115 - acc: 0.3510 - val_loss: 2.3824 - val_acc: 0.3532\n",
            "Epoch 24/100\n",
            "25/25 [==============================] - 18s 732ms/step - loss: 2.4116 - acc: 0.3510 - val_loss: 2.3825 - val_acc: 0.3532\n",
            "Epoch 25/100\n",
            "25/25 [==============================] - 18s 736ms/step - loss: 2.4113 - acc: 0.3510 - val_loss: 2.3806 - val_acc: 0.3532\n",
            "Epoch 26/100\n",
            "25/25 [==============================] - 18s 729ms/step - loss: 2.4105 - acc: 0.3510 - val_loss: 2.3823 - val_acc: 0.3532\n",
            "Epoch 27/100\n",
            "25/25 [==============================] - 18s 733ms/step - loss: 2.4119 - acc: 0.3510 - val_loss: 2.3820 - val_acc: 0.3532\n",
            "Epoch 28/100\n",
            "25/25 [==============================] - 19s 745ms/step - loss: 2.4116 - acc: 0.3510 - val_loss: 2.3824 - val_acc: 0.3532\n",
            "Epoch 29/100\n",
            "25/25 [==============================] - 19s 745ms/step - loss: 2.4117 - acc: 0.3510 - val_loss: 2.3821 - val_acc: 0.3532\n",
            "Epoch 30/100\n",
            "25/25 [==============================] - 18s 737ms/step - loss: 2.4116 - acc: 0.3510 - val_loss: 2.3825 - val_acc: 0.3532\n",
            "Epoch 31/100\n",
            "25/25 [==============================] - 18s 734ms/step - loss: 2.4116 - acc: 0.3510 - val_loss: 2.3825 - val_acc: 0.3532\n",
            "Epoch 32/100\n",
            "25/25 [==============================] - 18s 738ms/step - loss: 2.4119 - acc: 0.3510 - val_loss: 2.3824 - val_acc: 0.3532\n",
            "Epoch 33/100\n",
            "25/25 [==============================] - 18s 738ms/step - loss: 2.4113 - acc: 0.3510 - val_loss: 2.3818 - val_acc: 0.3532\n",
            "Epoch 34/100\n",
            "25/25 [==============================] - 18s 742ms/step - loss: 2.4107 - acc: 0.3510 - val_loss: 2.3804 - val_acc: 0.3532\n",
            "Epoch 35/100\n",
            "25/25 [==============================] - 18s 737ms/step - loss: 2.4053 - acc: 0.3510 - val_loss: 2.3666 - val_acc: 0.3532\n",
            "Epoch 36/100\n",
            "25/25 [==============================] - 18s 734ms/step - loss: 2.3225 - acc: 0.3582 - val_loss: 2.2018 - val_acc: 0.3614\n",
            "Epoch 37/100\n",
            "25/25 [==============================] - 18s 735ms/step - loss: 2.1353 - acc: 0.3566 - val_loss: 2.0785 - val_acc: 0.3570\n",
            "Epoch 38/100\n",
            "25/25 [==============================] - 18s 735ms/step - loss: 2.0049 - acc: 0.4023 - val_loss: 2.0026 - val_acc: 0.4675\n",
            "Epoch 39/100\n",
            "25/25 [==============================] - 18s 734ms/step - loss: 1.8935 - acc: 0.4974 - val_loss: 1.9382 - val_acc: 0.4946\n",
            "Epoch 40/100\n",
            "25/25 [==============================] - 18s 734ms/step - loss: 1.7933 - acc: 0.5352 - val_loss: 1.8713 - val_acc: 0.5202\n",
            "Epoch 41/100\n",
            "25/25 [==============================] - 18s 731ms/step - loss: 1.7095 - acc: 0.5564 - val_loss: 1.8449 - val_acc: 0.5206\n",
            "Epoch 42/100\n",
            "25/25 [==============================] - 18s 732ms/step - loss: 1.6357 - acc: 0.5740 - val_loss: 1.8130 - val_acc: 0.5236\n",
            "Epoch 43/100\n",
            "25/25 [==============================] - 18s 732ms/step - loss: 1.5635 - acc: 0.5794 - val_loss: 1.7959 - val_acc: 0.5377\n",
            "Epoch 44/100\n",
            "25/25 [==============================] - 18s 735ms/step - loss: 1.5221 - acc: 0.5903 - val_loss: 1.8081 - val_acc: 0.5117\n",
            "Epoch 45/100\n",
            "25/25 [==============================] - 18s 742ms/step - loss: 1.4753 - acc: 0.6003 - val_loss: 1.7944 - val_acc: 0.5232\n",
            "Epoch 46/100\n",
            "25/25 [==============================] - 18s 730ms/step - loss: 1.4192 - acc: 0.6227 - val_loss: 1.7823 - val_acc: 0.5351\n",
            "Epoch 47/100\n",
            "25/25 [==============================] - 18s 731ms/step - loss: 1.3641 - acc: 0.6464 - val_loss: 1.7770 - val_acc: 0.5458\n",
            "Epoch 48/100\n",
            "25/25 [==============================] - 18s 736ms/step - loss: 1.3326 - acc: 0.6553 - val_loss: 1.7690 - val_acc: 0.5581\n",
            "Epoch 49/100\n",
            "25/25 [==============================] - 18s 733ms/step - loss: 1.3059 - acc: 0.6641 - val_loss: 1.7661 - val_acc: 0.5566\n",
            "Epoch 50/100\n",
            "25/25 [==============================] - 18s 733ms/step - loss: 1.2617 - acc: 0.6736 - val_loss: 1.7727 - val_acc: 0.5521\n",
            "Epoch 51/100\n",
            "25/25 [==============================] - 18s 739ms/step - loss: 1.2334 - acc: 0.6830 - val_loss: 1.8205 - val_acc: 0.5362\n",
            "Epoch 52/100\n",
            "25/25 [==============================] - 18s 738ms/step - loss: 1.2489 - acc: 0.6609 - val_loss: 1.8212 - val_acc: 0.5388\n",
            "Epoch 53/100\n",
            "25/25 [==============================] - 18s 734ms/step - loss: 1.1978 - acc: 0.6903 - val_loss: 1.7972 - val_acc: 0.5573\n",
            "Epoch 54/100\n",
            "25/25 [==============================] - 18s 734ms/step - loss: 1.1634 - acc: 0.6967 - val_loss: 1.8209 - val_acc: 0.5403\n",
            "Epoch 55/100\n",
            "25/25 [==============================] - 18s 738ms/step - loss: 1.1383 - acc: 0.6991 - val_loss: 1.8117 - val_acc: 0.5518\n",
            "Epoch 56/100\n",
            "25/25 [==============================] - 18s 739ms/step - loss: 1.1334 - acc: 0.7011 - val_loss: 1.8290 - val_acc: 0.5514\n",
            "Epoch 57/100\n",
            "25/25 [==============================] - 18s 730ms/step - loss: 1.1643 - acc: 0.6879 - val_loss: 1.8339 - val_acc: 0.5506\n",
            "Epoch 58/100\n",
            "25/25 [==============================] - 18s 734ms/step - loss: 1.1045 - acc: 0.7059 - val_loss: 1.8434 - val_acc: 0.5484\n",
            "Epoch 59/100\n",
            "25/25 [==============================] - 18s 730ms/step - loss: 1.0894 - acc: 0.7011 - val_loss: 1.8156 - val_acc: 0.5532\n",
            "Epoch 60/100\n",
            "25/25 [==============================] - 18s 733ms/step - loss: 1.0564 - acc: 0.7189 - val_loss: 1.8418 - val_acc: 0.5514\n",
            "Epoch 61/100\n",
            "25/25 [==============================] - 18s 733ms/step - loss: 1.0429 - acc: 0.7207 - val_loss: 1.8569 - val_acc: 0.5436\n",
            "Epoch 62/100\n",
            "25/25 [==============================] - 18s 727ms/step - loss: 1.0322 - acc: 0.7286 - val_loss: 1.8626 - val_acc: 0.5458\n",
            "Epoch 63/100\n",
            "25/25 [==============================] - 18s 727ms/step - loss: 1.0082 - acc: 0.7314 - val_loss: 1.8528 - val_acc: 0.5558\n",
            "Epoch 64/100\n",
            "25/25 [==============================] - 18s 731ms/step - loss: 1.0077 - acc: 0.7317 - val_loss: 1.9516 - val_acc: 0.5184\n",
            "Epoch 65/100\n",
            "25/25 [==============================] - 18s 733ms/step - loss: 1.0117 - acc: 0.7344 - val_loss: 1.8715 - val_acc: 0.5521\n",
            "Epoch 66/100\n",
            "25/25 [==============================] - 18s 728ms/step - loss: 0.9765 - acc: 0.7439 - val_loss: 1.8724 - val_acc: 0.5525\n",
            "Epoch 67/100\n",
            "25/25 [==============================] - 18s 729ms/step - loss: 0.9724 - acc: 0.7455 - val_loss: 1.8824 - val_acc: 0.5577\n",
            "Epoch 68/100\n",
            "25/25 [==============================] - 18s 735ms/step - loss: 0.9653 - acc: 0.7460 - val_loss: 1.8827 - val_acc: 0.5573\n",
            "Epoch 69/100\n",
            "25/25 [==============================] - 18s 735ms/step - loss: 0.9405 - acc: 0.7587 - val_loss: 1.8950 - val_acc: 0.5558\n",
            "Epoch 70/100\n",
            "25/25 [==============================] - 18s 731ms/step - loss: 0.9299 - acc: 0.7560 - val_loss: 1.9082 - val_acc: 0.5510\n",
            "Epoch 71/100\n",
            "25/25 [==============================] - 18s 731ms/step - loss: 0.9154 - acc: 0.7644 - val_loss: 1.9026 - val_acc: 0.5551\n",
            "Epoch 72/100\n",
            "25/25 [==============================] - 18s 732ms/step - loss: 0.8991 - acc: 0.7743 - val_loss: 1.9316 - val_acc: 0.5466\n",
            "Epoch 73/100\n",
            "25/25 [==============================] - 18s 732ms/step - loss: 0.8859 - acc: 0.7716 - val_loss: 1.9283 - val_acc: 0.5462\n",
            "Epoch 74/100\n",
            "25/25 [==============================] - 18s 730ms/step - loss: 0.8769 - acc: 0.7830 - val_loss: 1.9313 - val_acc: 0.5525\n",
            "Epoch 75/100\n",
            "25/25 [==============================] - 18s 736ms/step - loss: 0.8662 - acc: 0.7837 - val_loss: 1.9420 - val_acc: 0.5518\n",
            "Epoch 76/100\n",
            "25/25 [==============================] - 18s 737ms/step - loss: 0.8523 - acc: 0.7929 - val_loss: 1.9365 - val_acc: 0.5555\n",
            "Epoch 77/100\n",
            "25/25 [==============================] - 18s 735ms/step - loss: 0.8403 - acc: 0.7932 - val_loss: 1.9594 - val_acc: 0.5469\n",
            "Epoch 78/100\n",
            "25/25 [==============================] - 18s 732ms/step - loss: 0.8288 - acc: 0.8002 - val_loss: 1.9396 - val_acc: 0.5599\n",
            "Epoch 79/100\n",
            "25/25 [==============================] - 18s 731ms/step - loss: 0.8198 - acc: 0.8010 - val_loss: 1.9525 - val_acc: 0.5622\n",
            "Epoch 80/100\n",
            "25/25 [==============================] - 18s 732ms/step - loss: 0.8170 - acc: 0.8004 - val_loss: 1.9627 - val_acc: 0.5551\n",
            "Epoch 81/100\n",
            "25/25 [==============================] - 18s 734ms/step - loss: 0.8036 - acc: 0.8024 - val_loss: 1.9593 - val_acc: 0.5618\n",
            "Epoch 82/100\n",
            "25/25 [==============================] - 18s 730ms/step - loss: 0.7995 - acc: 0.8056 - val_loss: 1.9736 - val_acc: 0.5577\n",
            "Epoch 83/100\n",
            "25/25 [==============================] - 18s 727ms/step - loss: 0.7850 - acc: 0.8141 - val_loss: 1.9767 - val_acc: 0.5562\n",
            "Epoch 84/100\n",
            "25/25 [==============================] - 18s 729ms/step - loss: 0.7772 - acc: 0.8144 - val_loss: 1.9993 - val_acc: 0.5510\n",
            "Epoch 85/100\n",
            "25/25 [==============================] - 18s 732ms/step - loss: 0.7878 - acc: 0.8042 - val_loss: 1.9886 - val_acc: 0.5584\n",
            "Epoch 86/100\n",
            "25/25 [==============================] - 18s 735ms/step - loss: 0.7892 - acc: 0.8071 - val_loss: 1.9991 - val_acc: 0.5525\n",
            "Epoch 87/100\n",
            "25/25 [==============================] - 18s 733ms/step - loss: 0.7934 - acc: 0.8024 - val_loss: 1.9898 - val_acc: 0.5495\n",
            "Epoch 88/100\n",
            "25/25 [==============================] - 18s 734ms/step - loss: 0.7975 - acc: 0.8012 - val_loss: 1.9630 - val_acc: 0.5792\n",
            "Epoch 89/100\n",
            "25/25 [==============================] - 18s 729ms/step - loss: 0.7708 - acc: 0.8099 - val_loss: 1.9608 - val_acc: 0.5703\n",
            "Epoch 90/100\n",
            "25/25 [==============================] - 18s 729ms/step - loss: 0.7767 - acc: 0.8055 - val_loss: 1.9455 - val_acc: 0.5807\n",
            "Epoch 91/100\n",
            "25/25 [==============================] - 18s 732ms/step - loss: 0.7452 - acc: 0.8185 - val_loss: 2.0236 - val_acc: 0.5573\n",
            "Epoch 92/100\n",
            "25/25 [==============================] - 18s 736ms/step - loss: 0.7316 - acc: 0.8220 - val_loss: 1.9620 - val_acc: 0.5774\n",
            "Epoch 93/100\n",
            "25/25 [==============================] - 18s 734ms/step - loss: 0.7167 - acc: 0.8295 - val_loss: 1.9868 - val_acc: 0.5766\n",
            "Epoch 94/100\n",
            "25/25 [==============================] - 18s 733ms/step - loss: 0.7047 - acc: 0.8306 - val_loss: 2.0087 - val_acc: 0.5647\n",
            "Epoch 95/100\n",
            "25/25 [==============================] - 18s 726ms/step - loss: 0.6921 - acc: 0.8360 - val_loss: 1.9860 - val_acc: 0.5759\n",
            "Epoch 96/100\n",
            "25/25 [==============================] - 18s 728ms/step - loss: 0.6785 - acc: 0.8379 - val_loss: 2.0026 - val_acc: 0.5696\n",
            "Epoch 97/100\n",
            "25/25 [==============================] - 18s 733ms/step - loss: 0.6652 - acc: 0.8378 - val_loss: 1.9960 - val_acc: 0.5744\n",
            "Epoch 98/100\n",
            "25/25 [==============================] - 18s 731ms/step - loss: 0.6559 - acc: 0.8518 - val_loss: 2.0038 - val_acc: 0.5740\n",
            "Epoch 99/100\n",
            "25/25 [==============================] - 18s 732ms/step - loss: 0.6435 - acc: 0.8546 - val_loss: 2.0010 - val_acc: 0.5733\n",
            "Epoch 100/100\n",
            "25/25 [==============================] - 18s 730ms/step - loss: 0.6376 - acc: 0.8564 - val_loss: 2.0140 - val_acc: 0.5755\n"
          ],
          "name": "stdout"
        }
      ]
    },
    {
      "cell_type": "markdown",
      "metadata": {
        "id": "wCCIM5VoRpwP"
      },
      "source": [
        "# Evaluation"
      ]
    },
    {
      "cell_type": "code",
      "metadata": {
        "colab": {
          "base_uri": "https://localhost:8080/"
        },
        "id": "7dEYJdvFPzPL",
        "outputId": "119ee1dd-de67-4706-f08e-cb7e9853ee6f"
      },
      "source": [
        "model.evaluate( pad_x_train, y_train) "
      ],
      "execution_count": 11,
      "outputs": [
        {
          "output_type": "stream",
          "text": [
            "281/281 [==============================] - 18s 63ms/step - loss: 1.0433 - acc: 0.7747\n"
          ],
          "name": "stdout"
        },
        {
          "output_type": "execute_result",
          "data": {
            "text/plain": [
              "[1.0433140993118286, 0.7746604084968567]"
            ]
          },
          "metadata": {
            "tags": []
          },
          "execution_count": 11
        }
      ]
    },
    {
      "cell_type": "code",
      "metadata": {
        "id": "npRxRmMiUv1t"
      },
      "source": [
        "pad_x_train = tf.keras.preprocessing.sequence.pad_sequences(x_train,maxlen=500)\n",
        "pad_x_test = tf.keras.preprocessing.sequence.pad_sequences(x_test,maxlen=500)"
      ],
      "execution_count": 12,
      "outputs": []
    },
    {
      "cell_type": "code",
      "metadata": {
        "id": "7grhYoZoXKNO"
      },
      "source": [
        "def pad_make(x_data):\n",
        "  pad_x = tf.keras.preprocessing.sequence.pad_sequences(x_data,maxlen=500)\n",
        "  return pad_x"
      ],
      "execution_count": 13,
      "outputs": []
    },
    {
      "cell_type": "code",
      "metadata": {
        "id": "ov9Vc2RMX7B5"
      },
      "source": [
        "pad_make_x = pad_make(x_test)"
      ],
      "execution_count": 14,
      "outputs": []
    },
    {
      "cell_type": "code",
      "metadata": {
        "colab": {
          "base_uri": "https://localhost:8080/"
        },
        "id": "INte7KiHYOVC",
        "outputId": "def3f844-207e-468f-8dc4-77ba064b1b60"
      },
      "source": [
        "model.evaluate(pad_make_x,y_test)"
      ],
      "execution_count": 15,
      "outputs": [
        {
          "output_type": "stream",
          "text": [
            "71/71 [==============================] - 5s 64ms/step - loss: 2.1985 - acc: 0.5476\n"
          ],
          "name": "stdout"
        },
        {
          "output_type": "execute_result",
          "data": {
            "text/plain": [
              "[2.198503017425537, 0.5476402640342712]"
            ]
          },
          "metadata": {
            "tags": []
          },
          "execution_count": 15
        }
      ]
    },
    {
      "cell_type": "code",
      "metadata": {
        "colab": {
          "base_uri": "https://localhost:8080/"
        },
        "id": "5Aelb5YARwQ1",
        "outputId": "5617d3ce-0fda-4c2f-b7ce-8de2d2ac2ccc"
      },
      "source": [
        "model.evaluate( pad_x_test , y_test)"
      ],
      "execution_count": 16,
      "outputs": [
        {
          "output_type": "stream",
          "text": [
            "71/71 [==============================] - 4s 63ms/step - loss: 2.1985 - acc: 0.5476\n"
          ],
          "name": "stdout"
        },
        {
          "output_type": "execute_result",
          "data": {
            "text/plain": [
              "[2.198503017425537, 0.5476402640342712]"
            ]
          },
          "metadata": {
            "tags": []
          },
          "execution_count": 16
        }
      ]
    },
    {
      "cell_type": "code",
      "metadata": {
        "id": "Bql5wCZEVCwi"
      },
      "source": [
        "import matplotlib.pyplot as plt"
      ],
      "execution_count": 17,
      "outputs": []
    },
    {
      "cell_type": "code",
      "metadata": {
        "colab": {
          "base_uri": "https://localhost:8080/",
          "height": 265
        },
        "id": "R_6GVOaaVo-s",
        "outputId": "7942a834-0a82-45d5-ade4-c53aaee4d646"
      },
      "source": [
        "plt.plot(hist.history['loss'])\n",
        "plt.plot(hist.history['val_loss'])\n",
        "plt.show()"
      ],
      "execution_count": 18,
      "outputs": [
        {
          "output_type": "display_data",
          "data": {
            "image/png": "[encoded data removed]",
            "text/plain": [
              "<Figure size 432x288 with 1 Axes>"
            ]
          },
          "metadata": {
            "tags": [],
            "needs_background": "light"
          }
        }
      ]
    },
    {
      "cell_type": "code",
      "metadata": {
        "colab": {
          "base_uri": "https://localhost:8080/",
          "height": 283
        },
        "id": "vOPtQbSTWFPK",
        "outputId": "d2a27b0e-42e8-47f0-a1db-4d01f19c3b48"
      },
      "source": [
        "plt.plot(hist.history['acc'])\n",
        "plt.plot(hist.history['val_acc'])"
      ],
      "execution_count": 19,
      "outputs": [
        {
          "output_type": "execute_result",
          "data": {
            "text/plain": [
              "[<matplotlib.lines.Line2D at 0x7fc66a6873d0>]"
            ]
          },
          "metadata": {
            "tags": []
          },
          "execution_count": 19
        },
        {
          "output_type": "display_data",
          "data": {
            "image/png": "[encoded data removed]",
            "text/plain": [
              "<Figure size 432x288 with 1 Axes>"
            ]
          },
          "metadata": {
            "tags": [],
            "needs_background": "light"
          }
        }
      ]
    },
    {
      "cell_type": "code",
      "metadata": {
        "id": "vOsypt8sWVhX"
      },
      "source": [
        "from sklearn.metrics import classification_report"
      ],
      "execution_count": 23,
      "outputs": []
    },
    {
      "cell_type": "code",
      "metadata": {
        "colab": {
          "base_uri": "https://localhost:8080/"
        },
        "id": "54nSsPG2p7-Y",
        "outputId": "1ff4a0a5-c105-44d4-8b3c-80e5166b8147"
      },
      "source": [
        "y_train_pred = model.predict(pad_x_train)\n",
        "y_train_pred[0]"
      ],
      "execution_count": 24,
      "outputs": [
        {
          "output_type": "execute_result",
          "data": {
            "text/plain": [
              "array([8.5432759e-05, 2.7134684e-03, 3.2009855e-05, 9.6355569e-01,\n",
              "       1.6289251e-02, 3.6405276e-05, 6.2834675e-05, 5.6618373e-05,\n",
              "       4.1498311e-04, 1.6279760e-04, 5.2553264e-04, 4.0665148e-03,\n",
              "       8.8073510e-05, 4.6801500e-04, 3.0174038e-05, 6.2761195e-05,\n",
              "       5.4771136e-03, 5.0288028e-05, 9.1918046e-05, 9.5723994e-04,\n",
              "       3.4188226e-04, 2.5260969e-04, 4.8438327e-05, 8.9691799e-05,\n",
              "       7.4981908e-05, 1.5175404e-04, 4.4863973e-05, 3.1811531e-05,\n",
              "       1.4269910e-03, 8.7866538e-05, 7.0859482e-05, 1.6873618e-04,\n",
              "       4.7464404e-05, 4.2504802e-05, 8.4040403e-05, 7.4903073e-05,\n",
              "       7.8229385e-04, 2.2893415e-05, 1.7987551e-04, 4.9755035e-04,\n",
              "       2.0467873e-05, 2.6670863e-05, 1.3559703e-04, 2.4475423e-05,\n",
              "       1.6731890e-05, 2.6764681e-05], dtype=float32)"
            ]
          },
          "metadata": {
            "tags": []
          },
          "execution_count": 24
        }
      ]
    },
    {
      "cell_type": "code",
      "metadata": {
        "id": "ug5vuXGwqNcP"
      },
      "source": [
        "import numpy as np"
      ],
      "execution_count": 25,
      "outputs": []
    },
    {
      "cell_type": "code",
      "metadata": {
        "colab": {
          "base_uri": "https://localhost:8080/"
        },
        "id": "p5JV5y4QqYAN",
        "outputId": "db86b19e-9633-409e-959a-32da2d8b51b5"
      },
      "source": [
        "y_pred = np.argmax(y_train_pred,axis=1)\n",
        "y_pred.shape"
      ],
      "execution_count": 29,
      "outputs": [
        {
          "output_type": "execute_result",
          "data": {
            "text/plain": [
              "(8982,)"
            ]
          },
          "metadata": {
            "tags": []
          },
          "execution_count": 29
        }
      ]
    },
    {
      "cell_type": "code",
      "metadata": {
        "id": "_yhDRiAnqkj4"
      },
      "source": [
        "print(classification_report(y_train,y_pred))"
      ],
      "execution_count": null,
      "outputs": []
    },
    {
      "cell_type": "code",
      "metadata": {
        "id": "4CAQpjwOq231"
      },
      "source": [
        "y_test_pred = model.predict(pad_x_test)"
      ],
      "execution_count": 32,
      "outputs": []
    },
    {
      "cell_type": "code",
      "metadata": {
        "id": "WguvVY1stAmz"
      },
      "source": [
        "y_pred = np.argmax(y_test_pred,axis=1)"
      ],
      "execution_count": 36,
      "outputs": []
    },
    {
      "cell_type": "code",
      "metadata": {
        "colab": {
          "base_uri": "https://localhost:8080/"
        },
        "id": "is8m9oxJtN5S",
        "outputId": "dd657443-0874-4da5-fd48-463e4e322342"
      },
      "source": [
        "print(classification_report(y_test,y_pred))"
      ],
      "execution_count": 37,
      "outputs": [
        {
          "output_type": "stream",
          "text": [
            "              precision    recall  f1-score   support\n",
            "\n",
            "           0       0.00      0.00      0.00        12\n",
            "           1       0.27      0.27      0.27       105\n",
            "           2       0.08      0.10      0.09        20\n",
            "           3       0.87      0.90      0.88       813\n",
            "           4       0.74      0.67      0.70       474\n",
            "           5       0.00      0.00      0.00         5\n",
            "           6       0.00      0.00      0.00        14\n",
            "           7       0.00      0.00      0.00         3\n",
            "           8       0.16      0.26      0.20        38\n",
            "           9       0.11      0.32      0.16        25\n",
            "          10       0.12      0.17      0.14        30\n",
            "          11       0.19      0.27      0.22        83\n",
            "          12       0.00      0.00      0.00        13\n",
            "          13       0.05      0.08      0.06        37\n",
            "          14       0.00      0.00      0.00         2\n",
            "          15       0.00      0.00      0.00         9\n",
            "          16       0.17      0.28      0.21        99\n",
            "          17       0.00      0.00      0.00        12\n",
            "          18       0.12      0.10      0.11        20\n",
            "          19       0.38      0.41      0.39       133\n",
            "          20       0.19      0.17      0.18        70\n",
            "          21       0.13      0.22      0.17        27\n",
            "          22       0.00      0.00      0.00         7\n",
            "          23       0.00      0.00      0.00        12\n",
            "          24       0.08      0.11      0.09        19\n",
            "          25       0.06      0.03      0.04        31\n",
            "          26       0.00      0.00      0.00         8\n",
            "          27       0.00      0.00      0.00         4\n",
            "          28       0.00      0.00      0.00        10\n",
            "          29       0.00      0.00      0.00         4\n",
            "          30       0.00      0.00      0.00        12\n",
            "          31       0.00      0.00      0.00        13\n",
            "          32       0.00      0.00      0.00        10\n",
            "          33       0.00      0.00      0.00         5\n",
            "          34       0.00      0.00      0.00         7\n",
            "          35       0.00      0.00      0.00         6\n",
            "          36       0.17      0.09      0.12        11\n",
            "          37       0.00      0.00      0.00         2\n",
            "          38       0.00      0.00      0.00         3\n",
            "          39       0.00      0.00      0.00         5\n",
            "          40       0.00      0.00      0.00        10\n",
            "          41       0.00      0.00      0.00         8\n",
            "          42       0.00      0.00      0.00         3\n",
            "          43       0.00      0.00      0.00         6\n",
            "          44       0.00      0.00      0.00         5\n",
            "          45       0.00      0.00      0.00         1\n",
            "\n",
            "    accuracy                           0.55      2246\n",
            "   macro avg       0.08      0.10      0.09      2246\n",
            "weighted avg       0.54      0.55      0.54      2246\n",
            "\n"
          ],
          "name": "stdout"
        },
        {
          "output_type": "stream",
          "text": [
            "/usr/local/lib/python3.7/dist-packages/sklearn/metrics/_classification.py:1272: UndefinedMetricWarning: Precision and F-score are ill-defined and being set to 0.0 in labels with no predicted samples. Use `zero_division` parameter to control this behavior.\n",
            "  _warn_prf(average, modifier, msg_start, len(result))\n"
          ],
          "name": "stderr"
        }
      ]
    },
    {
      "cell_type": "code",
      "metadata": {
        "id": "ZhxZuUmotkwH"
      },
      "source": [
        ""
      ],
      "execution_count": null,
      "outputs": []
    }
  ]
}