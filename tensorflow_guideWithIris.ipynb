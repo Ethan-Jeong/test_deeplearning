{
  "nbformat": 4,
  "nbformat_minor": 0,
  "metadata": {
    "colab": {
      "name": "tensorflow_guideWithIris.ipynb",
      "provenance": [],
      "collapsed_sections": [],
      "authorship_tag": "ABX9TyNHO6KwM39qmyVZM3VJiKQQ",
      "include_colab_link": true
    },
    "kernelspec": {
      "name": "python3",
      "display_name": "Python 3"
    },
    "language_info": {
      "name": "python"
    }
  },
  "cells": [
    {
      "cell_type": "markdown",
      "metadata": {
        "id": "view-in-github",
        "colab_type": "text"
      },
      "source": [
        "<a href=\"https://colab.research.google.com/github/Ethan-Jeong/test_deeplearning/blob/master/tensorflow_guideWithIris.ipynb\" target=\"_parent\"><img src=\"https://colab.research.google.com/assets/colab-badge.svg\" alt=\"Open In Colab\"/></a>"
      ]
    },
    {
      "cell_type": "code",
      "metadata": {
        "id": "W4Oen6JF-1zM"
      },
      "source": [
        "from sklearn import datasets"
      ],
      "execution_count": 1,
      "outputs": []
    },
    {
      "cell_type": "code",
      "metadata": {
        "id": "ocBuFmzl_ZoZ"
      },
      "source": [
        "iris = datasets.load_iris()"
      ],
      "execution_count": 2,
      "outputs": []
    },
    {
      "cell_type": "code",
      "metadata": {
        "id": "PIj9UIYyAIJx"
      },
      "source": [
        "import pandas as pd"
      ],
      "execution_count": 3,
      "outputs": []
    },
    {
      "cell_type": "code",
      "metadata": {
        "colab": {
          "base_uri": "https://localhost:8080/"
        },
        "id": "s130FQj3AKQC",
        "outputId": "ff0863f7-5d77-4095-ff9d-11cccce840ed"
      },
      "source": [
        "df_iris = pd.DataFrame(iris.data)\n",
        "df_iris.info()"
      ],
      "execution_count": 6,
      "outputs": [
        {
          "output_type": "stream",
          "text": [
            "<class 'pandas.core.frame.DataFrame'>\n",
            "RangeIndex: 150 entries, 0 to 149\n",
            "Data columns (total 4 columns):\n",
            " #   Column  Non-Null Count  Dtype  \n",
            "---  ------  --------------  -----  \n",
            " 0   0       150 non-null    float64\n",
            " 1   1       150 non-null    float64\n",
            " 2   2       150 non-null    float64\n",
            " 3   3       150 non-null    float64\n",
            "dtypes: float64(4)\n",
            "memory usage: 4.8 KB\n"
          ],
          "name": "stdout"
        }
      ]
    },
    {
      "cell_type": "code",
      "metadata": {
        "id": "rGEgEwkKARZ7"
      },
      "source": [
        "import sqlite3\n",
        "connect = sqlite3.connect('./db.sqlite3')\n",
        "df_iris.to_sql('iris_resource',connect,if_exists='append',index=False)"
      ],
      "execution_count": 7,
      "outputs": []
    },
    {
      "cell_type": "code",
      "metadata": {
        "colab": {
          "base_uri": "https://localhost:8080/",
          "height": 173
        },
        "id": "6nXTkJHyCYk6",
        "outputId": "bc1b99fe-313b-4569-ed8b-6e217acdb836"
      },
      "source": [
        "df_load = pd.read_sql_query('select * from iris_resource ' , connect )\n",
        "df_load.head(4)"
      ],
      "execution_count": 8,
      "outputs": [
        {
          "output_type": "execute_result",
          "data": {
            "text/html": [
              "<div>\n",
              "<style scoped>\n",
              "    .dataframe tbody tr th:only-of-type {\n",
              "        vertical-align: middle;\n",
              "    }\n",
              "\n",
              "    .dataframe tbody tr th {\n",
              "        vertical-align: top;\n",
              "    }\n",
              "\n",
              "    .dataframe thead th {\n",
              "        text-align: right;\n",
              "    }\n",
              "</style>\n",
              "<table border=\"1\" class=\"dataframe\">\n",
              "  <thead>\n",
              "    <tr style=\"text-align: right;\">\n",
              "      <th></th>\n",
              "      <th>0</th>\n",
              "      <th>1</th>\n",
              "      <th>2</th>\n",
              "      <th>3</th>\n",
              "    </tr>\n",
              "  </thead>\n",
              "  <tbody>\n",
              "    <tr>\n",
              "      <th>0</th>\n",
              "      <td>5.1</td>\n",
              "      <td>3.5</td>\n",
              "      <td>1.4</td>\n",
              "      <td>0.2</td>\n",
              "    </tr>\n",
              "    <tr>\n",
              "      <th>1</th>\n",
              "      <td>4.9</td>\n",
              "      <td>3.0</td>\n",
              "      <td>1.4</td>\n",
              "      <td>0.2</td>\n",
              "    </tr>\n",
              "    <tr>\n",
              "      <th>2</th>\n",
              "      <td>4.7</td>\n",
              "      <td>3.2</td>\n",
              "      <td>1.3</td>\n",
              "      <td>0.2</td>\n",
              "    </tr>\n",
              "    <tr>\n",
              "      <th>3</th>\n",
              "      <td>4.6</td>\n",
              "      <td>3.1</td>\n",
              "      <td>1.5</td>\n",
              "      <td>0.2</td>\n",
              "    </tr>\n",
              "  </tbody>\n",
              "</table>\n",
              "</div>"
            ],
            "text/plain": [
              "     0    1    2    3\n",
              "0  5.1  3.5  1.4  0.2\n",
              "1  4.9  3.0  1.4  0.2\n",
              "2  4.7  3.2  1.3  0.2\n",
              "3  4.6  3.1  1.5  0.2"
            ]
          },
          "metadata": {
            "tags": []
          },
          "execution_count": 8
        }
      ]
    },
    {
      "cell_type": "code",
      "metadata": {
        "colab": {
          "base_uri": "https://localhost:8080/"
        },
        "id": "feOc_CD7DB2O",
        "outputId": "1738d7f5-0a86-48ce-d7fa-1788240fae5c"
      },
      "source": [
        "x_data = df_load.to_numpy()\n",
        "x_data.shape"
      ],
      "execution_count": 9,
      "outputs": [
        {
          "output_type": "execute_result",
          "data": {
            "text/plain": [
              "(150, 4)"
            ]
          },
          "metadata": {
            "tags": []
          },
          "execution_count": 9
        }
      ]
    },
    {
      "cell_type": "code",
      "metadata": {
        "id": "IQRsVOkIWMA_"
      },
      "source": [
        "import numpy as np"
      ],
      "execution_count": 15,
      "outputs": []
    },
    {
      "cell_type": "code",
      "metadata": {
        "colab": {
          "base_uri": "https://localhost:8080/"
        },
        "id": "BD4RQDFBDlff",
        "outputId": "c21a3407-f87c-4a1b-9a64-dba47944814a"
      },
      "source": [
        "y_data = iris.target\n",
        "y_data , np.unique(y_data)"
      ],
      "execution_count": 17,
      "outputs": [
        {
          "output_type": "execute_result",
          "data": {
            "text/plain": [
              "(array([0, 0, 0, 0, 0, 0, 0, 0, 0, 0, 0, 0, 0, 0, 0, 0, 0, 0, 0, 0, 0, 0,\n",
              "        0, 0, 0, 0, 0, 0, 0, 0, 0, 0, 0, 0, 0, 0, 0, 0, 0, 0, 0, 0, 0, 0,\n",
              "        0, 0, 0, 0, 0, 0, 1, 1, 1, 1, 1, 1, 1, 1, 1, 1, 1, 1, 1, 1, 1, 1,\n",
              "        1, 1, 1, 1, 1, 1, 1, 1, 1, 1, 1, 1, 1, 1, 1, 1, 1, 1, 1, 1, 1, 1,\n",
              "        1, 1, 1, 1, 1, 1, 1, 1, 1, 1, 1, 1, 2, 2, 2, 2, 2, 2, 2, 2, 2, 2,\n",
              "        2, 2, 2, 2, 2, 2, 2, 2, 2, 2, 2, 2, 2, 2, 2, 2, 2, 2, 2, 2, 2, 2,\n",
              "        2, 2, 2, 2, 2, 2, 2, 2, 2, 2, 2, 2, 2, 2, 2, 2, 2, 2]),\n",
              " array([0, 1, 2]))"
            ]
          },
          "metadata": {
            "tags": []
          },
          "execution_count": 17
        }
      ]
    },
    {
      "cell_type": "markdown",
      "metadata": {
        "id": "X1Db2jhCD9kR"
      },
      "source": [
        "# 교육단계"
      ]
    },
    {
      "cell_type": "code",
      "metadata": {
        "id": "1T4BPjmRD0er"
      },
      "source": [
        "import tensorflow as tf"
      ],
      "execution_count": 11,
      "outputs": []
    },
    {
      "cell_type": "code",
      "metadata": {
        "id": "spCfYqiqEBJ1"
      },
      "source": [
        "model = tf.keras.Sequential()"
      ],
      "execution_count": 12,
      "outputs": []
    },
    {
      "cell_type": "code",
      "metadata": {
        "colab": {
          "base_uri": "https://localhost:8080/"
        },
        "id": "4dlSM_XMEKcB",
        "outputId": "06eaae89-ab7b-41ff-ccfb-236b040b0531"
      },
      "source": [
        "\n",
        "model.add(tf.keras.Input(shape=(4,))) # input layer\n",
        "model.add(tf.keras.layers.Dense(64,activation='relu')) # hidden layer / default relu\n",
        "model.add(tf.keras.layers.Dense(24,activation='relu')) # hidden layer / default relu\n",
        "model.add(tf.keras.layers.Dense(3,activation='softmax')) # ouput layer / 보기가 두가지 이면 sigmoid , 세가지 이상이면 softmax\n",
        "\n",
        "\n",
        "model.compile(optimizer='adam', loss='mse' , metrics=['acc']) \n",
        "# gadget / default -> optimizer='adam', loss='mse' / optimizer 로 기울기를 구하고 loss 를 확인하여 다음 값을 올릴지 내릴지 판단"
      ],
      "execution_count": 20,
      "outputs": [
        {
          "output_type": "stream",
          "text": [
            "WARNING:tensorflow:Please add `keras.layers.InputLayer` instead of `keras.Input` to Sequential model. `keras.Input` is intended to be used by Functional model.\n"
          ],
          "name": "stdout"
        }
      ]
    },
    {
      "cell_type": "code",
      "metadata": {
        "colab": {
          "base_uri": "https://localhost:8080/"
        },
        "id": "A4ZUoVjNEmwS",
        "outputId": "6818a6c5-c7b5-42ef-9168-a837d306ef56"
      },
      "source": [
        "model.fit(x_data , y_data , epochs=50 , validation_split=0.3 ) # 학습  ephochs : 반복횟수"
      ],
      "execution_count": 21,
      "outputs": [
        {
          "output_type": "stream",
          "text": [
            "Epoch 1/50\n",
            "4/4 [==============================] - 1s 65ms/step - loss: 0.3973 - acc: 0.4762 - val_loss: 2.7779 - val_acc: 0.0000e+00\n",
            "Epoch 2/50\n",
            "4/4 [==============================] - 0s 10ms/step - loss: 0.3969 - acc: 0.2476 - val_loss: 2.7778 - val_acc: 0.8667\n",
            "Epoch 3/50\n",
            "4/4 [==============================] - 0s 10ms/step - loss: 0.3969 - acc: 0.4667 - val_loss: 2.7778 - val_acc: 0.0000e+00\n",
            "Epoch 4/50\n",
            "4/4 [==============================] - 0s 9ms/step - loss: 0.3969 - acc: 0.4762 - val_loss: 2.7778 - val_acc: 0.0000e+00\n",
            "Epoch 5/50\n",
            "4/4 [==============================] - 0s 9ms/step - loss: 0.3968 - acc: 0.4762 - val_loss: 2.7778 - val_acc: 0.5111\n",
            "Epoch 6/50\n",
            "4/4 [==============================] - 0s 10ms/step - loss: 0.3968 - acc: 0.0762 - val_loss: 2.7778 - val_acc: 0.1333\n",
            "Epoch 7/50\n",
            "4/4 [==============================] - 0s 10ms/step - loss: 0.3968 - acc: 0.2381 - val_loss: 2.7778 - val_acc: 0.0000e+00\n",
            "Epoch 8/50\n",
            "4/4 [==============================] - 0s 10ms/step - loss: 0.3968 - acc: 0.4381 - val_loss: 2.7778 - val_acc: 0.0000e+00\n",
            "Epoch 9/50\n",
            "4/4 [==============================] - 0s 10ms/step - loss: 0.3968 - acc: 0.2381 - val_loss: 2.7778 - val_acc: 0.0222\n",
            "Epoch 10/50\n",
            "4/4 [==============================] - 0s 10ms/step - loss: 0.3968 - acc: 0.3048 - val_loss: 2.7778 - val_acc: 0.0000e+00\n",
            "Epoch 11/50\n",
            "4/4 [==============================] - 0s 9ms/step - loss: 0.3968 - acc: 0.4571 - val_loss: 2.7778 - val_acc: 0.0000e+00\n",
            "Epoch 12/50\n",
            "4/4 [==============================] - 0s 13ms/step - loss: 0.3968 - acc: 0.3714 - val_loss: 2.7778 - val_acc: 0.0000e+00\n",
            "Epoch 13/50\n",
            "4/4 [==============================] - 0s 10ms/step - loss: 0.3968 - acc: 0.2095 - val_loss: 2.7778 - val_acc: 0.0222\n",
            "Epoch 14/50\n",
            "4/4 [==============================] - 0s 11ms/step - loss: 0.3968 - acc: 0.2286 - val_loss: 2.7778 - val_acc: 0.0222\n",
            "Epoch 15/50\n",
            "4/4 [==============================] - 0s 10ms/step - loss: 0.3968 - acc: 0.3048 - val_loss: 2.7778 - val_acc: 0.0000e+00\n",
            "Epoch 16/50\n",
            "4/4 [==============================] - 0s 10ms/step - loss: 0.3968 - acc: 0.1524 - val_loss: 2.7778 - val_acc: 0.0000e+00\n",
            "Epoch 17/50\n",
            "4/4 [==============================] - 0s 10ms/step - loss: 0.3968 - acc: 0.2095 - val_loss: 2.7778 - val_acc: 0.0000e+00\n",
            "Epoch 18/50\n",
            "4/4 [==============================] - 0s 13ms/step - loss: 0.3968 - acc: 0.0857 - val_loss: 2.7778 - val_acc: 0.0222\n",
            "Epoch 19/50\n",
            "4/4 [==============================] - 0s 11ms/step - loss: 0.3968 - acc: 0.1810 - val_loss: 2.7778 - val_acc: 0.0222\n",
            "Epoch 20/50\n",
            "4/4 [==============================] - 0s 12ms/step - loss: 0.3968 - acc: 0.2762 - val_loss: 2.7778 - val_acc: 0.0222\n",
            "Epoch 21/50\n",
            "4/4 [==============================] - 0s 12ms/step - loss: 0.3968 - acc: 0.1810 - val_loss: 2.7778 - val_acc: 0.0222\n",
            "Epoch 22/50\n",
            "4/4 [==============================] - 0s 10ms/step - loss: 0.3968 - acc: 0.0762 - val_loss: 2.7778 - val_acc: 0.0000e+00\n",
            "Epoch 23/50\n",
            "4/4 [==============================] - 0s 11ms/step - loss: 0.3968 - acc: 0.1238 - val_loss: 2.7778 - val_acc: 0.0222\n",
            "Epoch 24/50\n",
            "4/4 [==============================] - 0s 12ms/step - loss: 0.3968 - acc: 0.1238 - val_loss: 2.7778 - val_acc: 0.0222\n",
            "Epoch 25/50\n",
            "4/4 [==============================] - 0s 10ms/step - loss: 0.3968 - acc: 0.1714 - val_loss: 2.7778 - val_acc: 0.0000e+00\n",
            "Epoch 26/50\n",
            "4/4 [==============================] - 0s 9ms/step - loss: 0.3968 - acc: 0.1333 - val_loss: 2.7778 - val_acc: 0.0000e+00\n",
            "Epoch 27/50\n",
            "4/4 [==============================] - 0s 12ms/step - loss: 0.3968 - acc: 0.1048 - val_loss: 2.7778 - val_acc: 0.0000e+00\n",
            "Epoch 28/50\n",
            "4/4 [==============================] - 0s 12ms/step - loss: 0.3968 - acc: 0.1048 - val_loss: 2.7778 - val_acc: 0.0222\n",
            "Epoch 29/50\n",
            "4/4 [==============================] - 0s 12ms/step - loss: 0.3968 - acc: 0.1238 - val_loss: 2.7778 - val_acc: 0.0000e+00\n",
            "Epoch 30/50\n",
            "4/4 [==============================] - 0s 12ms/step - loss: 0.3968 - acc: 0.1333 - val_loss: 2.7778 - val_acc: 0.0000e+00\n",
            "Epoch 31/50\n",
            "4/4 [==============================] - 0s 10ms/step - loss: 0.3968 - acc: 0.1333 - val_loss: 2.7778 - val_acc: 0.0000e+00\n",
            "Epoch 32/50\n",
            "4/4 [==============================] - 0s 11ms/step - loss: 0.3968 - acc: 0.1429 - val_loss: 2.7778 - val_acc: 0.0000e+00\n",
            "Epoch 33/50\n",
            "4/4 [==============================] - 0s 10ms/step - loss: 0.3968 - acc: 0.1238 - val_loss: 2.7778 - val_acc: 0.0000e+00\n",
            "Epoch 34/50\n",
            "4/4 [==============================] - 0s 12ms/step - loss: 0.3968 - acc: 0.1238 - val_loss: 2.7778 - val_acc: 0.0000e+00\n",
            "Epoch 35/50\n",
            "4/4 [==============================] - 0s 10ms/step - loss: 0.3968 - acc: 0.1333 - val_loss: 2.7778 - val_acc: 0.0000e+00\n",
            "Epoch 36/50\n",
            "4/4 [==============================] - 0s 9ms/step - loss: 0.3968 - acc: 0.1333 - val_loss: 2.7778 - val_acc: 0.0000e+00\n",
            "Epoch 37/50\n",
            "4/4 [==============================] - 0s 13ms/step - loss: 0.3968 - acc: 0.1238 - val_loss: 2.7778 - val_acc: 0.0000e+00\n",
            "Epoch 38/50\n",
            "4/4 [==============================] - 0s 10ms/step - loss: 0.3968 - acc: 0.1238 - val_loss: 2.7778 - val_acc: 0.0000e+00\n",
            "Epoch 39/50\n",
            "4/4 [==============================] - 0s 11ms/step - loss: 0.3968 - acc: 0.1238 - val_loss: 2.7778 - val_acc: 0.0000e+00\n",
            "Epoch 40/50\n",
            "4/4 [==============================] - 0s 11ms/step - loss: 0.3968 - acc: 0.1048 - val_loss: 2.7778 - val_acc: 0.0000e+00\n",
            "Epoch 41/50\n",
            "4/4 [==============================] - 0s 11ms/step - loss: 0.3968 - acc: 0.1238 - val_loss: 2.7778 - val_acc: 0.0000e+00\n",
            "Epoch 42/50\n",
            "4/4 [==============================] - 0s 16ms/step - loss: 0.3968 - acc: 0.1524 - val_loss: 2.7778 - val_acc: 0.0000e+00\n",
            "Epoch 43/50\n",
            "4/4 [==============================] - 0s 10ms/step - loss: 0.3968 - acc: 0.1238 - val_loss: 2.7778 - val_acc: 0.0000e+00\n",
            "Epoch 44/50\n",
            "4/4 [==============================] - 0s 11ms/step - loss: 0.3968 - acc: 0.1143 - val_loss: 2.7778 - val_acc: 0.0000e+00\n",
            "Epoch 45/50\n",
            "4/4 [==============================] - 0s 10ms/step - loss: 0.3968 - acc: 0.1238 - val_loss: 2.7778 - val_acc: 0.0000e+00\n",
            "Epoch 46/50\n",
            "4/4 [==============================] - 0s 10ms/step - loss: 0.3968 - acc: 0.1619 - val_loss: 2.7778 - val_acc: 0.0000e+00\n",
            "Epoch 47/50\n",
            "4/4 [==============================] - 0s 11ms/step - loss: 0.3968 - acc: 0.1429 - val_loss: 2.7778 - val_acc: 0.0000e+00\n",
            "Epoch 48/50\n",
            "4/4 [==============================] - 0s 14ms/step - loss: 0.3968 - acc: 0.0952 - val_loss: 2.7778 - val_acc: 0.0000e+00\n",
            "Epoch 49/50\n",
            "4/4 [==============================] - 0s 10ms/step - loss: 0.3968 - acc: 0.0667 - val_loss: 2.7778 - val_acc: 0.0000e+00\n",
            "Epoch 50/50\n",
            "4/4 [==============================] - 0s 14ms/step - loss: 0.3968 - acc: 0.1238 - val_loss: 2.7778 - val_acc: 0.0000e+00\n"
          ],
          "name": "stdout"
        },
        {
          "output_type": "execute_result",
          "data": {
            "text/plain": [
              "<tensorflow.python.keras.callbacks.History at 0x7ffaa6a13450>"
            ]
          },
          "metadata": {
            "tags": []
          },
          "execution_count": 21
        }
      ]
    },
    {
      "cell_type": "markdown",
      "metadata": {
        "id": "r88fcTF0Zzvc"
      },
      "source": [
        "#Evaluation : 평가"
      ]
    },
    {
      "cell_type": "code",
      "metadata": {
        "colab": {
          "base_uri": "https://localhost:8080/"
        },
        "id": "csMCJd6OZ3QZ",
        "outputId": "a9cfc219-a139-404c-e5e9-9905e9201df1"
      },
      "source": [
        "model.evaluate(x_data,y_data)"
      ],
      "execution_count": 22,
      "outputs": [
        {
          "output_type": "stream",
          "text": [
            "5/5 [==============================] - 0s 3ms/step - loss: 1.1111 - acc: 0.1000\n"
          ],
          "name": "stdout"
        },
        {
          "output_type": "execute_result",
          "data": {
            "text/plain": [
              "[1.111111044883728, 0.10000000149011612]"
            ]
          },
          "metadata": {
            "tags": []
          },
          "execution_count": 22
        }
      ]
    },
    {
      "cell_type": "markdown",
      "metadata": {
        "id": "4yX2S4PeEZeJ"
      },
      "source": [
        "# 서비스 단계"
      ]
    },
    {
      "cell_type": "code",
      "metadata": {
        "colab": {
          "base_uri": "https://localhost:8080/"
        },
        "id": "gvtafCIhaa0w",
        "outputId": "26ceebbf-e598-479e-cf27-aa33cf558f78"
      },
      "source": [
        "x_data[25] ,y_data[25]"
      ],
      "execution_count": 23,
      "outputs": [
        {
          "output_type": "execute_result",
          "data": {
            "text/plain": [
              "(array([5. , 3. , 1.6, 0.2]), 0)"
            ]
          },
          "metadata": {
            "tags": []
          },
          "execution_count": 23
        }
      ]
    },
    {
      "cell_type": "code",
      "metadata": {
        "colab": {
          "base_uri": "https://localhost:8080/"
        },
        "id": "iG7LmwzIEbCU",
        "outputId": "7b1b8725-753a-4e20-8cfb-80e7a237a379"
      },
      "source": [
        "pred = model.predict([[5. , 3. , 1.6, 0.2]])\n",
        "pred"
      ],
      "execution_count": 25,
      "outputs": [
        {
          "output_type": "execute_result",
          "data": {
            "text/plain": [
              "array([[0.33327878, 0.33323   , 0.33349124]], dtype=float32)"
            ]
          },
          "metadata": {
            "tags": []
          },
          "execution_count": 25
        }
      ]
    },
    {
      "cell_type": "code",
      "metadata": {
        "colab": {
          "base_uri": "https://localhost:8080/"
        },
        "id": "1GUZ7M7PakTb",
        "outputId": "78f552ea-6b5c-4bf6-a552-611a15b573f9"
      },
      "source": [
        "import numpy as np\n",
        "np.argmax(pred)"
      ],
      "execution_count": 28,
      "outputs": [
        {
          "output_type": "execute_result",
          "data": {
            "text/plain": [
              "2"
            ]
          },
          "metadata": {
            "tags": []
          },
          "execution_count": 28
        }
      ]
    },
    {
      "cell_type": "code",
      "metadata": {
        "id": "pyAPW3NAa-re"
      },
      "source": [
        ""
      ],
      "execution_count": null,
      "outputs": []
    }
  ]
}