{
  "nbformat": 4,
  "nbformat_minor": 0,
  "metadata": {
    "colab": {
      "name": "tensorflow_guideWithIris.ipynb",
      "provenance": [],
      "collapsed_sections": [],
      "authorship_tag": "ABX9TyMg5ecDSo3OVf6oE9NuRgua",
      "include_colab_link": true
    },
    "kernelspec": {
      "name": "python3",
      "display_name": "Python 3"
    },
    "language_info": {
      "name": "python"
    }
  },
  "cells": [
    {
      "cell_type": "markdown",
      "metadata": {
        "id": "view-in-github",
        "colab_type": "text"
      },
      "source": [
        "<a href=\"https://colab.research.google.com/github/Ethan-Jeong/test_deeplearning/blob/master/tensorflow_guideWithIris.ipynb\" target=\"_parent\"><img src=\"https://colab.research.google.com/assets/colab-badge.svg\" alt=\"Open In Colab\"/></a>"
      ]
    },
    {
      "cell_type": "code",
      "metadata": {
        "id": "W4Oen6JF-1zM"
      },
      "source": [
        "from sklearn import datasets"
      ],
      "execution_count": 1,
      "outputs": []
    },
    {
      "cell_type": "code",
      "metadata": {
        "id": "ocBuFmzl_ZoZ"
      },
      "source": [
        "iris = datasets.load_iris()"
      ],
      "execution_count": 2,
      "outputs": []
    },
    {
      "cell_type": "code",
      "metadata": {
        "id": "PIj9UIYyAIJx"
      },
      "source": [
        "import pandas as pd"
      ],
      "execution_count": 3,
      "outputs": []
    },
    {
      "cell_type": "code",
      "metadata": {
        "colab": {
          "base_uri": "https://localhost:8080/"
        },
        "id": "s130FQj3AKQC",
        "outputId": "aea42c88-654d-44bc-c469-cfc5306eb32b"
      },
      "source": [
        "df_iris = pd.DataFrame(iris.data)\n",
        "df_iris.info()"
      ],
      "execution_count": 4,
      "outputs": [
        {
          "output_type": "stream",
          "text": [
            "<class 'pandas.core.frame.DataFrame'>\n",
            "RangeIndex: 150 entries, 0 to 149\n",
            "Data columns (total 4 columns):\n",
            " #   Column  Non-Null Count  Dtype  \n",
            "---  ------  --------------  -----  \n",
            " 0   0       150 non-null    float64\n",
            " 1   1       150 non-null    float64\n",
            " 2   2       150 non-null    float64\n",
            " 3   3       150 non-null    float64\n",
            "dtypes: float64(4)\n",
            "memory usage: 4.8 KB\n"
          ],
          "name": "stdout"
        }
      ]
    },
    {
      "cell_type": "code",
      "metadata": {
        "id": "rGEgEwkKARZ7"
      },
      "source": [
        "import sqlite3\n",
        "connect = sqlite3.connect('./db.sqlite3')\n",
        "df_iris.to_sql('iris_resource',connect,if_exists='replace',index=False)"
      ],
      "execution_count": 5,
      "outputs": []
    },
    {
      "cell_type": "code",
      "metadata": {
        "colab": {
          "base_uri": "https://localhost:8080/",
          "height": 173
        },
        "id": "6nXTkJHyCYk6",
        "outputId": "5af4b6d2-84f2-49b1-e0e8-a7412843197a"
      },
      "source": [
        "df_load = pd.read_sql_query('select * from iris_resource ' , connect )\n",
        "df_load.head(4)"
      ],
      "execution_count": 6,
      "outputs": [
        {
          "output_type": "execute_result",
          "data": {
            "text/html": [
              "<div>\n",
              "<style scoped>\n",
              "    .dataframe tbody tr th:only-of-type {\n",
              "        vertical-align: middle;\n",
              "    }\n",
              "\n",
              "    .dataframe tbody tr th {\n",
              "        vertical-align: top;\n",
              "    }\n",
              "\n",
              "    .dataframe thead th {\n",
              "        text-align: right;\n",
              "    }\n",
              "</style>\n",
              "<table border=\"1\" class=\"dataframe\">\n",
              "  <thead>\n",
              "    <tr style=\"text-align: right;\">\n",
              "      <th></th>\n",
              "      <th>0</th>\n",
              "      <th>1</th>\n",
              "      <th>2</th>\n",
              "      <th>3</th>\n",
              "    </tr>\n",
              "  </thead>\n",
              "  <tbody>\n",
              "    <tr>\n",
              "      <th>0</th>\n",
              "      <td>5.1</td>\n",
              "      <td>3.5</td>\n",
              "      <td>1.4</td>\n",
              "      <td>0.2</td>\n",
              "    </tr>\n",
              "    <tr>\n",
              "      <th>1</th>\n",
              "      <td>4.9</td>\n",
              "      <td>3.0</td>\n",
              "      <td>1.4</td>\n",
              "      <td>0.2</td>\n",
              "    </tr>\n",
              "    <tr>\n",
              "      <th>2</th>\n",
              "      <td>4.7</td>\n",
              "      <td>3.2</td>\n",
              "      <td>1.3</td>\n",
              "      <td>0.2</td>\n",
              "    </tr>\n",
              "    <tr>\n",
              "      <th>3</th>\n",
              "      <td>4.6</td>\n",
              "      <td>3.1</td>\n",
              "      <td>1.5</td>\n",
              "      <td>0.2</td>\n",
              "    </tr>\n",
              "  </tbody>\n",
              "</table>\n",
              "</div>"
            ],
            "text/plain": [
              "     0    1    2    3\n",
              "0  5.1  3.5  1.4  0.2\n",
              "1  4.9  3.0  1.4  0.2\n",
              "2  4.7  3.2  1.3  0.2\n",
              "3  4.6  3.1  1.5  0.2"
            ]
          },
          "metadata": {
            "tags": []
          },
          "execution_count": 6
        }
      ]
    },
    {
      "cell_type": "code",
      "metadata": {
        "colab": {
          "base_uri": "https://localhost:8080/"
        },
        "id": "feOc_CD7DB2O",
        "outputId": "3b68a198-a8f6-4638-930a-7ed8b11e022d"
      },
      "source": [
        "x_data = df_load.to_numpy()\n",
        "x_data.shape"
      ],
      "execution_count": 7,
      "outputs": [
        {
          "output_type": "execute_result",
          "data": {
            "text/plain": [
              "(150, 4)"
            ]
          },
          "metadata": {
            "tags": []
          },
          "execution_count": 7
        }
      ]
    },
    {
      "cell_type": "code",
      "metadata": {
        "id": "IQRsVOkIWMA_"
      },
      "source": [
        "import numpy as np"
      ],
      "execution_count": 8,
      "outputs": []
    },
    {
      "cell_type": "code",
      "metadata": {
        "colab": {
          "base_uri": "https://localhost:8080/"
        },
        "id": "BD4RQDFBDlff",
        "outputId": "8461d362-7f02-4ded-a099-f74c4f584d39"
      },
      "source": [
        "y_data = iris.target\n",
        "y_data , np.unique(y_data)"
      ],
      "execution_count": 9,
      "outputs": [
        {
          "output_type": "execute_result",
          "data": {
            "text/plain": [
              "(array([0, 0, 0, 0, 0, 0, 0, 0, 0, 0, 0, 0, 0, 0, 0, 0, 0, 0, 0, 0, 0, 0,\n",
              "        0, 0, 0, 0, 0, 0, 0, 0, 0, 0, 0, 0, 0, 0, 0, 0, 0, 0, 0, 0, 0, 0,\n",
              "        0, 0, 0, 0, 0, 0, 1, 1, 1, 1, 1, 1, 1, 1, 1, 1, 1, 1, 1, 1, 1, 1,\n",
              "        1, 1, 1, 1, 1, 1, 1, 1, 1, 1, 1, 1, 1, 1, 1, 1, 1, 1, 1, 1, 1, 1,\n",
              "        1, 1, 1, 1, 1, 1, 1, 1, 1, 1, 1, 1, 2, 2, 2, 2, 2, 2, 2, 2, 2, 2,\n",
              "        2, 2, 2, 2, 2, 2, 2, 2, 2, 2, 2, 2, 2, 2, 2, 2, 2, 2, 2, 2, 2, 2,\n",
              "        2, 2, 2, 2, 2, 2, 2, 2, 2, 2, 2, 2, 2, 2, 2, 2, 2, 2]),\n",
              " array([0, 1, 2]))"
            ]
          },
          "metadata": {
            "tags": []
          },
          "execution_count": 9
        }
      ]
    },
    {
      "cell_type": "code",
      "metadata": {
        "id": "mCmGyrSQI7Qw"
      },
      "source": [
        "from sklearn.model_selection import train_test_split"
      ],
      "execution_count": 10,
      "outputs": []
    },
    {
      "cell_type": "code",
      "metadata": {
        "id": "5EpXc1KxJPms"
      },
      "source": [
        " x_train , x_val , y_train  , y_val  = train_test_split(x_data , y_data)"
      ],
      "execution_count": 11,
      "outputs": []
    },
    {
      "cell_type": "markdown",
      "metadata": {
        "id": "X1Db2jhCD9kR"
      },
      "source": [
        "# 교육단계"
      ]
    },
    {
      "cell_type": "code",
      "metadata": {
        "id": "1T4BPjmRD0er"
      },
      "source": [
        "import tensorflow as tf"
      ],
      "execution_count": 12,
      "outputs": []
    },
    {
      "cell_type": "code",
      "metadata": {
        "id": "spCfYqiqEBJ1"
      },
      "source": [
        "model = tf.keras.Sequential()"
      ],
      "execution_count": 13,
      "outputs": []
    },
    {
      "cell_type": "code",
      "metadata": {
        "colab": {
          "base_uri": "https://localhost:8080/"
        },
        "id": "4dlSM_XMEKcB",
        "outputId": "467704cd-89ba-41f4-843f-027f61d76d09"
      },
      "source": [
        "\n",
        "model.add(tf.keras.Input(shape=(4,))) # input layer\n",
        "model.add(tf.keras.layers.Dense(64,activation='relu')) # hidden layer / default relu\n",
        "model.add(tf.keras.layers.Dense(24,activation='relu')) # hidden layer / default relu\n",
        "model.add(tf.keras.layers.Dense(3,activation='softmax')) # ouput layer / 보기가 두가지 이면 sigmoid , 세가지 이상이면 softmax\n",
        "\n",
        "\n",
        "model.compile(optimizer='adam', loss='sparse_categorical_crossentorypy' , metrics=['acc']) \n",
        "# gadget / default -> optimizer='adam', loss='mse' / optimizer 로 기울기를 구하고 loss 를 확인하여 다음 값을 올릴지 내릴지 판단"
      ],
      "execution_count": 14,
      "outputs": [
        {
          "output_type": "stream",
          "text": [
            "WARNING:tensorflow:Please add `keras.layers.InputLayer` instead of `keras.Input` to Sequential model. `keras.Input` is intended to be used by Functional model.\n"
          ],
          "name": "stdout"
        }
      ]
    },
    {
      "cell_type": "code",
      "metadata": {
        "id": "A4ZUoVjNEmwS"
      },
      "source": [
        "# model.fit(x_data , y_data , epochs=50 , validation_split=0.3 ) # 학습  ephochs : 반복횟수\n",
        "# model.fit(x_train , y_train , epochs=50 , validation_data=(x_val,y_val))  # 학습  ephochs : 반복횟수"
      ],
      "execution_count": 18,
      "outputs": []
    },
    {
      "cell_type": "markdown",
      "metadata": {
        "id": "r88fcTF0Zzvc"
      },
      "source": [
        "#Evaluation : 평가"
      ]
    },
    {
      "cell_type": "code",
      "metadata": {
        "id": "csMCJd6OZ3QZ"
      },
      "source": [
        "model.evaluate(x_data,y_data)"
      ],
      "execution_count": null,
      "outputs": []
    },
    {
      "cell_type": "code",
      "metadata": {
        "id": "fA7aN_37Ese7"
      },
      "source": [
        "from sklearn.metrics import classification_report , confusion_matrix"
      ],
      "execution_count": null,
      "outputs": []
    },
    {
      "cell_type": "code",
      "metadata": {
        "id": "BA6zs8ScEyrT"
      },
      "source": [
        "y_pred = model.predict(x_data)\n",
        "y_pred.shape , y_pred[4]"
      ],
      "execution_count": null,
      "outputs": []
    },
    {
      "cell_type": "code",
      "metadata": {
        "id": "qJSZt6LJE5eG"
      },
      "source": [
        "y_data.shape , y_data[4]"
      ],
      "execution_count": null,
      "outputs": []
    },
    {
      "cell_type": "code",
      "metadata": {
        "id": "oxl6adGpFIhO"
      },
      "source": [
        "import numpy as np\n",
        "y_pred_argmax = np.argmax(y_pred, axis=1)\n",
        "y_pred_argmax.shape , y_data[4]"
      ],
      "execution_count": null,
      "outputs": []
    },
    {
      "cell_type": "code",
      "metadata": {
        "id": "h2jveh2BGzAT"
      },
      "source": [
        "y_data"
      ],
      "execution_count": null,
      "outputs": []
    },
    {
      "cell_type": "code",
      "metadata": {
        "id": "psY_BkQtFqI5"
      },
      "source": [
        "print(classification_report(y_data , y_pred_argmax))"
      ],
      "execution_count": null,
      "outputs": []
    },
    {
      "cell_type": "code",
      "metadata": {
        "id": "xTPf9XXhH5yO"
      },
      "source": [
        "confusion_matrix(y_data , y_pred_argmax)"
      ],
      "execution_count": null,
      "outputs": []
    },
    {
      "cell_type": "code",
      "metadata": {
        "id": "c7j1-o6aIHl9"
      },
      "source": [
        "import seaborn as sns"
      ],
      "execution_count": null,
      "outputs": []
    },
    {
      "cell_type": "code",
      "metadata": {
        "id": "PIenR2_UILxY"
      },
      "source": [
        "sns.heatmap(confusion_matrix(y_data , y_pred_argmax) , annot=True)"
      ],
      "execution_count": null,
      "outputs": []
    },
    {
      "cell_type": "markdown",
      "metadata": {
        "id": "4yX2S4PeEZeJ"
      },
      "source": [
        "# 서비스 단계"
      ]
    },
    {
      "cell_type": "code",
      "metadata": {
        "id": "gvtafCIhaa0w"
      },
      "source": [
        "x_data[25] ,y_data[25]"
      ],
      "execution_count": null,
      "outputs": []
    },
    {
      "cell_type": "code",
      "metadata": {
        "id": "iG7LmwzIEbCU"
      },
      "source": [
        "pred = model.predict([[5. , 3. , 1.6, 0.2]])\n",
        "pred"
      ],
      "execution_count": null,
      "outputs": []
    },
    {
      "cell_type": "code",
      "metadata": {
        "id": "1GUZ7M7PakTb"
      },
      "source": [
        "import numpy as np\n",
        "np.argmax(pred)"
      ],
      "execution_count": null,
      "outputs": []
    },
    {
      "cell_type": "code",
      "metadata": {
        "id": "pyAPW3NAa-re"
      },
      "source": [
        "from sklearn.metrics import roc_curve , auc"
      ],
      "execution_count": null,
      "outputs": []
    },
    {
      "cell_type": "code",
      "metadata": {
        "id": "CNsRZP8IDwMZ"
      },
      "source": [
        "y_pred = model.predict(x_data)\n",
        "y_pred.shape"
      ],
      "execution_count": null,
      "outputs": []
    },
    {
      "cell_type": "code",
      "metadata": {
        "id": "hN7XSaYaD0IN"
      },
      "source": [
        "from sklearn.metrics import classification_report , confusion_matrix"
      ],
      "execution_count": null,
      "outputs": []
    },
    {
      "cell_type": "code",
      "metadata": {
        "id": "EkG9EezfD5qR"
      },
      "source": [
        "classification_report()"
      ],
      "execution_count": null,
      "outputs": []
    }
  ]
}