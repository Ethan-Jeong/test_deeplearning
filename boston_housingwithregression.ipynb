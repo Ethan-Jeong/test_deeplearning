{
  "nbformat": 4,
  "nbformat_minor": 0,
  "metadata": {
    "colab": {
      "name": "boston_housingwithregression.ipynb",
      "provenance": [],
      "collapsed_sections": [],
      "authorship_tag": "ABX9TyON4EtuasocEJdAXHc1rctR",
      "include_colab_link": true
    },
    "kernelspec": {
      "name": "python3",
      "display_name": "Python 3"
    },
    "language_info": {
      "name": "python"
    }
  },
  "cells": [
    {
      "cell_type": "markdown",
      "metadata": {
        "id": "view-in-github",
        "colab_type": "text"
      },
      "source": [
        "<a href=\"https://colab.research.google.com/github/Ethan-Jeong/test_deeplearning/blob/master/boston_housingwithregression.ipynb\" target=\"_parent\"><img src=\"https://colab.research.google.com/assets/colab-badge.svg\" alt=\"Open In Colab\"/></a>"
      ]
    },
    {
      "cell_type": "code",
      "metadata": {
        "id": "z-l4-8cvX32A"
      },
      "source": [
        "import tensorflow as tf"
      ],
      "execution_count": null,
      "outputs": []
    },
    {
      "cell_type": "code",
      "metadata": {
        "id": "ioPYEg7Ra7WD"
      },
      "source": [
        "from tensorflow.keras.datasets.boston_housing import load_data"
      ],
      "execution_count": null,
      "outputs": []
    },
    {
      "cell_type": "markdown",
      "metadata": {
        "id": "HvaKrM9L1Gr8"
      },
      "source": [
        "# Dataset"
      ]
    },
    {
      "cell_type": "code",
      "metadata": {
        "colab": {
          "base_uri": "https://localhost:8080/"
        },
        "id": "KNrLRSgSbQbO",
        "outputId": "d6cfb838-440a-42a1-8e97-bbadb0c2dfe3"
      },
      "source": [
        "(x_train, y_train), (x_test, y_test) = load_data(path='boston_hosing.npz',test_split=0.2,seed=113)\n",
        "x_train.shape , y_train.shape , x_test.shape , y_train.shape"
      ],
      "execution_count": null,
      "outputs": [
        {
          "output_type": "stream",
          "text": [
            "Downloading data from https://storage.googleapis.com/tensorflow/tf-keras-datasets/boston_housing.npz\n",
            "57344/57026 [==============================] - 0s 0us/step\n"
          ],
          "name": "stdout"
        },
        {
          "output_type": "execute_result",
          "data": {
            "text/plain": [
              "((404, 13), (404,), (102, 13), (404,))"
            ]
          },
          "metadata": {
            "tags": []
          },
          "execution_count": 3
        }
      ]
    },
    {
      "cell_type": "code",
      "metadata": {
        "colab": {
          "base_uri": "https://localhost:8080/"
        },
        "id": "FjTwwEjkd4L8",
        "outputId": "0babb51a-36a6-423f-d26b-69f63c7478ed"
      },
      "source": [
        "type(x_train)"
      ],
      "execution_count": null,
      "outputs": [
        {
          "output_type": "execute_result",
          "data": {
            "text/plain": [
              "numpy.ndarray"
            ]
          },
          "metadata": {
            "tags": []
          },
          "execution_count": 4
        }
      ]
    },
    {
      "cell_type": "code",
      "metadata": {
        "id": "hmK8vLO-1PK1"
      },
      "source": [
        "import pandas as pd"
      ],
      "execution_count": 28,
      "outputs": []
    },
    {
      "cell_type": "code",
      "metadata": {
        "colab": {
          "base_uri": "https://localhost:8080/"
        },
        "id": "MCfd4pDc1Wtp",
        "outputId": "399fb316-fe66-4662-98eb-5d2770da6f79"
      },
      "source": [
        "dfr = pd.DataFrame(x_train)\n",
        "dfr.info()"
      ],
      "execution_count": 56,
      "outputs": [
        {
          "output_type": "stream",
          "text": [
            "<class 'pandas.core.frame.DataFrame'>\n",
            "RangeIndex: 404 entries, 0 to 403\n",
            "Data columns (total 13 columns):\n",
            " #   Column  Non-Null Count  Dtype  \n",
            "---  ------  --------------  -----  \n",
            " 0   0       404 non-null    float64\n",
            " 1   1       404 non-null    float64\n",
            " 2   2       404 non-null    float64\n",
            " 3   3       404 non-null    float64\n",
            " 4   4       404 non-null    float64\n",
            " 5   5       404 non-null    float64\n",
            " 6   6       404 non-null    float64\n",
            " 7   7       404 non-null    float64\n",
            " 8   8       404 non-null    float64\n",
            " 9   9       404 non-null    float64\n",
            " 10  10      404 non-null    float64\n",
            " 11  11      404 non-null    float64\n",
            " 12  12      404 non-null    float64\n",
            "dtypes: float64(13)\n",
            "memory usage: 41.2 KB\n"
          ],
          "name": "stdout"
        }
      ]
    },
    {
      "cell_type": "markdown",
      "metadata": {
        "id": "nxmEHB4uM6SF"
      },
      "source": [
        "# DB 저장"
      ]
    },
    {
      "cell_type": "code",
      "metadata": {
        "id": "j_VrIv33Ml8-"
      },
      "source": [
        "import sqlite3"
      ],
      "execution_count": 53,
      "outputs": []
    },
    {
      "cell_type": "code",
      "metadata": {
        "id": "yQ4Qn-I0Mp-z"
      },
      "source": [
        "connect = sqlite3.connect('./db.sqlite3')"
      ],
      "execution_count": 54,
      "outputs": []
    },
    {
      "cell_type": "code",
      "metadata": {
        "id": "r_9Dw94bM4A7"
      },
      "source": [
        "dfr.to_sql('boston_housing_resource',connect, if_exists='append',index=False)"
      ],
      "execution_count": 57,
      "outputs": []
    },
    {
      "cell_type": "code",
      "metadata": {
        "id": "7kmfs_8aNjZX"
      },
      "source": [
        "df = pd.read_sql_query('select * from boston_housing_resource',connect)"
      ],
      "execution_count": 58,
      "outputs": []
    },
    {
      "cell_type": "code",
      "metadata": {
        "colab": {
          "base_uri": "https://localhost:8080/",
          "height": 310
        },
        "id": "sKjP1VHe3-YH",
        "outputId": "df1a8a1b-0cd0-4fa5-e156-1121d778da19"
      },
      "source": [
        "df.describe()"
      ],
      "execution_count": 60,
      "outputs": [
        {
          "output_type": "execute_result",
          "data": {
            "text/html": [
              "<div>\n",
              "<style scoped>\n",
              "    .dataframe tbody tr th:only-of-type {\n",
              "        vertical-align: middle;\n",
              "    }\n",
              "\n",
              "    .dataframe tbody tr th {\n",
              "        vertical-align: top;\n",
              "    }\n",
              "\n",
              "    .dataframe thead th {\n",
              "        text-align: right;\n",
              "    }\n",
              "</style>\n",
              "<table border=\"1\" class=\"dataframe\">\n",
              "  <thead>\n",
              "    <tr style=\"text-align: right;\">\n",
              "      <th></th>\n",
              "      <th>0</th>\n",
              "      <th>1</th>\n",
              "      <th>2</th>\n",
              "      <th>3</th>\n",
              "      <th>4</th>\n",
              "      <th>5</th>\n",
              "      <th>6</th>\n",
              "      <th>7</th>\n",
              "      <th>8</th>\n",
              "      <th>9</th>\n",
              "      <th>10</th>\n",
              "      <th>11</th>\n",
              "      <th>12</th>\n",
              "    </tr>\n",
              "  </thead>\n",
              "  <tbody>\n",
              "    <tr>\n",
              "      <th>count</th>\n",
              "      <td>808.000000</td>\n",
              "      <td>808.000000</td>\n",
              "      <td>808.000000</td>\n",
              "      <td>808.000000</td>\n",
              "      <td>808.000000</td>\n",
              "      <td>808.000000</td>\n",
              "      <td>808.000000</td>\n",
              "      <td>808.000000</td>\n",
              "      <td>808.000000</td>\n",
              "      <td>808.000000</td>\n",
              "      <td>808.000000</td>\n",
              "      <td>808.000000</td>\n",
              "      <td>808.000000</td>\n",
              "    </tr>\n",
              "    <tr>\n",
              "      <th>mean</th>\n",
              "      <td>1.669663</td>\n",
              "      <td>5.498291</td>\n",
              "      <td>4.736058</td>\n",
              "      <td>-0.097476</td>\n",
              "      <td>-2.100179</td>\n",
              "      <td>-1.286692</td>\n",
              "      <td>33.268841</td>\n",
              "      <td>0.947842</td>\n",
              "      <td>4.176959</td>\n",
              "      <td>201.727911</td>\n",
              "      <td>5.034429</td>\n",
              "      <td>175.504331</td>\n",
              "      <td>5.491193</td>\n",
              "    </tr>\n",
              "    <tr>\n",
              "      <th>std</th>\n",
              "      <td>6.852837</td>\n",
              "      <td>17.830605</td>\n",
              "      <td>7.986580</td>\n",
              "      <td>2.945869</td>\n",
              "      <td>6.599758</td>\n",
              "      <td>7.640546</td>\n",
              "      <td>40.852378</td>\n",
              "      <td>3.160287</td>\n",
              "      <td>8.095102</td>\n",
              "      <td>235.712504</td>\n",
              "      <td>13.543299</td>\n",
              "      <td>191.320923</td>\n",
              "      <td>8.883316</td>\n",
              "    </tr>\n",
              "    <tr>\n",
              "      <th>min</th>\n",
              "      <td>-0.449678</td>\n",
              "      <td>-0.503988</td>\n",
              "      <td>-1.862320</td>\n",
              "      <td>-1.322796</td>\n",
              "      <td>-17.316788</td>\n",
              "      <td>-14.225151</td>\n",
              "      <td>-2.557856</td>\n",
              "      <td>-2.479545</td>\n",
              "      <td>-1.198510</td>\n",
              "      <td>-2.450584</td>\n",
              "      <td>-9.623769</td>\n",
              "      <td>-3.814626</td>\n",
              "      <td>-1.968168</td>\n",
              "    </tr>\n",
              "    <tr>\n",
              "      <th>25%</th>\n",
              "      <td>-0.446593</td>\n",
              "      <td>-0.503988</td>\n",
              "      <td>-1.662878</td>\n",
              "      <td>-1.322796</td>\n",
              "      <td>-6.168125</td>\n",
              "      <td>-8.973449</td>\n",
              "      <td>-2.460649</td>\n",
              "      <td>-1.988807</td>\n",
              "      <td>-1.145512</td>\n",
              "      <td>-2.445441</td>\n",
              "      <td>-8.277929</td>\n",
              "      <td>-3.770377</td>\n",
              "      <td>-1.783542</td>\n",
              "    </tr>\n",
              "    <tr>\n",
              "      <th>50%</th>\n",
              "      <td>0.014065</td>\n",
              "      <td>-0.163264</td>\n",
              "      <td>-0.406426</td>\n",
              "      <td>0.000000</td>\n",
              "      <td>0.458000</td>\n",
              "      <td>-0.194293</td>\n",
              "      <td>0.233416</td>\n",
              "      <td>0.490118</td>\n",
              "      <td>0.053115</td>\n",
              "      <td>92.784179</td>\n",
              "      <td>2.461262</td>\n",
              "      <td>-1.724869</td>\n",
              "      <td>0.226071</td>\n",
              "    </tr>\n",
              "    <tr>\n",
              "      <th>75%</th>\n",
              "      <td>0.289563</td>\n",
              "      <td>0.000000</td>\n",
              "      <td>9.690000</td>\n",
              "      <td>0.000000</td>\n",
              "      <td>0.631000</td>\n",
              "      <td>6.196750</td>\n",
              "      <td>78.400000</td>\n",
              "      <td>3.137300</td>\n",
              "      <td>5.000000</td>\n",
              "      <td>330.000000</td>\n",
              "      <td>19.100000</td>\n",
              "      <td>391.240000</td>\n",
              "      <td>11.367500</td>\n",
              "    </tr>\n",
              "    <tr>\n",
              "      <th>max</th>\n",
              "      <td>88.976200</td>\n",
              "      <td>100.000000</td>\n",
              "      <td>27.740000</td>\n",
              "      <td>15.903167</td>\n",
              "      <td>18.096614</td>\n",
              "      <td>8.725000</td>\n",
              "      <td>100.000000</td>\n",
              "      <td>10.710300</td>\n",
              "      <td>24.000000</td>\n",
              "      <td>711.000000</td>\n",
              "      <td>22.000000</td>\n",
              "      <td>396.900000</td>\n",
              "      <td>37.970000</td>\n",
              "    </tr>\n",
              "  </tbody>\n",
              "</table>\n",
              "</div>"
            ],
            "text/plain": [
              "                0           1           2  ...          10          11          12\n",
              "count  808.000000  808.000000  808.000000  ...  808.000000  808.000000  808.000000\n",
              "mean     1.669663    5.498291    4.736058  ...    5.034429  175.504331    5.491193\n",
              "std      6.852837   17.830605    7.986580  ...   13.543299  191.320923    8.883316\n",
              "min     -0.449678   -0.503988   -1.862320  ...   -9.623769   -3.814626   -1.968168\n",
              "25%     -0.446593   -0.503988   -1.662878  ...   -8.277929   -3.770377   -1.783542\n",
              "50%      0.014065   -0.163264   -0.406426  ...    2.461262   -1.724869    0.226071\n",
              "75%      0.289563    0.000000    9.690000  ...   19.100000  391.240000   11.367500\n",
              "max     88.976200  100.000000   27.740000  ...   22.000000  396.900000   37.970000\n",
              "\n",
              "[8 rows x 13 columns]"
            ]
          },
          "metadata": {
            "tags": []
          },
          "execution_count": 60
        }
      ]
    },
    {
      "cell_type": "code",
      "metadata": {
        "colab": {
          "base_uri": "https://localhost:8080/"
        },
        "id": "i_tvl6i21UrB",
        "outputId": "083b4b61-e2e0-407e-9d64-661e8534c1c4"
      },
      "source": [
        "from sklearn.preprocessing import StandardScaler\n",
        "scaler = StandardScaler()\n",
        "scaler.fit(x_train)"
      ],
      "execution_count": 61,
      "outputs": [
        {
          "output_type": "execute_result",
          "data": {
            "text/plain": [
              "StandardScaler(copy=True, with_mean=True, with_std=True)"
            ]
          },
          "metadata": {
            "tags": []
          },
          "execution_count": 61
        }
      ]
    },
    {
      "cell_type": "code",
      "metadata": {
        "colab": {
          "base_uri": "https://localhost:8080/"
        },
        "id": "41y2kKtE3jMi",
        "outputId": "da3987da-f2db-4902-92c1-21b3e9a8d692"
      },
      "source": [
        "x_train = scaler.transform(x_train)\n",
        "x_test = scaler.transform(x_test)\n",
        "x_train.shape , x_test.shape"
      ],
      "execution_count": 62,
      "outputs": [
        {
          "output_type": "execute_result",
          "data": {
            "text/plain": [
              "((404, 13), (102, 13))"
            ]
          },
          "metadata": {
            "tags": []
          },
          "execution_count": 62
        }
      ]
    },
    {
      "cell_type": "code",
      "metadata": {
        "id": "0pIQJa9LMiDO"
      },
      "source": [
        ""
      ],
      "execution_count": null,
      "outputs": []
    },
    {
      "cell_type": "code",
      "metadata": {
        "id": "u22x6ijN37WH"
      },
      "source": [
        "df = pd.DataFrame(x_train)\n",
        "df.describe()"
      ],
      "execution_count": null,
      "outputs": []
    },
    {
      "cell_type": "code",
      "metadata": {
        "id": "7A5gmrGUPFq_"
      },
      "source": [
        "df.to_sql('boston_housing_scale_xtrain',connect,if_exists='append',index=False)"
      ],
      "execution_count": 64,
      "outputs": []
    },
    {
      "cell_type": "code",
      "metadata": {
        "id": "l98ogr3wPjbz"
      },
      "source": [
        "dfr = pd.read_sql_query('select * from boston_housing_scale_xtrain',connect)"
      ],
      "execution_count": 65,
      "outputs": []
    },
    {
      "cell_type": "code",
      "metadata": {
        "colab": {
          "base_uri": "https://localhost:8080/",
          "height": 391
        },
        "id": "vkVyO0nXQYJz",
        "outputId": "1aab283a-8ebb-4b5a-a537-762a304cc4e0"
      },
      "source": [
        "dfr.describe()"
      ],
      "execution_count": 66,
      "outputs": [
        {
          "output_type": "execute_result",
          "data": {
            "text/html": [
              "<div>\n",
              "<style scoped>\n",
              "    .dataframe tbody tr th:only-of-type {\n",
              "        vertical-align: middle;\n",
              "    }\n",
              "\n",
              "    .dataframe tbody tr th {\n",
              "        vertical-align: top;\n",
              "    }\n",
              "\n",
              "    .dataframe thead th {\n",
              "        text-align: right;\n",
              "    }\n",
              "</style>\n",
              "<table border=\"1\" class=\"dataframe\">\n",
              "  <thead>\n",
              "    <tr style=\"text-align: right;\">\n",
              "      <th></th>\n",
              "      <th>0</th>\n",
              "      <th>1</th>\n",
              "      <th>2</th>\n",
              "      <th>3</th>\n",
              "      <th>4</th>\n",
              "      <th>5</th>\n",
              "      <th>6</th>\n",
              "      <th>7</th>\n",
              "      <th>8</th>\n",
              "      <th>9</th>\n",
              "      <th>10</th>\n",
              "      <th>11</th>\n",
              "      <th>12</th>\n",
              "    </tr>\n",
              "  </thead>\n",
              "  <tbody>\n",
              "    <tr>\n",
              "      <th>count</th>\n",
              "      <td>4.040000e+02</td>\n",
              "      <td>4.040000e+02</td>\n",
              "      <td>4.040000e+02</td>\n",
              "      <td>4.040000e+02</td>\n",
              "      <td>4.040000e+02</td>\n",
              "      <td>4.040000e+02</td>\n",
              "      <td>4.040000e+02</td>\n",
              "      <td>4.040000e+02</td>\n",
              "      <td>4.040000e+02</td>\n",
              "      <td>4.040000e+02</td>\n",
              "      <td>4.040000e+02</td>\n",
              "      <td>4.040000e+02</td>\n",
              "      <td>4.040000e+02</td>\n",
              "    </tr>\n",
              "    <tr>\n",
              "      <th>mean</th>\n",
              "      <td>1.140727e-15</td>\n",
              "      <td>-4.542131e-14</td>\n",
              "      <td>2.816614e-14</td>\n",
              "      <td>3.542271e-16</td>\n",
              "      <td>-1.538923e-17</td>\n",
              "      <td>-2.078645e-15</td>\n",
              "      <td>-3.225693e-14</td>\n",
              "      <td>-3.852804e-16</td>\n",
              "      <td>5.811083e-15</td>\n",
              "      <td>-1.748079e-13</td>\n",
              "      <td>-7.115320e-15</td>\n",
              "      <td>5.632026e-13</td>\n",
              "      <td>-1.022999e-14</td>\n",
              "    </tr>\n",
              "    <tr>\n",
              "      <th>std</th>\n",
              "      <td>1.001240e+00</td>\n",
              "      <td>1.001240e+00</td>\n",
              "      <td>1.001240e+00</td>\n",
              "      <td>1.001240e+00</td>\n",
              "      <td>1.001240e+00</td>\n",
              "      <td>1.001240e+00</td>\n",
              "      <td>1.001240e+00</td>\n",
              "      <td>1.001240e+00</td>\n",
              "      <td>1.001240e+00</td>\n",
              "      <td>1.001240e+00</td>\n",
              "      <td>1.001240e+00</td>\n",
              "      <td>1.001240e+00</td>\n",
              "      <td>1.001240e+00</td>\n",
              "    </tr>\n",
              "    <tr>\n",
              "      <th>min</th>\n",
              "      <td>-4.051005e-01</td>\n",
              "      <td>-4.836155e-01</td>\n",
              "      <td>-1.564696e+00</td>\n",
              "      <td>-2.568327e-01</td>\n",
              "      <td>-1.471269e+00</td>\n",
              "      <td>-3.817250e+00</td>\n",
              "      <td>-2.369042e+00</td>\n",
              "      <td>-1.287503e+00</td>\n",
              "      <td>-9.715693e-01</td>\n",
              "      <td>-1.311311e+00</td>\n",
              "      <td>-2.673752e+00</td>\n",
              "      <td>-3.771101e+00</td>\n",
              "      <td>-1.519664e+00</td>\n",
              "    </tr>\n",
              "    <tr>\n",
              "      <th>25%</th>\n",
              "      <td>-3.969615e-01</td>\n",
              "      <td>-4.836155e-01</td>\n",
              "      <td>-8.782218e-01</td>\n",
              "      <td>-2.568327e-01</td>\n",
              "      <td>-8.908055e-01</td>\n",
              "      <td>-5.534305e-01</td>\n",
              "      <td>-8.433882e-01</td>\n",
              "      <td>-8.202251e-01</td>\n",
              "      <td>-6.262491e-01</td>\n",
              "      <td>-7.636737e-01</td>\n",
              "      <td>-5.692381e-01</td>\n",
              "      <td>2.116008e-01</td>\n",
              "      <td>-8.075036e-01</td>\n",
              "    </tr>\n",
              "    <tr>\n",
              "      <th>50%</th>\n",
              "      <td>-3.766520e-01</td>\n",
              "      <td>-4.836155e-01</td>\n",
              "      <td>-2.079167e-01</td>\n",
              "      <td>-2.568327e-01</td>\n",
              "      <td>-1.652266e-01</td>\n",
              "      <td>-9.674263e-02</td>\n",
              "      <td>3.400464e-01</td>\n",
              "      <td>-2.949009e-01</td>\n",
              "      <td>-5.111423e-01</td>\n",
              "      <td>-4.567563e-01</td>\n",
              "      <td>2.839433e-01</td>\n",
              "      <td>3.879673e-01</td>\n",
              "      <td>-1.857436e-01</td>\n",
              "    </tr>\n",
              "    <tr>\n",
              "      <th>75%</th>\n",
              "      <td>-7.617386e-03</td>\n",
              "      <td>4.296024e-02</td>\n",
              "      <td>1.028326e+00</td>\n",
              "      <td>-2.568327e-01</td>\n",
              "      <td>6.286420e-01</td>\n",
              "      <td>4.823165e-01</td>\n",
              "      <td>8.990647e-01</td>\n",
              "      <td>6.794540e-01</td>\n",
              "      <td>1.675886e+00</td>\n",
              "      <td>1.565287e+00</td>\n",
              "      <td>7.844764e-01</td>\n",
              "      <td>4.401777e-01</td>\n",
              "      <td>6.005999e-01</td>\n",
              "    </tr>\n",
              "    <tr>\n",
              "      <th>max</th>\n",
              "      <td>9.234847e+00</td>\n",
              "      <td>3.728990e+00</td>\n",
              "      <td>2.445374e+00</td>\n",
              "      <td>3.893584e+00</td>\n",
              "      <td>2.677335e+00</td>\n",
              "      <td>3.467186e+00</td>\n",
              "      <td>1.110488e+00</td>\n",
              "      <td>3.437406e+00</td>\n",
              "      <td>1.675886e+00</td>\n",
              "      <td>1.836097e+00</td>\n",
              "      <td>1.603531e+00</td>\n",
              "      <td>4.480771e-01</td>\n",
              "      <td>3.482019e+00</td>\n",
              "    </tr>\n",
              "  </tbody>\n",
              "</table>\n",
              "</div>"
            ],
            "text/plain": [
              "                  0             1  ...            11            12\n",
              "count  4.040000e+02  4.040000e+02  ...  4.040000e+02  4.040000e+02\n",
              "mean   1.140727e-15 -4.542131e-14  ...  5.632026e-13 -1.022999e-14\n",
              "std    1.001240e+00  1.001240e+00  ...  1.001240e+00  1.001240e+00\n",
              "min   -4.051005e-01 -4.836155e-01  ... -3.771101e+00 -1.519664e+00\n",
              "25%   -3.969615e-01 -4.836155e-01  ...  2.116008e-01 -8.075036e-01\n",
              "50%   -3.766520e-01 -4.836155e-01  ...  3.879673e-01 -1.857436e-01\n",
              "75%   -7.617386e-03  4.296024e-02  ...  4.401777e-01  6.005999e-01\n",
              "max    9.234847e+00  3.728990e+00  ...  4.480771e-01  3.482019e+00\n",
              "\n",
              "[8 rows x 13 columns]"
            ]
          },
          "metadata": {
            "tags": []
          },
          "execution_count": 66
        }
      ]
    },
    {
      "cell_type": "markdown",
      "metadata": {
        "id": "yjDL4HjSx7ST"
      },
      "source": [
        "# Model and fit"
      ]
    },
    {
      "cell_type": "code",
      "metadata": {
        "id": "cda-cq3xzGba"
      },
      "source": [
        "model = tf.keras.models.Sequential()"
      ],
      "execution_count": 68,
      "outputs": []
    },
    {
      "cell_type": "code",
      "metadata": {
        "id": "9fOeuE0IfNh7",
        "colab": {
          "base_uri": "https://localhost:8080/"
        },
        "outputId": "d685a2e1-cc3f-4ead-dbfc-a1b0dfa0c09f"
      },
      "source": [
        "model.add(tf.keras.Input(shape=(13))) # input layer\n",
        "\n",
        "model.add(tf.keras.layers.Dense(64,activation='relu')) # hidden layer = 기능 layer\n",
        "model.add(tf.keras.layers.Dense(64,activation='relu')) # hidden layer = 기능 layer\n",
        "model.add(tf.keras.layers.Dense(64,activation='relu')) # hidden layer = 기능 layer\n",
        "\n",
        "model.add(tf.keras.layers.Dense(1,)) # output layer\n",
        "\n",
        "# sgd = tf.keras.optimizers.SGD(\n",
        "#     learning_rate=0.001,\n",
        "#     momontum=0.004,\n",
        "# )\n",
        "\n",
        "model.compile(optimizer='adam',loss='mse',metrics=['mae'])\n",
        "# MAE - mean absolute error -   평균절대오차 "
      ],
      "execution_count": 71,
      "outputs": [
        {
          "output_type": "stream",
          "text": [
            "WARNING:tensorflow:Please add `keras.layers.InputLayer` instead of `keras.Input` to Sequential model. `keras.Input` is intended to be used by Functional model.\n"
          ],
          "name": "stdout"
        }
      ]
    },
    {
      "cell_type": "code",
      "metadata": {
        "id": "PG0pU8ZvqkLU"
      },
      "source": [
        "tf.keras.utils.plot_model(model,show_shapes=True)"
      ],
      "execution_count": null,
      "outputs": []
    },
    {
      "cell_type": "code",
      "metadata": {
        "colab": {
          "base_uri": "https://localhost:8080/"
        },
        "id": "EZwCt6mjrEC0",
        "outputId": "be1fbaaa-54b7-4807-c7f6-f77c4b8de33e"
      },
      "source": [
        "model.summary() # 결과 요약 "
      ],
      "execution_count": 73,
      "outputs": [
        {
          "output_type": "stream",
          "text": [
            "Model: \"sequential_3\"\n",
            "_________________________________________________________________\n",
            "Layer (type)                 Output Shape              Param #   \n",
            "=================================================================\n",
            "dense_18 (Dense)             (None, 64)                896       \n",
            "_________________________________________________________________\n",
            "dense_19 (Dense)             (None, 64)                4160      \n",
            "_________________________________________________________________\n",
            "dense_20 (Dense)             (None, 64)                4160      \n",
            "_________________________________________________________________\n",
            "dense_21 (Dense)             (None, 1)                 65        \n",
            "_________________________________________________________________\n",
            "input_7 (InputLayer)         multiple                  0         \n",
            "_________________________________________________________________\n",
            "dense_22 (Dense)             (None, 64)                128       \n",
            "_________________________________________________________________\n",
            "dense_23 (Dense)             (None, 64)                4160      \n",
            "_________________________________________________________________\n",
            "dense_24 (Dense)             (None, 64)                4160      \n",
            "_________________________________________________________________\n",
            "dense_25 (Dense)             (None, 1)                 65        \n",
            "=================================================================\n",
            "Total params: 17,794\n",
            "Trainable params: 17,794\n",
            "Non-trainable params: 0\n",
            "_________________________________________________________________\n"
          ],
          "name": "stdout"
        }
      ]
    },
    {
      "cell_type": "code",
      "metadata": {
        "id": "6y8Q_yyRrO5y",
        "colab": {
          "base_uri": "https://localhost:8080/"
        },
        "outputId": "425d1739-3f27-4fa3-9c7c-550e1a5785e9"
      },
      "source": [
        "hist = model.fit(x_train,y_train,epochs=500, validation_split=0.3)"
      ],
      "execution_count": 75,
      "outputs": [
        {
          "output_type": "stream",
          "text": [
            "Epoch 1/500\n",
            "9/9 [==============================] - 0s 22ms/step - loss: 2.0077 - mae: 1.0696 - val_loss: 2.3508 - val_mae: 1.1333\n",
            "Epoch 2/500\n",
            "9/9 [==============================] - 0s 7ms/step - loss: 1.8819 - mae: 1.0223 - val_loss: 2.5426 - val_mae: 1.1704\n",
            "Epoch 3/500\n",
            "9/9 [==============================] - 0s 5ms/step - loss: 1.7876 - mae: 0.9742 - val_loss: 2.4592 - val_mae: 1.1566\n",
            "Epoch 4/500\n",
            "9/9 [==============================] - 0s 7ms/step - loss: 1.8860 - mae: 0.9802 - val_loss: 2.4488 - val_mae: 1.1767\n",
            "Epoch 5/500\n",
            "9/9 [==============================] - 0s 7ms/step - loss: 1.6713 - mae: 0.9258 - val_loss: 2.6386 - val_mae: 1.1967\n",
            "Epoch 6/500\n",
            "9/9 [==============================] - 0s 7ms/step - loss: 1.5481 - mae: 0.9004 - val_loss: 2.4301 - val_mae: 1.1611\n",
            "Epoch 7/500\n",
            "9/9 [==============================] - 0s 7ms/step - loss: 1.4818 - mae: 0.8627 - val_loss: 2.6664 - val_mae: 1.2406\n",
            "Epoch 8/500\n",
            "9/9 [==============================] - 0s 7ms/step - loss: 1.6164 - mae: 0.9260 - val_loss: 3.3764 - val_mae: 1.3142\n",
            "Epoch 9/500\n",
            "9/9 [==============================] - 0s 7ms/step - loss: 1.8857 - mae: 0.9994 - val_loss: 2.9001 - val_mae: 1.2574\n",
            "Epoch 10/500\n",
            "9/9 [==============================] - 0s 8ms/step - loss: 1.5017 - mae: 0.9374 - val_loss: 2.9119 - val_mae: 1.3489\n",
            "Epoch 11/500\n",
            "9/9 [==============================] - 0s 8ms/step - loss: 1.4934 - mae: 0.8975 - val_loss: 3.3472 - val_mae: 1.4855\n",
            "Epoch 12/500\n",
            "9/9 [==============================] - 0s 6ms/step - loss: 1.6262 - mae: 0.9419 - val_loss: 2.8930 - val_mae: 1.2731\n",
            "Epoch 13/500\n",
            "9/9 [==============================] - 0s 8ms/step - loss: 1.3697 - mae: 0.8372 - val_loss: 2.9282 - val_mae: 1.2603\n",
            "Epoch 14/500\n",
            "9/9 [==============================] - 0s 6ms/step - loss: 1.4363 - mae: 0.8307 - val_loss: 2.9598 - val_mae: 1.2821\n",
            "Epoch 15/500\n",
            "9/9 [==============================] - 0s 9ms/step - loss: 1.5008 - mae: 0.9231 - val_loss: 2.8040 - val_mae: 1.2526\n",
            "Epoch 16/500\n",
            "9/9 [==============================] - 0s 6ms/step - loss: 1.7655 - mae: 1.0072 - val_loss: 3.0653 - val_mae: 1.3478\n",
            "Epoch 17/500\n",
            "9/9 [==============================] - 0s 7ms/step - loss: 1.4406 - mae: 0.8834 - val_loss: 3.5108 - val_mae: 1.5237\n",
            "Epoch 18/500\n",
            "9/9 [==============================] - 0s 7ms/step - loss: 1.4339 - mae: 0.9015 - val_loss: 2.9085 - val_mae: 1.3290\n",
            "Epoch 19/500\n",
            "9/9 [==============================] - 0s 8ms/step - loss: 1.2869 - mae: 0.8154 - val_loss: 3.2603 - val_mae: 1.4040\n",
            "Epoch 20/500\n",
            "9/9 [==============================] - 0s 8ms/step - loss: 1.4437 - mae: 0.8594 - val_loss: 3.2661 - val_mae: 1.4486\n",
            "Epoch 21/500\n",
            "9/9 [==============================] - 0s 8ms/step - loss: 1.4070 - mae: 0.8829 - val_loss: 3.1462 - val_mae: 1.3272\n",
            "Epoch 22/500\n",
            "9/9 [==============================] - 0s 6ms/step - loss: 1.3566 - mae: 0.8538 - val_loss: 3.3478 - val_mae: 1.3756\n",
            "Epoch 23/500\n",
            "9/9 [==============================] - 0s 7ms/step - loss: 1.4094 - mae: 0.8599 - val_loss: 3.5650 - val_mae: 1.3642\n",
            "Epoch 24/500\n",
            "9/9 [==============================] - 0s 8ms/step - loss: 1.4325 - mae: 0.9055 - val_loss: 4.1433 - val_mae: 1.5162\n",
            "Epoch 25/500\n",
            "9/9 [==============================] - 0s 6ms/step - loss: 1.5195 - mae: 0.8999 - val_loss: 3.4272 - val_mae: 1.3421\n",
            "Epoch 26/500\n",
            "9/9 [==============================] - 0s 6ms/step - loss: 1.3605 - mae: 0.8589 - val_loss: 3.3252 - val_mae: 1.3866\n",
            "Epoch 27/500\n",
            "9/9 [==============================] - 0s 8ms/step - loss: 1.2595 - mae: 0.8162 - val_loss: 3.3879 - val_mae: 1.4491\n",
            "Epoch 28/500\n",
            "9/9 [==============================] - 0s 9ms/step - loss: 1.1479 - mae: 0.7494 - val_loss: 3.2029 - val_mae: 1.3564\n",
            "Epoch 29/500\n",
            "9/9 [==============================] - 0s 9ms/step - loss: 1.1391 - mae: 0.7282 - val_loss: 3.3230 - val_mae: 1.4123\n",
            "Epoch 30/500\n",
            "9/9 [==============================] - 0s 7ms/step - loss: 1.2057 - mae: 0.7696 - val_loss: 3.3857 - val_mae: 1.3792\n",
            "Epoch 31/500\n",
            "9/9 [==============================] - 0s 7ms/step - loss: 1.5129 - mae: 0.8963 - val_loss: 3.6279 - val_mae: 1.4966\n",
            "Epoch 32/500\n",
            "9/9 [==============================] - 0s 8ms/step - loss: 1.5899 - mae: 0.9227 - val_loss: 3.5761 - val_mae: 1.4032\n",
            "Epoch 33/500\n",
            "9/9 [==============================] - 0s 6ms/step - loss: 1.2282 - mae: 0.7809 - val_loss: 3.3987 - val_mae: 1.3615\n",
            "Epoch 34/500\n",
            "9/9 [==============================] - 0s 7ms/step - loss: 1.1176 - mae: 0.7709 - val_loss: 3.7249 - val_mae: 1.3939\n",
            "Epoch 35/500\n",
            "9/9 [==============================] - 0s 7ms/step - loss: 1.2499 - mae: 0.8160 - val_loss: 3.3184 - val_mae: 1.3860\n",
            "Epoch 36/500\n",
            "9/9 [==============================] - 0s 7ms/step - loss: 1.2434 - mae: 0.8042 - val_loss: 3.3466 - val_mae: 1.3693\n",
            "Epoch 37/500\n",
            "9/9 [==============================] - 0s 7ms/step - loss: 1.2399 - mae: 0.7959 - val_loss: 3.5286 - val_mae: 1.4506\n",
            "Epoch 38/500\n",
            "9/9 [==============================] - 0s 7ms/step - loss: 1.0810 - mae: 0.7174 - val_loss: 3.5754 - val_mae: 1.4649\n",
            "Epoch 39/500\n",
            "9/9 [==============================] - 0s 7ms/step - loss: 1.1463 - mae: 0.7604 - val_loss: 3.5961 - val_mae: 1.4366\n",
            "Epoch 40/500\n",
            "9/9 [==============================] - 0s 7ms/step - loss: 1.1850 - mae: 0.7708 - val_loss: 3.3658 - val_mae: 1.4167\n",
            "Epoch 41/500\n",
            "9/9 [==============================] - 0s 6ms/step - loss: 0.9022 - mae: 0.6860 - val_loss: 3.7918 - val_mae: 1.4377\n",
            "Epoch 42/500\n",
            "9/9 [==============================] - 0s 7ms/step - loss: 1.1607 - mae: 0.7747 - val_loss: 3.6912 - val_mae: 1.4045\n",
            "Epoch 43/500\n",
            "9/9 [==============================] - 0s 5ms/step - loss: 1.1511 - mae: 0.7559 - val_loss: 3.5866 - val_mae: 1.3810\n",
            "Epoch 44/500\n",
            "9/9 [==============================] - 0s 6ms/step - loss: 1.1223 - mae: 0.7527 - val_loss: 3.4458 - val_mae: 1.4387\n",
            "Epoch 45/500\n",
            "9/9 [==============================] - 0s 9ms/step - loss: 0.9878 - mae: 0.6981 - val_loss: 3.6951 - val_mae: 1.4047\n",
            "Epoch 46/500\n",
            "9/9 [==============================] - 0s 9ms/step - loss: 1.1222 - mae: 0.7309 - val_loss: 3.5352 - val_mae: 1.4197\n",
            "Epoch 47/500\n",
            "9/9 [==============================] - 0s 7ms/step - loss: 1.0122 - mae: 0.7221 - val_loss: 3.6609 - val_mae: 1.4329\n",
            "Epoch 48/500\n",
            "9/9 [==============================] - 0s 6ms/step - loss: 1.0174 - mae: 0.6965 - val_loss: 3.6361 - val_mae: 1.3909\n",
            "Epoch 49/500\n",
            "9/9 [==============================] - 0s 9ms/step - loss: 0.9888 - mae: 0.6975 - val_loss: 3.6295 - val_mae: 1.4438\n",
            "Epoch 50/500\n",
            "9/9 [==============================] - 0s 6ms/step - loss: 0.9593 - mae: 0.6896 - val_loss: 3.5700 - val_mae: 1.4412\n",
            "Epoch 51/500\n",
            "9/9 [==============================] - 0s 8ms/step - loss: 0.9266 - mae: 0.6693 - val_loss: 3.5874 - val_mae: 1.4470\n",
            "Epoch 52/500\n",
            "9/9 [==============================] - 0s 6ms/step - loss: 0.9347 - mae: 0.6980 - val_loss: 3.5974 - val_mae: 1.4832\n",
            "Epoch 53/500\n",
            "9/9 [==============================] - 0s 9ms/step - loss: 0.9116 - mae: 0.6761 - val_loss: 3.5546 - val_mae: 1.4808\n",
            "Epoch 54/500\n",
            "9/9 [==============================] - 0s 7ms/step - loss: 1.0747 - mae: 0.7506 - val_loss: 3.8353 - val_mae: 1.5719\n",
            "Epoch 55/500\n",
            "9/9 [==============================] - 0s 8ms/step - loss: 0.9506 - mae: 0.7031 - val_loss: 3.8915 - val_mae: 1.5568\n",
            "Epoch 56/500\n",
            "9/9 [==============================] - 0s 6ms/step - loss: 0.9630 - mae: 0.6756 - val_loss: 3.7078 - val_mae: 1.5280\n",
            "Epoch 57/500\n",
            "9/9 [==============================] - 0s 6ms/step - loss: 0.9234 - mae: 0.6815 - val_loss: 3.7907 - val_mae: 1.5139\n",
            "Epoch 58/500\n",
            "9/9 [==============================] - 0s 9ms/step - loss: 0.8268 - mae: 0.6258 - val_loss: 3.5270 - val_mae: 1.4199\n",
            "Epoch 59/500\n",
            "9/9 [==============================] - 0s 8ms/step - loss: 0.8396 - mae: 0.6301 - val_loss: 3.7544 - val_mae: 1.4946\n",
            "Epoch 60/500\n",
            "9/9 [==============================] - 0s 6ms/step - loss: 0.8266 - mae: 0.6276 - val_loss: 3.5816 - val_mae: 1.4351\n",
            "Epoch 61/500\n",
            "9/9 [==============================] - 0s 10ms/step - loss: 0.8163 - mae: 0.6421 - val_loss: 3.8367 - val_mae: 1.4228\n",
            "Epoch 62/500\n",
            "9/9 [==============================] - 0s 7ms/step - loss: 0.8780 - mae: 0.6626 - val_loss: 4.0755 - val_mae: 1.4824\n",
            "Epoch 63/500\n",
            "9/9 [==============================] - 0s 9ms/step - loss: 1.1383 - mae: 0.7534 - val_loss: 3.7457 - val_mae: 1.4604\n",
            "Epoch 64/500\n",
            "9/9 [==============================] - 0s 6ms/step - loss: 0.9489 - mae: 0.6909 - val_loss: 3.7350 - val_mae: 1.4581\n",
            "Epoch 65/500\n",
            "9/9 [==============================] - 0s 7ms/step - loss: 1.0103 - mae: 0.7147 - val_loss: 4.0815 - val_mae: 1.5141\n",
            "Epoch 66/500\n",
            "9/9 [==============================] - 0s 7ms/step - loss: 1.1883 - mae: 0.8437 - val_loss: 3.6712 - val_mae: 1.4682\n",
            "Epoch 67/500\n",
            "9/9 [==============================] - 0s 7ms/step - loss: 0.9804 - mae: 0.7357 - val_loss: 3.8431 - val_mae: 1.4751\n",
            "Epoch 68/500\n",
            "9/9 [==============================] - 0s 6ms/step - loss: 1.2542 - mae: 0.8264 - val_loss: 3.9759 - val_mae: 1.4426\n",
            "Epoch 69/500\n",
            "9/9 [==============================] - 0s 6ms/step - loss: 1.1509 - mae: 0.8111 - val_loss: 3.9060 - val_mae: 1.4709\n",
            "Epoch 70/500\n",
            "9/9 [==============================] - 0s 8ms/step - loss: 0.8184 - mae: 0.6565 - val_loss: 3.6482 - val_mae: 1.4595\n",
            "Epoch 71/500\n",
            "9/9 [==============================] - 0s 7ms/step - loss: 0.8701 - mae: 0.6288 - val_loss: 3.8285 - val_mae: 1.5177\n",
            "Epoch 72/500\n",
            "9/9 [==============================] - 0s 7ms/step - loss: 0.7928 - mae: 0.6045 - val_loss: 4.0316 - val_mae: 1.5500\n",
            "Epoch 73/500\n",
            "9/9 [==============================] - 0s 7ms/step - loss: 0.8028 - mae: 0.6331 - val_loss: 3.7707 - val_mae: 1.5380\n",
            "Epoch 74/500\n",
            "9/9 [==============================] - 0s 7ms/step - loss: 0.7897 - mae: 0.6343 - val_loss: 3.8741 - val_mae: 1.5535\n",
            "Epoch 75/500\n",
            "9/9 [==============================] - 0s 7ms/step - loss: 0.9240 - mae: 0.7209 - val_loss: 3.8699 - val_mae: 1.5662\n",
            "Epoch 76/500\n",
            "9/9 [==============================] - 0s 7ms/step - loss: 0.8299 - mae: 0.6481 - val_loss: 3.9246 - val_mae: 1.5071\n",
            "Epoch 77/500\n",
            "9/9 [==============================] - 0s 8ms/step - loss: 0.7095 - mae: 0.6013 - val_loss: 4.1309 - val_mae: 1.6353\n",
            "Epoch 78/500\n",
            "9/9 [==============================] - 0s 7ms/step - loss: 0.7923 - mae: 0.6342 - val_loss: 4.2593 - val_mae: 1.6644\n",
            "Epoch 79/500\n",
            "9/9 [==============================] - 0s 6ms/step - loss: 0.7784 - mae: 0.6284 - val_loss: 4.0152 - val_mae: 1.5433\n",
            "Epoch 80/500\n",
            "9/9 [==============================] - 0s 6ms/step - loss: 0.7268 - mae: 0.5973 - val_loss: 3.8313 - val_mae: 1.4541\n",
            "Epoch 81/500\n",
            "9/9 [==============================] - 0s 6ms/step - loss: 0.6919 - mae: 0.5955 - val_loss: 3.7751 - val_mae: 1.4318\n",
            "Epoch 82/500\n",
            "9/9 [==============================] - 0s 8ms/step - loss: 0.7271 - mae: 0.6093 - val_loss: 3.9758 - val_mae: 1.4433\n",
            "Epoch 83/500\n",
            "9/9 [==============================] - 0s 10ms/step - loss: 0.7195 - mae: 0.6046 - val_loss: 3.6508 - val_mae: 1.4420\n",
            "Epoch 84/500\n",
            "9/9 [==============================] - 0s 6ms/step - loss: 0.7624 - mae: 0.6137 - val_loss: 3.9375 - val_mae: 1.4333\n",
            "Epoch 85/500\n",
            "9/9 [==============================] - 0s 6ms/step - loss: 0.6507 - mae: 0.5506 - val_loss: 3.8490 - val_mae: 1.4552\n",
            "Epoch 86/500\n",
            "9/9 [==============================] - 0s 7ms/step - loss: 0.7066 - mae: 0.5835 - val_loss: 3.8586 - val_mae: 1.5117\n",
            "Epoch 87/500\n",
            "9/9 [==============================] - 0s 6ms/step - loss: 0.6903 - mae: 0.5565 - val_loss: 3.9328 - val_mae: 1.5111\n",
            "Epoch 88/500\n",
            "9/9 [==============================] - 0s 6ms/step - loss: 0.6502 - mae: 0.5478 - val_loss: 3.9056 - val_mae: 1.5226\n",
            "Epoch 89/500\n",
            "9/9 [==============================] - 0s 6ms/step - loss: 0.6604 - mae: 0.5569 - val_loss: 3.9945 - val_mae: 1.5382\n",
            "Epoch 90/500\n",
            "9/9 [==============================] - 0s 6ms/step - loss: 0.7079 - mae: 0.6173 - val_loss: 3.8884 - val_mae: 1.5429\n",
            "Epoch 91/500\n",
            "9/9 [==============================] - 0s 7ms/step - loss: 0.6363 - mae: 0.5520 - val_loss: 4.0664 - val_mae: 1.5624\n",
            "Epoch 92/500\n",
            "9/9 [==============================] - 0s 8ms/step - loss: 0.5886 - mae: 0.5287 - val_loss: 3.8918 - val_mae: 1.5346\n",
            "Epoch 93/500\n",
            "9/9 [==============================] - 0s 7ms/step - loss: 0.5963 - mae: 0.5105 - val_loss: 4.0165 - val_mae: 1.5545\n",
            "Epoch 94/500\n",
            "9/9 [==============================] - 0s 8ms/step - loss: 0.6776 - mae: 0.5730 - val_loss: 3.8732 - val_mae: 1.4706\n",
            "Epoch 95/500\n",
            "9/9 [==============================] - 0s 6ms/step - loss: 0.5970 - mae: 0.5243 - val_loss: 3.9538 - val_mae: 1.5193\n",
            "Epoch 96/500\n",
            "9/9 [==============================] - 0s 7ms/step - loss: 0.5913 - mae: 0.5191 - val_loss: 4.0448 - val_mae: 1.5699\n",
            "Epoch 97/500\n",
            "9/9 [==============================] - 0s 6ms/step - loss: 0.5851 - mae: 0.5129 - val_loss: 4.0504 - val_mae: 1.5409\n",
            "Epoch 98/500\n",
            "9/9 [==============================] - 0s 6ms/step - loss: 0.5955 - mae: 0.5163 - val_loss: 3.9508 - val_mae: 1.5508\n",
            "Epoch 99/500\n",
            "9/9 [==============================] - 0s 8ms/step - loss: 0.5431 - mae: 0.4922 - val_loss: 3.9136 - val_mae: 1.5264\n",
            "Epoch 100/500\n",
            "9/9 [==============================] - 0s 7ms/step - loss: 0.6056 - mae: 0.5321 - val_loss: 3.9792 - val_mae: 1.4917\n",
            "Epoch 101/500\n",
            "9/9 [==============================] - 0s 9ms/step - loss: 0.7472 - mae: 0.6366 - val_loss: 4.0452 - val_mae: 1.4487\n",
            "Epoch 102/500\n",
            "9/9 [==============================] - 0s 8ms/step - loss: 0.9667 - mae: 0.7726 - val_loss: 4.2542 - val_mae: 1.5215\n",
            "Epoch 103/500\n",
            "9/9 [==============================] - 0s 6ms/step - loss: 0.8970 - mae: 0.6915 - val_loss: 4.0795 - val_mae: 1.4666\n",
            "Epoch 104/500\n",
            "9/9 [==============================] - 0s 8ms/step - loss: 0.6447 - mae: 0.5680 - val_loss: 4.0625 - val_mae: 1.6025\n",
            "Epoch 105/500\n",
            "9/9 [==============================] - 0s 6ms/step - loss: 0.6115 - mae: 0.5434 - val_loss: 3.9716 - val_mae: 1.5602\n",
            "Epoch 106/500\n",
            "9/9 [==============================] - 0s 7ms/step - loss: 0.5570 - mae: 0.5227 - val_loss: 4.0755 - val_mae: 1.5835\n",
            "Epoch 107/500\n",
            "9/9 [==============================] - 0s 7ms/step - loss: 0.6211 - mae: 0.5440 - val_loss: 4.0527 - val_mae: 1.5615\n",
            "Epoch 108/500\n",
            "9/9 [==============================] - 0s 8ms/step - loss: 0.5813 - mae: 0.5305 - val_loss: 3.9676 - val_mae: 1.4673\n",
            "Epoch 109/500\n",
            "9/9 [==============================] - 0s 6ms/step - loss: 0.6452 - mae: 0.5708 - val_loss: 3.9814 - val_mae: 1.4890\n",
            "Epoch 110/500\n",
            "9/9 [==============================] - 0s 6ms/step - loss: 0.5623 - mae: 0.5337 - val_loss: 4.0956 - val_mae: 1.4928\n",
            "Epoch 111/500\n",
            "9/9 [==============================] - 0s 7ms/step - loss: 0.6108 - mae: 0.5289 - val_loss: 4.0074 - val_mae: 1.4647\n",
            "Epoch 112/500\n",
            "9/9 [==============================] - 0s 6ms/step - loss: 0.6060 - mae: 0.5289 - val_loss: 4.3499 - val_mae: 1.6271\n",
            "Epoch 113/500\n",
            "9/9 [==============================] - 0s 8ms/step - loss: 0.6452 - mae: 0.5561 - val_loss: 4.1386 - val_mae: 1.5787\n",
            "Epoch 114/500\n",
            "9/9 [==============================] - 0s 7ms/step - loss: 0.6455 - mae: 0.5711 - val_loss: 4.1484 - val_mae: 1.5332\n",
            "Epoch 115/500\n",
            "9/9 [==============================] - 0s 8ms/step - loss: 0.7887 - mae: 0.6328 - val_loss: 4.1437 - val_mae: 1.6438\n",
            "Epoch 116/500\n",
            "9/9 [==============================] - 0s 7ms/step - loss: 0.8330 - mae: 0.7081 - val_loss: 5.5571 - val_mae: 1.9063\n",
            "Epoch 117/500\n",
            "9/9 [==============================] - 0s 6ms/step - loss: 0.9778 - mae: 0.7321 - val_loss: 5.1785 - val_mae: 1.8383\n",
            "Epoch 118/500\n",
            "9/9 [==============================] - 0s 6ms/step - loss: 1.1979 - mae: 0.8140 - val_loss: 5.0398 - val_mae: 1.8499\n",
            "Epoch 119/500\n",
            "9/9 [==============================] - 0s 8ms/step - loss: 0.9608 - mae: 0.7320 - val_loss: 4.0364 - val_mae: 1.5259\n",
            "Epoch 120/500\n",
            "9/9 [==============================] - 0s 6ms/step - loss: 0.7861 - mae: 0.6555 - val_loss: 4.3832 - val_mae: 1.5086\n",
            "Epoch 121/500\n",
            "9/9 [==============================] - 0s 7ms/step - loss: 0.7360 - mae: 0.6211 - val_loss: 4.3464 - val_mae: 1.5063\n",
            "Epoch 122/500\n",
            "9/9 [==============================] - 0s 7ms/step - loss: 0.7279 - mae: 0.6233 - val_loss: 4.0685 - val_mae: 1.4669\n",
            "Epoch 123/500\n",
            "9/9 [==============================] - 0s 7ms/step - loss: 0.6506 - mae: 0.5729 - val_loss: 3.7850 - val_mae: 1.4546\n",
            "Epoch 124/500\n",
            "9/9 [==============================] - 0s 7ms/step - loss: 0.5435 - mae: 0.5327 - val_loss: 4.1128 - val_mae: 1.4822\n",
            "Epoch 125/500\n",
            "9/9 [==============================] - 0s 7ms/step - loss: 0.5493 - mae: 0.5376 - val_loss: 4.2019 - val_mae: 1.5428\n",
            "Epoch 126/500\n",
            "9/9 [==============================] - 0s 6ms/step - loss: 0.5301 - mae: 0.5137 - val_loss: 4.2790 - val_mae: 1.5276\n",
            "Epoch 127/500\n",
            "9/9 [==============================] - 0s 8ms/step - loss: 0.7072 - mae: 0.6109 - val_loss: 4.3927 - val_mae: 1.5437\n",
            "Epoch 128/500\n",
            "9/9 [==============================] - 0s 6ms/step - loss: 0.6821 - mae: 0.6203 - val_loss: 4.1631 - val_mae: 1.5073\n",
            "Epoch 129/500\n",
            "9/9 [==============================] - 0s 6ms/step - loss: 0.5403 - mae: 0.5460 - val_loss: 3.7922 - val_mae: 1.4977\n",
            "Epoch 130/500\n",
            "9/9 [==============================] - 0s 8ms/step - loss: 0.6413 - mae: 0.6039 - val_loss: 4.1549 - val_mae: 1.5154\n",
            "Epoch 131/500\n",
            "9/9 [==============================] - 0s 7ms/step - loss: 0.5753 - mae: 0.5167 - val_loss: 3.9397 - val_mae: 1.5066\n",
            "Epoch 132/500\n",
            "9/9 [==============================] - 0s 6ms/step - loss: 0.4616 - mae: 0.4646 - val_loss: 4.2362 - val_mae: 1.5873\n",
            "Epoch 133/500\n",
            "9/9 [==============================] - 0s 8ms/step - loss: 0.4581 - mae: 0.4621 - val_loss: 4.0095 - val_mae: 1.4960\n",
            "Epoch 134/500\n",
            "9/9 [==============================] - 0s 9ms/step - loss: 0.5003 - mae: 0.4766 - val_loss: 4.1591 - val_mae: 1.5000\n",
            "Epoch 135/500\n",
            "9/9 [==============================] - 0s 7ms/step - loss: 0.4115 - mae: 0.4263 - val_loss: 4.1345 - val_mae: 1.6044\n",
            "Epoch 136/500\n",
            "9/9 [==============================] - 0s 6ms/step - loss: 0.4931 - mae: 0.4985 - val_loss: 4.5013 - val_mae: 1.6845\n",
            "Epoch 137/500\n",
            "9/9 [==============================] - 0s 10ms/step - loss: 0.5886 - mae: 0.5334 - val_loss: 4.2338 - val_mae: 1.5660\n",
            "Epoch 138/500\n",
            "9/9 [==============================] - 0s 6ms/step - loss: 0.4363 - mae: 0.4386 - val_loss: 4.0132 - val_mae: 1.5140\n",
            "Epoch 139/500\n",
            "9/9 [==============================] - 0s 6ms/step - loss: 0.4591 - mae: 0.4544 - val_loss: 4.2709 - val_mae: 1.5501\n",
            "Epoch 140/500\n",
            "9/9 [==============================] - 0s 7ms/step - loss: 0.4275 - mae: 0.4610 - val_loss: 4.1317 - val_mae: 1.5687\n",
            "Epoch 141/500\n",
            "9/9 [==============================] - 0s 7ms/step - loss: 0.4107 - mae: 0.4376 - val_loss: 4.3056 - val_mae: 1.6112\n",
            "Epoch 142/500\n",
            "9/9 [==============================] - 0s 7ms/step - loss: 0.4471 - mae: 0.4572 - val_loss: 4.1717 - val_mae: 1.5887\n",
            "Epoch 143/500\n",
            "9/9 [==============================] - 0s 6ms/step - loss: 0.4535 - mae: 0.4639 - val_loss: 4.3264 - val_mae: 1.5047\n",
            "Epoch 144/500\n",
            "9/9 [==============================] - 0s 6ms/step - loss: 0.5669 - mae: 0.5574 - val_loss: 4.0189 - val_mae: 1.5070\n",
            "Epoch 145/500\n",
            "9/9 [==============================] - 0s 7ms/step - loss: 0.4804 - mae: 0.4767 - val_loss: 4.3913 - val_mae: 1.5772\n",
            "Epoch 146/500\n",
            "9/9 [==============================] - 0s 8ms/step - loss: 0.4318 - mae: 0.4373 - val_loss: 4.1816 - val_mae: 1.5881\n",
            "Epoch 147/500\n",
            "9/9 [==============================] - 0s 6ms/step - loss: 0.4721 - mae: 0.4861 - val_loss: 4.4415 - val_mae: 1.6519\n",
            "Epoch 148/500\n",
            "9/9 [==============================] - 0s 6ms/step - loss: 0.4546 - mae: 0.4470 - val_loss: 4.1606 - val_mae: 1.5517\n",
            "Epoch 149/500\n",
            "9/9 [==============================] - 0s 8ms/step - loss: 0.4552 - mae: 0.4506 - val_loss: 4.3092 - val_mae: 1.6421\n",
            "Epoch 150/500\n",
            "9/9 [==============================] - 0s 8ms/step - loss: 0.5147 - mae: 0.4878 - val_loss: 4.2798 - val_mae: 1.5871\n",
            "Epoch 151/500\n",
            "9/9 [==============================] - 0s 9ms/step - loss: 0.4133 - mae: 0.4464 - val_loss: 4.2725 - val_mae: 1.5888\n",
            "Epoch 152/500\n",
            "9/9 [==============================] - 0s 8ms/step - loss: 0.5361 - mae: 0.5063 - val_loss: 4.3427 - val_mae: 1.5820\n",
            "Epoch 153/500\n",
            "9/9 [==============================] - 0s 7ms/step - loss: 0.4341 - mae: 0.4862 - val_loss: 4.2254 - val_mae: 1.6024\n",
            "Epoch 154/500\n",
            "9/9 [==============================] - 0s 8ms/step - loss: 0.3796 - mae: 0.4157 - val_loss: 4.3019 - val_mae: 1.5559\n",
            "Epoch 155/500\n",
            "9/9 [==============================] - 0s 7ms/step - loss: 0.3681 - mae: 0.3994 - val_loss: 4.1045 - val_mae: 1.5628\n",
            "Epoch 156/500\n",
            "9/9 [==============================] - 0s 7ms/step - loss: 0.3614 - mae: 0.3960 - val_loss: 4.4342 - val_mae: 1.6167\n",
            "Epoch 157/500\n",
            "9/9 [==============================] - 0s 8ms/step - loss: 0.4161 - mae: 0.4185 - val_loss: 4.1824 - val_mae: 1.5580\n",
            "Epoch 158/500\n",
            "9/9 [==============================] - 0s 6ms/step - loss: 0.4124 - mae: 0.4368 - val_loss: 4.3838 - val_mae: 1.6645\n",
            "Epoch 159/500\n",
            "9/9 [==============================] - 0s 8ms/step - loss: 0.3843 - mae: 0.4308 - val_loss: 4.3544 - val_mae: 1.5608\n",
            "Epoch 160/500\n",
            "9/9 [==============================] - 0s 8ms/step - loss: 0.5940 - mae: 0.5649 - val_loss: 4.3196 - val_mae: 1.5625\n",
            "Epoch 161/500\n",
            "9/9 [==============================] - 0s 6ms/step - loss: 0.7510 - mae: 0.6051 - val_loss: 4.1755 - val_mae: 1.5137\n",
            "Epoch 162/500\n",
            "9/9 [==============================] - 0s 6ms/step - loss: 0.7086 - mae: 0.5863 - val_loss: 4.5883 - val_mae: 1.7494\n",
            "Epoch 163/500\n",
            "9/9 [==============================] - 0s 8ms/step - loss: 0.7106 - mae: 0.6305 - val_loss: 5.0429 - val_mae: 1.7741\n",
            "Epoch 164/500\n",
            "9/9 [==============================] - 0s 6ms/step - loss: 0.9275 - mae: 0.7172 - val_loss: 4.4754 - val_mae: 1.5814\n",
            "Epoch 165/500\n",
            "9/9 [==============================] - 0s 8ms/step - loss: 0.6901 - mae: 0.6481 - val_loss: 4.2036 - val_mae: 1.5697\n",
            "Epoch 166/500\n",
            "9/9 [==============================] - 0s 8ms/step - loss: 0.5591 - mae: 0.5599 - val_loss: 4.4982 - val_mae: 1.5376\n",
            "Epoch 167/500\n",
            "9/9 [==============================] - 0s 7ms/step - loss: 0.5228 - mae: 0.5083 - val_loss: 4.2461 - val_mae: 1.6006\n",
            "Epoch 168/500\n",
            "9/9 [==============================] - 0s 7ms/step - loss: 0.4453 - mae: 0.4567 - val_loss: 4.4186 - val_mae: 1.6555\n",
            "Epoch 169/500\n",
            "9/9 [==============================] - 0s 7ms/step - loss: 0.3952 - mae: 0.4438 - val_loss: 4.9158 - val_mae: 1.7889\n",
            "Epoch 170/500\n",
            "9/9 [==============================] - 0s 7ms/step - loss: 0.5137 - mae: 0.5089 - val_loss: 4.3135 - val_mae: 1.6194\n",
            "Epoch 171/500\n",
            "9/9 [==============================] - 0s 7ms/step - loss: 0.4687 - mae: 0.4946 - val_loss: 4.6637 - val_mae: 1.6617\n",
            "Epoch 172/500\n",
            "9/9 [==============================] - 0s 8ms/step - loss: 0.5766 - mae: 0.5563 - val_loss: 4.4416 - val_mae: 1.5347\n",
            "Epoch 173/500\n",
            "9/9 [==============================] - 0s 7ms/step - loss: 0.6122 - mae: 0.5875 - val_loss: 4.4466 - val_mae: 1.5678\n",
            "Epoch 174/500\n",
            "9/9 [==============================] - 0s 7ms/step - loss: 0.5255 - mae: 0.4965 - val_loss: 4.5601 - val_mae: 1.6762\n",
            "Epoch 175/500\n",
            "9/9 [==============================] - 0s 8ms/step - loss: 0.5061 - mae: 0.4940 - val_loss: 4.6718 - val_mae: 1.6750\n",
            "Epoch 176/500\n",
            "9/9 [==============================] - 0s 6ms/step - loss: 0.3947 - mae: 0.4458 - val_loss: 4.2228 - val_mae: 1.5639\n",
            "Epoch 177/500\n",
            "9/9 [==============================] - 0s 9ms/step - loss: 0.4149 - mae: 0.4487 - val_loss: 4.5037 - val_mae: 1.5636\n",
            "Epoch 178/500\n",
            "9/9 [==============================] - 0s 6ms/step - loss: 0.3718 - mae: 0.4200 - val_loss: 4.2258 - val_mae: 1.5723\n",
            "Epoch 179/500\n",
            "9/9 [==============================] - 0s 6ms/step - loss: 0.3449 - mae: 0.3795 - val_loss: 4.4806 - val_mae: 1.6166\n",
            "Epoch 180/500\n",
            "9/9 [==============================] - 0s 9ms/step - loss: 0.3392 - mae: 0.3866 - val_loss: 4.4546 - val_mae: 1.6611\n",
            "Epoch 181/500\n",
            "9/9 [==============================] - 0s 7ms/step - loss: 0.4824 - mae: 0.4996 - val_loss: 4.2032 - val_mae: 1.5591\n",
            "Epoch 182/500\n",
            "9/9 [==============================] - 0s 6ms/step - loss: 0.4229 - mae: 0.4406 - val_loss: 4.4534 - val_mae: 1.5700\n",
            "Epoch 183/500\n",
            "9/9 [==============================] - 0s 9ms/step - loss: 0.3455 - mae: 0.3946 - val_loss: 4.4889 - val_mae: 1.6526\n",
            "Epoch 184/500\n",
            "9/9 [==============================] - 0s 7ms/step - loss: 0.4381 - mae: 0.4669 - val_loss: 4.6164 - val_mae: 1.6982\n",
            "Epoch 185/500\n",
            "9/9 [==============================] - 0s 8ms/step - loss: 0.4676 - mae: 0.4905 - val_loss: 4.2964 - val_mae: 1.5958\n",
            "Epoch 186/500\n",
            "9/9 [==============================] - 0s 6ms/step - loss: 0.4919 - mae: 0.4865 - val_loss: 4.5919 - val_mae: 1.5806\n",
            "Epoch 187/500\n",
            "9/9 [==============================] - 0s 6ms/step - loss: 0.5057 - mae: 0.5080 - val_loss: 4.3087 - val_mae: 1.5792\n",
            "Epoch 188/500\n",
            "9/9 [==============================] - 0s 7ms/step - loss: 0.5327 - mae: 0.5630 - val_loss: 5.0688 - val_mae: 1.7948\n",
            "Epoch 189/500\n",
            "9/9 [==============================] - 0s 7ms/step - loss: 0.4510 - mae: 0.4688 - val_loss: 4.5557 - val_mae: 1.6539\n",
            "Epoch 190/500\n",
            "9/9 [==============================] - 0s 7ms/step - loss: 0.3550 - mae: 0.4305 - val_loss: 4.3414 - val_mae: 1.6073\n",
            "Epoch 191/500\n",
            "9/9 [==============================] - 0s 7ms/step - loss: 0.3077 - mae: 0.3684 - val_loss: 4.4048 - val_mae: 1.6092\n",
            "Epoch 192/500\n",
            "9/9 [==============================] - 0s 7ms/step - loss: 0.2774 - mae: 0.3436 - val_loss: 4.4484 - val_mae: 1.5595\n",
            "Epoch 193/500\n",
            "9/9 [==============================] - 0s 7ms/step - loss: 0.3907 - mae: 0.4405 - val_loss: 4.3861 - val_mae: 1.5445\n",
            "Epoch 194/500\n",
            "9/9 [==============================] - 0s 6ms/step - loss: 0.4287 - mae: 0.4722 - val_loss: 4.6840 - val_mae: 1.6994\n",
            "Epoch 195/500\n",
            "9/9 [==============================] - 0s 7ms/step - loss: 0.4472 - mae: 0.4789 - val_loss: 4.6383 - val_mae: 1.6931\n",
            "Epoch 196/500\n",
            "9/9 [==============================] - 0s 6ms/step - loss: 0.4456 - mae: 0.4634 - val_loss: 4.4525 - val_mae: 1.6093\n",
            "Epoch 197/500\n",
            "9/9 [==============================] - 0s 9ms/step - loss: 0.3763 - mae: 0.4034 - val_loss: 4.6242 - val_mae: 1.6529\n",
            "Epoch 198/500\n",
            "9/9 [==============================] - 0s 7ms/step - loss: 0.3377 - mae: 0.3947 - val_loss: 4.4112 - val_mae: 1.6229\n",
            "Epoch 199/500\n",
            "9/9 [==============================] - 0s 7ms/step - loss: 0.3386 - mae: 0.3997 - val_loss: 4.4639 - val_mae: 1.6013\n",
            "Epoch 200/500\n",
            "9/9 [==============================] - 0s 7ms/step - loss: 0.3584 - mae: 0.4023 - val_loss: 4.6319 - val_mae: 1.5827\n",
            "Epoch 201/500\n",
            "9/9 [==============================] - 0s 8ms/step - loss: 0.5086 - mae: 0.5326 - val_loss: 4.3852 - val_mae: 1.6056\n",
            "Epoch 202/500\n",
            "9/9 [==============================] - 0s 9ms/step - loss: 0.5040 - mae: 0.5140 - val_loss: 5.0930 - val_mae: 1.7956\n",
            "Epoch 203/500\n",
            "9/9 [==============================] - 0s 7ms/step - loss: 0.5454 - mae: 0.5836 - val_loss: 4.9508 - val_mae: 1.7703\n",
            "Epoch 204/500\n",
            "9/9 [==============================] - 0s 7ms/step - loss: 0.6345 - mae: 0.6292 - val_loss: 5.4598 - val_mae: 1.9110\n",
            "Epoch 205/500\n",
            "9/9 [==============================] - 0s 8ms/step - loss: 0.5433 - mae: 0.5465 - val_loss: 4.3708 - val_mae: 1.6206\n",
            "Epoch 206/500\n",
            "9/9 [==============================] - 0s 8ms/step - loss: 0.4148 - mae: 0.4450 - val_loss: 4.4059 - val_mae: 1.5847\n",
            "Epoch 207/500\n",
            "9/9 [==============================] - 0s 6ms/step - loss: 0.4516 - mae: 0.4695 - val_loss: 4.3100 - val_mae: 1.5613\n",
            "Epoch 208/500\n",
            "9/9 [==============================] - 0s 8ms/step - loss: 0.6694 - mae: 0.6127 - val_loss: 4.9152 - val_mae: 1.6181\n",
            "Epoch 209/500\n",
            "9/9 [==============================] - 0s 6ms/step - loss: 0.6256 - mae: 0.6056 - val_loss: 4.4950 - val_mae: 1.6365\n",
            "Epoch 210/500\n",
            "9/9 [==============================] - 0s 7ms/step - loss: 0.4074 - mae: 0.4409 - val_loss: 5.0712 - val_mae: 1.7925\n",
            "Epoch 211/500\n",
            "9/9 [==============================] - 0s 9ms/step - loss: 0.6660 - mae: 0.6135 - val_loss: 4.7447 - val_mae: 1.7243\n",
            "Epoch 212/500\n",
            "9/9 [==============================] - 0s 9ms/step - loss: 0.6053 - mae: 0.5738 - val_loss: 5.0097 - val_mae: 1.6547\n",
            "Epoch 213/500\n",
            "9/9 [==============================] - 0s 6ms/step - loss: 0.7340 - mae: 0.6485 - val_loss: 4.8215 - val_mae: 1.6284\n",
            "Epoch 214/500\n",
            "9/9 [==============================] - 0s 6ms/step - loss: 0.6342 - mae: 0.5817 - val_loss: 4.6226 - val_mae: 1.6263\n",
            "Epoch 215/500\n",
            "9/9 [==============================] - 0s 6ms/step - loss: 0.5017 - mae: 0.5015 - val_loss: 4.8698 - val_mae: 1.7349\n",
            "Epoch 216/500\n",
            "9/9 [==============================] - 0s 6ms/step - loss: 0.4133 - mae: 0.4508 - val_loss: 4.6571 - val_mae: 1.6725\n",
            "Epoch 217/500\n",
            "9/9 [==============================] - 0s 9ms/step - loss: 0.2908 - mae: 0.3625 - val_loss: 4.5594 - val_mae: 1.6604\n",
            "Epoch 218/500\n",
            "9/9 [==============================] - 0s 6ms/step - loss: 0.3771 - mae: 0.4271 - val_loss: 4.5604 - val_mae: 1.6523\n",
            "Epoch 219/500\n",
            "9/9 [==============================] - 0s 7ms/step - loss: 0.3816 - mae: 0.4105 - val_loss: 4.6657 - val_mae: 1.5783\n",
            "Epoch 220/500\n",
            "9/9 [==============================] - 0s 7ms/step - loss: 0.3615 - mae: 0.4662 - val_loss: 4.4130 - val_mae: 1.5447\n",
            "Epoch 221/500\n",
            "9/9 [==============================] - 0s 8ms/step - loss: 0.4588 - mae: 0.4648 - val_loss: 4.8506 - val_mae: 1.6691\n",
            "Epoch 222/500\n",
            "9/9 [==============================] - 0s 6ms/step - loss: 0.3225 - mae: 0.3869 - val_loss: 4.5448 - val_mae: 1.6012\n",
            "Epoch 223/500\n",
            "9/9 [==============================] - 0s 7ms/step - loss: 0.2752 - mae: 0.3438 - val_loss: 4.4570 - val_mae: 1.6029\n",
            "Epoch 224/500\n",
            "9/9 [==============================] - 0s 6ms/step - loss: 0.2433 - mae: 0.3350 - val_loss: 4.6077 - val_mae: 1.5998\n",
            "Epoch 225/500\n",
            "9/9 [==============================] - 0s 7ms/step - loss: 0.2714 - mae: 0.3300 - val_loss: 4.6221 - val_mae: 1.6909\n",
            "Epoch 226/500\n",
            "9/9 [==============================] - 0s 7ms/step - loss: 0.3044 - mae: 0.3646 - val_loss: 4.5625 - val_mae: 1.6100\n",
            "Epoch 227/500\n",
            "9/9 [==============================] - 0s 8ms/step - loss: 0.2647 - mae: 0.3329 - val_loss: 4.6161 - val_mae: 1.6300\n",
            "Epoch 228/500\n",
            "9/9 [==============================] - 0s 7ms/step - loss: 0.3607 - mae: 0.4088 - val_loss: 4.9675 - val_mae: 1.7613\n",
            "Epoch 229/500\n",
            "9/9 [==============================] - 0s 8ms/step - loss: 0.4265 - mae: 0.4603 - val_loss: 4.6634 - val_mae: 1.7002\n",
            "Epoch 230/500\n",
            "9/9 [==============================] - 0s 6ms/step - loss: 0.3123 - mae: 0.3933 - val_loss: 4.5518 - val_mae: 1.5987\n",
            "Epoch 231/500\n",
            "9/9 [==============================] - 0s 6ms/step - loss: 0.3150 - mae: 0.3707 - val_loss: 4.6870 - val_mae: 1.6027\n",
            "Epoch 232/500\n",
            "9/9 [==============================] - 0s 8ms/step - loss: 0.3167 - mae: 0.3859 - val_loss: 4.5776 - val_mae: 1.6214\n",
            "Epoch 233/500\n",
            "9/9 [==============================] - 0s 8ms/step - loss: 0.2754 - mae: 0.3461 - val_loss: 4.7068 - val_mae: 1.6832\n",
            "Epoch 234/500\n",
            "9/9 [==============================] - 0s 8ms/step - loss: 0.2491 - mae: 0.3183 - val_loss: 4.5034 - val_mae: 1.6024\n",
            "Epoch 235/500\n",
            "9/9 [==============================] - 0s 8ms/step - loss: 0.2503 - mae: 0.3162 - val_loss: 4.4894 - val_mae: 1.5856\n",
            "Epoch 236/500\n",
            "9/9 [==============================] - 0s 9ms/step - loss: 0.2637 - mae: 0.3224 - val_loss: 4.7475 - val_mae: 1.6889\n",
            "Epoch 237/500\n",
            "9/9 [==============================] - 0s 8ms/step - loss: 0.2967 - mae: 0.3720 - val_loss: 4.5614 - val_mae: 1.6435\n",
            "Epoch 238/500\n",
            "9/9 [==============================] - 0s 6ms/step - loss: 0.2749 - mae: 0.3486 - val_loss: 4.4402 - val_mae: 1.6150\n",
            "Epoch 239/500\n",
            "9/9 [==============================] - 0s 7ms/step - loss: 0.2402 - mae: 0.3159 - val_loss: 4.7837 - val_mae: 1.6898\n",
            "Epoch 240/500\n",
            "9/9 [==============================] - 0s 10ms/step - loss: 0.2282 - mae: 0.3036 - val_loss: 4.6495 - val_mae: 1.6510\n",
            "Epoch 241/500\n",
            "9/9 [==============================] - 0s 8ms/step - loss: 0.2363 - mae: 0.3109 - val_loss: 4.8905 - val_mae: 1.7123\n",
            "Epoch 242/500\n",
            "9/9 [==============================] - 0s 7ms/step - loss: 0.2838 - mae: 0.3460 - val_loss: 4.6987 - val_mae: 1.6633\n",
            "Epoch 243/500\n",
            "9/9 [==============================] - 0s 8ms/step - loss: 0.2735 - mae: 0.3454 - val_loss: 4.5320 - val_mae: 1.6092\n",
            "Epoch 244/500\n",
            "9/9 [==============================] - 0s 6ms/step - loss: 0.3008 - mae: 0.3974 - val_loss: 4.5506 - val_mae: 1.5932\n",
            "Epoch 245/500\n",
            "9/9 [==============================] - 0s 7ms/step - loss: 0.2836 - mae: 0.3485 - val_loss: 4.6924 - val_mae: 1.6590\n",
            "Epoch 246/500\n",
            "9/9 [==============================] - 0s 7ms/step - loss: 0.2587 - mae: 0.3304 - val_loss: 4.7130 - val_mae: 1.6460\n",
            "Epoch 247/500\n",
            "9/9 [==============================] - 0s 7ms/step - loss: 0.2822 - mae: 0.3687 - val_loss: 4.5950 - val_mae: 1.6277\n",
            "Epoch 248/500\n",
            "9/9 [==============================] - 0s 7ms/step - loss: 0.2355 - mae: 0.3227 - val_loss: 4.6502 - val_mae: 1.6575\n",
            "Epoch 249/500\n",
            "9/9 [==============================] - 0s 7ms/step - loss: 0.2287 - mae: 0.3122 - val_loss: 4.8344 - val_mae: 1.6760\n",
            "Epoch 250/500\n",
            "9/9 [==============================] - 0s 8ms/step - loss: 0.2321 - mae: 0.3033 - val_loss: 4.6679 - val_mae: 1.6593\n",
            "Epoch 251/500\n",
            "9/9 [==============================] - 0s 6ms/step - loss: 0.2822 - mae: 0.3525 - val_loss: 4.7703 - val_mae: 1.7130\n",
            "Epoch 252/500\n",
            "9/9 [==============================] - 0s 8ms/step - loss: 0.2592 - mae: 0.3503 - val_loss: 4.6732 - val_mae: 1.6622\n",
            "Epoch 253/500\n",
            "9/9 [==============================] - 0s 7ms/step - loss: 0.3111 - mae: 0.3760 - val_loss: 4.7536 - val_mae: 1.6660\n",
            "Epoch 254/500\n",
            "9/9 [==============================] - 0s 7ms/step - loss: 0.2839 - mae: 0.3776 - val_loss: 4.9041 - val_mae: 1.7058\n",
            "Epoch 255/500\n",
            "9/9 [==============================] - 0s 6ms/step - loss: 0.3466 - mae: 0.3912 - val_loss: 5.0086 - val_mae: 1.7509\n",
            "Epoch 256/500\n",
            "9/9 [==============================] - 0s 10ms/step - loss: 0.2718 - mae: 0.3619 - val_loss: 4.6768 - val_mae: 1.6685\n",
            "Epoch 257/500\n",
            "9/9 [==============================] - 0s 7ms/step - loss: 0.2283 - mae: 0.2939 - val_loss: 4.8053 - val_mae: 1.6721\n",
            "Epoch 258/500\n",
            "9/9 [==============================] - 0s 7ms/step - loss: 0.2060 - mae: 0.2802 - val_loss: 4.5872 - val_mae: 1.6435\n",
            "Epoch 259/500\n",
            "9/9 [==============================] - 0s 6ms/step - loss: 0.1989 - mae: 0.2948 - val_loss: 4.7529 - val_mae: 1.6124\n",
            "Epoch 260/500\n",
            "9/9 [==============================] - 0s 8ms/step - loss: 0.2551 - mae: 0.3331 - val_loss: 4.7291 - val_mae: 1.6777\n",
            "Epoch 261/500\n",
            "9/9 [==============================] - 0s 8ms/step - loss: 0.2167 - mae: 0.2943 - val_loss: 4.8472 - val_mae: 1.6714\n",
            "Epoch 262/500\n",
            "9/9 [==============================] - 0s 6ms/step - loss: 0.2049 - mae: 0.2814 - val_loss: 4.6509 - val_mae: 1.6456\n",
            "Epoch 263/500\n",
            "9/9 [==============================] - 0s 8ms/step - loss: 0.2285 - mae: 0.2979 - val_loss: 4.7533 - val_mae: 1.6959\n",
            "Epoch 264/500\n",
            "9/9 [==============================] - 0s 6ms/step - loss: 0.2161 - mae: 0.2911 - val_loss: 4.8100 - val_mae: 1.6497\n",
            "Epoch 265/500\n",
            "9/9 [==============================] - 0s 6ms/step - loss: 0.2684 - mae: 0.3579 - val_loss: 4.7947 - val_mae: 1.6543\n",
            "Epoch 266/500\n",
            "9/9 [==============================] - 0s 8ms/step - loss: 0.2732 - mae: 0.3395 - val_loss: 4.8350 - val_mae: 1.6756\n",
            "Epoch 267/500\n",
            "9/9 [==============================] - 0s 6ms/step - loss: 0.2650 - mae: 0.3387 - val_loss: 4.7614 - val_mae: 1.6800\n",
            "Epoch 268/500\n",
            "9/9 [==============================] - 0s 6ms/step - loss: 0.2436 - mae: 0.3400 - val_loss: 4.9067 - val_mae: 1.7266\n",
            "Epoch 269/500\n",
            "9/9 [==============================] - 0s 6ms/step - loss: 0.2776 - mae: 0.3537 - val_loss: 4.7200 - val_mae: 1.6579\n",
            "Epoch 270/500\n",
            "9/9 [==============================] - 0s 10ms/step - loss: 0.2214 - mae: 0.3072 - val_loss: 5.0505 - val_mae: 1.7591\n",
            "Epoch 271/500\n",
            "9/9 [==============================] - 0s 6ms/step - loss: 0.2203 - mae: 0.2962 - val_loss: 4.8303 - val_mae: 1.6892\n",
            "Epoch 272/500\n",
            "9/9 [==============================] - 0s 6ms/step - loss: 0.2458 - mae: 0.3234 - val_loss: 5.0399 - val_mae: 1.7608\n",
            "Epoch 273/500\n",
            "9/9 [==============================] - 0s 8ms/step - loss: 0.1943 - mae: 0.3089 - val_loss: 5.1589 - val_mae: 1.7852\n",
            "Epoch 274/500\n",
            "9/9 [==============================] - 0s 7ms/step - loss: 0.2155 - mae: 0.3067 - val_loss: 4.7383 - val_mae: 1.6665\n",
            "Epoch 275/500\n",
            "9/9 [==============================] - 0s 7ms/step - loss: 0.2174 - mae: 0.3034 - val_loss: 5.1135 - val_mae: 1.7157\n",
            "Epoch 276/500\n",
            "9/9 [==============================] - 0s 8ms/step - loss: 0.2157 - mae: 0.3013 - val_loss: 4.9849 - val_mae: 1.7348\n",
            "Epoch 277/500\n",
            "9/9 [==============================] - 0s 8ms/step - loss: 0.2095 - mae: 0.3068 - val_loss: 4.8577 - val_mae: 1.6861\n",
            "Epoch 278/500\n",
            "9/9 [==============================] - 0s 7ms/step - loss: 0.1973 - mae: 0.2746 - val_loss: 5.1513 - val_mae: 1.7406\n",
            "Epoch 279/500\n",
            "9/9 [==============================] - 0s 9ms/step - loss: 0.1999 - mae: 0.3048 - val_loss: 4.8579 - val_mae: 1.6889\n",
            "Epoch 280/500\n",
            "9/9 [==============================] - 0s 7ms/step - loss: 0.3414 - mae: 0.3869 - val_loss: 5.0042 - val_mae: 1.7233\n",
            "Epoch 281/500\n",
            "9/9 [==============================] - 0s 7ms/step - loss: 0.3637 - mae: 0.4435 - val_loss: 5.3597 - val_mae: 1.7608\n",
            "Epoch 282/500\n",
            "9/9 [==============================] - 0s 9ms/step - loss: 0.3173 - mae: 0.4260 - val_loss: 4.7698 - val_mae: 1.6448\n",
            "Epoch 283/500\n",
            "9/9 [==============================] - 0s 6ms/step - loss: 0.5193 - mae: 0.5550 - val_loss: 4.7290 - val_mae: 1.6546\n",
            "Epoch 284/500\n",
            "9/9 [==============================] - 0s 7ms/step - loss: 0.5891 - mae: 0.5414 - val_loss: 5.1895 - val_mae: 1.7795\n",
            "Epoch 285/500\n",
            "9/9 [==============================] - 0s 6ms/step - loss: 0.6012 - mae: 0.5764 - val_loss: 4.5668 - val_mae: 1.6220\n",
            "Epoch 286/500\n",
            "9/9 [==============================] - 0s 9ms/step - loss: 0.6346 - mae: 0.5938 - val_loss: 5.0433 - val_mae: 1.7083\n",
            "Epoch 287/500\n",
            "9/9 [==============================] - 0s 7ms/step - loss: 0.4633 - mae: 0.5111 - val_loss: 4.6594 - val_mae: 1.6309\n",
            "Epoch 288/500\n",
            "9/9 [==============================] - 0s 10ms/step - loss: 0.3049 - mae: 0.3839 - val_loss: 5.0339 - val_mae: 1.7313\n",
            "Epoch 289/500\n",
            "9/9 [==============================] - 0s 9ms/step - loss: 0.3233 - mae: 0.3935 - val_loss: 4.9446 - val_mae: 1.7065\n",
            "Epoch 290/500\n",
            "9/9 [==============================] - 0s 6ms/step - loss: 0.2738 - mae: 0.3499 - val_loss: 4.8397 - val_mae: 1.6799\n",
            "Epoch 291/500\n",
            "9/9 [==============================] - 0s 7ms/step - loss: 0.2394 - mae: 0.3054 - val_loss: 4.9534 - val_mae: 1.7373\n",
            "Epoch 292/500\n",
            "9/9 [==============================] - 0s 6ms/step - loss: 0.2397 - mae: 0.3250 - val_loss: 4.9403 - val_mae: 1.7019\n",
            "Epoch 293/500\n",
            "9/9 [==============================] - 0s 6ms/step - loss: 0.2566 - mae: 0.3754 - val_loss: 4.7156 - val_mae: 1.6389\n",
            "Epoch 294/500\n",
            "9/9 [==============================] - 0s 7ms/step - loss: 0.2734 - mae: 0.3593 - val_loss: 4.9780 - val_mae: 1.7274\n",
            "Epoch 295/500\n",
            "9/9 [==============================] - 0s 7ms/step - loss: 0.2091 - mae: 0.3096 - val_loss: 4.9557 - val_mae: 1.7097\n",
            "Epoch 296/500\n",
            "9/9 [==============================] - 0s 8ms/step - loss: 0.1919 - mae: 0.2810 - val_loss: 4.8517 - val_mae: 1.6848\n",
            "Epoch 297/500\n",
            "9/9 [==============================] - 0s 7ms/step - loss: 0.2424 - mae: 0.3328 - val_loss: 4.7674 - val_mae: 1.6821\n",
            "Epoch 298/500\n",
            "9/9 [==============================] - 0s 8ms/step - loss: 0.2360 - mae: 0.3393 - val_loss: 5.0114 - val_mae: 1.7225\n",
            "Epoch 299/500\n",
            "9/9 [==============================] - 0s 9ms/step - loss: 0.2947 - mae: 0.3912 - val_loss: 5.0405 - val_mae: 1.6643\n",
            "Epoch 300/500\n",
            "9/9 [==============================] - 0s 7ms/step - loss: 0.3416 - mae: 0.4480 - val_loss: 4.8636 - val_mae: 1.7043\n",
            "Epoch 301/500\n",
            "9/9 [==============================] - 0s 8ms/step - loss: 0.4035 - mae: 0.4770 - val_loss: 5.4288 - val_mae: 1.8187\n",
            "Epoch 302/500\n",
            "9/9 [==============================] - 0s 9ms/step - loss: 0.3909 - mae: 0.4858 - val_loss: 4.8151 - val_mae: 1.6337\n",
            "Epoch 303/500\n",
            "9/9 [==============================] - 0s 7ms/step - loss: 0.4271 - mae: 0.4824 - val_loss: 4.8568 - val_mae: 1.6564\n",
            "Epoch 304/500\n",
            "9/9 [==============================] - 0s 9ms/step - loss: 0.4838 - mae: 0.4967 - val_loss: 5.5649 - val_mae: 1.8830\n",
            "Epoch 305/500\n",
            "9/9 [==============================] - 0s 7ms/step - loss: 0.4810 - mae: 0.5229 - val_loss: 4.9519 - val_mae: 1.7017\n",
            "Epoch 306/500\n",
            "9/9 [==============================] - 0s 8ms/step - loss: 0.4111 - mae: 0.4741 - val_loss: 5.3108 - val_mae: 1.7428\n",
            "Epoch 307/500\n",
            "9/9 [==============================] - 0s 7ms/step - loss: 0.3791 - mae: 0.4377 - val_loss: 5.6897 - val_mae: 1.8690\n",
            "Epoch 308/500\n",
            "9/9 [==============================] - 0s 6ms/step - loss: 0.2780 - mae: 0.4043 - val_loss: 4.9195 - val_mae: 1.7120\n",
            "Epoch 309/500\n",
            "9/9 [==============================] - 0s 8ms/step - loss: 0.2209 - mae: 0.3312 - val_loss: 4.6891 - val_mae: 1.6369\n",
            "Epoch 310/500\n",
            "9/9 [==============================] - 0s 6ms/step - loss: 0.2533 - mae: 0.3432 - val_loss: 5.0182 - val_mae: 1.6919\n",
            "Epoch 311/500\n",
            "9/9 [==============================] - 0s 7ms/step - loss: 0.2279 - mae: 0.3314 - val_loss: 5.1095 - val_mae: 1.6872\n",
            "Epoch 312/500\n",
            "9/9 [==============================] - 0s 7ms/step - loss: 0.2368 - mae: 0.3282 - val_loss: 5.3018 - val_mae: 1.7813\n",
            "Epoch 313/500\n",
            "9/9 [==============================] - 0s 6ms/step - loss: 0.3319 - mae: 0.4421 - val_loss: 5.1837 - val_mae: 1.7583\n",
            "Epoch 314/500\n",
            "9/9 [==============================] - 0s 9ms/step - loss: 0.3247 - mae: 0.4166 - val_loss: 5.1905 - val_mae: 1.6667\n",
            "Epoch 315/500\n",
            "9/9 [==============================] - 0s 7ms/step - loss: 0.3229 - mae: 0.4280 - val_loss: 4.9210 - val_mae: 1.7016\n",
            "Epoch 316/500\n",
            "9/9 [==============================] - 0s 8ms/step - loss: 0.3021 - mae: 0.3714 - val_loss: 5.2017 - val_mae: 1.7331\n",
            "Epoch 317/500\n",
            "9/9 [==============================] - 0s 6ms/step - loss: 0.4203 - mae: 0.4666 - val_loss: 5.2245 - val_mae: 1.6771\n",
            "Epoch 318/500\n",
            "9/9 [==============================] - 0s 10ms/step - loss: 0.4116 - mae: 0.4852 - val_loss: 5.3731 - val_mae: 1.7952\n",
            "Epoch 319/500\n",
            "9/9 [==============================] - 0s 9ms/step - loss: 0.2994 - mae: 0.3957 - val_loss: 4.9497 - val_mae: 1.6783\n",
            "Epoch 320/500\n",
            "9/9 [==============================] - 0s 7ms/step - loss: 0.2104 - mae: 0.2965 - val_loss: 4.9469 - val_mae: 1.6942\n",
            "Epoch 321/500\n",
            "9/9 [==============================] - 0s 6ms/step - loss: 0.1969 - mae: 0.2906 - val_loss: 5.0189 - val_mae: 1.7184\n",
            "Epoch 322/500\n",
            "9/9 [==============================] - 0s 6ms/step - loss: 0.1709 - mae: 0.2731 - val_loss: 5.0263 - val_mae: 1.7175\n",
            "Epoch 323/500\n",
            "9/9 [==============================] - 0s 7ms/step - loss: 0.1577 - mae: 0.2492 - val_loss: 5.0205 - val_mae: 1.6954\n",
            "Epoch 324/500\n",
            "9/9 [==============================] - 0s 7ms/step - loss: 0.1840 - mae: 0.2716 - val_loss: 5.1451 - val_mae: 1.7219\n",
            "Epoch 325/500\n",
            "9/9 [==============================] - 0s 9ms/step - loss: 0.1527 - mae: 0.2520 - val_loss: 4.9922 - val_mae: 1.7023\n",
            "Epoch 326/500\n",
            "9/9 [==============================] - 0s 6ms/step - loss: 0.1793 - mae: 0.2735 - val_loss: 5.1079 - val_mae: 1.7490\n",
            "Epoch 327/500\n",
            "9/9 [==============================] - 0s 10ms/step - loss: 0.2291 - mae: 0.3305 - val_loss: 5.2051 - val_mae: 1.7458\n",
            "Epoch 328/500\n",
            "9/9 [==============================] - 0s 7ms/step - loss: 0.2998 - mae: 0.3908 - val_loss: 5.0579 - val_mae: 1.7249\n",
            "Epoch 329/500\n",
            "9/9 [==============================] - 0s 9ms/step - loss: 0.3845 - mae: 0.4740 - val_loss: 5.7421 - val_mae: 1.8653\n",
            "Epoch 330/500\n",
            "9/9 [==============================] - 0s 9ms/step - loss: 0.3908 - mae: 0.4699 - val_loss: 5.0472 - val_mae: 1.6491\n",
            "Epoch 331/500\n",
            "9/9 [==============================] - 0s 7ms/step - loss: 0.3481 - mae: 0.4572 - val_loss: 5.0831 - val_mae: 1.6854\n",
            "Epoch 332/500\n",
            "9/9 [==============================] - 0s 10ms/step - loss: 0.3240 - mae: 0.4101 - val_loss: 5.2899 - val_mae: 1.7737\n",
            "Epoch 333/500\n",
            "9/9 [==============================] - 0s 9ms/step - loss: 0.2914 - mae: 0.3991 - val_loss: 5.1522 - val_mae: 1.7083\n",
            "Epoch 334/500\n",
            "9/9 [==============================] - 0s 7ms/step - loss: 0.2497 - mae: 0.3575 - val_loss: 5.2652 - val_mae: 1.7096\n",
            "Epoch 335/500\n",
            "9/9 [==============================] - 0s 7ms/step - loss: 0.2734 - mae: 0.3761 - val_loss: 5.0766 - val_mae: 1.6887\n",
            "Epoch 336/500\n",
            "9/9 [==============================] - 0s 9ms/step - loss: 0.2513 - mae: 0.3389 - val_loss: 4.9993 - val_mae: 1.7101\n",
            "Epoch 337/500\n",
            "9/9 [==============================] - 0s 6ms/step - loss: 0.1819 - mae: 0.2626 - val_loss: 5.1685 - val_mae: 1.7031\n",
            "Epoch 338/500\n",
            "9/9 [==============================] - 0s 6ms/step - loss: 0.2214 - mae: 0.3145 - val_loss: 4.8659 - val_mae: 1.6916\n",
            "Epoch 339/500\n",
            "9/9 [==============================] - 0s 6ms/step - loss: 0.1632 - mae: 0.2623 - val_loss: 5.2714 - val_mae: 1.7511\n",
            "Epoch 340/500\n",
            "9/9 [==============================] - 0s 9ms/step - loss: 0.1679 - mae: 0.2566 - val_loss: 5.1968 - val_mae: 1.7426\n",
            "Epoch 341/500\n",
            "9/9 [==============================] - 0s 7ms/step - loss: 0.2037 - mae: 0.3015 - val_loss: 4.9261 - val_mae: 1.6767\n",
            "Epoch 342/500\n",
            "9/9 [==============================] - 0s 7ms/step - loss: 0.2133 - mae: 0.3055 - val_loss: 5.3148 - val_mae: 1.7745\n",
            "Epoch 343/500\n",
            "9/9 [==============================] - 0s 7ms/step - loss: 0.2706 - mae: 0.3508 - val_loss: 5.2026 - val_mae: 1.7056\n",
            "Epoch 344/500\n",
            "9/9 [==============================] - 0s 9ms/step - loss: 0.2505 - mae: 0.3330 - val_loss: 5.3380 - val_mae: 1.7983\n",
            "Epoch 345/500\n",
            "9/9 [==============================] - 0s 8ms/step - loss: 0.2051 - mae: 0.3062 - val_loss: 5.2824 - val_mae: 1.7163\n",
            "Epoch 346/500\n",
            "9/9 [==============================] - 0s 7ms/step - loss: 0.2478 - mae: 0.3270 - val_loss: 5.6160 - val_mae: 1.8536\n",
            "Epoch 347/500\n",
            "9/9 [==============================] - 0s 9ms/step - loss: 0.3627 - mae: 0.4545 - val_loss: 5.1269 - val_mae: 1.7335\n",
            "Epoch 348/500\n",
            "9/9 [==============================] - 0s 6ms/step - loss: 0.2581 - mae: 0.3430 - val_loss: 5.0759 - val_mae: 1.7157\n",
            "Epoch 349/500\n",
            "9/9 [==============================] - 0s 6ms/step - loss: 0.2375 - mae: 0.3568 - val_loss: 5.5604 - val_mae: 1.8227\n",
            "Epoch 350/500\n",
            "9/9 [==============================] - 0s 7ms/step - loss: 0.3197 - mae: 0.4061 - val_loss: 5.0107 - val_mae: 1.6980\n",
            "Epoch 351/500\n",
            "9/9 [==============================] - 0s 7ms/step - loss: 0.2200 - mae: 0.3210 - val_loss: 5.2710 - val_mae: 1.7385\n",
            "Epoch 352/500\n",
            "9/9 [==============================] - 0s 8ms/step - loss: 0.1345 - mae: 0.2443 - val_loss: 5.2198 - val_mae: 1.7305\n",
            "Epoch 353/500\n",
            "9/9 [==============================] - 0s 6ms/step - loss: 0.1505 - mae: 0.2479 - val_loss: 5.1464 - val_mae: 1.7042\n",
            "Epoch 354/500\n",
            "9/9 [==============================] - 0s 6ms/step - loss: 0.1823 - mae: 0.2693 - val_loss: 5.4181 - val_mae: 1.8002\n",
            "Epoch 355/500\n",
            "9/9 [==============================] - 0s 6ms/step - loss: 0.2486 - mae: 0.3610 - val_loss: 5.1355 - val_mae: 1.7307\n",
            "Epoch 356/500\n",
            "9/9 [==============================] - 0s 9ms/step - loss: 0.1515 - mae: 0.2617 - val_loss: 5.1927 - val_mae: 1.7081\n",
            "Epoch 357/500\n",
            "9/9 [==============================] - 0s 7ms/step - loss: 0.1647 - mae: 0.2787 - val_loss: 5.1654 - val_mae: 1.7305\n",
            "Epoch 358/500\n",
            "9/9 [==============================] - 0s 7ms/step - loss: 0.2018 - mae: 0.2863 - val_loss: 5.1726 - val_mae: 1.7357\n",
            "Epoch 359/500\n",
            "9/9 [==============================] - 0s 8ms/step - loss: 0.2070 - mae: 0.3070 - val_loss: 5.0551 - val_mae: 1.6838\n",
            "Epoch 360/500\n",
            "9/9 [==============================] - 0s 10ms/step - loss: 0.2219 - mae: 0.3199 - val_loss: 5.3961 - val_mae: 1.7697\n",
            "Epoch 361/500\n",
            "9/9 [==============================] - 0s 7ms/step - loss: 0.1833 - mae: 0.2901 - val_loss: 5.0690 - val_mae: 1.7271\n",
            "Epoch 362/500\n",
            "9/9 [==============================] - 0s 7ms/step - loss: 0.1782 - mae: 0.2717 - val_loss: 5.1260 - val_mae: 1.7045\n",
            "Epoch 363/500\n",
            "9/9 [==============================] - 0s 7ms/step - loss: 0.1770 - mae: 0.2734 - val_loss: 5.1818 - val_mae: 1.7037\n",
            "Epoch 364/500\n",
            "9/9 [==============================] - 0s 6ms/step - loss: 0.2530 - mae: 0.3343 - val_loss: 5.2535 - val_mae: 1.7572\n",
            "Epoch 365/500\n",
            "9/9 [==============================] - 0s 10ms/step - loss: 0.2501 - mae: 0.3576 - val_loss: 5.5145 - val_mae: 1.7980\n",
            "Epoch 366/500\n",
            "9/9 [==============================] - 0s 6ms/step - loss: 0.3175 - mae: 0.4244 - val_loss: 5.6184 - val_mae: 1.7721\n",
            "Epoch 367/500\n",
            "9/9 [==============================] - 0s 7ms/step - loss: 0.2628 - mae: 0.3437 - val_loss: 5.4272 - val_mae: 1.7095\n",
            "Epoch 368/500\n",
            "9/9 [==============================] - 0s 7ms/step - loss: 0.3016 - mae: 0.3529 - val_loss: 5.5951 - val_mae: 1.7497\n",
            "Epoch 369/500\n",
            "9/9 [==============================] - 0s 6ms/step - loss: 0.3194 - mae: 0.3704 - val_loss: 5.7449 - val_mae: 1.8726\n",
            "Epoch 370/500\n",
            "9/9 [==============================] - 0s 7ms/step - loss: 0.3412 - mae: 0.4486 - val_loss: 5.8162 - val_mae: 1.7528\n",
            "Epoch 371/500\n",
            "9/9 [==============================] - 0s 8ms/step - loss: 0.5527 - mae: 0.5676 - val_loss: 6.0552 - val_mae: 1.8496\n",
            "Epoch 372/500\n",
            "9/9 [==============================] - 0s 9ms/step - loss: 0.5970 - mae: 0.5827 - val_loss: 5.4730 - val_mae: 1.7817\n",
            "Epoch 373/500\n",
            "9/9 [==============================] - 0s 7ms/step - loss: 0.3048 - mae: 0.3961 - val_loss: 5.5303 - val_mae: 1.7832\n",
            "Epoch 374/500\n",
            "9/9 [==============================] - 0s 8ms/step - loss: 0.3058 - mae: 0.4070 - val_loss: 5.5992 - val_mae: 1.7947\n",
            "Epoch 375/500\n",
            "9/9 [==============================] - 0s 8ms/step - loss: 0.2632 - mae: 0.3703 - val_loss: 5.1980 - val_mae: 1.7107\n",
            "Epoch 376/500\n",
            "9/9 [==============================] - 0s 7ms/step - loss: 0.2643 - mae: 0.3844 - val_loss: 5.3981 - val_mae: 1.7445\n",
            "Epoch 377/500\n",
            "9/9 [==============================] - 0s 9ms/step - loss: 0.2236 - mae: 0.3185 - val_loss: 5.2676 - val_mae: 1.7063\n",
            "Epoch 378/500\n",
            "9/9 [==============================] - 0s 7ms/step - loss: 0.2025 - mae: 0.2964 - val_loss: 5.2415 - val_mae: 1.7148\n",
            "Epoch 379/500\n",
            "9/9 [==============================] - 0s 6ms/step - loss: 0.1783 - mae: 0.2715 - val_loss: 5.4655 - val_mae: 1.7778\n",
            "Epoch 380/500\n",
            "9/9 [==============================] - 0s 6ms/step - loss: 0.1784 - mae: 0.2906 - val_loss: 5.4929 - val_mae: 1.7646\n",
            "Epoch 381/500\n",
            "9/9 [==============================] - 0s 6ms/step - loss: 0.1520 - mae: 0.2366 - val_loss: 5.1934 - val_mae: 1.7079\n",
            "Epoch 382/500\n",
            "9/9 [==============================] - 0s 10ms/step - loss: 0.2425 - mae: 0.3668 - val_loss: 5.7121 - val_mae: 1.7890\n",
            "Epoch 383/500\n",
            "9/9 [==============================] - 0s 7ms/step - loss: 0.2504 - mae: 0.3399 - val_loss: 5.2641 - val_mae: 1.7003\n",
            "Epoch 384/500\n",
            "9/9 [==============================] - 0s 8ms/step - loss: 0.2896 - mae: 0.3927 - val_loss: 5.4042 - val_mae: 1.7186\n",
            "Epoch 385/500\n",
            "9/9 [==============================] - 0s 9ms/step - loss: 0.3712 - mae: 0.4496 - val_loss: 5.9078 - val_mae: 1.8344\n",
            "Epoch 386/500\n",
            "9/9 [==============================] - 0s 7ms/step - loss: 0.4324 - mae: 0.4772 - val_loss: 5.5069 - val_mae: 1.7338\n",
            "Epoch 387/500\n",
            "9/9 [==============================] - 0s 7ms/step - loss: 0.3477 - mae: 0.4135 - val_loss: 5.1461 - val_mae: 1.7247\n",
            "Epoch 388/500\n",
            "9/9 [==============================] - 0s 9ms/step - loss: 0.2143 - mae: 0.3291 - val_loss: 5.7467 - val_mae: 1.8114\n",
            "Epoch 389/500\n",
            "9/9 [==============================] - 0s 9ms/step - loss: 0.2836 - mae: 0.4107 - val_loss: 5.2556 - val_mae: 1.7438\n",
            "Epoch 390/500\n",
            "9/9 [==============================] - 0s 7ms/step - loss: 0.2398 - mae: 0.3454 - val_loss: 5.6176 - val_mae: 1.7967\n",
            "Epoch 391/500\n",
            "9/9 [==============================] - 0s 9ms/step - loss: 0.4542 - mae: 0.5002 - val_loss: 5.3638 - val_mae: 1.7465\n",
            "Epoch 392/500\n",
            "9/9 [==============================] - 0s 7ms/step - loss: 0.2807 - mae: 0.3824 - val_loss: 5.2628 - val_mae: 1.7637\n",
            "Epoch 393/500\n",
            "9/9 [==============================] - 0s 8ms/step - loss: 0.2359 - mae: 0.3479 - val_loss: 5.4797 - val_mae: 1.7370\n",
            "Epoch 394/500\n",
            "9/9 [==============================] - 0s 9ms/step - loss: 0.2563 - mae: 0.3529 - val_loss: 5.1848 - val_mae: 1.7044\n",
            "Epoch 395/500\n",
            "9/9 [==============================] - 0s 8ms/step - loss: 0.2238 - mae: 0.3361 - val_loss: 5.4427 - val_mae: 1.7759\n",
            "Epoch 396/500\n",
            "9/9 [==============================] - 0s 6ms/step - loss: 0.2544 - mae: 0.3896 - val_loss: 5.5636 - val_mae: 1.7627\n",
            "Epoch 397/500\n",
            "9/9 [==============================] - 0s 9ms/step - loss: 0.2508 - mae: 0.3725 - val_loss: 5.5004 - val_mae: 1.7539\n",
            "Epoch 398/500\n",
            "9/9 [==============================] - 0s 8ms/step - loss: 0.2291 - mae: 0.3326 - val_loss: 5.6401 - val_mae: 1.8041\n",
            "Epoch 399/500\n",
            "9/9 [==============================] - 0s 7ms/step - loss: 0.1993 - mae: 0.3102 - val_loss: 5.4848 - val_mae: 1.7316\n",
            "Epoch 400/500\n",
            "9/9 [==============================] - 0s 7ms/step - loss: 0.1843 - mae: 0.2952 - val_loss: 5.5412 - val_mae: 1.7811\n",
            "Epoch 401/500\n",
            "9/9 [==============================] - 0s 6ms/step - loss: 0.2193 - mae: 0.3148 - val_loss: 5.1241 - val_mae: 1.7022\n",
            "Epoch 402/500\n",
            "9/9 [==============================] - 0s 7ms/step - loss: 0.2483 - mae: 0.3489 - val_loss: 5.7714 - val_mae: 1.8385\n",
            "Epoch 403/500\n",
            "9/9 [==============================] - 0s 7ms/step - loss: 0.2520 - mae: 0.3730 - val_loss: 5.2564 - val_mae: 1.7394\n",
            "Epoch 404/500\n",
            "9/9 [==============================] - 0s 7ms/step - loss: 0.2695 - mae: 0.3777 - val_loss: 5.4782 - val_mae: 1.7348\n",
            "Epoch 405/500\n",
            "9/9 [==============================] - 0s 6ms/step - loss: 0.3354 - mae: 0.4514 - val_loss: 5.8694 - val_mae: 1.8241\n",
            "Epoch 406/500\n",
            "9/9 [==============================] - 0s 8ms/step - loss: 0.3780 - mae: 0.4753 - val_loss: 5.2707 - val_mae: 1.7123\n",
            "Epoch 407/500\n",
            "9/9 [==============================] - 0s 6ms/step - loss: 0.5791 - mae: 0.5606 - val_loss: 6.1365 - val_mae: 1.9065\n",
            "Epoch 408/500\n",
            "9/9 [==============================] - 0s 8ms/step - loss: 0.5742 - mae: 0.5736 - val_loss: 5.5304 - val_mae: 1.7365\n",
            "Epoch 409/500\n",
            "9/9 [==============================] - 0s 7ms/step - loss: 0.3348 - mae: 0.4262 - val_loss: 5.4249 - val_mae: 1.7616\n",
            "Epoch 410/500\n",
            "9/9 [==============================] - 0s 7ms/step - loss: 0.3028 - mae: 0.3978 - val_loss: 5.4030 - val_mae: 1.7444\n",
            "Epoch 411/500\n",
            "9/9 [==============================] - 0s 9ms/step - loss: 0.2258 - mae: 0.3522 - val_loss: 5.4393 - val_mae: 1.7474\n",
            "Epoch 412/500\n",
            "9/9 [==============================] - 0s 7ms/step - loss: 0.1585 - mae: 0.2770 - val_loss: 5.2951 - val_mae: 1.7511\n",
            "Epoch 413/500\n",
            "9/9 [==============================] - 0s 10ms/step - loss: 0.2173 - mae: 0.3170 - val_loss: 5.4301 - val_mae: 1.7645\n",
            "Epoch 414/500\n",
            "9/9 [==============================] - 0s 7ms/step - loss: 0.1568 - mae: 0.2762 - val_loss: 5.3325 - val_mae: 1.7041\n",
            "Epoch 415/500\n",
            "9/9 [==============================] - 0s 7ms/step - loss: 0.1584 - mae: 0.2521 - val_loss: 5.4019 - val_mae: 1.7560\n",
            "Epoch 416/500\n",
            "9/9 [==============================] - 0s 7ms/step - loss: 0.1581 - mae: 0.2489 - val_loss: 5.4326 - val_mae: 1.7424\n",
            "Epoch 417/500\n",
            "9/9 [==============================] - 0s 7ms/step - loss: 0.2002 - mae: 0.3444 - val_loss: 5.2330 - val_mae: 1.6960\n",
            "Epoch 418/500\n",
            "9/9 [==============================] - 0s 7ms/step - loss: 0.1831 - mae: 0.2859 - val_loss: 5.4118 - val_mae: 1.7688\n",
            "Epoch 419/500\n",
            "9/9 [==============================] - 0s 7ms/step - loss: 0.1450 - mae: 0.2468 - val_loss: 5.4270 - val_mae: 1.7082\n",
            "Epoch 420/500\n",
            "9/9 [==============================] - 0s 6ms/step - loss: 0.1186 - mae: 0.2267 - val_loss: 5.5054 - val_mae: 1.7634\n",
            "Epoch 421/500\n",
            "9/9 [==============================] - 0s 9ms/step - loss: 0.1495 - mae: 0.2646 - val_loss: 5.3529 - val_mae: 1.7299\n",
            "Epoch 422/500\n",
            "9/9 [==============================] - 0s 6ms/step - loss: 0.1390 - mae: 0.2471 - val_loss: 5.5258 - val_mae: 1.7702\n",
            "Epoch 423/500\n",
            "9/9 [==============================] - 0s 7ms/step - loss: 0.1254 - mae: 0.2483 - val_loss: 5.6040 - val_mae: 1.8059\n",
            "Epoch 424/500\n",
            "9/9 [==============================] - 0s 6ms/step - loss: 0.1319 - mae: 0.2421 - val_loss: 5.4689 - val_mae: 1.7257\n",
            "Epoch 425/500\n",
            "9/9 [==============================] - 0s 7ms/step - loss: 0.1893 - mae: 0.3070 - val_loss: 6.0606 - val_mae: 1.8698\n",
            "Epoch 426/500\n",
            "9/9 [==============================] - 0s 7ms/step - loss: 0.2758 - mae: 0.3985 - val_loss: 5.6942 - val_mae: 1.7736\n",
            "Epoch 427/500\n",
            "9/9 [==============================] - 0s 7ms/step - loss: 0.4149 - mae: 0.5060 - val_loss: 5.7323 - val_mae: 1.8031\n",
            "Epoch 428/500\n",
            "9/9 [==============================] - 0s 9ms/step - loss: 0.2811 - mae: 0.3984 - val_loss: 5.8316 - val_mae: 1.8322\n",
            "Epoch 429/500\n",
            "9/9 [==============================] - 0s 7ms/step - loss: 0.3142 - mae: 0.4029 - val_loss: 5.2628 - val_mae: 1.6913\n",
            "Epoch 430/500\n",
            "9/9 [==============================] - 0s 8ms/step - loss: 0.2156 - mae: 0.3414 - val_loss: 5.8420 - val_mae: 1.7930\n",
            "Epoch 431/500\n",
            "9/9 [==============================] - 0s 7ms/step - loss: 0.2243 - mae: 0.3269 - val_loss: 5.6444 - val_mae: 1.7652\n",
            "Epoch 432/500\n",
            "9/9 [==============================] - 0s 6ms/step - loss: 0.2575 - mae: 0.3454 - val_loss: 5.9740 - val_mae: 1.8268\n",
            "Epoch 433/500\n",
            "9/9 [==============================] - 0s 9ms/step - loss: 0.2404 - mae: 0.3492 - val_loss: 5.5125 - val_mae: 1.7814\n",
            "Epoch 434/500\n",
            "9/9 [==============================] - 0s 6ms/step - loss: 0.2233 - mae: 0.3402 - val_loss: 5.5423 - val_mae: 1.7741\n",
            "Epoch 435/500\n",
            "9/9 [==============================] - 0s 7ms/step - loss: 0.2124 - mae: 0.3214 - val_loss: 5.8128 - val_mae: 1.7953\n",
            "Epoch 436/500\n",
            "9/9 [==============================] - 0s 7ms/step - loss: 0.1945 - mae: 0.2986 - val_loss: 5.8119 - val_mae: 1.8386\n",
            "Epoch 437/500\n",
            "9/9 [==============================] - 0s 9ms/step - loss: 0.2058 - mae: 0.3253 - val_loss: 5.6824 - val_mae: 1.7713\n",
            "Epoch 438/500\n",
            "9/9 [==============================] - 0s 8ms/step - loss: 0.3652 - mae: 0.4647 - val_loss: 5.8246 - val_mae: 1.8165\n",
            "Epoch 439/500\n",
            "9/9 [==============================] - 0s 8ms/step - loss: 0.3149 - mae: 0.4061 - val_loss: 5.9222 - val_mae: 1.8567\n",
            "Epoch 440/500\n",
            "9/9 [==============================] - 0s 12ms/step - loss: 0.3131 - mae: 0.4231 - val_loss: 5.8220 - val_mae: 1.7956\n",
            "Epoch 441/500\n",
            "9/9 [==============================] - 0s 8ms/step - loss: 0.3735 - mae: 0.4384 - val_loss: 5.9952 - val_mae: 1.8588\n",
            "Epoch 442/500\n",
            "9/9 [==============================] - 0s 9ms/step - loss: 0.2807 - mae: 0.3726 - val_loss: 5.8460 - val_mae: 1.8062\n",
            "Epoch 443/500\n",
            "9/9 [==============================] - 0s 7ms/step - loss: 0.4361 - mae: 0.4934 - val_loss: 5.4392 - val_mae: 1.7640\n",
            "Epoch 444/500\n",
            "9/9 [==============================] - 0s 7ms/step - loss: 0.3358 - mae: 0.4618 - val_loss: 6.2856 - val_mae: 1.9150\n",
            "Epoch 445/500\n",
            "9/9 [==============================] - 0s 7ms/step - loss: 0.3464 - mae: 0.4414 - val_loss: 5.6782 - val_mae: 1.7232\n",
            "Epoch 446/500\n",
            "9/9 [==============================] - 0s 8ms/step - loss: 0.2783 - mae: 0.3872 - val_loss: 5.5540 - val_mae: 1.7899\n",
            "Epoch 447/500\n",
            "9/9 [==============================] - 0s 7ms/step - loss: 0.1863 - mae: 0.3148 - val_loss: 5.5783 - val_mae: 1.7329\n",
            "Epoch 448/500\n",
            "9/9 [==============================] - 0s 8ms/step - loss: 0.1865 - mae: 0.3102 - val_loss: 5.9116 - val_mae: 1.8485\n",
            "Epoch 449/500\n",
            "9/9 [==============================] - 0s 7ms/step - loss: 0.1909 - mae: 0.3017 - val_loss: 5.4644 - val_mae: 1.7517\n",
            "Epoch 450/500\n",
            "9/9 [==============================] - 0s 8ms/step - loss: 0.1886 - mae: 0.3016 - val_loss: 5.7116 - val_mae: 1.8045\n",
            "Epoch 451/500\n",
            "9/9 [==============================] - 0s 9ms/step - loss: 0.1937 - mae: 0.2947 - val_loss: 5.6357 - val_mae: 1.7696\n",
            "Epoch 452/500\n",
            "9/9 [==============================] - 0s 7ms/step - loss: 0.1951 - mae: 0.3126 - val_loss: 5.3491 - val_mae: 1.7623\n",
            "Epoch 453/500\n",
            "9/9 [==============================] - 0s 9ms/step - loss: 0.1808 - mae: 0.2729 - val_loss: 5.6159 - val_mae: 1.7495\n",
            "Epoch 454/500\n",
            "9/9 [==============================] - 0s 7ms/step - loss: 0.1821 - mae: 0.2923 - val_loss: 5.5136 - val_mae: 1.7733\n",
            "Epoch 455/500\n",
            "9/9 [==============================] - 0s 7ms/step - loss: 0.2246 - mae: 0.3253 - val_loss: 5.6015 - val_mae: 1.7738\n",
            "Epoch 456/500\n",
            "9/9 [==============================] - 0s 8ms/step - loss: 0.1608 - mae: 0.2800 - val_loss: 6.0928 - val_mae: 1.8533\n",
            "Epoch 457/500\n",
            "9/9 [==============================] - 0s 7ms/step - loss: 0.1877 - mae: 0.2967 - val_loss: 5.6789 - val_mae: 1.7998\n",
            "Epoch 458/500\n",
            "9/9 [==============================] - 0s 8ms/step - loss: 0.1573 - mae: 0.2592 - val_loss: 5.4142 - val_mae: 1.7312\n",
            "Epoch 459/500\n",
            "9/9 [==============================] - 0s 7ms/step - loss: 0.1517 - mae: 0.2481 - val_loss: 5.9194 - val_mae: 1.8259\n",
            "Epoch 460/500\n",
            "9/9 [==============================] - 0s 7ms/step - loss: 0.1404 - mae: 0.2499 - val_loss: 5.3677 - val_mae: 1.7515\n",
            "Epoch 461/500\n",
            "9/9 [==============================] - 0s 7ms/step - loss: 0.1328 - mae: 0.2463 - val_loss: 5.5467 - val_mae: 1.7438\n",
            "Epoch 462/500\n",
            "9/9 [==============================] - 0s 10ms/step - loss: 0.1270 - mae: 0.2393 - val_loss: 5.9451 - val_mae: 1.8494\n",
            "Epoch 463/500\n",
            "9/9 [==============================] - 0s 7ms/step - loss: 0.1157 - mae: 0.2556 - val_loss: 5.6221 - val_mae: 1.7885\n",
            "Epoch 464/500\n",
            "9/9 [==============================] - 0s 8ms/step - loss: 0.1237 - mae: 0.2306 - val_loss: 5.6202 - val_mae: 1.7652\n",
            "Epoch 465/500\n",
            "9/9 [==============================] - 0s 8ms/step - loss: 0.1083 - mae: 0.2253 - val_loss: 5.8064 - val_mae: 1.8190\n",
            "Epoch 466/500\n",
            "9/9 [==============================] - 0s 8ms/step - loss: 0.1070 - mae: 0.2274 - val_loss: 5.6371 - val_mae: 1.7612\n",
            "Epoch 467/500\n",
            "9/9 [==============================] - 0s 9ms/step - loss: 0.1163 - mae: 0.2162 - val_loss: 5.6828 - val_mae: 1.7895\n",
            "Epoch 468/500\n",
            "9/9 [==============================] - 0s 7ms/step - loss: 0.0772 - mae: 0.1846 - val_loss: 5.7410 - val_mae: 1.7865\n",
            "Epoch 469/500\n",
            "9/9 [==============================] - 0s 7ms/step - loss: 0.1230 - mae: 0.2367 - val_loss: 5.7825 - val_mae: 1.7905\n",
            "Epoch 470/500\n",
            "9/9 [==============================] - 0s 10ms/step - loss: 0.0830 - mae: 0.1837 - val_loss: 5.5790 - val_mae: 1.7677\n",
            "Epoch 471/500\n",
            "9/9 [==============================] - 0s 7ms/step - loss: 0.1020 - mae: 0.1976 - val_loss: 5.6698 - val_mae: 1.7767\n",
            "Epoch 472/500\n",
            "9/9 [==============================] - 0s 8ms/step - loss: 0.0958 - mae: 0.1988 - val_loss: 5.6215 - val_mae: 1.7852\n",
            "Epoch 473/500\n",
            "9/9 [==============================] - 0s 7ms/step - loss: 0.0800 - mae: 0.1767 - val_loss: 5.6088 - val_mae: 1.7975\n",
            "Epoch 474/500\n",
            "9/9 [==============================] - 0s 6ms/step - loss: 0.0864 - mae: 0.1875 - val_loss: 5.7542 - val_mae: 1.8024\n",
            "Epoch 475/500\n",
            "9/9 [==============================] - 0s 9ms/step - loss: 0.1201 - mae: 0.2302 - val_loss: 5.7566 - val_mae: 1.7984\n",
            "Epoch 476/500\n",
            "9/9 [==============================] - 0s 8ms/step - loss: 0.1092 - mae: 0.2079 - val_loss: 5.5652 - val_mae: 1.7778\n",
            "Epoch 477/500\n",
            "9/9 [==============================] - 0s 7ms/step - loss: 0.0893 - mae: 0.1974 - val_loss: 5.8492 - val_mae: 1.8180\n",
            "Epoch 478/500\n",
            "9/9 [==============================] - 0s 7ms/step - loss: 0.1074 - mae: 0.2155 - val_loss: 5.6946 - val_mae: 1.7992\n",
            "Epoch 479/500\n",
            "9/9 [==============================] - 0s 7ms/step - loss: 0.1015 - mae: 0.2084 - val_loss: 5.7131 - val_mae: 1.8089\n",
            "Epoch 480/500\n",
            "9/9 [==============================] - 0s 8ms/step - loss: 0.1691 - mae: 0.2702 - val_loss: 5.8217 - val_mae: 1.8070\n",
            "Epoch 481/500\n",
            "9/9 [==============================] - 0s 8ms/step - loss: 0.1441 - mae: 0.2802 - val_loss: 5.9204 - val_mae: 1.8373\n",
            "Epoch 482/500\n",
            "9/9 [==============================] - 0s 8ms/step - loss: 0.1560 - mae: 0.2916 - val_loss: 6.0120 - val_mae: 1.8414\n",
            "Epoch 483/500\n",
            "9/9 [==============================] - 0s 7ms/step - loss: 0.1226 - mae: 0.2452 - val_loss: 5.8884 - val_mae: 1.8015\n",
            "Epoch 484/500\n",
            "9/9 [==============================] - 0s 7ms/step - loss: 0.3095 - mae: 0.4280 - val_loss: 5.8824 - val_mae: 1.8424\n",
            "Epoch 485/500\n",
            "9/9 [==============================] - 0s 7ms/step - loss: 0.2754 - mae: 0.3859 - val_loss: 5.4528 - val_mae: 1.7063\n",
            "Epoch 486/500\n",
            "9/9 [==============================] - 0s 8ms/step - loss: 0.2488 - mae: 0.3714 - val_loss: 6.0555 - val_mae: 1.8536\n",
            "Epoch 487/500\n",
            "9/9 [==============================] - 0s 7ms/step - loss: 0.2554 - mae: 0.3610 - val_loss: 5.7989 - val_mae: 1.7543\n",
            "Epoch 488/500\n",
            "9/9 [==============================] - 0s 8ms/step - loss: 0.3661 - mae: 0.4440 - val_loss: 6.4470 - val_mae: 1.9556\n",
            "Epoch 489/500\n",
            "9/9 [==============================] - 0s 7ms/step - loss: 0.3763 - mae: 0.4870 - val_loss: 5.6325 - val_mae: 1.8030\n",
            "Epoch 490/500\n",
            "9/9 [==============================] - 0s 10ms/step - loss: 0.4236 - mae: 0.5026 - val_loss: 5.7308 - val_mae: 1.7732\n",
            "Epoch 491/500\n",
            "9/9 [==============================] - 0s 8ms/step - loss: 0.2964 - mae: 0.4234 - val_loss: 5.9280 - val_mae: 1.8247\n",
            "Epoch 492/500\n",
            "9/9 [==============================] - 0s 6ms/step - loss: 0.1972 - mae: 0.3453 - val_loss: 5.7162 - val_mae: 1.8187\n",
            "Epoch 493/500\n",
            "9/9 [==============================] - 0s 8ms/step - loss: 0.1639 - mae: 0.2768 - val_loss: 5.7941 - val_mae: 1.7758\n",
            "Epoch 494/500\n",
            "9/9 [==============================] - 0s 7ms/step - loss: 0.1581 - mae: 0.3017 - val_loss: 5.7104 - val_mae: 1.7865\n",
            "Epoch 495/500\n",
            "9/9 [==============================] - 0s 7ms/step - loss: 0.1258 - mae: 0.2456 - val_loss: 6.1044 - val_mae: 1.8605\n",
            "Epoch 496/500\n",
            "9/9 [==============================] - 0s 9ms/step - loss: 0.1476 - mae: 0.2871 - val_loss: 5.8399 - val_mae: 1.8106\n",
            "Epoch 497/500\n",
            "9/9 [==============================] - 0s 7ms/step - loss: 0.1654 - mae: 0.2687 - val_loss: 6.1662 - val_mae: 1.8537\n",
            "Epoch 498/500\n",
            "9/9 [==============================] - 0s 6ms/step - loss: 0.1620 - mae: 0.2463 - val_loss: 6.0840 - val_mae: 1.8461\n",
            "Epoch 499/500\n",
            "9/9 [==============================] - 0s 7ms/step - loss: 0.1992 - mae: 0.3098 - val_loss: 5.8536 - val_mae: 1.8146\n",
            "Epoch 500/500\n",
            "9/9 [==============================] - 0s 7ms/step - loss: 0.2390 - mae: 0.3320 - val_loss: 6.1045 - val_mae: 1.8360\n"
          ],
          "name": "stdout"
        }
      ]
    },
    {
      "cell_type": "markdown",
      "metadata": {
        "id": "3fVxA-_XwgM6"
      },
      "source": [
        "# Evaluation"
      ]
    },
    {
      "cell_type": "code",
      "metadata": {
        "colab": {
          "base_uri": "https://localhost:8080/"
        },
        "id": "XOC6W1dbgT3e",
        "outputId": "28d8c740-6f52-43d6-e827-da6cbc158bec"
      },
      "source": [
        "hist.history.keys()"
      ],
      "execution_count": 77,
      "outputs": [
        {
          "output_type": "execute_result",
          "data": {
            "text/plain": [
              "dict_keys(['loss', 'mae', 'val_loss', 'val_mae'])"
            ]
          },
          "metadata": {
            "tags": []
          },
          "execution_count": 77
        }
      ]
    },
    {
      "cell_type": "code",
      "metadata": {
        "colab": {
          "base_uri": "https://localhost:8080/",
          "height": 265
        },
        "id": "UEBrVTKih6gh",
        "outputId": "1fb739ea-d5fe-472c-cd56-cbfcdade6162"
      },
      "source": [
        "import matplotlib.pyplot as plt\n",
        "plt.plot(hist.history['loss'],'b--')\n",
        "plt.plot(hist.history['val_loss'])\n",
        "plt.show()"
      ],
      "execution_count": 80,
      "outputs": [
        {
          "output_type": "display_data",
          "data": {
            "image/png": "[encoded data removed]",
            "text/plain": [
              "<Figure size 432x288 with 1 Axes>"
            ]
          },
          "metadata": {
            "tags": [],
            "needs_background": "light"
          }
        }
      ]
    },
    {
      "cell_type": "code",
      "metadata": {
        "id": "PZxWIqUhtrew",
        "colab": {
          "base_uri": "https://localhost:8080/"
        },
        "outputId": "c5023cda-c8ed-4eb3-a561-bbd747c92a91"
      },
      "source": [
        "# model.evaluate(x_train,y_train) # loss: 15.5009 - mae: 2.6761"
      ],
      "execution_count": 44,
      "outputs": [
        {
          "output_type": "stream",
          "text": [
            "13/13 [==============================] - 0s 1ms/step - loss: 15.5009 - mae: 2.6761\n"
          ],
          "name": "stdout"
        },
        {
          "output_type": "execute_result",
          "data": {
            "text/plain": [
              "[15.500893592834473, 2.6761088371276855]"
            ]
          },
          "metadata": {
            "tags": []
          },
          "execution_count": 44
        }
      ]
    },
    {
      "cell_type": "code",
      "metadata": {
        "colab": {
          "base_uri": "https://localhost:8080/"
        },
        "id": "fLfroxrtX0Do",
        "outputId": "d7023f14-0890-4dc7-cfbd-f31a16ee08db"
      },
      "source": [
        "model.evaluate(x_train,y_train)"
      ],
      "execution_count": 70,
      "outputs": [
        {
          "output_type": "stream",
          "text": [
            "13/13 [==============================] - 0s 2ms/step - loss: 588.4859 - mae: 22.4405\n"
          ],
          "name": "stdout"
        },
        {
          "output_type": "execute_result",
          "data": {
            "text/plain": [
              "[588.4859008789062, 22.440532684326172]"
            ]
          },
          "metadata": {
            "tags": []
          },
          "execution_count": 70
        }
      ]
    },
    {
      "cell_type": "markdown",
      "metadata": {
        "id": "ornncgG2wov4"
      },
      "source": [
        "# Service"
      ]
    },
    {
      "cell_type": "code",
      "metadata": {
        "colab": {
          "base_uri": "https://localhost:8080/"
        },
        "id": "Xaf6lOclxBpX",
        "outputId": "4f076b64-46d2-4f87-80a2-8e16be62e886"
      },
      "source": [
        "x_train[10] , x_test.shape"
      ],
      "execution_count": 49,
      "outputs": [
        {
          "output_type": "execute_result",
          "data": {
            "text/plain": [
              "(array([-0.33710002, -0.50398828, -1.48115445, -1.32279581,  5.1262729 ,\n",
              "        -8.56801832, -2.43316853, -2.35565036, -0.89377027, -2.43327233,\n",
              "        -8.05017099, -3.77209189, -1.61425073]), (102, 13))"
            ]
          },
          "metadata": {
            "tags": []
          },
          "execution_count": 49
        }
      ]
    },
    {
      "cell_type": "code",
      "metadata": {
        "id": "Bu5qSSE6wqqM",
        "colab": {
          "base_uri": "https://localhost:8080/"
        },
        "outputId": "0cfb1d8e-2de9-47cc-8d0a-52e0bf66d9f7"
      },
      "source": [
        "model.predict([[-0.33710002, -0.50398828, -1.48115445, -1.32279581,  5.1262729 ,\n",
        "        -8.56801832, -2.43316853, -2.35565036, -0.89377027, -2.43327233,\n",
        "        -8.05017099, -3.77209189, -1.61425073]])"
      ],
      "execution_count": 50,
      "outputs": [
        {
          "output_type": "execute_result",
          "data": {
            "text/plain": [
              "array([[12.392696]], dtype=float32)"
            ]
          },
          "metadata": {
            "tags": []
          },
          "execution_count": 50
        }
      ]
    },
    {
      "cell_type": "code",
      "metadata": {
        "colab": {
          "base_uri": "https://localhost:8080/"
        },
        "id": "TEcfoR9s5bh-",
        "outputId": "79e90bcb-4467-41d6-d828-1f3a4fc57b4e"
      },
      "source": [
        "y_train[10]"
      ],
      "execution_count": 51,
      "outputs": [
        {
          "output_type": "execute_result",
          "data": {
            "text/plain": [
              "12.1"
            ]
          },
          "metadata": {
            "tags": []
          },
          "execution_count": 51
        }
      ]
    },
    {
      "cell_type": "code",
      "metadata": {
        "id": "EV2qZyEV5m3G"
      },
      "source": [
        ""
      ],
      "execution_count": null,
      "outputs": []
    }
  ]
}