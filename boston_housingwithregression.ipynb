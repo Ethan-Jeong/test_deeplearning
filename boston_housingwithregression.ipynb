{
  "nbformat": 4,
  "nbformat_minor": 0,
  "metadata": {
    "colab": {
      "name": "boston_housingwithregression.ipynb",
      "provenance": [],
      "collapsed_sections": [],
      "authorship_tag": "ABX9TyPqC7ROOhocBsUPbfmbyhL0",
      "include_colab_link": true
    },
    "kernelspec": {
      "name": "python3",
      "display_name": "Python 3"
    },
    "language_info": {
      "name": "python"
    }
  },
  "cells": [
    {
      "cell_type": "markdown",
      "metadata": {
        "id": "view-in-github",
        "colab_type": "text"
      },
      "source": [
        "<a href=\"https://colab.research.google.com/github/Ethan-Jeong/test_deeplearning/blob/master/boston_housingwithregression.ipynb\" target=\"_parent\"><img src=\"https://colab.research.google.com/assets/colab-badge.svg\" alt=\"Open In Colab\"/></a>"
      ]
    },
    {
      "cell_type": "code",
      "metadata": {
        "id": "z-l4-8cvX32A"
      },
      "source": [
        "import tensorflow as tf"
      ],
      "execution_count": null,
      "outputs": []
    },
    {
      "cell_type": "code",
      "metadata": {
        "id": "ioPYEg7Ra7WD"
      },
      "source": [
        "from tensorflow.keras.datasets.boston_housing import load_data"
      ],
      "execution_count": null,
      "outputs": []
    },
    {
      "cell_type": "markdown",
      "metadata": {
        "id": "HvaKrM9L1Gr8"
      },
      "source": [
        "# Dataset"
      ]
    },
    {
      "cell_type": "code",
      "metadata": {
        "colab": {
          "base_uri": "https://localhost:8080/"
        },
        "id": "KNrLRSgSbQbO",
        "outputId": "d6cfb838-440a-42a1-8e97-bbadb0c2dfe3"
      },
      "source": [
        "(x_train, y_train), (x_test, y_test) = load_data(path='boston_hosing.npz',test_split=0.2,seed=113)\n",
        "x_train.shape , y_train.shape , x_test.shape , y_train.shape"
      ],
      "execution_count": null,
      "outputs": [
        {
          "output_type": "stream",
          "text": [
            "Downloading data from https://storage.googleapis.com/tensorflow/tf-keras-datasets/boston_housing.npz\n",
            "57344/57026 [==============================] - 0s 0us/step\n"
          ],
          "name": "stdout"
        },
        {
          "output_type": "execute_result",
          "data": {
            "text/plain": [
              "((404, 13), (404,), (102, 13), (404,))"
            ]
          },
          "metadata": {
            "tags": []
          },
          "execution_count": 3
        }
      ]
    },
    {
      "cell_type": "code",
      "metadata": {
        "colab": {
          "base_uri": "https://localhost:8080/"
        },
        "id": "FjTwwEjkd4L8",
        "outputId": "0babb51a-36a6-423f-d26b-69f63c7478ed"
      },
      "source": [
        "type(x_train)"
      ],
      "execution_count": null,
      "outputs": [
        {
          "output_type": "execute_result",
          "data": {
            "text/plain": [
              "numpy.ndarray"
            ]
          },
          "metadata": {
            "tags": []
          },
          "execution_count": 4
        }
      ]
    },
    {
      "cell_type": "code",
      "metadata": {
        "id": "hmK8vLO-1PK1"
      },
      "source": [
        "import pandas as pd"
      ],
      "execution_count": 28,
      "outputs": []
    },
    {
      "cell_type": "code",
      "metadata": {
        "colab": {
          "base_uri": "https://localhost:8080/"
        },
        "id": "MCfd4pDc1Wtp",
        "outputId": "5db48d97-498e-4942-8f16-32c0a6f3901c"
      },
      "source": [
        "df = pd.DataFrame(x_train)\n",
        "df.info()"
      ],
      "execution_count": 31,
      "outputs": [
        {
          "output_type": "stream",
          "text": [
            "<class 'pandas.core.frame.DataFrame'>\n",
            "RangeIndex: 404 entries, 0 to 403\n",
            "Data columns (total 13 columns):\n",
            " #   Column  Non-Null Count  Dtype  \n",
            "---  ------  --------------  -----  \n",
            " 0   0       404 non-null    float64\n",
            " 1   1       404 non-null    float64\n",
            " 2   2       404 non-null    float64\n",
            " 3   3       404 non-null    float64\n",
            " 4   4       404 non-null    float64\n",
            " 5   5       404 non-null    float64\n",
            " 6   6       404 non-null    float64\n",
            " 7   7       404 non-null    float64\n",
            " 8   8       404 non-null    float64\n",
            " 9   9       404 non-null    float64\n",
            " 10  10      404 non-null    float64\n",
            " 11  11      404 non-null    float64\n",
            " 12  12      404 non-null    float64\n",
            "dtypes: float64(13)\n",
            "memory usage: 41.2 KB\n"
          ],
          "name": "stdout"
        }
      ]
    },
    {
      "cell_type": "code",
      "metadata": {
        "colab": {
          "base_uri": "https://localhost:8080/",
          "height": 310
        },
        "id": "sKjP1VHe3-YH",
        "outputId": "29cc11b1-7592-4023-bf7e-26096645ce22"
      },
      "source": [
        "df.describe()"
      ],
      "execution_count": 35,
      "outputs": [
        {
          "output_type": "execute_result",
          "data": {
            "text/html": [
              "<div>\n",
              "<style scoped>\n",
              "    .dataframe tbody tr th:only-of-type {\n",
              "        vertical-align: middle;\n",
              "    }\n",
              "\n",
              "    .dataframe tbody tr th {\n",
              "        vertical-align: top;\n",
              "    }\n",
              "\n",
              "    .dataframe thead th {\n",
              "        text-align: right;\n",
              "    }\n",
              "</style>\n",
              "<table border=\"1\" class=\"dataframe\">\n",
              "  <thead>\n",
              "    <tr style=\"text-align: right;\">\n",
              "      <th></th>\n",
              "      <th>0</th>\n",
              "      <th>1</th>\n",
              "      <th>2</th>\n",
              "      <th>3</th>\n",
              "      <th>4</th>\n",
              "      <th>5</th>\n",
              "      <th>6</th>\n",
              "      <th>7</th>\n",
              "      <th>8</th>\n",
              "      <th>9</th>\n",
              "      <th>10</th>\n",
              "      <th>11</th>\n",
              "      <th>12</th>\n",
              "    </tr>\n",
              "  </thead>\n",
              "  <tbody>\n",
              "    <tr>\n",
              "      <th>count</th>\n",
              "      <td>404.000000</td>\n",
              "      <td>404.000000</td>\n",
              "      <td>404.000000</td>\n",
              "      <td>404.000000</td>\n",
              "      <td>404.000000</td>\n",
              "      <td>404.000000</td>\n",
              "      <td>404.000000</td>\n",
              "      <td>404.000000</td>\n",
              "      <td>404.000000</td>\n",
              "      <td>404.000000</td>\n",
              "      <td>404.000000</td>\n",
              "      <td>404.000000</td>\n",
              "      <td>404.000000</td>\n",
              "    </tr>\n",
              "    <tr>\n",
              "      <th>mean</th>\n",
              "      <td>3.745111</td>\n",
              "      <td>11.480198</td>\n",
              "      <td>11.104431</td>\n",
              "      <td>0.061881</td>\n",
              "      <td>0.557356</td>\n",
              "      <td>6.267082</td>\n",
              "      <td>69.010644</td>\n",
              "      <td>3.740271</td>\n",
              "      <td>9.440594</td>\n",
              "      <td>405.898515</td>\n",
              "      <td>18.475990</td>\n",
              "      <td>354.783168</td>\n",
              "      <td>12.740817</td>\n",
              "    </tr>\n",
              "    <tr>\n",
              "      <th>std</th>\n",
              "      <td>9.240734</td>\n",
              "      <td>23.767711</td>\n",
              "      <td>6.811308</td>\n",
              "      <td>0.241238</td>\n",
              "      <td>0.117293</td>\n",
              "      <td>0.709788</td>\n",
              "      <td>27.940665</td>\n",
              "      <td>2.030215</td>\n",
              "      <td>8.698360</td>\n",
              "      <td>166.374543</td>\n",
              "      <td>2.200382</td>\n",
              "      <td>94.111148</td>\n",
              "      <td>7.254545</td>\n",
              "    </tr>\n",
              "    <tr>\n",
              "      <th>min</th>\n",
              "      <td>0.006320</td>\n",
              "      <td>0.000000</td>\n",
              "      <td>0.460000</td>\n",
              "      <td>0.000000</td>\n",
              "      <td>0.385000</td>\n",
              "      <td>3.561000</td>\n",
              "      <td>2.900000</td>\n",
              "      <td>1.129600</td>\n",
              "      <td>1.000000</td>\n",
              "      <td>188.000000</td>\n",
              "      <td>12.600000</td>\n",
              "      <td>0.320000</td>\n",
              "      <td>1.730000</td>\n",
              "    </tr>\n",
              "    <tr>\n",
              "      <th>25%</th>\n",
              "      <td>0.081437</td>\n",
              "      <td>0.000000</td>\n",
              "      <td>5.130000</td>\n",
              "      <td>0.000000</td>\n",
              "      <td>0.453000</td>\n",
              "      <td>5.874750</td>\n",
              "      <td>45.475000</td>\n",
              "      <td>2.077100</td>\n",
              "      <td>4.000000</td>\n",
              "      <td>279.000000</td>\n",
              "      <td>17.225000</td>\n",
              "      <td>374.672500</td>\n",
              "      <td>6.890000</td>\n",
              "    </tr>\n",
              "    <tr>\n",
              "      <th>50%</th>\n",
              "      <td>0.268880</td>\n",
              "      <td>0.000000</td>\n",
              "      <td>9.690000</td>\n",
              "      <td>0.000000</td>\n",
              "      <td>0.538000</td>\n",
              "      <td>6.198500</td>\n",
              "      <td>78.500000</td>\n",
              "      <td>3.142300</td>\n",
              "      <td>5.000000</td>\n",
              "      <td>330.000000</td>\n",
              "      <td>19.100000</td>\n",
              "      <td>391.250000</td>\n",
              "      <td>11.395000</td>\n",
              "    </tr>\n",
              "    <tr>\n",
              "      <th>75%</th>\n",
              "      <td>3.674808</td>\n",
              "      <td>12.500000</td>\n",
              "      <td>18.100000</td>\n",
              "      <td>0.000000</td>\n",
              "      <td>0.631000</td>\n",
              "      <td>6.609000</td>\n",
              "      <td>94.100000</td>\n",
              "      <td>5.118000</td>\n",
              "      <td>24.000000</td>\n",
              "      <td>666.000000</td>\n",
              "      <td>20.200000</td>\n",
              "      <td>396.157500</td>\n",
              "      <td>17.092500</td>\n",
              "    </tr>\n",
              "    <tr>\n",
              "      <th>max</th>\n",
              "      <td>88.976200</td>\n",
              "      <td>100.000000</td>\n",
              "      <td>27.740000</td>\n",
              "      <td>1.000000</td>\n",
              "      <td>0.871000</td>\n",
              "      <td>8.725000</td>\n",
              "      <td>100.000000</td>\n",
              "      <td>10.710300</td>\n",
              "      <td>24.000000</td>\n",
              "      <td>711.000000</td>\n",
              "      <td>22.000000</td>\n",
              "      <td>396.900000</td>\n",
              "      <td>37.970000</td>\n",
              "    </tr>\n",
              "  </tbody>\n",
              "</table>\n",
              "</div>"
            ],
            "text/plain": [
              "               0           1           2   ...          10          11          12\n",
              "count  404.000000  404.000000  404.000000  ...  404.000000  404.000000  404.000000\n",
              "mean     3.745111   11.480198   11.104431  ...   18.475990  354.783168   12.740817\n",
              "std      9.240734   23.767711    6.811308  ...    2.200382   94.111148    7.254545\n",
              "min      0.006320    0.000000    0.460000  ...   12.600000    0.320000    1.730000\n",
              "25%      0.081437    0.000000    5.130000  ...   17.225000  374.672500    6.890000\n",
              "50%      0.268880    0.000000    9.690000  ...   19.100000  391.250000   11.395000\n",
              "75%      3.674808   12.500000   18.100000  ...   20.200000  396.157500   17.092500\n",
              "max     88.976200  100.000000   27.740000  ...   22.000000  396.900000   37.970000\n",
              "\n",
              "[8 rows x 13 columns]"
            ]
          },
          "metadata": {
            "tags": []
          },
          "execution_count": 35
        }
      ]
    },
    {
      "cell_type": "code",
      "metadata": {
        "colab": {
          "base_uri": "https://localhost:8080/"
        },
        "id": "i_tvl6i21UrB",
        "outputId": "a28ca2dc-9b5f-46fc-aaa6-8d5961ca1284"
      },
      "source": [
        "from sklearn.preprocessing import StandardScaler\n",
        "scaler = StandardScaler()\n",
        "scaler.fit(x_train)"
      ],
      "execution_count": 32,
      "outputs": [
        {
          "output_type": "execute_result",
          "data": {
            "text/plain": [
              "StandardScaler(copy=True, with_mean=True, with_std=True)"
            ]
          },
          "metadata": {
            "tags": []
          },
          "execution_count": 32
        }
      ]
    },
    {
      "cell_type": "code",
      "metadata": {
        "colab": {
          "base_uri": "https://localhost:8080/"
        },
        "id": "41y2kKtE3jMi",
        "outputId": "243af650-ebed-48d3-b567-75e3fd8dd941"
      },
      "source": [
        "x_train = scaler.transform(x_train)\n",
        "x_test = scaler.transform(x_test)\n",
        "x_train.shape , x_test.shape"
      ],
      "execution_count": 37,
      "outputs": [
        {
          "output_type": "execute_result",
          "data": {
            "text/plain": [
              "((404, 13), (102, 13))"
            ]
          },
          "metadata": {
            "tags": []
          },
          "execution_count": 37
        }
      ]
    },
    {
      "cell_type": "code",
      "metadata": {
        "colab": {
          "base_uri": "https://localhost:8080/",
          "height": 310
        },
        "id": "u22x6ijN37WH",
        "outputId": "b154695f-130f-493c-8698-757f0bc6fca5"
      },
      "source": [
        "df2 = pd.DataFrame(x_train)\n",
        "df2.describe()"
      ],
      "execution_count": 38,
      "outputs": [
        {
          "output_type": "execute_result",
          "data": {
            "text/html": [
              "<div>\n",
              "<style scoped>\n",
              "    .dataframe tbody tr th:only-of-type {\n",
              "        vertical-align: middle;\n",
              "    }\n",
              "\n",
              "    .dataframe tbody tr th {\n",
              "        vertical-align: top;\n",
              "    }\n",
              "\n",
              "    .dataframe thead th {\n",
              "        text-align: right;\n",
              "    }\n",
              "</style>\n",
              "<table border=\"1\" class=\"dataframe\">\n",
              "  <thead>\n",
              "    <tr style=\"text-align: right;\">\n",
              "      <th></th>\n",
              "      <th>0</th>\n",
              "      <th>1</th>\n",
              "      <th>2</th>\n",
              "      <th>3</th>\n",
              "      <th>4</th>\n",
              "      <th>5</th>\n",
              "      <th>6</th>\n",
              "      <th>7</th>\n",
              "      <th>8</th>\n",
              "      <th>9</th>\n",
              "      <th>10</th>\n",
              "      <th>11</th>\n",
              "      <th>12</th>\n",
              "    </tr>\n",
              "  </thead>\n",
              "  <tbody>\n",
              "    <tr>\n",
              "      <th>count</th>\n",
              "      <td>404.000000</td>\n",
              "      <td>404.000000</td>\n",
              "      <td>404.000000</td>\n",
              "      <td>404.000000</td>\n",
              "      <td>404.000000</td>\n",
              "      <td>404.000000</td>\n",
              "      <td>404.000000</td>\n",
              "      <td>404.000000</td>\n",
              "      <td>404.000000</td>\n",
              "      <td>404.000000</td>\n",
              "      <td>404.000000</td>\n",
              "      <td>404.000000</td>\n",
              "      <td>404.000000</td>\n",
              "    </tr>\n",
              "    <tr>\n",
              "      <th>mean</th>\n",
              "      <td>-0.405785</td>\n",
              "      <td>-0.483615</td>\n",
              "      <td>-1.632315</td>\n",
              "      <td>-0.256833</td>\n",
              "      <td>-4.757714</td>\n",
              "      <td>-8.840465</td>\n",
              "      <td>-2.472962</td>\n",
              "      <td>-1.844587</td>\n",
              "      <td>-1.086676</td>\n",
              "      <td>-2.442692</td>\n",
              "      <td>-8.407131</td>\n",
              "      <td>-3.774506</td>\n",
              "      <td>-1.758431</td>\n",
              "    </tr>\n",
              "    <tr>\n",
              "      <th>std</th>\n",
              "      <td>0.108485</td>\n",
              "      <td>0.042178</td>\n",
              "      <td>0.147179</td>\n",
              "      <td>4.155563</td>\n",
              "      <td>8.546806</td>\n",
              "      <td>1.412368</td>\n",
              "      <td>0.035879</td>\n",
              "      <td>0.493781</td>\n",
              "      <td>0.115249</td>\n",
              "      <td>0.006025</td>\n",
              "      <td>0.455594</td>\n",
              "      <td>0.010652</td>\n",
              "      <td>0.138187</td>\n",
              "    </tr>\n",
              "    <tr>\n",
              "      <th>min</th>\n",
              "      <td>-0.449678</td>\n",
              "      <td>-0.503988</td>\n",
              "      <td>-1.862320</td>\n",
              "      <td>-1.322796</td>\n",
              "      <td>-17.316788</td>\n",
              "      <td>-14.225151</td>\n",
              "      <td>-2.557856</td>\n",
              "      <td>-2.479545</td>\n",
              "      <td>-1.198510</td>\n",
              "      <td>-2.450584</td>\n",
              "      <td>-9.623769</td>\n",
              "      <td>-3.814626</td>\n",
              "      <td>-1.968168</td>\n",
              "    </tr>\n",
              "    <tr>\n",
              "      <th>25%</th>\n",
              "      <td>-0.448796</td>\n",
              "      <td>-0.503988</td>\n",
              "      <td>-1.761411</td>\n",
              "      <td>-1.322796</td>\n",
              "      <td>-12.361827</td>\n",
              "      <td>-9.621144</td>\n",
              "      <td>-2.503185</td>\n",
              "      <td>-2.249097</td>\n",
              "      <td>-1.158762</td>\n",
              "      <td>-2.447288</td>\n",
              "      <td>-8.666152</td>\n",
              "      <td>-3.772255</td>\n",
              "      <td>-1.869879</td>\n",
              "    </tr>\n",
              "    <tr>\n",
              "      <th>50%</th>\n",
              "      <td>-0.446596</td>\n",
              "      <td>-0.503988</td>\n",
              "      <td>-1.662878</td>\n",
              "      <td>-1.322796</td>\n",
              "      <td>-6.168125</td>\n",
              "      <td>-8.976932</td>\n",
              "      <td>-2.460777</td>\n",
              "      <td>-1.990024</td>\n",
              "      <td>-1.145512</td>\n",
              "      <td>-2.445441</td>\n",
              "      <td>-8.277929</td>\n",
              "      <td>-3.770378</td>\n",
              "      <td>-1.784066</td>\n",
              "    </tr>\n",
              "    <tr>\n",
              "      <th>75%</th>\n",
              "      <td>-0.406611</td>\n",
              "      <td>-0.481806</td>\n",
              "      <td>-1.481154</td>\n",
              "      <td>-1.322796</td>\n",
              "      <td>0.608514</td>\n",
              "      <td>-8.160100</td>\n",
              "      <td>-2.440745</td>\n",
              "      <td>-1.509501</td>\n",
              "      <td>-0.893770</td>\n",
              "      <td>-2.433272</td>\n",
              "      <td>-8.050171</td>\n",
              "      <td>-3.769823</td>\n",
              "      <td>-1.675539</td>\n",
              "    </tr>\n",
              "    <tr>\n",
              "      <th>max</th>\n",
              "      <td>0.594817</td>\n",
              "      <td>-0.326528</td>\n",
              "      <td>-1.272853</td>\n",
              "      <td>15.903167</td>\n",
              "      <td>18.096614</td>\n",
              "      <td>-3.949586</td>\n",
              "      <td>-2.433169</td>\n",
              "      <td>-0.149364</td>\n",
              "      <td>-0.893770</td>\n",
              "      <td>-2.431643</td>\n",
              "      <td>-7.677477</td>\n",
              "      <td>-3.769739</td>\n",
              "      <td>-1.277858</td>\n",
              "    </tr>\n",
              "  </tbody>\n",
              "</table>\n",
              "</div>"
            ],
            "text/plain": [
              "               0           1           2   ...          10          11          12\n",
              "count  404.000000  404.000000  404.000000  ...  404.000000  404.000000  404.000000\n",
              "mean    -0.405785   -0.483615   -1.632315  ...   -8.407131   -3.774506   -1.758431\n",
              "std      0.108485    0.042178    0.147179  ...    0.455594    0.010652    0.138187\n",
              "min     -0.449678   -0.503988   -1.862320  ...   -9.623769   -3.814626   -1.968168\n",
              "25%     -0.448796   -0.503988   -1.761411  ...   -8.666152   -3.772255   -1.869879\n",
              "50%     -0.446596   -0.503988   -1.662878  ...   -8.277929   -3.770378   -1.784066\n",
              "75%     -0.406611   -0.481806   -1.481154  ...   -8.050171   -3.769823   -1.675539\n",
              "max      0.594817   -0.326528   -1.272853  ...   -7.677477   -3.769739   -1.277858\n",
              "\n",
              "[8 rows x 13 columns]"
            ]
          },
          "metadata": {
            "tags": []
          },
          "execution_count": 38
        }
      ]
    },
    {
      "cell_type": "markdown",
      "metadata": {
        "id": "yjDL4HjSx7ST"
      },
      "source": [
        "# Model and fit"
      ]
    },
    {
      "cell_type": "code",
      "metadata": {
        "id": "cda-cq3xzGba"
      },
      "source": [
        "model = tf.keras.models.Sequential()"
      ],
      "execution_count": 39,
      "outputs": []
    },
    {
      "cell_type": "code",
      "metadata": {
        "id": "9fOeuE0IfNh7",
        "colab": {
          "base_uri": "https://localhost:8080/"
        },
        "outputId": "c6b07f9e-3943-4490-f8df-5a21c8e25266"
      },
      "source": [
        "model.add(tf.keras.Input(shape=(13))) # input layer\n",
        "\n",
        "model.add(tf.keras.layers.Dense(64,activation='sigmoid')) # hidden layer = 기능 layer\n",
        "model.add(tf.keras.layers.Dense(64,activation='sigmoid')) # hidden layer = 기능 layer\n",
        "model.add(tf.keras.layers.Dense(64,activation='sigmoid')) # hidden layer = 기능 layer\n",
        "\n",
        "model.add(tf.keras.layers.Dense(1,)) # output layer\n",
        "\n",
        "model.compile(optimizer='sgd',loss='mse',metrics='mae')\n",
        "# MSE(평균제곱오차)가 추정정확도의 척도로 많이 사용되는 이유 \n",
        "# MAE - mean absolute error -   평균절대오차 "
      ],
      "execution_count": 40,
      "outputs": [
        {
          "output_type": "stream",
          "text": [
            "WARNING:tensorflow:Please add `keras.layers.InputLayer` instead of `keras.Input` to Sequential model. `keras.Input` is intended to be used by Functional model.\n"
          ],
          "name": "stdout"
        }
      ]
    },
    {
      "cell_type": "code",
      "metadata": {
        "colab": {
          "base_uri": "https://localhost:8080/",
          "height": 532
        },
        "id": "PG0pU8ZvqkLU",
        "outputId": "428f84b8-e301-4625-c7d9-96c186425bc4"
      },
      "source": [
        "tf.keras.utils.plot_model(model,show_shapes=True)"
      ],
      "execution_count": 41,
      "outputs": [
        {
          "output_type": "execute_result",
          "data": {
            "image/png": "[encoded data removed]",
            "text/plain": [
              "<IPython.core.display.Image object>"
            ]
          },
          "metadata": {
            "tags": []
          },
          "execution_count": 41
        }
      ]
    },
    {
      "cell_type": "code",
      "metadata": {
        "colab": {
          "base_uri": "https://localhost:8080/"
        },
        "id": "EZwCt6mjrEC0",
        "outputId": "93f1eecd-c44e-40b2-a50a-3fe71129def2"
      },
      "source": [
        "model.summary() # 결과 요약 "
      ],
      "execution_count": 42,
      "outputs": [
        {
          "output_type": "stream",
          "text": [
            "Model: \"sequential_2\"\n",
            "_________________________________________________________________\n",
            "Layer (type)                 Output Shape              Param #   \n",
            "=================================================================\n",
            "dense_14 (Dense)             (None, 64)                896       \n",
            "_________________________________________________________________\n",
            "dense_15 (Dense)             (None, 64)                4160      \n",
            "_________________________________________________________________\n",
            "dense_16 (Dense)             (None, 64)                4160      \n",
            "_________________________________________________________________\n",
            "dense_17 (Dense)             (None, 1)                 65        \n",
            "=================================================================\n",
            "Total params: 9,281\n",
            "Trainable params: 9,281\n",
            "Non-trainable params: 0\n",
            "_________________________________________________________________\n"
          ],
          "name": "stdout"
        }
      ]
    },
    {
      "cell_type": "code",
      "metadata": {
        "id": "6y8Q_yyRrO5y",
        "colab": {
          "base_uri": "https://localhost:8080/"
        },
        "outputId": "a30ca9c7-83d3-4f5c-8918-732de375d7c9"
      },
      "source": [
        "model.fit(x_train,y_train,epochs=100)"
      ],
      "execution_count": 43,
      "outputs": [
        {
          "output_type": "stream",
          "text": [
            "Epoch 1/100\n",
            "13/13 [==============================] - 0s 2ms/step - loss: 136.9537 - mae: 8.3046\n",
            "Epoch 2/100\n",
            "13/13 [==============================] - 0s 2ms/step - loss: 81.9281 - mae: 6.5226\n",
            "Epoch 3/100\n",
            "13/13 [==============================] - 0s 2ms/step - loss: 76.7892 - mae: 6.2296\n",
            "Epoch 4/100\n",
            "13/13 [==============================] - 0s 2ms/step - loss: 68.1648 - mae: 5.8869\n",
            "Epoch 5/100\n",
            "13/13 [==============================] - 0s 2ms/step - loss: 65.1903 - mae: 5.6650\n",
            "Epoch 6/100\n",
            "13/13 [==============================] - 0s 2ms/step - loss: 61.0528 - mae: 5.5402\n",
            "Epoch 7/100\n",
            "13/13 [==============================] - 0s 2ms/step - loss: 57.9512 - mae: 5.5090\n",
            "Epoch 8/100\n",
            "13/13 [==============================] - 0s 2ms/step - loss: 56.5522 - mae: 5.5220\n",
            "Epoch 9/100\n",
            "13/13 [==============================] - 0s 2ms/step - loss: 56.8481 - mae: 5.3972\n",
            "Epoch 10/100\n",
            "13/13 [==============================] - 0s 2ms/step - loss: 55.4616 - mae: 5.5785\n",
            "Epoch 11/100\n",
            "13/13 [==============================] - 0s 3ms/step - loss: 51.0347 - mae: 5.1629\n",
            "Epoch 12/100\n",
            "13/13 [==============================] - 0s 2ms/step - loss: 43.0682 - mae: 4.7337\n",
            "Epoch 13/100\n",
            "13/13 [==============================] - 0s 2ms/step - loss: 58.7714 - mae: 5.7286\n",
            "Epoch 14/100\n",
            "13/13 [==============================] - 0s 2ms/step - loss: 52.9638 - mae: 5.4669\n",
            "Epoch 15/100\n",
            "13/13 [==============================] - 0s 2ms/step - loss: 44.2125 - mae: 4.8881\n",
            "Epoch 16/100\n",
            "13/13 [==============================] - 0s 2ms/step - loss: 33.0345 - mae: 4.1694\n",
            "Epoch 17/100\n",
            "13/13 [==============================] - 0s 2ms/step - loss: 36.1613 - mae: 4.2064\n",
            "Epoch 18/100\n",
            "13/13 [==============================] - 0s 2ms/step - loss: 33.2744 - mae: 4.1105\n",
            "Epoch 19/100\n",
            "13/13 [==============================] - 0s 2ms/step - loss: 33.3962 - mae: 4.3130\n",
            "Epoch 20/100\n",
            "13/13 [==============================] - 0s 2ms/step - loss: 34.8464 - mae: 4.2467\n",
            "Epoch 21/100\n",
            "13/13 [==============================] - 0s 2ms/step - loss: 35.2036 - mae: 4.1637\n",
            "Epoch 22/100\n",
            "13/13 [==============================] - 0s 2ms/step - loss: 30.2640 - mae: 3.8269\n",
            "Epoch 23/100\n",
            "13/13 [==============================] - 0s 2ms/step - loss: 32.3753 - mae: 4.1238\n",
            "Epoch 24/100\n",
            "13/13 [==============================] - 0s 2ms/step - loss: 39.4740 - mae: 4.4858\n",
            "Epoch 25/100\n",
            "13/13 [==============================] - 0s 3ms/step - loss: 42.9488 - mae: 4.7340\n",
            "Epoch 26/100\n",
            "13/13 [==============================] - 0s 2ms/step - loss: 32.1250 - mae: 4.1182\n",
            "Epoch 27/100\n",
            "13/13 [==============================] - 0s 2ms/step - loss: 24.6854 - mae: 3.4735\n",
            "Epoch 28/100\n",
            "13/13 [==============================] - 0s 2ms/step - loss: 37.3018 - mae: 4.1773\n",
            "Epoch 29/100\n",
            "13/13 [==============================] - 0s 2ms/step - loss: 30.1408 - mae: 3.9784\n",
            "Epoch 30/100\n",
            "13/13 [==============================] - 0s 2ms/step - loss: 29.1725 - mae: 3.8803\n",
            "Epoch 31/100\n",
            "13/13 [==============================] - 0s 2ms/step - loss: 28.1159 - mae: 3.7870\n",
            "Epoch 32/100\n",
            "13/13 [==============================] - 0s 2ms/step - loss: 26.6392 - mae: 3.6959\n",
            "Epoch 33/100\n",
            "13/13 [==============================] - 0s 2ms/step - loss: 25.0744 - mae: 3.4855\n",
            "Epoch 34/100\n",
            "13/13 [==============================] - 0s 2ms/step - loss: 26.6354 - mae: 3.6168\n",
            "Epoch 35/100\n",
            "13/13 [==============================] - 0s 2ms/step - loss: 22.8857 - mae: 3.3932\n",
            "Epoch 36/100\n",
            "13/13 [==============================] - 0s 2ms/step - loss: 21.4693 - mae: 3.2789\n",
            "Epoch 37/100\n",
            "13/13 [==============================] - 0s 2ms/step - loss: 20.8521 - mae: 3.1619\n",
            "Epoch 38/100\n",
            "13/13 [==============================] - 0s 3ms/step - loss: 20.8382 - mae: 3.1691\n",
            "Epoch 39/100\n",
            "13/13 [==============================] - 0s 2ms/step - loss: 20.0336 - mae: 3.0672\n",
            "Epoch 40/100\n",
            "13/13 [==============================] - 0s 2ms/step - loss: 21.4706 - mae: 3.2943\n",
            "Epoch 41/100\n",
            "13/13 [==============================] - 0s 2ms/step - loss: 20.4422 - mae: 3.2376\n",
            "Epoch 42/100\n",
            "13/13 [==============================] - 0s 2ms/step - loss: 19.8653 - mae: 3.1029\n",
            "Epoch 43/100\n",
            "13/13 [==============================] - 0s 2ms/step - loss: 20.0955 - mae: 3.0881\n",
            "Epoch 44/100\n",
            "13/13 [==============================] - 0s 2ms/step - loss: 20.5245 - mae: 3.1802\n",
            "Epoch 45/100\n",
            "13/13 [==============================] - 0s 2ms/step - loss: 18.2432 - mae: 2.9555\n",
            "Epoch 46/100\n",
            "13/13 [==============================] - 0s 3ms/step - loss: 19.4370 - mae: 3.1084\n",
            "Epoch 47/100\n",
            "13/13 [==============================] - 0s 3ms/step - loss: 20.4986 - mae: 3.2021\n",
            "Epoch 48/100\n",
            "13/13 [==============================] - 0s 2ms/step - loss: 22.0384 - mae: 3.3786\n",
            "Epoch 49/100\n",
            "13/13 [==============================] - 0s 2ms/step - loss: 19.6474 - mae: 3.1672\n",
            "Epoch 50/100\n",
            "13/13 [==============================] - 0s 2ms/step - loss: 20.2259 - mae: 3.1673\n",
            "Epoch 51/100\n",
            "13/13 [==============================] - 0s 2ms/step - loss: 18.7168 - mae: 3.0211\n",
            "Epoch 52/100\n",
            "13/13 [==============================] - 0s 2ms/step - loss: 22.1090 - mae: 3.2624\n",
            "Epoch 53/100\n",
            "13/13 [==============================] - 0s 2ms/step - loss: 18.8936 - mae: 3.0311\n",
            "Epoch 54/100\n",
            "13/13 [==============================] - 0s 2ms/step - loss: 25.3938 - mae: 3.5865\n",
            "Epoch 55/100\n",
            "13/13 [==============================] - 0s 2ms/step - loss: 19.1578 - mae: 3.0847\n",
            "Epoch 56/100\n",
            "13/13 [==============================] - 0s 2ms/step - loss: 18.9059 - mae: 3.1216\n",
            "Epoch 57/100\n",
            "13/13 [==============================] - 0s 2ms/step - loss: 17.3946 - mae: 2.8943\n",
            "Epoch 58/100\n",
            "13/13 [==============================] - 0s 2ms/step - loss: 22.3225 - mae: 3.3438\n",
            "Epoch 59/100\n",
            "13/13 [==============================] - 0s 2ms/step - loss: 18.0523 - mae: 2.9553\n",
            "Epoch 60/100\n",
            "13/13 [==============================] - 0s 2ms/step - loss: 16.8317 - mae: 2.7784\n",
            "Epoch 61/100\n",
            "13/13 [==============================] - 0s 2ms/step - loss: 19.1957 - mae: 3.0472\n",
            "Epoch 62/100\n",
            "13/13 [==============================] - 0s 2ms/step - loss: 20.7742 - mae: 3.1884\n",
            "Epoch 63/100\n",
            "13/13 [==============================] - 0s 2ms/step - loss: 16.3390 - mae: 2.7655\n",
            "Epoch 64/100\n",
            "13/13 [==============================] - 0s 2ms/step - loss: 19.3374 - mae: 3.1119\n",
            "Epoch 65/100\n",
            "13/13 [==============================] - 0s 2ms/step - loss: 19.4855 - mae: 3.1031\n",
            "Epoch 66/100\n",
            "13/13 [==============================] - 0s 2ms/step - loss: 20.2525 - mae: 3.1280\n",
            "Epoch 67/100\n",
            "13/13 [==============================] - 0s 3ms/step - loss: 16.4242 - mae: 2.7958\n",
            "Epoch 68/100\n",
            "13/13 [==============================] - 0s 2ms/step - loss: 16.7002 - mae: 2.7769\n",
            "Epoch 69/100\n",
            "13/13 [==============================] - 0s 3ms/step - loss: 16.8477 - mae: 2.8052\n",
            "Epoch 70/100\n",
            "13/13 [==============================] - 0s 3ms/step - loss: 22.9201 - mae: 3.3249\n",
            "Epoch 71/100\n",
            "13/13 [==============================] - 0s 2ms/step - loss: 19.6394 - mae: 3.0840\n",
            "Epoch 72/100\n",
            "13/13 [==============================] - 0s 2ms/step - loss: 17.4924 - mae: 2.9709\n",
            "Epoch 73/100\n",
            "13/13 [==============================] - 0s 2ms/step - loss: 16.6121 - mae: 2.7848\n",
            "Epoch 74/100\n",
            "13/13 [==============================] - 0s 2ms/step - loss: 20.0292 - mae: 3.1166\n",
            "Epoch 75/100\n",
            "13/13 [==============================] - 0s 2ms/step - loss: 16.5233 - mae: 2.8197\n",
            "Epoch 76/100\n",
            "13/13 [==============================] - 0s 2ms/step - loss: 15.8191 - mae: 2.7210\n",
            "Epoch 77/100\n",
            "13/13 [==============================] - 0s 3ms/step - loss: 17.5778 - mae: 2.8696\n",
            "Epoch 78/100\n",
            "13/13 [==============================] - 0s 2ms/step - loss: 17.0437 - mae: 2.8303\n",
            "Epoch 79/100\n",
            "13/13 [==============================] - 0s 3ms/step - loss: 18.3096 - mae: 2.9528\n",
            "Epoch 80/100\n",
            "13/13 [==============================] - 0s 2ms/step - loss: 16.8569 - mae: 2.8797\n",
            "Epoch 81/100\n",
            "13/13 [==============================] - 0s 2ms/step - loss: 21.2066 - mae: 3.2427\n",
            "Epoch 82/100\n",
            "13/13 [==============================] - 0s 2ms/step - loss: 16.7690 - mae: 2.7975\n",
            "Epoch 83/100\n",
            "13/13 [==============================] - 0s 2ms/step - loss: 18.9076 - mae: 3.0390\n",
            "Epoch 84/100\n",
            "13/13 [==============================] - 0s 2ms/step - loss: 16.4300 - mae: 2.7966\n",
            "Epoch 85/100\n",
            "13/13 [==============================] - 0s 2ms/step - loss: 17.4260 - mae: 2.8787\n",
            "Epoch 86/100\n",
            "13/13 [==============================] - 0s 2ms/step - loss: 16.8834 - mae: 2.8817\n",
            "Epoch 87/100\n",
            "13/13 [==============================] - 0s 2ms/step - loss: 20.0269 - mae: 3.1860\n",
            "Epoch 88/100\n",
            "13/13 [==============================] - 0s 2ms/step - loss: 16.7148 - mae: 2.8319\n",
            "Epoch 89/100\n",
            "13/13 [==============================] - 0s 2ms/step - loss: 16.7384 - mae: 2.7816\n",
            "Epoch 90/100\n",
            "13/13 [==============================] - 0s 2ms/step - loss: 16.2494 - mae: 2.7483\n",
            "Epoch 91/100\n",
            "13/13 [==============================] - 0s 2ms/step - loss: 16.1078 - mae: 2.7224\n",
            "Epoch 92/100\n",
            "13/13 [==============================] - 0s 2ms/step - loss: 15.8670 - mae: 2.7029\n",
            "Epoch 93/100\n",
            "13/13 [==============================] - 0s 2ms/step - loss: 15.6603 - mae: 2.6541\n",
            "Epoch 94/100\n",
            "13/13 [==============================] - 0s 2ms/step - loss: 16.5640 - mae: 2.8625\n",
            "Epoch 95/100\n",
            "13/13 [==============================] - 0s 2ms/step - loss: 16.8622 - mae: 2.8314\n",
            "Epoch 96/100\n",
            "13/13 [==============================] - 0s 2ms/step - loss: 15.6922 - mae: 2.6801\n",
            "Epoch 97/100\n",
            "13/13 [==============================] - 0s 2ms/step - loss: 17.0466 - mae: 2.8561\n",
            "Epoch 98/100\n",
            "13/13 [==============================] - 0s 3ms/step - loss: 16.6885 - mae: 2.8394\n",
            "Epoch 99/100\n",
            "13/13 [==============================] - 0s 2ms/step - loss: 18.4832 - mae: 2.9706\n",
            "Epoch 100/100\n",
            "13/13 [==============================] - 0s 2ms/step - loss: 15.7499 - mae: 2.7133\n"
          ],
          "name": "stdout"
        },
        {
          "output_type": "execute_result",
          "data": {
            "text/plain": [
              "<tensorflow.python.keras.callbacks.History at 0x7f9ebcc40410>"
            ]
          },
          "metadata": {
            "tags": []
          },
          "execution_count": 43
        }
      ]
    },
    {
      "cell_type": "markdown",
      "metadata": {
        "id": "3fVxA-_XwgM6"
      },
      "source": [
        "# Evaluation"
      ]
    },
    {
      "cell_type": "code",
      "metadata": {
        "id": "PZxWIqUhtrew",
        "colab": {
          "base_uri": "https://localhost:8080/"
        },
        "outputId": "c5023cda-c8ed-4eb3-a561-bbd747c92a91"
      },
      "source": [
        "model.evaluate(x_train,y_train)"
      ],
      "execution_count": 44,
      "outputs": [
        {
          "output_type": "stream",
          "text": [
            "13/13 [==============================] - 0s 1ms/step - loss: 15.5009 - mae: 2.6761\n"
          ],
          "name": "stdout"
        },
        {
          "output_type": "execute_result",
          "data": {
            "text/plain": [
              "[15.500893592834473, 2.6761088371276855]"
            ]
          },
          "metadata": {
            "tags": []
          },
          "execution_count": 44
        }
      ]
    },
    {
      "cell_type": "markdown",
      "metadata": {
        "id": "ornncgG2wov4"
      },
      "source": [
        "# Service"
      ]
    },
    {
      "cell_type": "code",
      "metadata": {
        "colab": {
          "base_uri": "https://localhost:8080/"
        },
        "id": "Xaf6lOclxBpX",
        "outputId": "4f076b64-46d2-4f87-80a2-8e16be62e886"
      },
      "source": [
        "x_train[10] , x_test.shape"
      ],
      "execution_count": 49,
      "outputs": [
        {
          "output_type": "execute_result",
          "data": {
            "text/plain": [
              "(array([-0.33710002, -0.50398828, -1.48115445, -1.32279581,  5.1262729 ,\n",
              "        -8.56801832, -2.43316853, -2.35565036, -0.89377027, -2.43327233,\n",
              "        -8.05017099, -3.77209189, -1.61425073]), (102, 13))"
            ]
          },
          "metadata": {
            "tags": []
          },
          "execution_count": 49
        }
      ]
    },
    {
      "cell_type": "code",
      "metadata": {
        "id": "Bu5qSSE6wqqM",
        "colab": {
          "base_uri": "https://localhost:8080/"
        },
        "outputId": "0cfb1d8e-2de9-47cc-8d0a-52e0bf66d9f7"
      },
      "source": [
        "model.predict([[-0.33710002, -0.50398828, -1.48115445, -1.32279581,  5.1262729 ,\n",
        "        -8.56801832, -2.43316853, -2.35565036, -0.89377027, -2.43327233,\n",
        "        -8.05017099, -3.77209189, -1.61425073]])"
      ],
      "execution_count": 50,
      "outputs": [
        {
          "output_type": "execute_result",
          "data": {
            "text/plain": [
              "array([[12.392696]], dtype=float32)"
            ]
          },
          "metadata": {
            "tags": []
          },
          "execution_count": 50
        }
      ]
    },
    {
      "cell_type": "code",
      "metadata": {
        "colab": {
          "base_uri": "https://localhost:8080/"
        },
        "id": "TEcfoR9s5bh-",
        "outputId": "79e90bcb-4467-41d6-d828-1f3a4fc57b4e"
      },
      "source": [
        "y_train[10]"
      ],
      "execution_count": 51,
      "outputs": [
        {
          "output_type": "execute_result",
          "data": {
            "text/plain": [
              "12.1"
            ]
          },
          "metadata": {
            "tags": []
          },
          "execution_count": 51
        }
      ]
    },
    {
      "cell_type": "code",
      "metadata": {
        "id": "EV2qZyEV5m3G"
      },
      "source": [
        ""
      ],
      "execution_count": null,
      "outputs": []
    }
  ]
}