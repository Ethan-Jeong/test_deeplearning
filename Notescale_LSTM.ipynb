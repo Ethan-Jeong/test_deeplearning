{
  "nbformat": 4,
  "nbformat_minor": 0,
  "metadata": {
    "colab": {
      "name": "Notescale_LSTM.ipynb",
      "provenance": [],
      "collapsed_sections": [],
      "authorship_tag": "ABX9TyOSBYDoH+M/O/V+Uz2nKU6d",
      "include_colab_link": true
    },
    "kernelspec": {
      "name": "python3",
      "display_name": "Python 3"
    },
    "language_info": {
      "name": "python"
    }
  },
  "cells": [
    {
      "cell_type": "markdown",
      "metadata": {
        "id": "view-in-github",
        "colab_type": "text"
      },
      "source": [
        "<a href=\"https://colab.research.google.com/github/Ethan-Jeong/test_deeplearning/blob/master/Notescale_LSTM.ipynb\" target=\"_parent\"><img src=\"https://colab.research.google.com/assets/colab-badge.svg\" alt=\"Open In Colab\"/></a>"
      ]
    },
    {
      "cell_type": "code",
      "metadata": {
        "id": "rOJt_P6QlDxn"
      },
      "source": [
        "note_seq = ['g8', 'e8', 'e4', 'f8', 'd8', 'd4', 'c8', 'd8', 'e8', 'f8', 'g8', 'g8', 'g4',\n",
        "       'g8', 'e8', 'e8', 'e8', 'f8', 'd8', 'd4', 'c8', 'e8', 'g8', 'g8', 'e8', 'e8', 'e4',\n",
        "       'd8', 'd8', 'd8', 'd8', 'd8', 'e8', 'f4', 'e8', 'e8', 'e8', 'e8', 'e8', 'f8', 'g4',\n",
        "       'g8', 'e8', 'e4', 'f8', 'd8', 'd4', 'c8', 'e8', 'g8', 'g8', 'e8', 'e8', 'e4']\n"
      ],
      "execution_count": 1,
      "outputs": []
    },
    {
      "cell_type": "code",
      "metadata": {
        "id": "EG14GcN7lgqM"
      },
      "source": [
        "code2idx = {'c4':0, 'd4':1, 'e4':2, 'f4':3, 'g4':4, 'a4':5, 'b4':6,\n",
        "            'c8':7, 'd8':8, 'e8':9, 'f8':10, 'g8':11, 'a8':12, 'b8':13}\n"
      ],
      "execution_count": 2,
      "outputs": []
    },
    {
      "cell_type": "code",
      "metadata": {
        "colab": {
          "base_uri": "https://localhost:8080/"
        },
        "id": "2wPpXaD5n9Xx",
        "outputId": "e66d7336-3202-4ffb-ffc3-9d40c60d9714"
      },
      "source": [
        "note_seq[0:4] , note_seq[1:5] , note_seq[2:6]"
      ],
      "execution_count": 3,
      "outputs": [
        {
          "output_type": "execute_result",
          "data": {
            "text/plain": [
              "(['g8', 'e8', 'e4', 'f8'], ['e8', 'e4', 'f8', 'd8'], ['e4', 'f8', 'd8', 'd4'])"
            ]
          },
          "metadata": {
            "tags": []
          },
          "execution_count": 3
        }
      ]
    },
    {
      "cell_type": "code",
      "metadata": {
        "colab": {
          "base_uri": "https://localhost:8080/"
        },
        "id": "NG7znVTWliAE",
        "outputId": "43a6e271-c33a-4ff4-85c0-9abf5a50d089"
      },
      "source": [
        "dataset = list()\n",
        "\n",
        "for i in range(len(note_seq)-4):\n",
        "  subnet = note_seq[i:i+4]\n",
        "  items = list()\n",
        "  # print(subnet)\n",
        "  for item in subnet:\n",
        "    # print(code2idx[item])\n",
        "    items.append(code2idx[item])\n",
        "  # print(items)\n",
        "  dataset.append(items)\n",
        "print(dataset)"
      ],
      "execution_count": 4,
      "outputs": [
        {
          "output_type": "stream",
          "text": [
            "[[11, 9, 2, 10], [9, 2, 10, 8], [2, 10, 8, 1], [10, 8, 1, 7], [8, 1, 7, 8], [1, 7, 8, 9], [7, 8, 9, 10], [8, 9, 10, 11], [9, 10, 11, 11], [10, 11, 11, 4], [11, 11, 4, 11], [11, 4, 11, 9], [4, 11, 9, 9], [11, 9, 9, 9], [9, 9, 9, 10], [9, 9, 10, 8], [9, 10, 8, 1], [10, 8, 1, 7], [8, 1, 7, 9], [1, 7, 9, 11], [7, 9, 11, 11], [9, 11, 11, 9], [11, 11, 9, 9], [11, 9, 9, 2], [9, 9, 2, 8], [9, 2, 8, 8], [2, 8, 8, 8], [8, 8, 8, 8], [8, 8, 8, 8], [8, 8, 8, 9], [8, 8, 9, 3], [8, 9, 3, 9], [9, 3, 9, 9], [3, 9, 9, 9], [9, 9, 9, 9], [9, 9, 9, 9], [9, 9, 9, 10], [9, 9, 10, 4], [9, 10, 4, 11], [10, 4, 11, 9], [4, 11, 9, 2], [11, 9, 2, 10], [9, 2, 10, 8], [2, 10, 8, 1], [10, 8, 1, 7], [8, 1, 7, 9], [1, 7, 9, 11], [7, 9, 11, 11], [9, 11, 11, 9], [11, 11, 9, 9]]\n"
          ],
          "name": "stdout"
        }
      ]
    },
    {
      "cell_type": "code",
      "metadata": {
        "id": "H6E65Nu7Vz89"
      },
      "source": [
        "import numpy as np"
      ],
      "execution_count": 5,
      "outputs": []
    },
    {
      "cell_type": "code",
      "metadata": {
        "id": "q8PE-1FyV4bG"
      },
      "source": [
        "datasets = np.array(dataset)"
      ],
      "execution_count": 6,
      "outputs": []
    },
    {
      "cell_type": "code",
      "metadata": {
        "id": "sWmGwW3BnZcI",
        "colab": {
          "base_uri": "https://localhost:8080/"
        },
        "outputId": "80f432f5-55f7-43e1-bfac-e1a40db04cf1"
      },
      "source": [
        "x_train = datasets[:,0:3]\n",
        "x_train.shape"
      ],
      "execution_count": 7,
      "outputs": [
        {
          "output_type": "execute_result",
          "data": {
            "text/plain": [
              "(50, 3)"
            ]
          },
          "metadata": {
            "tags": []
          },
          "execution_count": 7
        }
      ]
    },
    {
      "cell_type": "code",
      "metadata": {
        "colab": {
          "base_uri": "https://localhost:8080/"
        },
        "id": "FUMKR5X4VxAW",
        "outputId": "7b90ab33-fa9d-4ec1-ee93-eb9de6a36c20"
      },
      "source": [
        "y_train = datasets[:,3]\n",
        "y_train.shape"
      ],
      "execution_count": 8,
      "outputs": [
        {
          "output_type": "execute_result",
          "data": {
            "text/plain": [
              "(50,)"
            ]
          },
          "metadata": {
            "tags": []
          },
          "execution_count": 8
        }
      ]
    },
    {
      "cell_type": "code",
      "metadata": {
        "colab": {
          "base_uri": "https://localhost:8080/"
        },
        "id": "fCIYxntLXSE0",
        "outputId": "88d377c8-5d15-4a76-bfbc-088f39c6c113"
      },
      "source": [
        "len(code2idx)"
      ],
      "execution_count": 9,
      "outputs": [
        {
          "output_type": "execute_result",
          "data": {
            "text/plain": [
              "14"
            ]
          },
          "metadata": {
            "tags": []
          },
          "execution_count": 9
        }
      ]
    },
    {
      "cell_type": "code",
      "metadata": {
        "colab": {
          "base_uri": "https://localhost:8080/"
        },
        "id": "2OCljRtDWO3p",
        "outputId": "5e402c7e-193a-481b-e9e1-8d81d445268b"
      },
      "source": [
        "x_train = x_train / 13 # len(code2idx)\n",
        "x_train[3]"
      ],
      "execution_count": 10,
      "outputs": [
        {
          "output_type": "execute_result",
          "data": {
            "text/plain": [
              "array([0.76923077, 0.61538462, 0.07692308])"
            ]
          },
          "metadata": {
            "tags": []
          },
          "execution_count": 10
        }
      ]
    },
    {
      "cell_type": "markdown",
      "metadata": {
        "id": "J2DznH0uXmJ6"
      },
      "source": [
        "# make model"
      ]
    },
    {
      "cell_type": "code",
      "metadata": {
        "id": "tLPsuPyxXctl"
      },
      "source": [
        "import tensorflow as tf"
      ],
      "execution_count": 11,
      "outputs": []
    },
    {
      "cell_type": "code",
      "metadata": {
        "colab": {
          "base_uri": "https://localhost:8080/"
        },
        "id": "WJ48B2G6ZCIS",
        "outputId": "2e195918-cb78-4ed4-94a3-ab4de24b8438"
      },
      "source": [
        "x_train.shape , x_train[2] # --> tensorflow type(tensor) ( 50 , 3 ,1 )"
      ],
      "execution_count": 12,
      "outputs": [
        {
          "output_type": "execute_result",
          "data": {
            "text/plain": [
              "((50, 3), array([0.15384615, 0.76923077, 0.61538462]))"
            ]
          },
          "metadata": {
            "tags": []
          },
          "execution_count": 12
        }
      ]
    },
    {
      "cell_type": "code",
      "metadata": {
        "colab": {
          "base_uri": "https://localhost:8080/"
        },
        "id": "cQuHc4CReCW0",
        "outputId": "c79d1391-8420-48c9-c36b-abc526f76ad7"
      },
      "source": [
        "X_train = np.reshape(x_train,(50,3,1))\n",
        "X_train.shape , X_train[2]"
      ],
      "execution_count": 13,
      "outputs": [
        {
          "output_type": "execute_result",
          "data": {
            "text/plain": [
              "((50, 3, 1), array([[0.15384615],\n",
              "        [0.76923077],\n",
              "        [0.61538462]]))"
            ]
          },
          "metadata": {
            "tags": []
          },
          "execution_count": 13
        }
      ]
    },
    {
      "cell_type": "code",
      "metadata": {
        "colab": {
          "base_uri": "https://localhost:8080/"
        },
        "id": "HfinDDIiglVR",
        "outputId": "5240da30-35de-4600-eb60-bbc3e8b55e50"
      },
      "source": [
        "np.unique(y_train) , len(np.unique(y_train))"
      ],
      "execution_count": 14,
      "outputs": [
        {
          "output_type": "execute_result",
          "data": {
            "text/plain": [
              "(array([ 1,  2,  3,  4,  7,  8,  9, 10, 11]), 9)"
            ]
          },
          "metadata": {
            "tags": []
          },
          "execution_count": 14
        }
      ]
    },
    {
      "cell_type": "code",
      "metadata": {
        "colab": {
          "base_uri": "https://localhost:8080/"
        },
        "id": "5C1ynKh5X0n1",
        "outputId": "730a5c1b-68ac-48cb-9e41-6a0b04fa2f49"
      },
      "source": [
        "model = tf.keras.models.Sequential()\n",
        "\n",
        " # ( batch_sieze , timesteps , input_dim ) -> ( rows , cols , 1 )\n",
        "model.add(tf.keras.Input(shape=(3,1)))\n",
        "model.add( tf.keras.layers.LSTM(128)) # input layer and hidden layer\n",
        "model.add( tf.keras.layers.Dense( 13 , activation='softmax' )) # ouput layer\n",
        "\n",
        "\n",
        "model.compile(optimizer='adam',loss='sparse_categorical_crossentropy',metrics='accuracy' ) # gadget"
      ],
      "execution_count": 19,
      "outputs": [
        {
          "output_type": "stream",
          "text": [
            "WARNING:tensorflow:Please add `keras.layers.InputLayer` instead of `keras.Input` to Sequential model. `keras.Input` is intended to be used by Functional model.\n"
          ],
          "name": "stdout"
        }
      ]
    },
    {
      "cell_type": "code",
      "metadata": {
        "id": "vIAb0VRkinDH"
      },
      "source": [
        "hist = model.fit(X_train,y_train,epochs=500,batch_size=10) # 속도를 빠르게 하기 위해서 batch_size 를 올려주면 된다."
      ],
      "execution_count": null,
      "outputs": []
    },
    {
      "cell_type": "code",
      "metadata": {
        "colab": {
          "base_uri": "https://localhost:8080/"
        },
        "id": "G7BlZ90wiyIA",
        "outputId": "aab2b747-291a-4e84-d104-bdb85112a12e"
      },
      "source": [
        "model.evaluate(X_train,y_train)"
      ],
      "execution_count": 31,
      "outputs": [
        {
          "output_type": "stream",
          "text": [
            "2/2 [==============================] - 0s 8ms/step - loss: 1.2122 - accuracy: 0.4800\n"
          ],
          "name": "stdout"
        },
        {
          "output_type": "execute_result",
          "data": {
            "text/plain": [
              "[1.2121559381484985, 0.47999998927116394]"
            ]
          },
          "metadata": {
            "tags": []
          },
          "execution_count": 31
        }
      ]
    },
    {
      "cell_type": "code",
      "metadata": {
        "colab": {
          "base_uri": "https://localhost:8080/"
        },
        "id": "p3kfrx_ArXUr",
        "outputId": "4cceeb87-2525-4b88-f6c9-e65c67c957f4"
      },
      "source": [
        "X_train[0:1]"
      ],
      "execution_count": 26,
      "outputs": [
        {
          "output_type": "execute_result",
          "data": {
            "text/plain": [
              "array([[[0.84615385],\n",
              "        [0.69230769],\n",
              "        [0.15384615]]])"
            ]
          },
          "metadata": {
            "tags": []
          },
          "execution_count": 26
        }
      ]
    },
    {
      "cell_type": "code",
      "metadata": {
        "colab": {
          "base_uri": "https://localhost:8080/"
        },
        "id": "YspDLMmhrSTU",
        "outputId": "a6c58212-7a74-4d34-893d-ecbba73cfcec"
      },
      "source": [
        "model.predict(X_train[0:1])"
      ],
      "execution_count": 33,
      "outputs": [
        {
          "output_type": "execute_result",
          "data": {
            "text/plain": [
              "array([[1.3730554e-06, 2.3510505e-03, 3.8305499e-02, 2.9100926e-04,\n",
              "        1.3261532e-03, 1.3425284e-06, 9.7670375e-07, 2.7535824e-02,\n",
              "        2.2069449e-02, 8.1911862e-02, 8.1404173e-01, 1.2163369e-02,\n",
              "        3.7035161e-07]], dtype=float32)"
            ]
          },
          "metadata": {
            "tags": []
          },
          "execution_count": 33
        }
      ]
    },
    {
      "cell_type": "code",
      "metadata": {
        "id": "Tn_8644aspUl"
      },
      "source": [
        "pred = model.predict(X_train[0:1])"
      ],
      "execution_count": 34,
      "outputs": []
    },
    {
      "cell_type": "code",
      "metadata": {
        "id": "v6cV6ssEtVzU"
      },
      "source": [
        ""
      ],
      "execution_count": null,
      "outputs": []
    },
    {
      "cell_type": "code",
      "metadata": {
        "colab": {
          "base_uri": "https://localhost:8080/"
        },
        "id": "bKB60qdHs4Ef",
        "outputId": "fb1a60f9-9906-40e1-d3ca-474f8f9a5b3a"
      },
      "source": [
        "np.argmax(pred)"
      ],
      "execution_count": 35,
      "outputs": [
        {
          "output_type": "execute_result",
          "data": {
            "text/plain": [
              "10"
            ]
          },
          "metadata": {
            "tags": []
          },
          "execution_count": 35
        }
      ]
    },
    {
      "cell_type": "code",
      "metadata": {
        "id": "D6aJn_tgs6mw"
      },
      "source": [
        "code2idx = {'c4':0, 'd4':1, 'e4':2, 'f4':3, 'g4':4, 'a4':5, 'b4':6,\n",
        "            'c8':7, 'd8':8, 'e8':9, 'f8':10, 'g8':11, 'a8':12, 'b8':13}"
      ],
      "execution_count": null,
      "outputs": []
    },
    {
      "cell_type": "code",
      "metadata": {
        "id": "xGOuXemUtgcT"
      },
      "source": [
        "note_seq = ['g8', 'e8', 'e4', 'f8', 'd8', 'd4', 'c8', 'd8', 'e8', 'f8', 'g8', 'g8', 'g4',\n",
        "       'g8', 'e8', 'e8', 'e8', 'f8', 'd8', 'd4', 'c8', 'e8', 'g8', 'g8', 'e8', 'e8', 'e4',\n",
        "       'd8', 'd8', 'd8', 'd8', 'd8', 'e8', 'f4', 'e8', 'e8', 'e8', 'e8', 'e8', 'f8', 'g4',\n",
        "       'g8', 'e8', 'e4', 'f8', 'd8', 'd4', 'c8', 'e8', 'g8', 'g8', 'e8', 'e8', 'e4']"
      ],
      "execution_count": null,
      "outputs": []
    }
  ]
}