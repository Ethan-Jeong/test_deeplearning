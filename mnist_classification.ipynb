{
  "nbformat": 4,
  "nbformat_minor": 0,
  "metadata": {
    "colab": {
      "name": "mnist_classification.ipynb",
      "provenance": [],
      "collapsed_sections": [],
      "authorship_tag": "ABX9TyOxnrD3pvig59C2Xs0ZRzKk",
      "include_colab_link": true
    },
    "kernelspec": {
      "name": "python3",
      "display_name": "Python 3"
    },
    "language_info": {
      "name": "python"
    }
  },
  "cells": [
    {
      "cell_type": "markdown",
      "metadata": {
        "id": "view-in-github",
        "colab_type": "text"
      },
      "source": [
        "<a href=\"https://colab.research.google.com/github/Ethan-Jeong/test_deeplearning/blob/master/mnist_classification.ipynb\" target=\"_parent\"><img src=\"https://colab.research.google.com/assets/colab-badge.svg\" alt=\"Open In Colab\"/></a>"
      ]
    },
    {
      "cell_type": "code",
      "metadata": {
        "id": "iEXInXremikG"
      },
      "source": [
        "from tensorflow.keras.datasets.mnist import load_data"
      ],
      "execution_count": 2,
      "outputs": []
    },
    {
      "cell_type": "code",
      "metadata": {
        "colab": {
          "base_uri": "https://localhost:8080/"
        },
        "id": "jjH7XRIzmqjz",
        "outputId": "8f0a3e29-96b6-41c8-9903-a42f95ec4d24"
      },
      "source": [
        "( x_train,y_train) , ( x_test,y_test ) = load_data(path='mnist.npz')\n",
        "x_train.shape,y_train.shape,x_test.shape,y_test.shape"
      ],
      "execution_count": 3,
      "outputs": [
        {
          "output_type": "stream",
          "text": [
            "Downloading data from https://storage.googleapis.com/tensorflow/tf-keras-datasets/mnist.npz\n",
            "11493376/11490434 [==============================] - 0s 0us/step\n"
          ],
          "name": "stdout"
        },
        {
          "output_type": "execute_result",
          "data": {
            "text/plain": [
              "((60000, 28, 28), (60000,), (10000, 28, 28), (10000,))"
            ]
          },
          "metadata": {
            "tags": []
          },
          "execution_count": 3
        }
      ]
    },
    {
      "cell_type": "code",
      "metadata": {
        "id": "fxskMI62sITO"
      },
      "source": [
        "# y_train[4] , x_train[4]\n",
        "y_train[50000],x_train[50000]"
      ],
      "execution_count": null,
      "outputs": []
    },
    {
      "cell_type": "code",
      "metadata": {
        "colab": {
          "base_uri": "https://localhost:8080/",
          "height": 283
        },
        "id": "1w5hOHa7qo3f",
        "outputId": "f26cbc37-7cc1-4919-f042-30e49f7b1940"
      },
      "source": [
        "import matplotlib.pyplot as plt\n",
        "\n",
        "plt.imshow(x_train[50000])\n",
        "print(y_train[50000],type(y_train[50000]))"
      ],
      "execution_count": 10,
      "outputs": [
        {
          "output_type": "stream",
          "text": [
            "3 <class 'numpy.uint8'>\n"
          ],
          "name": "stdout"
        },
        {
          "output_type": "display_data",
          "data": {
            "image/png": "[encoded data removed]",
            "text/plain": [
              "<Figure size 432x288 with 1 Axes>"
            ]
          },
          "metadata": {
            "tags": [],
            "needs_background": "light"
          }
        }
      ]
    },
    {
      "cell_type": "code",
      "metadata": {
        "colab": {
          "base_uri": "https://localhost:8080/"
        },
        "id": "W80NezFStDAC",
        "outputId": "83cb25f4-4b0c-4daa-d391-6b5ebd80f7ca"
      },
      "source": [
        "x_train = x_train.reshape(-1,28*28)\n",
        "x_train.shape"
      ],
      "execution_count": 13,
      "outputs": [
        {
          "output_type": "execute_result",
          "data": {
            "text/plain": [
              "(60000, 784)"
            ]
          },
          "metadata": {
            "tags": []
          },
          "execution_count": 13
        }
      ]
    },
    {
      "cell_type": "code",
      "metadata": {
        "colab": {
          "base_uri": "https://localhost:8080/"
        },
        "id": "uMFT6Wm3upyV",
        "outputId": "b5692b67-b2d9-4956-91bf-7d479a8bbe61"
      },
      "source": [
        "x_test = x_test.reshape(-1,28*28)\n",
        "x_test.shape"
      ],
      "execution_count": 14,
      "outputs": [
        {
          "output_type": "execute_result",
          "data": {
            "text/plain": [
              "(10000, 784)"
            ]
          },
          "metadata": {
            "tags": []
          },
          "execution_count": 14
        }
      ]
    },
    {
      "cell_type": "code",
      "metadata": {
        "colab": {
          "base_uri": "https://localhost:8080/"
        },
        "id": "UnB9mHSZvQ4f",
        "outputId": "caf3d617-6a32-465e-d0e1-27efefb723a5"
      },
      "source": [
        "y_train[2:10] , y_train.shape "
      ],
      "execution_count": 15,
      "outputs": [
        {
          "output_type": "execute_result",
          "data": {
            "text/plain": [
              "(array([4, 1, 9, 2, 1, 3, 1, 4], dtype=uint8), (60000,))"
            ]
          },
          "metadata": {
            "tags": []
          },
          "execution_count": 15
        }
      ]
    },
    {
      "cell_type": "markdown",
      "metadata": {
        "id": "_D4UuukBwJzW"
      },
      "source": [
        "#apply model"
      ]
    },
    {
      "cell_type": "markdown",
      "metadata": {
        "id": "UeHwkFQNwwKD"
      },
      "source": [
        ""
      ]
    },
    {
      "cell_type": "code",
      "metadata": {
        "id": "mJNvIB8LvwOs"
      },
      "source": [
        "import tensorflow as tf"
      ],
      "execution_count": 16,
      "outputs": []
    },
    {
      "cell_type": "code",
      "metadata": {
        "colab": {
          "base_uri": "https://localhost:8080/"
        },
        "id": "nDz97FGTwOOr",
        "outputId": "ef23452b-4139-41a5-fba7-210c03233941"
      },
      "source": [
        "model = tf.keras.models.Sequential()\n",
        "\n",
        "model.add(tf.keras.Input(shape=(784,))) # input layer\n",
        "\n",
        "model.add(tf.keras.layers.Dense(10,activation='relu')) # hidden layer\n",
        "model.add(tf.keras.layers.Dense(10,activation='relu')) # hidden layer\n",
        "\n",
        "# 세개 이상 --> softmax ,  binary --> sigmoid\n",
        "model.add(tf.keras.layers.Dense(10,activation='softmax')) # output layer\n",
        "\n",
        "# regression --> loss : mse\n",
        "# binary classification --> loss : binary crossentropy \n",
        "# over 3 classification --> loss : categorical crossentropy(sparse_categorical_crossentropy)\n",
        "# 참고 자료 : https://gomguard.tistory.com/187\n",
        "\n",
        "model.compile(optimizer='adam',loss='sparse_categorical_crossentropy',metrics=['acc'])"
      ],
      "execution_count": 21,
      "outputs": [
        {
          "output_type": "stream",
          "text": [
            "WARNING:tensorflow:Please add `keras.layers.InputLayer` instead of `keras.Input` to Sequential model. `keras.Input` is intended to be used by Functional model.\n"
          ],
          "name": "stdout"
        }
      ]
    },
    {
      "cell_type": "code",
      "metadata": {
        "colab": {
          "base_uri": "https://localhost:8080/"
        },
        "id": "BJZkWxv9-6cW",
        "outputId": "a9558138-cfea-4162-f02a-a89c5399a1a6"
      },
      "source": [
        "hist = model.fit(x_train,y_train,epochs=100,validation_split=0.3)"
      ],
      "execution_count": 22,
      "outputs": [
        {
          "output_type": "stream",
          "text": [
            "Epoch 1/100\n",
            "1313/1313 [==============================] - 3s 2ms/step - loss: 2.3971 - acc: 0.1942 - val_loss: 1.9445 - val_acc: 0.2676\n",
            "Epoch 2/100\n",
            "1313/1313 [==============================] - 3s 2ms/step - loss: 1.7844 - acc: 0.3346 - val_loss: 1.5341 - val_acc: 0.4468\n",
            "Epoch 3/100\n",
            "1313/1313 [==============================] - 3s 2ms/step - loss: 1.4193 - acc: 0.5126 - val_loss: 1.2609 - val_acc: 0.5827\n",
            "Epoch 4/100\n",
            "1313/1313 [==============================] - 3s 2ms/step - loss: 1.1557 - acc: 0.6086 - val_loss: 1.0618 - val_acc: 0.6265\n",
            "Epoch 5/100\n",
            "1313/1313 [==============================] - 3s 2ms/step - loss: 0.9867 - acc: 0.6663 - val_loss: 0.8563 - val_acc: 0.7082\n",
            "Epoch 6/100\n",
            "1313/1313 [==============================] - 3s 2ms/step - loss: 0.8176 - acc: 0.7388 - val_loss: 0.7837 - val_acc: 0.7407\n",
            "Epoch 7/100\n",
            "1313/1313 [==============================] - 3s 2ms/step - loss: 0.7569 - acc: 0.7618 - val_loss: 0.7081 - val_acc: 0.7751\n",
            "Epoch 8/100\n",
            "1313/1313 [==============================] - 3s 2ms/step - loss: 0.7312 - acc: 0.7684 - val_loss: 0.7289 - val_acc: 0.7704\n",
            "Epoch 9/100\n",
            "1313/1313 [==============================] - 3s 2ms/step - loss: 0.7241 - acc: 0.7703 - val_loss: 0.7416 - val_acc: 0.7552\n",
            "Epoch 10/100\n",
            "1313/1313 [==============================] - 3s 2ms/step - loss: 0.7052 - acc: 0.7772 - val_loss: 0.7269 - val_acc: 0.7682\n",
            "Epoch 11/100\n",
            "1313/1313 [==============================] - 3s 2ms/step - loss: 0.7006 - acc: 0.7781 - val_loss: 0.7306 - val_acc: 0.7624\n",
            "Epoch 12/100\n",
            "1313/1313 [==============================] - 3s 2ms/step - loss: 0.6989 - acc: 0.7776 - val_loss: 0.7199 - val_acc: 0.7723\n",
            "Epoch 13/100\n",
            "1313/1313 [==============================] - 3s 2ms/step - loss: 0.6954 - acc: 0.7805 - val_loss: 0.6953 - val_acc: 0.7827\n",
            "Epoch 14/100\n",
            "1313/1313 [==============================] - 3s 2ms/step - loss: 0.6909 - acc: 0.7803 - val_loss: 0.6967 - val_acc: 0.7797\n",
            "Epoch 15/100\n",
            "1313/1313 [==============================] - 3s 2ms/step - loss: 0.6855 - acc: 0.7823 - val_loss: 0.6706 - val_acc: 0.7887\n",
            "Epoch 16/100\n",
            "1313/1313 [==============================] - 3s 2ms/step - loss: 0.6830 - acc: 0.7834 - val_loss: 0.6640 - val_acc: 0.7928\n",
            "Epoch 17/100\n",
            "1313/1313 [==============================] - 3s 2ms/step - loss: 0.6778 - acc: 0.7853 - val_loss: 0.6948 - val_acc: 0.7787\n",
            "Epoch 18/100\n",
            "1313/1313 [==============================] - 3s 2ms/step - loss: 0.6740 - acc: 0.7858 - val_loss: 0.6846 - val_acc: 0.7877\n",
            "Epoch 19/100\n",
            "1313/1313 [==============================] - 3s 2ms/step - loss: 0.6726 - acc: 0.7865 - val_loss: 0.6854 - val_acc: 0.7824\n",
            "Epoch 20/100\n",
            "1313/1313 [==============================] - 3s 2ms/step - loss: 0.6701 - acc: 0.7877 - val_loss: 0.6719 - val_acc: 0.7898\n",
            "Epoch 21/100\n",
            "1313/1313 [==============================] - 3s 2ms/step - loss: 0.6776 - acc: 0.7847 - val_loss: 0.6579 - val_acc: 0.7989\n",
            "Epoch 22/100\n",
            "1313/1313 [==============================] - 3s 2ms/step - loss: 0.6625 - acc: 0.7891 - val_loss: 0.6891 - val_acc: 0.7787\n",
            "Epoch 23/100\n",
            "1313/1313 [==============================] - 3s 2ms/step - loss: 0.6579 - acc: 0.7920 - val_loss: 0.6829 - val_acc: 0.7803\n",
            "Epoch 24/100\n",
            "1313/1313 [==============================] - 3s 2ms/step - loss: 0.6563 - acc: 0.7911 - val_loss: 0.6575 - val_acc: 0.7946\n",
            "Epoch 25/100\n",
            "1313/1313 [==============================] - 3s 2ms/step - loss: 0.6575 - acc: 0.7912 - val_loss: 0.6600 - val_acc: 0.7929\n",
            "Epoch 26/100\n",
            "1313/1313 [==============================] - 3s 2ms/step - loss: 0.6525 - acc: 0.7935 - val_loss: 0.6693 - val_acc: 0.7864\n",
            "Epoch 27/100\n",
            "1313/1313 [==============================] - 3s 2ms/step - loss: 0.6509 - acc: 0.7930 - val_loss: 0.6842 - val_acc: 0.7828\n",
            "Epoch 28/100\n",
            "1313/1313 [==============================] - 3s 2ms/step - loss: 0.6509 - acc: 0.7929 - val_loss: 0.6609 - val_acc: 0.7930\n",
            "Epoch 29/100\n",
            "1313/1313 [==============================] - 3s 2ms/step - loss: 0.6475 - acc: 0.7924 - val_loss: 0.6640 - val_acc: 0.7911\n",
            "Epoch 30/100\n",
            "1313/1313 [==============================] - 3s 2ms/step - loss: 0.6436 - acc: 0.7952 - val_loss: 0.6543 - val_acc: 0.7924\n",
            "Epoch 31/100\n",
            "1313/1313 [==============================] - 3s 2ms/step - loss: 0.6428 - acc: 0.7961 - val_loss: 0.6955 - val_acc: 0.7778\n",
            "Epoch 32/100\n",
            "1313/1313 [==============================] - 3s 2ms/step - loss: 0.6412 - acc: 0.7969 - val_loss: 0.6587 - val_acc: 0.7931\n",
            "Epoch 33/100\n",
            "1313/1313 [==============================] - 3s 2ms/step - loss: 0.6388 - acc: 0.7959 - val_loss: 0.6460 - val_acc: 0.8009\n",
            "Epoch 34/100\n",
            "1313/1313 [==============================] - 3s 2ms/step - loss: 0.6394 - acc: 0.7976 - val_loss: 0.6538 - val_acc: 0.7987\n",
            "Epoch 35/100\n",
            "1313/1313 [==============================] - 3s 2ms/step - loss: 0.6331 - acc: 0.8008 - val_loss: 0.6530 - val_acc: 0.8011\n",
            "Epoch 36/100\n",
            "1313/1313 [==============================] - 3s 2ms/step - loss: 0.6361 - acc: 0.7975 - val_loss: 0.6633 - val_acc: 0.7848\n",
            "Epoch 37/100\n",
            "1313/1313 [==============================] - 3s 2ms/step - loss: 0.6321 - acc: 0.8009 - val_loss: 0.6714 - val_acc: 0.7821\n",
            "Epoch 38/100\n",
            "1313/1313 [==============================] - 3s 2ms/step - loss: 0.6343 - acc: 0.7993 - val_loss: 0.6576 - val_acc: 0.7930\n",
            "Epoch 39/100\n",
            "1313/1313 [==============================] - 3s 2ms/step - loss: 0.6311 - acc: 0.8001 - val_loss: 0.6555 - val_acc: 0.7979\n",
            "Epoch 40/100\n",
            "1313/1313 [==============================] - 3s 2ms/step - loss: 0.6282 - acc: 0.8020 - val_loss: 0.6456 - val_acc: 0.8006\n",
            "Epoch 41/100\n",
            "1313/1313 [==============================] - 3s 2ms/step - loss: 0.6319 - acc: 0.8005 - val_loss: 0.6576 - val_acc: 0.7957\n",
            "Epoch 42/100\n",
            "1313/1313 [==============================] - 3s 2ms/step - loss: 0.6289 - acc: 0.8001 - val_loss: 0.6578 - val_acc: 0.7970\n",
            "Epoch 43/100\n",
            "1313/1313 [==============================] - 3s 2ms/step - loss: 0.6277 - acc: 0.8017 - val_loss: 0.6442 - val_acc: 0.7997\n",
            "Epoch 44/100\n",
            "1313/1313 [==============================] - 3s 2ms/step - loss: 0.6257 - acc: 0.8016 - val_loss: 0.7116 - val_acc: 0.7773\n",
            "Epoch 45/100\n",
            "1313/1313 [==============================] - 3s 2ms/step - loss: 0.6263 - acc: 0.8034 - val_loss: 0.6722 - val_acc: 0.7907\n",
            "Epoch 46/100\n",
            "1313/1313 [==============================] - 3s 2ms/step - loss: 0.6237 - acc: 0.8043 - val_loss: 0.6599 - val_acc: 0.7993\n",
            "Epoch 47/100\n",
            "1313/1313 [==============================] - 3s 2ms/step - loss: 0.6232 - acc: 0.8021 - val_loss: 0.6436 - val_acc: 0.7984\n",
            "Epoch 48/100\n",
            "1313/1313 [==============================] - 3s 2ms/step - loss: 0.6211 - acc: 0.8050 - val_loss: 0.6394 - val_acc: 0.8010\n",
            "Epoch 49/100\n",
            "1313/1313 [==============================] - 3s 2ms/step - loss: 0.6207 - acc: 0.8048 - val_loss: 0.6318 - val_acc: 0.8014\n",
            "Epoch 50/100\n",
            "1313/1313 [==============================] - 3s 2ms/step - loss: 0.6172 - acc: 0.8070 - val_loss: 0.6578 - val_acc: 0.7924\n",
            "Epoch 51/100\n",
            "1313/1313 [==============================] - 3s 2ms/step - loss: 0.6194 - acc: 0.8057 - val_loss: 0.6495 - val_acc: 0.7990\n",
            "Epoch 52/100\n",
            "1313/1313 [==============================] - 3s 2ms/step - loss: 0.6177 - acc: 0.8052 - val_loss: 0.6419 - val_acc: 0.8015\n",
            "Epoch 53/100\n",
            "1313/1313 [==============================] - 3s 2ms/step - loss: 0.6168 - acc: 0.8058 - val_loss: 0.6618 - val_acc: 0.7977\n",
            "Epoch 54/100\n",
            "1313/1313 [==============================] - 3s 2ms/step - loss: 0.6174 - acc: 0.8055 - val_loss: 0.6521 - val_acc: 0.7988\n",
            "Epoch 55/100\n",
            "1313/1313 [==============================] - 3s 2ms/step - loss: 0.6140 - acc: 0.8085 - val_loss: 0.6517 - val_acc: 0.7995\n",
            "Epoch 56/100\n",
            "1313/1313 [==============================] - 3s 2ms/step - loss: 0.6164 - acc: 0.8059 - val_loss: 0.6405 - val_acc: 0.7996\n",
            "Epoch 57/100\n",
            "1313/1313 [==============================] - 3s 2ms/step - loss: 0.6177 - acc: 0.8043 - val_loss: 0.6766 - val_acc: 0.7900\n",
            "Epoch 58/100\n",
            "1313/1313 [==============================] - 3s 2ms/step - loss: 0.6160 - acc: 0.8072 - val_loss: 0.6541 - val_acc: 0.7948\n",
            "Epoch 59/100\n",
            "1313/1313 [==============================] - 3s 2ms/step - loss: 0.6140 - acc: 0.8065 - val_loss: 0.6422 - val_acc: 0.7996\n",
            "Epoch 60/100\n",
            "1313/1313 [==============================] - 3s 2ms/step - loss: 0.6156 - acc: 0.8067 - val_loss: 0.6742 - val_acc: 0.7954\n",
            "Epoch 61/100\n",
            "1313/1313 [==============================] - 3s 2ms/step - loss: 0.6153 - acc: 0.8072 - val_loss: 0.6456 - val_acc: 0.8003\n",
            "Epoch 62/100\n",
            "1313/1313 [==============================] - 3s 2ms/step - loss: 0.6122 - acc: 0.8067 - val_loss: 0.6586 - val_acc: 0.7969\n",
            "Epoch 63/100\n",
            "1313/1313 [==============================] - 3s 2ms/step - loss: 0.6158 - acc: 0.8052 - val_loss: 0.6689 - val_acc: 0.7876\n",
            "Epoch 64/100\n",
            "1313/1313 [==============================] - 3s 2ms/step - loss: 0.6141 - acc: 0.8057 - val_loss: 0.6411 - val_acc: 0.8041\n",
            "Epoch 65/100\n",
            "1313/1313 [==============================] - 3s 2ms/step - loss: 0.6132 - acc: 0.8069 - val_loss: 0.6426 - val_acc: 0.7994\n",
            "Epoch 66/100\n",
            "1313/1313 [==============================] - 3s 2ms/step - loss: 0.6137 - acc: 0.8076 - val_loss: 0.6733 - val_acc: 0.7924\n",
            "Epoch 67/100\n",
            "1313/1313 [==============================] - 3s 2ms/step - loss: 0.6139 - acc: 0.8067 - val_loss: 0.6370 - val_acc: 0.8049\n",
            "Epoch 68/100\n",
            "1313/1313 [==============================] - 3s 2ms/step - loss: 0.6123 - acc: 0.8075 - val_loss: 0.6435 - val_acc: 0.8002\n",
            "Epoch 69/100\n",
            "1313/1313 [==============================] - 3s 2ms/step - loss: 0.6136 - acc: 0.8068 - val_loss: 0.6340 - val_acc: 0.8059\n",
            "Epoch 70/100\n",
            "1313/1313 [==============================] - 3s 2ms/step - loss: 0.6113 - acc: 0.8084 - val_loss: 0.6427 - val_acc: 0.8029\n",
            "Epoch 71/100\n",
            "1313/1313 [==============================] - 3s 2ms/step - loss: 0.6126 - acc: 0.8076 - val_loss: 0.6624 - val_acc: 0.7969\n",
            "Epoch 72/100\n",
            "1313/1313 [==============================] - 3s 2ms/step - loss: 0.6121 - acc: 0.8090 - val_loss: 0.6422 - val_acc: 0.8049\n",
            "Epoch 73/100\n",
            "1313/1313 [==============================] - 3s 2ms/step - loss: 0.6130 - acc: 0.8074 - val_loss: 0.6622 - val_acc: 0.7946\n",
            "Epoch 74/100\n",
            "1313/1313 [==============================] - 3s 2ms/step - loss: 0.6084 - acc: 0.8104 - val_loss: 0.6698 - val_acc: 0.7858\n",
            "Epoch 75/100\n",
            "1313/1313 [==============================] - 3s 2ms/step - loss: 0.6098 - acc: 0.8091 - val_loss: 0.6427 - val_acc: 0.8022\n",
            "Epoch 76/100\n",
            "1313/1313 [==============================] - 3s 2ms/step - loss: 0.6115 - acc: 0.8066 - val_loss: 0.6500 - val_acc: 0.7992\n",
            "Epoch 77/100\n",
            "1313/1313 [==============================] - 3s 2ms/step - loss: 0.6114 - acc: 0.8075 - val_loss: 0.6349 - val_acc: 0.8051\n",
            "Epoch 78/100\n",
            "1313/1313 [==============================] - 3s 2ms/step - loss: 0.6112 - acc: 0.8076 - val_loss: 0.6473 - val_acc: 0.8004\n",
            "Epoch 79/100\n",
            "1313/1313 [==============================] - 3s 2ms/step - loss: 0.6116 - acc: 0.8063 - val_loss: 0.6424 - val_acc: 0.8037\n",
            "Epoch 80/100\n",
            "1313/1313 [==============================] - 3s 2ms/step - loss: 0.6104 - acc: 0.8090 - val_loss: 0.6381 - val_acc: 0.8022\n",
            "Epoch 81/100\n",
            "1313/1313 [==============================] - 3s 2ms/step - loss: 0.6102 - acc: 0.8092 - val_loss: 0.6433 - val_acc: 0.8005\n",
            "Epoch 82/100\n",
            "1313/1313 [==============================] - 3s 2ms/step - loss: 0.6099 - acc: 0.8085 - val_loss: 0.6414 - val_acc: 0.8013\n",
            "Epoch 83/100\n",
            "1313/1313 [==============================] - 3s 2ms/step - loss: 0.6086 - acc: 0.8095 - val_loss: 0.6505 - val_acc: 0.7979\n",
            "Epoch 84/100\n",
            "1313/1313 [==============================] - 3s 2ms/step - loss: 0.6077 - acc: 0.8093 - val_loss: 0.6432 - val_acc: 0.8032\n",
            "Epoch 85/100\n",
            "1313/1313 [==============================] - 3s 2ms/step - loss: 0.6082 - acc: 0.8095 - val_loss: 0.6402 - val_acc: 0.8036\n",
            "Epoch 86/100\n",
            "1313/1313 [==============================] - 3s 2ms/step - loss: 0.6093 - acc: 0.8066 - val_loss: 0.6344 - val_acc: 0.8069\n",
            "Epoch 87/100\n",
            "1313/1313 [==============================] - 3s 2ms/step - loss: 0.6090 - acc: 0.8095 - val_loss: 0.6696 - val_acc: 0.7892\n",
            "Epoch 88/100\n",
            "1313/1313 [==============================] - 3s 2ms/step - loss: 0.6103 - acc: 0.8071 - val_loss: 0.6331 - val_acc: 0.8024\n",
            "Epoch 89/100\n",
            "1313/1313 [==============================] - 3s 2ms/step - loss: 0.6071 - acc: 0.8081 - val_loss: 0.6514 - val_acc: 0.7991\n",
            "Epoch 90/100\n",
            "1313/1313 [==============================] - 3s 2ms/step - loss: 0.6102 - acc: 0.8078 - val_loss: 0.6420 - val_acc: 0.8011\n",
            "Epoch 91/100\n",
            "1313/1313 [==============================] - 3s 2ms/step - loss: 0.6090 - acc: 0.8082 - val_loss: 0.6423 - val_acc: 0.7984\n",
            "Epoch 92/100\n",
            "1313/1313 [==============================] - 3s 2ms/step - loss: 0.6114 - acc: 0.8086 - val_loss: 0.6517 - val_acc: 0.7958\n",
            "Epoch 93/100\n",
            "1313/1313 [==============================] - 3s 2ms/step - loss: 0.6078 - acc: 0.8094 - val_loss: 0.6415 - val_acc: 0.8012\n",
            "Epoch 94/100\n",
            "1313/1313 [==============================] - 3s 2ms/step - loss: 0.6075 - acc: 0.8085 - val_loss: 0.6395 - val_acc: 0.8006\n",
            "Epoch 95/100\n",
            "1313/1313 [==============================] - 3s 2ms/step - loss: 0.6069 - acc: 0.8069 - val_loss: 0.6336 - val_acc: 0.8057\n",
            "Epoch 96/100\n",
            "1313/1313 [==============================] - 3s 2ms/step - loss: 0.6089 - acc: 0.8087 - val_loss: 0.6480 - val_acc: 0.7966\n",
            "Epoch 97/100\n",
            "1313/1313 [==============================] - 3s 2ms/step - loss: 0.6044 - acc: 0.8100 - val_loss: 0.6500 - val_acc: 0.8013\n",
            "Epoch 98/100\n",
            "1313/1313 [==============================] - 3s 2ms/step - loss: 0.6062 - acc: 0.8093 - val_loss: 0.6506 - val_acc: 0.7977\n",
            "Epoch 99/100\n",
            "1313/1313 [==============================] - 3s 2ms/step - loss: 0.6050 - acc: 0.8086 - val_loss: 0.6401 - val_acc: 0.8030\n",
            "Epoch 100/100\n",
            "1313/1313 [==============================] - 3s 2ms/step - loss: 0.6052 - acc: 0.8088 - val_loss: 0.6363 - val_acc: 0.7986\n"
          ],
          "name": "stdout"
        }
      ]
    },
    {
      "cell_type": "markdown",
      "metadata": {
        "id": "ZG5LC7avKujh"
      },
      "source": [
        "# evaluation"
      ]
    },
    {
      "cell_type": "code",
      "metadata": {
        "colab": {
          "base_uri": "https://localhost:8080/"
        },
        "id": "B5cruIUgK_sg",
        "outputId": "9bca4148-3148-4569-a2bb-083c840fb035"
      },
      "source": [
        "hist.history.keys()"
      ],
      "execution_count": 23,
      "outputs": [
        {
          "output_type": "execute_result",
          "data": {
            "text/plain": [
              "dict_keys(['loss', 'acc', 'val_loss', 'val_acc'])"
            ]
          },
          "metadata": {
            "tags": []
          },
          "execution_count": 23
        }
      ]
    },
    {
      "cell_type": "code",
      "metadata": {
        "colab": {
          "base_uri": "https://localhost:8080/",
          "height": 265
        },
        "id": "E0Y4_Ldo_YCn",
        "outputId": "73d6878c-4de4-4185-9d0e-b6ec7d85600e"
      },
      "source": [
        "import matplotlib.pyplot as plt\n",
        "\n",
        "plt.plot(hist.history['loss'])\n",
        "plt.plot(hist.history['val_loss'],'b-')\n",
        "\n",
        "plt.show()"
      ],
      "execution_count": 31,
      "outputs": [
        {
          "output_type": "display_data",
          "data": {
            "image/png": "[encoded data removed]",
            "text/plain": [
              "<Figure size 432x288 with 1 Axes>"
            ]
          },
          "metadata": {
            "tags": [],
            "needs_background": "light"
          }
        }
      ]
    },
    {
      "cell_type": "code",
      "metadata": {
        "colab": {
          "base_uri": "https://localhost:8080/",
          "height": 265
        },
        "id": "nOKMKUpbKpYz",
        "outputId": "5f20a6c2-81ea-4064-92a3-e8c2a8fcc668"
      },
      "source": [
        "plt.plot(hist.history['acc'])\n",
        "plt.plot(hist.history['val_acc'],'-r')\n",
        "plt.show()"
      ],
      "execution_count": 43,
      "outputs": [
        {
          "output_type": "display_data",
          "data": {
            "image/png": "[encoded data removed]",
            "text/plain": [
              "<Figure size 432x288 with 1 Axes>"
            ]
          },
          "metadata": {
            "tags": [],
            "needs_background": "light"
          }
        }
      ]
    },
    {
      "cell_type": "code",
      "metadata": {
        "colab": {
          "base_uri": "https://localhost:8080/"
        },
        "id": "fXy2YPJbMWBJ",
        "outputId": "48238f29-daba-4dba-8159-6e04f7d82a3d"
      },
      "source": [
        "y_test[30]"
      ],
      "execution_count": 35,
      "outputs": [
        {
          "output_type": "execute_result",
          "data": {
            "text/plain": [
              "3"
            ]
          },
          "metadata": {
            "tags": []
          },
          "execution_count": 35
        }
      ]
    },
    {
      "cell_type": "code",
      "metadata": {
        "id": "FbmKWNOxM01I"
      },
      "source": [
        "model.predict(x_test[30])"
      ],
      "execution_count": null,
      "outputs": []
    }
  ]
}