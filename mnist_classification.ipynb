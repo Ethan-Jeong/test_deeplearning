{
  "nbformat": 4,
  "nbformat_minor": 0,
  "metadata": {
    "colab": {
      "name": "mnist_classification.ipynb",
      "provenance": [],
      "collapsed_sections": [],
      "authorship_tag": "ABX9TyPE4Nz/2VQ4LZEeL7jh6JWj",
      "include_colab_link": true
    },
    "kernelspec": {
      "name": "python3",
      "display_name": "Python 3"
    },
    "language_info": {
      "name": "python"
    }
  },
  "cells": [
    {
      "cell_type": "markdown",
      "metadata": {
        "id": "view-in-github",
        "colab_type": "text"
      },
      "source": [
        "<a href=\"https://colab.research.google.com/github/Ethan-Jeong/test_deeplearning/blob/master/mnist_classification.ipynb\" target=\"_parent\"><img src=\"https://colab.research.google.com/assets/colab-badge.svg\" alt=\"Open In Colab\"/></a>"
      ]
    },
    {
      "cell_type": "code",
      "metadata": {
        "id": "iEXInXremikG"
      },
      "source": [
        "from tensorflow.keras.datasets.mnist import load_data"
      ],
      "execution_count": 1,
      "outputs": []
    },
    {
      "cell_type": "code",
      "metadata": {
        "colab": {
          "base_uri": "https://localhost:8080/"
        },
        "id": "jjH7XRIzmqjz",
        "outputId": "04ecd8d9-2384-43d0-8de7-651b4fb155e0"
      },
      "source": [
        "( x_train,y_train) , ( x_test,y_test ) = load_data(path='mnist.npz')\n",
        "x_train.shape,y_train.shape,x_test.shape,y_test.shape"
      ],
      "execution_count": 2,
      "outputs": [
        {
          "output_type": "stream",
          "text": [
            "Downloading data from https://storage.googleapis.com/tensorflow/tf-keras-datasets/mnist.npz\n",
            "11493376/11490434 [==============================] - 0s 0us/step\n"
          ],
          "name": "stdout"
        },
        {
          "output_type": "execute_result",
          "data": {
            "text/plain": [
              "((60000, 28, 28), (60000,), (10000, 28, 28), (10000,))"
            ]
          },
          "metadata": {
            "tags": []
          },
          "execution_count": 2
        }
      ]
    },
    {
      "cell_type": "code",
      "metadata": {
        "id": "fxskMI62sITO",
        "colab": {
          "base_uri": "https://localhost:8080/"
        },
        "outputId": "9cdb265b-d4b8-4738-d0bf-5f983bbdff27"
      },
      "source": [
        "# y_train[4] , x_train[4]\n",
        "y_train[50000],x_train[50000]"
      ],
      "execution_count": 3,
      "outputs": [
        {
          "output_type": "execute_result",
          "data": {
            "text/plain": [
              "(3, array([[  0,   0,   0,   0,   0,   0,   0,   0,   0,   0,   0,   0,   0,\n",
              "           0,   0,   0,   0,   0,   0,   0,   0,   0,   0,   0,   0,   0,\n",
              "           0,   0],\n",
              "        [  0,   0,   0,   0,   0,   0,   0,   0,   0,   0,   0,   0,   0,\n",
              "           0,   0,   0,   0,   0,   0,   0,   0,   0,   0,   0,   0,   0,\n",
              "           0,   0],\n",
              "        [  0,   0,   0,   0,   0,   0,   0,   0,   0,   0,   0,   0,   0,\n",
              "           0,   0,   0,   0,   0,   0,   0,   0,   0,   0,   0,   0,   0,\n",
              "           0,   0],\n",
              "        [  0,   0,   0,   0,   0,   0,   0,   0,   0,   0,   0,   0,   0,\n",
              "           0,   0,   0,   0,   0,   0,   0,   0,   0,   0,   0,   0,   0,\n",
              "           0,   0],\n",
              "        [  0,   0,   0,   0,   0,   0,   0,   0,   0,   0,  47, 160, 195,\n",
              "         205,  71,  86,  13,   0,   0,   0,   0,   0,   0,   0,   0,   0,\n",
              "           0,   0],\n",
              "        [  0,   0,   0,   0,   0,   0,   0,   0,   0,  12, 238, 254, 254,\n",
              "         254, 254, 254, 227,  84,   0,   0,   0,   0,   0,   0,   0,   0,\n",
              "           0,   0],\n",
              "        [  0,   0,   0,   0,   0,   0,   0,   0,   0,  13, 196, 176, 127,\n",
              "         176, 207, 236, 245, 222,  23,   0,   0,   0,   0,   0,   0,   0,\n",
              "           0,   0],\n",
              "        [  0,   0,   0,   0,   0,   0,   0,   0,   0,   0,   0,   0,   0,\n",
              "           0,   0,  20, 137, 254,  95,   0,   0,   0,   0,   0,   0,   0,\n",
              "           0,   0],\n",
              "        [  0,   0,   0,   0,   0,   0,   0,   0,   0,   0,   0,   0,   0,\n",
              "           0,   0,   0,  78, 254, 144,   0,   0,   0,   0,   0,   0,   0,\n",
              "           0,   0],\n",
              "        [  0,   0,   0,   0,   0,   0,   0,   0,   0,   0,   0,   0,   0,\n",
              "           0,   0,  17, 200, 254, 170,   0,   0,   0,   0,   0,   0,   0,\n",
              "           0,   0],\n",
              "        [  0,   0,   0,   0,   0,   0,   0,   0,   0,   0,   0,   0,   0,\n",
              "           0,  47, 218, 254, 216,  29,   0,   0,   0,   0,   0,   0,   0,\n",
              "           0,   0],\n",
              "        [  0,   0,   0,   0,   0,   0,   0,   0,   0,   0,   0,   0,   0,\n",
              "          95, 225, 254, 245,  65,   0,   0,   0,   0,   0,   0,   0,   0,\n",
              "           0,   0],\n",
              "        [  0,   0,   0,   0,   0,   0,   0,   0,   0,   0,   0,  12, 128,\n",
              "         252, 254, 236,  40,   0,   0,   0,   0,   0,   0,   0,   0,   0,\n",
              "           0,   0],\n",
              "        [  0,   0,   0,   0,   0,   0,   0,   0,   0,   0,   0, 172, 254,\n",
              "         254, 170,  58,   0,   0,   0,   0,   0,   0,   0,   0,   0,   0,\n",
              "           0,   0],\n",
              "        [  0,   0,   0,   0,   0,   0,   0,   0,   0,   0,   0, 207, 254,\n",
              "         254,  65,   0,   0,   0,   0,   0,   0,   0,   0,   0,   0,   0,\n",
              "           0,   0],\n",
              "        [  0,   0,   0,   0,   0,   0,   0,   0,   0,   0,   0, 137, 254,\n",
              "         254, 251, 146,  26,   0,   0,   0,   0,   0,   0,   0,   0,   0,\n",
              "           0,   0],\n",
              "        [  0,   0,   0,   0,   0,   0,   0,   0,   0,   0,   0,   9, 173,\n",
              "         224, 254, 254, 230,  71,   0,   0,   0,   0,   0,   0,   0,   0,\n",
              "           0,   0],\n",
              "        [  0,   0,   0,   0,   0,   0,   0,   0,   0,   0,   0,   0,   8,\n",
              "          12, 254, 254, 254, 246, 104,   0,   0,   0,   0,   0,   0,   0,\n",
              "           0,   0],\n",
              "        [  0,   0,   0,   0,   0,   0,   0,   0,   0,   0,   0,   0,   0,\n",
              "           0,  46, 189, 254, 254, 224,   0,   0,   0,   0,   0,   0,   0,\n",
              "           0,   0],\n",
              "        [  0,   0,   0,   0,   0,   0,   0,   0,   0,  10,   0,   0,   0,\n",
              "           0,   0,  17, 175, 254, 254,  25,   0,   0,   0,   0,   0,   0,\n",
              "           0,   0],\n",
              "        [  0,   0,   0,   0,   0,   0,   0,   0,  35, 231, 156, 112,  87,\n",
              "         186, 191, 218, 254, 254, 219,   0,   0,   0,   0,   0,   0,   0,\n",
              "           0,   0],\n",
              "        [  0,   0,   0,   0,   0,   0,   0,   0, 120, 255, 254, 254, 254,\n",
              "         254, 255, 254, 254, 242,  67,   0,   0,   0,   0,   0,   0,   0,\n",
              "           0,   0],\n",
              "        [  0,   0,   0,   0,   0,   0,   0,   0, 139, 255, 254, 254, 254,\n",
              "         254, 255, 171,  46,  24,   0,   0,   0,   0,   0,   0,   0,   0,\n",
              "           0,   0],\n",
              "        [  0,   0,   0,   0,   0,   0,   0,   0,   5,  71, 164, 189, 174,\n",
              "         174,  66,   4,   0,   0,   0,   0,   0,   0,   0,   0,   0,   0,\n",
              "           0,   0],\n",
              "        [  0,   0,   0,   0,   0,   0,   0,   0,   0,   0,   0,   0,   0,\n",
              "           0,   0,   0,   0,   0,   0,   0,   0,   0,   0,   0,   0,   0,\n",
              "           0,   0],\n",
              "        [  0,   0,   0,   0,   0,   0,   0,   0,   0,   0,   0,   0,   0,\n",
              "           0,   0,   0,   0,   0,   0,   0,   0,   0,   0,   0,   0,   0,\n",
              "           0,   0],\n",
              "        [  0,   0,   0,   0,   0,   0,   0,   0,   0,   0,   0,   0,   0,\n",
              "           0,   0,   0,   0,   0,   0,   0,   0,   0,   0,   0,   0,   0,\n",
              "           0,   0],\n",
              "        [  0,   0,   0,   0,   0,   0,   0,   0,   0,   0,   0,   0,   0,\n",
              "           0,   0,   0,   0,   0,   0,   0,   0,   0,   0,   0,   0,   0,\n",
              "           0,   0]], dtype=uint8))"
            ]
          },
          "metadata": {
            "tags": []
          },
          "execution_count": 3
        }
      ]
    },
    {
      "cell_type": "code",
      "metadata": {
        "colab": {
          "base_uri": "https://localhost:8080/"
        },
        "id": "-T9UWhM_pZr8",
        "outputId": "835fe65c-6722-4c45-abe1-ec5fc3bd436e"
      },
      "source": [
        "x_train[50000]/255  # max 값이 255 임 , 쉽게 rGB 라고 생각하면 됨\n"
      ],
      "execution_count": 4,
      "outputs": [
        {
          "output_type": "execute_result",
          "data": {
            "text/plain": [
              "array([[0.        , 0.        , 0.        , 0.        , 0.        ,\n",
              "        0.        , 0.        , 0.        , 0.        , 0.        ,\n",
              "        0.        , 0.        , 0.        , 0.        , 0.        ,\n",
              "        0.        , 0.        , 0.        , 0.        , 0.        ,\n",
              "        0.        , 0.        , 0.        , 0.        , 0.        ,\n",
              "        0.        , 0.        , 0.        ],\n",
              "       [0.        , 0.        , 0.        , 0.        , 0.        ,\n",
              "        0.        , 0.        , 0.        , 0.        , 0.        ,\n",
              "        0.        , 0.        , 0.        , 0.        , 0.        ,\n",
              "        0.        , 0.        , 0.        , 0.        , 0.        ,\n",
              "        0.        , 0.        , 0.        , 0.        , 0.        ,\n",
              "        0.        , 0.        , 0.        ],\n",
              "       [0.        , 0.        , 0.        , 0.        , 0.        ,\n",
              "        0.        , 0.        , 0.        , 0.        , 0.        ,\n",
              "        0.        , 0.        , 0.        , 0.        , 0.        ,\n",
              "        0.        , 0.        , 0.        , 0.        , 0.        ,\n",
              "        0.        , 0.        , 0.        , 0.        , 0.        ,\n",
              "        0.        , 0.        , 0.        ],\n",
              "       [0.        , 0.        , 0.        , 0.        , 0.        ,\n",
              "        0.        , 0.        , 0.        , 0.        , 0.        ,\n",
              "        0.        , 0.        , 0.        , 0.        , 0.        ,\n",
              "        0.        , 0.        , 0.        , 0.        , 0.        ,\n",
              "        0.        , 0.        , 0.        , 0.        , 0.        ,\n",
              "        0.        , 0.        , 0.        ],\n",
              "       [0.        , 0.        , 0.        , 0.        , 0.        ,\n",
              "        0.        , 0.        , 0.        , 0.        , 0.        ,\n",
              "        0.18431373, 0.62745098, 0.76470588, 0.80392157, 0.27843137,\n",
              "        0.3372549 , 0.05098039, 0.        , 0.        , 0.        ,\n",
              "        0.        , 0.        , 0.        , 0.        , 0.        ,\n",
              "        0.        , 0.        , 0.        ],\n",
              "       [0.        , 0.        , 0.        , 0.        , 0.        ,\n",
              "        0.        , 0.        , 0.        , 0.        , 0.04705882,\n",
              "        0.93333333, 0.99607843, 0.99607843, 0.99607843, 0.99607843,\n",
              "        0.99607843, 0.89019608, 0.32941176, 0.        , 0.        ,\n",
              "        0.        , 0.        , 0.        , 0.        , 0.        ,\n",
              "        0.        , 0.        , 0.        ],\n",
              "       [0.        , 0.        , 0.        , 0.        , 0.        ,\n",
              "        0.        , 0.        , 0.        , 0.        , 0.05098039,\n",
              "        0.76862745, 0.69019608, 0.49803922, 0.69019608, 0.81176471,\n",
              "        0.9254902 , 0.96078431, 0.87058824, 0.09019608, 0.        ,\n",
              "        0.        , 0.        , 0.        , 0.        , 0.        ,\n",
              "        0.        , 0.        , 0.        ],\n",
              "       [0.        , 0.        , 0.        , 0.        , 0.        ,\n",
              "        0.        , 0.        , 0.        , 0.        , 0.        ,\n",
              "        0.        , 0.        , 0.        , 0.        , 0.        ,\n",
              "        0.07843137, 0.5372549 , 0.99607843, 0.37254902, 0.        ,\n",
              "        0.        , 0.        , 0.        , 0.        , 0.        ,\n",
              "        0.        , 0.        , 0.        ],\n",
              "       [0.        , 0.        , 0.        , 0.        , 0.        ,\n",
              "        0.        , 0.        , 0.        , 0.        , 0.        ,\n",
              "        0.        , 0.        , 0.        , 0.        , 0.        ,\n",
              "        0.        , 0.30588235, 0.99607843, 0.56470588, 0.        ,\n",
              "        0.        , 0.        , 0.        , 0.        , 0.        ,\n",
              "        0.        , 0.        , 0.        ],\n",
              "       [0.        , 0.        , 0.        , 0.        , 0.        ,\n",
              "        0.        , 0.        , 0.        , 0.        , 0.        ,\n",
              "        0.        , 0.        , 0.        , 0.        , 0.        ,\n",
              "        0.06666667, 0.78431373, 0.99607843, 0.66666667, 0.        ,\n",
              "        0.        , 0.        , 0.        , 0.        , 0.        ,\n",
              "        0.        , 0.        , 0.        ],\n",
              "       [0.        , 0.        , 0.        , 0.        , 0.        ,\n",
              "        0.        , 0.        , 0.        , 0.        , 0.        ,\n",
              "        0.        , 0.        , 0.        , 0.        , 0.18431373,\n",
              "        0.85490196, 0.99607843, 0.84705882, 0.11372549, 0.        ,\n",
              "        0.        , 0.        , 0.        , 0.        , 0.        ,\n",
              "        0.        , 0.        , 0.        ],\n",
              "       [0.        , 0.        , 0.        , 0.        , 0.        ,\n",
              "        0.        , 0.        , 0.        , 0.        , 0.        ,\n",
              "        0.        , 0.        , 0.        , 0.37254902, 0.88235294,\n",
              "        0.99607843, 0.96078431, 0.25490196, 0.        , 0.        ,\n",
              "        0.        , 0.        , 0.        , 0.        , 0.        ,\n",
              "        0.        , 0.        , 0.        ],\n",
              "       [0.        , 0.        , 0.        , 0.        , 0.        ,\n",
              "        0.        , 0.        , 0.        , 0.        , 0.        ,\n",
              "        0.        , 0.04705882, 0.50196078, 0.98823529, 0.99607843,\n",
              "        0.9254902 , 0.15686275, 0.        , 0.        , 0.        ,\n",
              "        0.        , 0.        , 0.        , 0.        , 0.        ,\n",
              "        0.        , 0.        , 0.        ],\n",
              "       [0.        , 0.        , 0.        , 0.        , 0.        ,\n",
              "        0.        , 0.        , 0.        , 0.        , 0.        ,\n",
              "        0.        , 0.6745098 , 0.99607843, 0.99607843, 0.66666667,\n",
              "        0.22745098, 0.        , 0.        , 0.        , 0.        ,\n",
              "        0.        , 0.        , 0.        , 0.        , 0.        ,\n",
              "        0.        , 0.        , 0.        ],\n",
              "       [0.        , 0.        , 0.        , 0.        , 0.        ,\n",
              "        0.        , 0.        , 0.        , 0.        , 0.        ,\n",
              "        0.        , 0.81176471, 0.99607843, 0.99607843, 0.25490196,\n",
              "        0.        , 0.        , 0.        , 0.        , 0.        ,\n",
              "        0.        , 0.        , 0.        , 0.        , 0.        ,\n",
              "        0.        , 0.        , 0.        ],\n",
              "       [0.        , 0.        , 0.        , 0.        , 0.        ,\n",
              "        0.        , 0.        , 0.        , 0.        , 0.        ,\n",
              "        0.        , 0.5372549 , 0.99607843, 0.99607843, 0.98431373,\n",
              "        0.57254902, 0.10196078, 0.        , 0.        , 0.        ,\n",
              "        0.        , 0.        , 0.        , 0.        , 0.        ,\n",
              "        0.        , 0.        , 0.        ],\n",
              "       [0.        , 0.        , 0.        , 0.        , 0.        ,\n",
              "        0.        , 0.        , 0.        , 0.        , 0.        ,\n",
              "        0.        , 0.03529412, 0.67843137, 0.87843137, 0.99607843,\n",
              "        0.99607843, 0.90196078, 0.27843137, 0.        , 0.        ,\n",
              "        0.        , 0.        , 0.        , 0.        , 0.        ,\n",
              "        0.        , 0.        , 0.        ],\n",
              "       [0.        , 0.        , 0.        , 0.        , 0.        ,\n",
              "        0.        , 0.        , 0.        , 0.        , 0.        ,\n",
              "        0.        , 0.        , 0.03137255, 0.04705882, 0.99607843,\n",
              "        0.99607843, 0.99607843, 0.96470588, 0.40784314, 0.        ,\n",
              "        0.        , 0.        , 0.        , 0.        , 0.        ,\n",
              "        0.        , 0.        , 0.        ],\n",
              "       [0.        , 0.        , 0.        , 0.        , 0.        ,\n",
              "        0.        , 0.        , 0.        , 0.        , 0.        ,\n",
              "        0.        , 0.        , 0.        , 0.        , 0.18039216,\n",
              "        0.74117647, 0.99607843, 0.99607843, 0.87843137, 0.        ,\n",
              "        0.        , 0.        , 0.        , 0.        , 0.        ,\n",
              "        0.        , 0.        , 0.        ],\n",
              "       [0.        , 0.        , 0.        , 0.        , 0.        ,\n",
              "        0.        , 0.        , 0.        , 0.        , 0.03921569,\n",
              "        0.        , 0.        , 0.        , 0.        , 0.        ,\n",
              "        0.06666667, 0.68627451, 0.99607843, 0.99607843, 0.09803922,\n",
              "        0.        , 0.        , 0.        , 0.        , 0.        ,\n",
              "        0.        , 0.        , 0.        ],\n",
              "       [0.        , 0.        , 0.        , 0.        , 0.        ,\n",
              "        0.        , 0.        , 0.        , 0.1372549 , 0.90588235,\n",
              "        0.61176471, 0.43921569, 0.34117647, 0.72941176, 0.74901961,\n",
              "        0.85490196, 0.99607843, 0.99607843, 0.85882353, 0.        ,\n",
              "        0.        , 0.        , 0.        , 0.        , 0.        ,\n",
              "        0.        , 0.        , 0.        ],\n",
              "       [0.        , 0.        , 0.        , 0.        , 0.        ,\n",
              "        0.        , 0.        , 0.        , 0.47058824, 1.        ,\n",
              "        0.99607843, 0.99607843, 0.99607843, 0.99607843, 1.        ,\n",
              "        0.99607843, 0.99607843, 0.94901961, 0.2627451 , 0.        ,\n",
              "        0.        , 0.        , 0.        , 0.        , 0.        ,\n",
              "        0.        , 0.        , 0.        ],\n",
              "       [0.        , 0.        , 0.        , 0.        , 0.        ,\n",
              "        0.        , 0.        , 0.        , 0.54509804, 1.        ,\n",
              "        0.99607843, 0.99607843, 0.99607843, 0.99607843, 1.        ,\n",
              "        0.67058824, 0.18039216, 0.09411765, 0.        , 0.        ,\n",
              "        0.        , 0.        , 0.        , 0.        , 0.        ,\n",
              "        0.        , 0.        , 0.        ],\n",
              "       [0.        , 0.        , 0.        , 0.        , 0.        ,\n",
              "        0.        , 0.        , 0.        , 0.01960784, 0.27843137,\n",
              "        0.64313725, 0.74117647, 0.68235294, 0.68235294, 0.25882353,\n",
              "        0.01568627, 0.        , 0.        , 0.        , 0.        ,\n",
              "        0.        , 0.        , 0.        , 0.        , 0.        ,\n",
              "        0.        , 0.        , 0.        ],\n",
              "       [0.        , 0.        , 0.        , 0.        , 0.        ,\n",
              "        0.        , 0.        , 0.        , 0.        , 0.        ,\n",
              "        0.        , 0.        , 0.        , 0.        , 0.        ,\n",
              "        0.        , 0.        , 0.        , 0.        , 0.        ,\n",
              "        0.        , 0.        , 0.        , 0.        , 0.        ,\n",
              "        0.        , 0.        , 0.        ],\n",
              "       [0.        , 0.        , 0.        , 0.        , 0.        ,\n",
              "        0.        , 0.        , 0.        , 0.        , 0.        ,\n",
              "        0.        , 0.        , 0.        , 0.        , 0.        ,\n",
              "        0.        , 0.        , 0.        , 0.        , 0.        ,\n",
              "        0.        , 0.        , 0.        , 0.        , 0.        ,\n",
              "        0.        , 0.        , 0.        ],\n",
              "       [0.        , 0.        , 0.        , 0.        , 0.        ,\n",
              "        0.        , 0.        , 0.        , 0.        , 0.        ,\n",
              "        0.        , 0.        , 0.        , 0.        , 0.        ,\n",
              "        0.        , 0.        , 0.        , 0.        , 0.        ,\n",
              "        0.        , 0.        , 0.        , 0.        , 0.        ,\n",
              "        0.        , 0.        , 0.        ],\n",
              "       [0.        , 0.        , 0.        , 0.        , 0.        ,\n",
              "        0.        , 0.        , 0.        , 0.        , 0.        ,\n",
              "        0.        , 0.        , 0.        , 0.        , 0.        ,\n",
              "        0.        , 0.        , 0.        , 0.        , 0.        ,\n",
              "        0.        , 0.        , 0.        , 0.        , 0.        ,\n",
              "        0.        , 0.        , 0.        ]])"
            ]
          },
          "metadata": {
            "tags": []
          },
          "execution_count": 4
        }
      ]
    },
    {
      "cell_type": "code",
      "metadata": {
        "colab": {
          "base_uri": "https://localhost:8080/",
          "height": 283
        },
        "id": "1w5hOHa7qo3f",
        "outputId": "d49fc8fd-6240-46eb-d5ba-912ff983f8ea"
      },
      "source": [
        "import matplotlib.pyplot as plt\n",
        "\n",
        "plt.imshow(x_train[50000])\n",
        "print(y_train[50000],type(y_train[50000]))"
      ],
      "execution_count": 5,
      "outputs": [
        {
          "output_type": "stream",
          "text": [
            "3 <class 'numpy.uint8'>\n"
          ],
          "name": "stdout"
        },
        {
          "output_type": "display_data",
          "data": {
            "image/png": "[encoded data removed]",
            "text/plain": [
              "<Figure size 432x288 with 1 Axes>"
            ]
          },
          "metadata": {
            "tags": [],
            "needs_background": "light"
          }
        }
      ]
    },
    {
      "cell_type": "code",
      "metadata": {
        "colab": {
          "base_uri": "https://localhost:8080/"
        },
        "id": "W80NezFStDAC",
        "outputId": "72cf028c-3611-4446-b067-36770258c45a"
      },
      "source": [
        "x_train = x_train.reshape(-1,28*28)/255  # max 값이 255 임 , 쉽게 rGB 라고 생각하면 됨\n",
        "x_train.shape"
      ],
      "execution_count": 6,
      "outputs": [
        {
          "output_type": "execute_result",
          "data": {
            "text/plain": [
              "(60000, 784)"
            ]
          },
          "metadata": {
            "tags": []
          },
          "execution_count": 6
        }
      ]
    },
    {
      "cell_type": "code",
      "metadata": {
        "colab": {
          "base_uri": "https://localhost:8080/"
        },
        "id": "uMFT6Wm3upyV",
        "outputId": "5b8ecb11-aaf6-4c1b-a1e9-c773404249a0"
      },
      "source": [
        "x_test = x_test.reshape(-1,28*28)/255  # max 값이 255 임 , 쉽게 rGB 라고 생각하면 됨\n",
        "x_test.shape"
      ],
      "execution_count": 7,
      "outputs": [
        {
          "output_type": "execute_result",
          "data": {
            "text/plain": [
              "(10000, 784)"
            ]
          },
          "metadata": {
            "tags": []
          },
          "execution_count": 7
        }
      ]
    },
    {
      "cell_type": "code",
      "metadata": {
        "colab": {
          "base_uri": "https://localhost:8080/"
        },
        "id": "UnB9mHSZvQ4f",
        "outputId": "b269e329-ffb4-4c12-b994-d20682a9c256"
      },
      "source": [
        "y_train[2:10] , y_train.shape "
      ],
      "execution_count": 8,
      "outputs": [
        {
          "output_type": "execute_result",
          "data": {
            "text/plain": [
              "(array([4, 1, 9, 2, 1, 3, 1, 4], dtype=uint8), (60000,))"
            ]
          },
          "metadata": {
            "tags": []
          },
          "execution_count": 8
        }
      ]
    },
    {
      "cell_type": "markdown",
      "metadata": {
        "id": "_D4UuukBwJzW"
      },
      "source": [
        "#apply model"
      ]
    },
    {
      "cell_type": "markdown",
      "metadata": {
        "id": "UeHwkFQNwwKD"
      },
      "source": [
        ""
      ]
    },
    {
      "cell_type": "code",
      "metadata": {
        "id": "mJNvIB8LvwOs"
      },
      "source": [
        "import tensorflow as tf"
      ],
      "execution_count": 9,
      "outputs": []
    },
    {
      "cell_type": "code",
      "metadata": {
        "colab": {
          "base_uri": "https://localhost:8080/"
        },
        "id": "nDz97FGTwOOr",
        "outputId": "beb2a959-7c74-403b-b195-860ea202f847"
      },
      "source": [
        "model = tf.keras.models.Sequential()\n",
        "\n",
        "model.add(tf.keras.Input(shape=(784,))) # input layer\n",
        "\n",
        "model.add(tf.keras.layers.Dense(10,activation='relu')) # hidden layer\n",
        "model.add(tf.keras.layers.Dense(10,activation='relu')) # hidden layer\n",
        "\n",
        "# 세개 이상 --> softmax ,  binary --> sigmoid\n",
        "model.add(tf.keras.layers.Dense(10,activation='softmax')) # output layer 여기 상수는 도출되는 (=답,보기,의견) 의 갯수이다\n",
        "\n",
        "# regression --> loss : mse\n",
        "# binary classification --> loss : binary crossentropy \n",
        "# over 3 classification --> loss : categorical crossentropy(sparse_categorical_crossentropy)\n",
        "# 참고 자료 : https://gomguard.tistory.com/187\n",
        "\n",
        "model.compile(optimizer='adam',loss='sparse_categorical_crossentropy',metrics=['acc'])"
      ],
      "execution_count": 10,
      "outputs": [
        {
          "output_type": "stream",
          "text": [
            "WARNING:tensorflow:Please add `keras.layers.InputLayer` instead of `keras.Input` to Sequential model. `keras.Input` is intended to be used by Functional model.\n"
          ],
          "name": "stdout"
        }
      ]
    },
    {
      "cell_type": "code",
      "metadata": {
        "colab": {
          "base_uri": "https://localhost:8080/"
        },
        "id": "BJZkWxv9-6cW",
        "outputId": "61d3e30f-6987-498c-89c8-53ca4920fd47"
      },
      "source": [
        "hist = model.fit(x_train,y_train,epochs=100,validation_split=0.3)"
      ],
      "execution_count": 11,
      "outputs": [
        {
          "output_type": "stream",
          "text": [
            "Epoch 1/100\n",
            "1313/1313 [==============================] - 4s 2ms/step - loss: 0.7297 - acc: 0.7787 - val_loss: 0.3868 - val_acc: 0.8905\n",
            "Epoch 2/100\n",
            "1313/1313 [==============================] - 3s 2ms/step - loss: 0.3561 - acc: 0.8979 - val_loss: 0.3276 - val_acc: 0.9071\n",
            "Epoch 3/100\n",
            "1313/1313 [==============================] - 3s 2ms/step - loss: 0.3127 - acc: 0.9111 - val_loss: 0.3070 - val_acc: 0.9131\n",
            "Epoch 4/100\n",
            "1313/1313 [==============================] - 3s 2ms/step - loss: 0.2861 - acc: 0.9180 - val_loss: 0.2914 - val_acc: 0.9154\n",
            "Epoch 5/100\n",
            "1313/1313 [==============================] - 3s 2ms/step - loss: 0.2703 - acc: 0.9226 - val_loss: 0.2823 - val_acc: 0.9173\n",
            "Epoch 6/100\n",
            "1313/1313 [==============================] - 3s 2ms/step - loss: 0.2580 - acc: 0.9247 - val_loss: 0.2861 - val_acc: 0.9189\n",
            "Epoch 7/100\n",
            "1313/1313 [==============================] - 3s 2ms/step - loss: 0.2455 - acc: 0.9290 - val_loss: 0.2701 - val_acc: 0.9238\n",
            "Epoch 8/100\n",
            "1313/1313 [==============================] - 3s 2ms/step - loss: 0.2385 - acc: 0.9316 - val_loss: 0.2583 - val_acc: 0.9264\n",
            "Epoch 9/100\n",
            "1313/1313 [==============================] - 3s 2ms/step - loss: 0.2303 - acc: 0.9332 - val_loss: 0.2593 - val_acc: 0.9262\n",
            "Epoch 10/100\n",
            "1313/1313 [==============================] - 3s 2ms/step - loss: 0.2248 - acc: 0.9344 - val_loss: 0.2540 - val_acc: 0.9276\n",
            "Epoch 11/100\n",
            "1313/1313 [==============================] - 3s 2ms/step - loss: 0.2187 - acc: 0.9356 - val_loss: 0.2622 - val_acc: 0.9257\n",
            "Epoch 12/100\n",
            "1313/1313 [==============================] - 3s 2ms/step - loss: 0.2138 - acc: 0.9375 - val_loss: 0.2506 - val_acc: 0.9296\n",
            "Epoch 13/100\n",
            "1313/1313 [==============================] - 3s 2ms/step - loss: 0.2092 - acc: 0.9395 - val_loss: 0.2506 - val_acc: 0.9292\n",
            "Epoch 14/100\n",
            "1313/1313 [==============================] - 3s 2ms/step - loss: 0.2061 - acc: 0.9397 - val_loss: 0.2535 - val_acc: 0.9285\n",
            "Epoch 15/100\n",
            "1313/1313 [==============================] - 2s 2ms/step - loss: 0.2018 - acc: 0.9408 - val_loss: 0.2538 - val_acc: 0.9292\n",
            "Epoch 16/100\n",
            "1313/1313 [==============================] - 3s 2ms/step - loss: 0.1996 - acc: 0.9411 - val_loss: 0.2554 - val_acc: 0.9280\n",
            "Epoch 17/100\n",
            "1313/1313 [==============================] - 3s 2ms/step - loss: 0.1962 - acc: 0.9426 - val_loss: 0.2466 - val_acc: 0.9299\n",
            "Epoch 18/100\n",
            "1313/1313 [==============================] - 3s 2ms/step - loss: 0.1943 - acc: 0.9428 - val_loss: 0.2560 - val_acc: 0.9289\n",
            "Epoch 19/100\n",
            "1313/1313 [==============================] - 3s 2ms/step - loss: 0.1915 - acc: 0.9441 - val_loss: 0.2608 - val_acc: 0.9274\n",
            "Epoch 20/100\n",
            "1313/1313 [==============================] - 3s 2ms/step - loss: 0.1890 - acc: 0.9450 - val_loss: 0.2599 - val_acc: 0.9277\n",
            "Epoch 21/100\n",
            "1313/1313 [==============================] - 3s 2ms/step - loss: 0.1863 - acc: 0.9448 - val_loss: 0.2562 - val_acc: 0.9263\n",
            "Epoch 22/100\n",
            "1313/1313 [==============================] - 3s 2ms/step - loss: 0.1857 - acc: 0.9453 - val_loss: 0.2582 - val_acc: 0.9283\n",
            "Epoch 23/100\n",
            "1313/1313 [==============================] - 3s 2ms/step - loss: 0.1824 - acc: 0.9457 - val_loss: 0.2683 - val_acc: 0.9266\n",
            "Epoch 24/100\n",
            "1313/1313 [==============================] - 3s 2ms/step - loss: 0.1809 - acc: 0.9462 - val_loss: 0.2469 - val_acc: 0.9311\n",
            "Epoch 25/100\n",
            "1313/1313 [==============================] - 3s 2ms/step - loss: 0.1799 - acc: 0.9470 - val_loss: 0.2501 - val_acc: 0.9304\n",
            "Epoch 26/100\n",
            "1313/1313 [==============================] - 3s 2ms/step - loss: 0.1766 - acc: 0.9475 - val_loss: 0.2581 - val_acc: 0.9294\n",
            "Epoch 27/100\n",
            "1313/1313 [==============================] - 3s 2ms/step - loss: 0.1761 - acc: 0.9480 - val_loss: 0.2525 - val_acc: 0.9299\n",
            "Epoch 28/100\n",
            "1313/1313 [==============================] - 3s 2ms/step - loss: 0.1741 - acc: 0.9481 - val_loss: 0.2511 - val_acc: 0.9295\n",
            "Epoch 29/100\n",
            "1313/1313 [==============================] - 3s 2ms/step - loss: 0.1725 - acc: 0.9488 - val_loss: 0.2556 - val_acc: 0.9301\n",
            "Epoch 30/100\n",
            "1313/1313 [==============================] - 3s 2ms/step - loss: 0.1711 - acc: 0.9492 - val_loss: 0.2504 - val_acc: 0.9319\n",
            "Epoch 31/100\n",
            "1313/1313 [==============================] - 3s 2ms/step - loss: 0.1697 - acc: 0.9494 - val_loss: 0.2515 - val_acc: 0.9318\n",
            "Epoch 32/100\n",
            "1313/1313 [==============================] - 3s 2ms/step - loss: 0.1687 - acc: 0.9502 - val_loss: 0.2539 - val_acc: 0.9314\n",
            "Epoch 33/100\n",
            "1313/1313 [==============================] - 2s 2ms/step - loss: 0.1684 - acc: 0.9499 - val_loss: 0.2543 - val_acc: 0.9289\n",
            "Epoch 34/100\n",
            "1313/1313 [==============================] - 3s 2ms/step - loss: 0.1669 - acc: 0.9499 - val_loss: 0.2503 - val_acc: 0.9301\n",
            "Epoch 35/100\n",
            "1313/1313 [==============================] - 3s 2ms/step - loss: 0.1651 - acc: 0.9506 - val_loss: 0.2626 - val_acc: 0.9288\n",
            "Epoch 36/100\n",
            "1313/1313 [==============================] - 3s 2ms/step - loss: 0.1664 - acc: 0.9506 - val_loss: 0.2590 - val_acc: 0.9302\n",
            "Epoch 37/100\n",
            "1313/1313 [==============================] - 3s 2ms/step - loss: 0.1639 - acc: 0.9511 - val_loss: 0.2506 - val_acc: 0.9302\n",
            "Epoch 38/100\n",
            "1313/1313 [==============================] - 3s 2ms/step - loss: 0.1621 - acc: 0.9503 - val_loss: 0.2545 - val_acc: 0.9311\n",
            "Epoch 39/100\n",
            "1313/1313 [==============================] - 3s 2ms/step - loss: 0.1629 - acc: 0.9507 - val_loss: 0.2620 - val_acc: 0.9294\n",
            "Epoch 40/100\n",
            "1313/1313 [==============================] - 3s 2ms/step - loss: 0.1608 - acc: 0.9513 - val_loss: 0.2548 - val_acc: 0.9304\n",
            "Epoch 41/100\n",
            "1313/1313 [==============================] - 3s 2ms/step - loss: 0.1595 - acc: 0.9515 - val_loss: 0.2526 - val_acc: 0.9318\n",
            "Epoch 42/100\n",
            "1313/1313 [==============================] - 3s 2ms/step - loss: 0.1586 - acc: 0.9520 - val_loss: 0.2546 - val_acc: 0.9321\n",
            "Epoch 43/100\n",
            "1313/1313 [==============================] - 3s 2ms/step - loss: 0.1575 - acc: 0.9520 - val_loss: 0.2574 - val_acc: 0.9314\n",
            "Epoch 44/100\n",
            "1313/1313 [==============================] - 3s 2ms/step - loss: 0.1581 - acc: 0.9529 - val_loss: 0.2559 - val_acc: 0.9317\n",
            "Epoch 45/100\n",
            "1313/1313 [==============================] - 3s 2ms/step - loss: 0.1567 - acc: 0.9528 - val_loss: 0.2644 - val_acc: 0.9284\n",
            "Epoch 46/100\n",
            "1313/1313 [==============================] - 3s 2ms/step - loss: 0.1559 - acc: 0.9522 - val_loss: 0.2683 - val_acc: 0.9281\n",
            "Epoch 47/100\n",
            "1313/1313 [==============================] - 3s 2ms/step - loss: 0.1546 - acc: 0.9532 - val_loss: 0.2542 - val_acc: 0.9308\n",
            "Epoch 48/100\n",
            "1313/1313 [==============================] - 3s 2ms/step - loss: 0.1549 - acc: 0.9537 - val_loss: 0.2653 - val_acc: 0.9292\n",
            "Epoch 49/100\n",
            "1313/1313 [==============================] - 3s 2ms/step - loss: 0.1550 - acc: 0.9529 - val_loss: 0.2681 - val_acc: 0.9289\n",
            "Epoch 50/100\n",
            "1313/1313 [==============================] - 3s 2ms/step - loss: 0.1521 - acc: 0.9547 - val_loss: 0.2628 - val_acc: 0.9303\n",
            "Epoch 51/100\n",
            "1313/1313 [==============================] - 3s 2ms/step - loss: 0.1538 - acc: 0.9540 - val_loss: 0.2656 - val_acc: 0.9297\n",
            "Epoch 52/100\n",
            "1313/1313 [==============================] - 3s 2ms/step - loss: 0.1524 - acc: 0.9536 - val_loss: 0.2782 - val_acc: 0.9226\n",
            "Epoch 53/100\n",
            "1313/1313 [==============================] - 3s 2ms/step - loss: 0.1512 - acc: 0.9542 - val_loss: 0.2605 - val_acc: 0.9300\n",
            "Epoch 54/100\n",
            "1313/1313 [==============================] - 3s 2ms/step - loss: 0.1514 - acc: 0.9535 - val_loss: 0.2691 - val_acc: 0.9282\n",
            "Epoch 55/100\n",
            "1313/1313 [==============================] - 3s 2ms/step - loss: 0.1499 - acc: 0.9532 - val_loss: 0.2653 - val_acc: 0.9279\n",
            "Epoch 56/100\n",
            "1313/1313 [==============================] - 3s 2ms/step - loss: 0.1500 - acc: 0.9551 - val_loss: 0.2693 - val_acc: 0.9298\n",
            "Epoch 57/100\n",
            "1313/1313 [==============================] - 3s 2ms/step - loss: 0.1498 - acc: 0.9542 - val_loss: 0.2659 - val_acc: 0.9296\n",
            "Epoch 58/100\n",
            "1313/1313 [==============================] - 3s 2ms/step - loss: 0.1488 - acc: 0.9546 - val_loss: 0.2733 - val_acc: 0.9281\n",
            "Epoch 59/100\n",
            "1313/1313 [==============================] - 3s 2ms/step - loss: 0.1475 - acc: 0.9546 - val_loss: 0.2645 - val_acc: 0.9310\n",
            "Epoch 60/100\n",
            "1313/1313 [==============================] - 3s 2ms/step - loss: 0.1480 - acc: 0.9537 - val_loss: 0.2742 - val_acc: 0.9276\n",
            "Epoch 61/100\n",
            "1313/1313 [==============================] - 3s 2ms/step - loss: 0.1470 - acc: 0.9549 - val_loss: 0.2649 - val_acc: 0.9316\n",
            "Epoch 62/100\n",
            "1313/1313 [==============================] - 3s 2ms/step - loss: 0.1458 - acc: 0.9557 - val_loss: 0.2752 - val_acc: 0.9294\n",
            "Epoch 63/100\n",
            "1313/1313 [==============================] - 3s 2ms/step - loss: 0.1461 - acc: 0.9560 - val_loss: 0.2705 - val_acc: 0.9293\n",
            "Epoch 64/100\n",
            "1313/1313 [==============================] - 3s 2ms/step - loss: 0.1457 - acc: 0.9555 - val_loss: 0.2654 - val_acc: 0.9324\n",
            "Epoch 65/100\n",
            "1313/1313 [==============================] - 3s 2ms/step - loss: 0.1443 - acc: 0.9557 - val_loss: 0.2710 - val_acc: 0.9298\n",
            "Epoch 66/100\n",
            "1313/1313 [==============================] - 3s 2ms/step - loss: 0.1460 - acc: 0.9565 - val_loss: 0.2681 - val_acc: 0.9307\n",
            "Epoch 67/100\n",
            "1313/1313 [==============================] - 3s 2ms/step - loss: 0.1443 - acc: 0.9556 - val_loss: 0.2699 - val_acc: 0.9294\n",
            "Epoch 68/100\n",
            "1313/1313 [==============================] - 3s 2ms/step - loss: 0.1433 - acc: 0.9557 - val_loss: 0.2691 - val_acc: 0.9289\n",
            "Epoch 69/100\n",
            "1313/1313 [==============================] - 3s 2ms/step - loss: 0.1439 - acc: 0.9555 - val_loss: 0.2664 - val_acc: 0.9307\n",
            "Epoch 70/100\n",
            "1313/1313 [==============================] - 3s 2ms/step - loss: 0.1428 - acc: 0.9560 - val_loss: 0.2713 - val_acc: 0.9282\n",
            "Epoch 71/100\n",
            "1313/1313 [==============================] - 3s 2ms/step - loss: 0.1436 - acc: 0.9559 - val_loss: 0.2726 - val_acc: 0.9300\n",
            "Epoch 72/100\n",
            "1313/1313 [==============================] - 3s 2ms/step - loss: 0.1429 - acc: 0.9567 - val_loss: 0.2770 - val_acc: 0.9279\n",
            "Epoch 73/100\n",
            "1313/1313 [==============================] - 3s 2ms/step - loss: 0.1426 - acc: 0.9573 - val_loss: 0.2689 - val_acc: 0.9308\n",
            "Epoch 74/100\n",
            "1313/1313 [==============================] - 3s 2ms/step - loss: 0.1399 - acc: 0.9571 - val_loss: 0.2705 - val_acc: 0.9303\n",
            "Epoch 75/100\n",
            "1313/1313 [==============================] - 3s 2ms/step - loss: 0.1416 - acc: 0.9575 - val_loss: 0.2716 - val_acc: 0.9279\n",
            "Epoch 76/100\n",
            "1313/1313 [==============================] - 3s 2ms/step - loss: 0.1413 - acc: 0.9573 - val_loss: 0.2775 - val_acc: 0.9263\n",
            "Epoch 77/100\n",
            "1313/1313 [==============================] - 3s 2ms/step - loss: 0.1399 - acc: 0.9571 - val_loss: 0.2677 - val_acc: 0.9294\n",
            "Epoch 78/100\n",
            "1313/1313 [==============================] - 3s 2ms/step - loss: 0.1401 - acc: 0.9568 - val_loss: 0.2754 - val_acc: 0.9289\n",
            "Epoch 79/100\n",
            "1313/1313 [==============================] - 3s 2ms/step - loss: 0.1396 - acc: 0.9571 - val_loss: 0.2817 - val_acc: 0.9269\n",
            "Epoch 80/100\n",
            "1313/1313 [==============================] - 3s 2ms/step - loss: 0.1387 - acc: 0.9573 - val_loss: 0.2809 - val_acc: 0.9268\n",
            "Epoch 81/100\n",
            "1313/1313 [==============================] - 3s 2ms/step - loss: 0.1388 - acc: 0.9572 - val_loss: 0.2742 - val_acc: 0.9283\n",
            "Epoch 82/100\n",
            "1313/1313 [==============================] - 3s 2ms/step - loss: 0.1389 - acc: 0.9572 - val_loss: 0.2858 - val_acc: 0.9260\n",
            "Epoch 83/100\n",
            "1313/1313 [==============================] - 3s 2ms/step - loss: 0.1384 - acc: 0.9568 - val_loss: 0.2863 - val_acc: 0.9268\n",
            "Epoch 84/100\n",
            "1313/1313 [==============================] - 3s 2ms/step - loss: 0.1375 - acc: 0.9587 - val_loss: 0.2906 - val_acc: 0.9259\n",
            "Epoch 85/100\n",
            "1313/1313 [==============================] - 3s 2ms/step - loss: 0.1384 - acc: 0.9571 - val_loss: 0.2761 - val_acc: 0.9298\n",
            "Epoch 86/100\n",
            "1313/1313 [==============================] - 3s 2ms/step - loss: 0.1370 - acc: 0.9583 - val_loss: 0.2879 - val_acc: 0.9261\n",
            "Epoch 87/100\n",
            "1313/1313 [==============================] - 3s 2ms/step - loss: 0.1367 - acc: 0.9589 - val_loss: 0.2804 - val_acc: 0.9286\n",
            "Epoch 88/100\n",
            "1313/1313 [==============================] - 3s 2ms/step - loss: 0.1353 - acc: 0.9587 - val_loss: 0.3143 - val_acc: 0.9199\n",
            "Epoch 89/100\n",
            "1313/1313 [==============================] - 3s 2ms/step - loss: 0.1383 - acc: 0.9575 - val_loss: 0.2906 - val_acc: 0.9254\n",
            "Epoch 90/100\n",
            "1313/1313 [==============================] - 3s 2ms/step - loss: 0.1346 - acc: 0.9591 - val_loss: 0.2838 - val_acc: 0.9277\n",
            "Epoch 91/100\n",
            "1313/1313 [==============================] - 3s 2ms/step - loss: 0.1368 - acc: 0.9572 - val_loss: 0.2897 - val_acc: 0.9266\n",
            "Epoch 92/100\n",
            "1313/1313 [==============================] - 3s 2ms/step - loss: 0.1355 - acc: 0.9583 - val_loss: 0.2834 - val_acc: 0.9279\n",
            "Epoch 93/100\n",
            "1313/1313 [==============================] - 3s 2ms/step - loss: 0.1352 - acc: 0.9587 - val_loss: 0.2784 - val_acc: 0.9301\n",
            "Epoch 94/100\n",
            "1313/1313 [==============================] - 3s 2ms/step - loss: 0.1344 - acc: 0.9594 - val_loss: 0.2773 - val_acc: 0.9311\n",
            "Epoch 95/100\n",
            "1313/1313 [==============================] - 3s 2ms/step - loss: 0.1339 - acc: 0.9583 - val_loss: 0.2902 - val_acc: 0.9281\n",
            "Epoch 96/100\n",
            "1313/1313 [==============================] - 3s 2ms/step - loss: 0.1349 - acc: 0.9588 - val_loss: 0.2869 - val_acc: 0.9279\n",
            "Epoch 97/100\n",
            "1313/1313 [==============================] - 3s 2ms/step - loss: 0.1344 - acc: 0.9591 - val_loss: 0.2809 - val_acc: 0.9289\n",
            "Epoch 98/100\n",
            "1313/1313 [==============================] - 3s 2ms/step - loss: 0.1331 - acc: 0.9602 - val_loss: 0.2915 - val_acc: 0.9244\n",
            "Epoch 99/100\n",
            "1313/1313 [==============================] - 3s 2ms/step - loss: 0.1341 - acc: 0.9580 - val_loss: 0.2817 - val_acc: 0.9300\n",
            "Epoch 100/100\n",
            "1313/1313 [==============================] - 3s 2ms/step - loss: 0.1337 - acc: 0.9584 - val_loss: 0.2806 - val_acc: 0.9286\n"
          ],
          "name": "stdout"
        }
      ]
    },
    {
      "cell_type": "markdown",
      "metadata": {
        "id": "ZG5LC7avKujh"
      },
      "source": [
        "# evaluation"
      ]
    },
    {
      "cell_type": "code",
      "metadata": {
        "colab": {
          "base_uri": "https://localhost:8080/"
        },
        "id": "B5cruIUgK_sg",
        "outputId": "d6de69b6-65de-4050-e0f8-d7d010b35f52"
      },
      "source": [
        "hist.history.keys()"
      ],
      "execution_count": 12,
      "outputs": [
        {
          "output_type": "execute_result",
          "data": {
            "text/plain": [
              "dict_keys(['loss', 'acc', 'val_loss', 'val_acc'])"
            ]
          },
          "metadata": {
            "tags": []
          },
          "execution_count": 12
        }
      ]
    },
    {
      "cell_type": "code",
      "metadata": {
        "colab": {
          "base_uri": "https://localhost:8080/",
          "height": 265
        },
        "id": "E0Y4_Ldo_YCn",
        "outputId": "3b12eeae-c61e-42bc-a228-cb37ad816e1d"
      },
      "source": [
        "import matplotlib.pyplot as plt\n",
        "\n",
        "plt.plot(hist.history['loss'])\n",
        "plt.plot(hist.history['val_loss'],'b-')\n",
        "\n",
        "plt.show()"
      ],
      "execution_count": 13,
      "outputs": [
        {
          "output_type": "display_data",
          "data": {
            "image/png": "[encoded data removed]",
            "text/plain": [
              "<Figure size 432x288 with 1 Axes>"
            ]
          },
          "metadata": {
            "tags": [],
            "needs_background": "light"
          }
        }
      ]
    },
    {
      "cell_type": "code",
      "metadata": {
        "colab": {
          "base_uri": "https://localhost:8080/",
          "height": 265
        },
        "id": "nOKMKUpbKpYz",
        "outputId": "14546cd3-a8ec-4c75-bf74-c47eb049e71d"
      },
      "source": [
        "plt.plot(hist.history['acc'])\n",
        "plt.plot(hist.history['val_acc'],'-r')\n",
        "plt.show()"
      ],
      "execution_count": 14,
      "outputs": [
        {
          "output_type": "display_data",
          "data": {
            "image/png": "[encoded data removed]",
            "text/plain": [
              "<Figure size 432x288 with 1 Axes>"
            ]
          },
          "metadata": {
            "tags": [],
            "needs_background": "light"
          }
        }
      ]
    },
    {
      "cell_type": "markdown",
      "metadata": {
        "id": "Cm88VeiNj9J3"
      },
      "source": [
        "# service"
      ]
    },
    {
      "cell_type": "code",
      "metadata": {
        "colab": {
          "base_uri": "https://localhost:8080/"
        },
        "id": "fXy2YPJbMWBJ",
        "outputId": "1114ba9f-4bc1-4747-a6f5-539653b1f2f3"
      },
      "source": [
        "y_test[30]"
      ],
      "execution_count": 15,
      "outputs": [
        {
          "output_type": "execute_result",
          "data": {
            "text/plain": [
              "3"
            ]
          },
          "metadata": {
            "tags": []
          },
          "execution_count": 15
        }
      ]
    },
    {
      "cell_type": "code",
      "metadata": {
        "colab": {
          "base_uri": "https://localhost:8080/"
        },
        "id": "Zp-zao1KkqCI",
        "outputId": "15a68262-1f94-4a8b-f267-cdc3742e8c7d"
      },
      "source": [
        "import numpy as np\n",
        "# np.set_printoptions(precision=8)\n",
        "pred = model.predict(x_test[30:31])\n",
        "pred , np.argmax(pred)"
      ],
      "execution_count": 27,
      "outputs": [
        {
          "output_type": "execute_result",
          "data": {
            "text/plain": [
              "(array([[1.06575096e-11, 2.30420113e-07, 2.43644532e-11, 9.99981761e-01,\n",
              "         1.03832905e-17, 8.67025756e-06, 2.02363171e-19, 1.34133143e-06,\n",
              "         2.69319056e-09, 7.99250574e-06]], dtype=float32), 3)"
            ]
          },
          "metadata": {
            "tags": []
          },
          "execution_count": 27
        }
      ]
    },
    {
      "cell_type": "code",
      "metadata": {
        "id": "kAFdVUWAifT0"
      },
      "source": [
        "# argmax 가장 max 값을 찾고 값의 위치값을 반환해 준다."
      ],
      "execution_count": 17,
      "outputs": []
    },
    {
      "cell_type": "code",
      "metadata": {
        "colab": {
          "base_uri": "https://localhost:8080/"
        },
        "id": "ci50AzWDndlW",
        "outputId": "cb1db19d-1bd2-49f1-9049-aea88947b62f"
      },
      "source": [
        "np.argmax(pred,axis=1)"
      ],
      "execution_count": 18,
      "outputs": [
        {
          "output_type": "execute_result",
          "data": {
            "text/plain": [
              "array([3])"
            ]
          },
          "metadata": {
            "tags": []
          },
          "execution_count": 18
        }
      ]
    },
    {
      "cell_type": "code",
      "metadata": {
        "colab": {
          "base_uri": "https://localhost:8080/"
        },
        "id": "r4l2HqTVn17f",
        "outputId": "32bb307c-2832-4333-a631-b32b185f24e1"
      },
      "source": [
        "y_test[30]"
      ],
      "execution_count": 19,
      "outputs": [
        {
          "output_type": "execute_result",
          "data": {
            "text/plain": [
              "3"
            ]
          },
          "metadata": {
            "tags": []
          },
          "execution_count": 19
        }
      ]
    },
    {
      "cell_type": "code",
      "metadata": {
        "colab": {
          "base_uri": "https://localhost:8080/"
        },
        "id": "EhOGawyHkimY",
        "outputId": "fd69c449-2282-44a5-8efa-7d6a60a6890b"
      },
      "source": [
        "a = np.arange(6).reshape(2,3) + 10\n",
        "print(a)\n",
        "np.argmax(a,axis=0)"
      ],
      "execution_count": 20,
      "outputs": [
        {
          "output_type": "stream",
          "text": [
            "[[10 11 12]\n",
            " [13 14 15]]\n"
          ],
          "name": "stdout"
        },
        {
          "output_type": "execute_result",
          "data": {
            "text/plain": [
              "array([1, 1, 1])"
            ]
          },
          "metadata": {
            "tags": []
          },
          "execution_count": 20
        }
      ]
    },
    {
      "cell_type": "code",
      "metadata": {
        "colab": {
          "base_uri": "https://localhost:8080/"
        },
        "id": "UdAcnh0wlmBY",
        "outputId": "c065c26b-6b97-4acd-afa6-8ae1981c931b"
      },
      "source": [
        "np.argmax(np.array([[10,11,12]]),axis=1)"
      ],
      "execution_count": 21,
      "outputs": [
        {
          "output_type": "execute_result",
          "data": {
            "text/plain": [
              "array([2])"
            ]
          },
          "metadata": {
            "tags": []
          },
          "execution_count": 21
        }
      ]
    },
    {
      "cell_type": "markdown",
      "metadata": {
        "id": "HOZLwj_G704G"
      },
      "source": [
        "# Save"
      ]
    },
    {
      "cell_type": "code",
      "metadata": {
        "colab": {
          "base_uri": "https://localhost:8080/"
        },
        "id": "_wPCzsBina-e",
        "outputId": "b29a1ede-8c88-4785-9e30-2553a585f5be"
      },
      "source": [
        "model.save('./model_save') # Save 방법 , 디렉토리 형식으로 풀어서 저장"
      ],
      "execution_count": 22,
      "outputs": [
        {
          "output_type": "stream",
          "text": [
            "INFO:tensorflow:Assets written to: ./model_save/assets\n"
          ],
          "name": "stdout"
        }
      ]
    },
    {
      "cell_type": "code",
      "metadata": {
        "id": "6FlSvWYS6f0F"
      },
      "source": [
        "model.save('model_save01.h5') # 한개의 파일로 저장"
      ],
      "execution_count": 24,
      "outputs": []
    },
    {
      "cell_type": "markdown",
      "metadata": {
        "id": "-9yCINme73E9"
      },
      "source": [
        "# Load"
      ]
    },
    {
      "cell_type": "code",
      "metadata": {
        "colab": {
          "base_uri": "https://localhost:8080/"
        },
        "id": "oa5nF8J07HSr",
        "outputId": "751abbbf-f355-4f74-dec3-1f313e26ce78"
      },
      "source": [
        "model_load = tf.keras.models.load_model('./model_save01.h5')\n",
        "model_load"
      ],
      "execution_count": 26,
      "outputs": [
        {
          "output_type": "execute_result",
          "data": {
            "text/plain": [
              "<tensorflow.python.keras.engine.sequential.Sequential at 0x7f58fb852510>"
            ]
          },
          "metadata": {
            "tags": []
          },
          "execution_count": 26
        }
      ]
    },
    {
      "cell_type": "code",
      "metadata": {
        "colab": {
          "base_uri": "https://localhost:8080/"
        },
        "id": "g8FsiyBZ8hFj",
        "outputId": "4bd60f56-ea90-4294-b00d-9a564283c2e5"
      },
      "source": [
        "load_pred = model_load.predict(x_test[30:31])\n",
        "load_pred , np.argmax(load_pred)"
      ],
      "execution_count": 29,
      "outputs": [
        {
          "output_type": "execute_result",
          "data": {
            "text/plain": [
              "(array([[1.06575096e-11, 2.30420113e-07, 2.43644532e-11, 9.99981761e-01,\n",
              "         1.03832905e-17, 8.67025756e-06, 2.02363171e-19, 1.34133143e-06,\n",
              "         2.69319056e-09, 7.99250574e-06]], dtype=float32), 3)"
            ]
          },
          "metadata": {
            "tags": []
          },
          "execution_count": 29
        }
      ]
    },
    {
      "cell_type": "code",
      "metadata": {
        "id": "h7kwZ3t39PRN"
      },
      "source": [
        ""
      ],
      "execution_count": null,
      "outputs": []
    }
  ]
}